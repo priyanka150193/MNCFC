{
 "cells": [
  {
   "cell_type": "code",
   "execution_count": null,
   "id": "da13818d",
   "metadata": {},
   "outputs": [],
   "source": [
    "#Deriving short unique file path code \n",
    "\n",
    "import hashlib\n",
    "\n",
    "class FilePathShortener:\n",
    "    def __init__(self):\n",
    "        self.paths = {}\n",
    "    \n",
    "    def shorten_file_path(self, file_path):\n",
    "        if file_path in self.paths:\n",
    "            return self.paths[file_path]\n",
    "        \n",
    "        file_hash = hashlib.md5(file_path.encode()).hexdigest()\n",
    "        shortened_path = file_hash[:8]\n",
    "        \n",
    "        self.paths[file_path] = shortened_path\n",
    "        return shortened_path\n",
    "    \n",
    "    def decode_shortened_path(self, shortened_path):\n",
    "        for path, short_path in self.paths.items():\n",
    "            if short_path == shortened_path:\n",
    "                return path\n",
    "        \n",
    "        return None\n",
    "\n",
    "shortener = FilePathShortener()\n",
    "\n",
    " \n",
    "\n",
    "\"\"\"file_path = '\\\\\\\\192.168.1.151\\\\ncfc_data3\\\\Neetu Mam (IP 26 Data Backup 17 April 23)\\\\Backup_Del\\\\Transfer-data\\\\Sent-Analysis\\\\shp\\\\0.India_state_shp\\\\india state_lcc.shp'\n",
    "shortened_path = shortener.shorten_file_path(file_path)\n",
    "print(shortened_path)\"\"\"\n",
    "\n",
    "shortened_path = shp_df.File_path.apply(shortener.shorten_file_path)\n",
    "\n",
    "\n",
    "decoded_path = shortener.decode_shortened_path(shortened_path)\n",
    "print(decoded_path)"
   ]
  }
 ],
 "metadata": {
  "kernelspec": {
   "display_name": "Python 3 (ipykernel)",
   "language": "python",
   "name": "python3"
  },
  "language_info": {
   "codemirror_mode": {
    "name": "ipython",
    "version": 3
   },
   "file_extension": ".py",
   "mimetype": "text/x-python",
   "name": "python",
   "nbconvert_exporter": "python",
   "pygments_lexer": "ipython3",
   "version": "3.9.16"
  }
 },
 "nbformat": 4,
 "nbformat_minor": 5
}
