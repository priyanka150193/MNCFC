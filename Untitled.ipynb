{
 "cells": [
  {
   "cell_type": "code",
   "execution_count": 11,
   "id": "0eafdfdf",
   "metadata": {
    "canvas": {
     "comments": [],
     "componentType": "CodeCell",
     "copiedOriginId": null,
     "diskcache": false,
     "headerColor": "transparent",
     "id": "9b629506-6994-4ec8-a6c9-7c7ca9b4796f",
     "isComponent": false,
     "name": "",
     "parents": []
    },
    "tags": []
   },
   "outputs": [],
   "source": [
    "import pandas as pd\n",
    "df = pd.read_csv(r'E:\\combined.csv')\n",
    "shp_df = df[df.Ext == 'shp']\n",
    "shp_df.head()\n",
    "df=df.fillna('')\n"
   ]
  },
  {
   "cell_type": "code",
   "execution_count": 12,
   "id": "cb3eea01",
   "metadata": {
    "canvas": {
     "comments": [],
     "componentType": "CodeCell",
     "copiedOriginId": null,
     "diskcache": false,
     "headerColor": "transparent",
     "id": "6530b9ca-bf36-4cd1-94a7-84dd06f31adc",
     "isComponent": false,
     "name": "",
     "parents": []
    }
   },
   "outputs": [
    {
     "data": {
      "text/plain": [
       "8377       bhuvan hoshiarpur citrus\n",
       "8407             gandhinagar_bhuvan\n",
       "8408             gandhinagar_bhuvan\n",
       "8409             gandhinagar_bhuvan\n",
       "8410             gandhinagar_bhuvan\n",
       "                     ...           \n",
       "756115              shajapur_bhuvan\n",
       "756116              shajapur_bhuvan\n",
       "756117              shajapur_bhuvan\n",
       "756118              shajapur_bhuvan\n",
       "1426085                   bhuvan_GT\n",
       "Name: File_Name, Length: 93, dtype: object"
      ]
     },
     "execution_count": 12,
     "metadata": {},
     "output_type": "execute_result"
    }
   ],
   "source": [
    "\n",
    "df['File_Name'][df['File_Name'].str.contains(\"bhuvan\")]"
   ]
  },
  {
   "cell_type": "code",
   "execution_count": 18,
   "id": "d9618e14",
   "metadata": {
    "canvas": {
     "comments": [],
     "componentType": "CodeCell",
     "copiedOriginId": null,
     "diskcache": false,
     "headerColor": "transparent",
     "id": "772e6674-070d-4b3a-ae2b-f55ae0d9a83a",
     "isComponent": false,
     "name": "",
     "parents": []
    }
   },
   "outputs": [
    {
     "data": {
      "text/html": [
       "<div>\n",
       "<style scoped>\n",
       "    .dataframe tbody tr th:only-of-type {\n",
       "        vertical-align: middle;\n",
       "    }\n",
       "\n",
       "    .dataframe tbody tr th {\n",
       "        vertical-align: top;\n",
       "    }\n",
       "\n",
       "    .dataframe thead th {\n",
       "        text-align: right;\n",
       "    }\n",
       "</style>\n",
       "<table border=\"1\" class=\"dataframe\">\n",
       "  <thead>\n",
       "    <tr style=\"text-align: right;\">\n",
       "      <th></th>\n",
       "      <th>File_Name</th>\n",
       "      <th>Columns</th>\n",
       "      <th>Ext</th>\n",
       "      <th>Size(in mb)</th>\n",
       "      <th>File_path</th>\n",
       "    </tr>\n",
       "  </thead>\n",
       "  <tbody>\n",
       "    <tr>\n",
       "      <th>8377</th>\n",
       "      <td>bhuvan hoshiarpur citrus</td>\n",
       "      <td></td>\n",
       "      <td>rar</td>\n",
       "      <td>0.307059</td>\n",
       "      <td>\\\\192.168.1.151\\ncfc_data3\\CHAMAN\\bhuvan citrus layers\\bhuvan punjab citrus\\bhuvan hoshiarpur citrus.rar</td>\n",
       "    </tr>\n",
       "  </tbody>\n",
       "</table>\n",
       "</div>"
      ],
      "text/plain": [
       "                     File_Name Columns  Ext Size(in mb)  \\\n",
       "8377  bhuvan hoshiarpur citrus          rar    0.307059   \n",
       "\n",
       "                                                                                                     File_path  \n",
       "8377  \\\\192.168.1.151\\ncfc_data3\\CHAMAN\\bhuvan citrus layers\\bhuvan punjab citrus\\bhuvan hoshiarpur citrus.rar  "
      ]
     },
     "execution_count": 18,
     "metadata": {},
     "output_type": "execute_result"
    }
   ],
   "source": [
    "shp_df = df[df.File_Name == 'bhuvan hoshiarpur citrus']\n",
    "shp_df.head()"
   ]
  },
  {
   "cell_type": "code",
   "execution_count": 16,
   "id": "dcc95281",
   "metadata": {
    "canvas": {
     "comments": [],
     "componentType": "CodeCell",
     "copiedOriginId": null,
     "diskcache": false,
     "headerColor": "transparent",
     "id": "41cff843-5244-4be8-bb1c-bf4ef54371d1",
     "isComponent": false,
     "name": "",
     "parents": []
    }
   },
   "outputs": [
    {
     "data": {
      "text/plain": [
       "8377    \\\\192.168.1.151\\ncfc_data3\\CHAMAN\\bhuvan citru...\n",
       "Name: File_path, dtype: object"
      ]
     },
     "metadata": {},
     "output_type": "display_data"
    }
   ],
   "source": [
    "display(shp_df.File_path)"
   ]
  },
  {
   "cell_type": "code",
   "execution_count": 17,
   "id": "91254e8a",
   "metadata": {
    "canvas": {
     "comments": [],
     "componentType": "CodeCell",
     "copiedOriginId": null,
     "diskcache": false,
     "headerColor": "transparent",
     "id": "d481c58b-491a-47a7-b8eb-19917e8b6c5f",
     "isComponent": false,
     "name": "",
     "parents": []
    }
   },
   "outputs": [],
   "source": [
    "pd.set_option('display.max_colwidth', None)"
   ]
  },
  {
   "cell_type": "code",
   "execution_count": null,
   "id": "4974e6c7",
   "metadata": {
    "canvas": {
     "comments": [],
     "componentType": "CodeCell",
     "copiedOriginId": null,
     "diskcache": false,
     "headerColor": "transparent",
     "id": "9936b04b-9953-4d7e-9941-304669ecb38f",
     "isComponent": false,
     "name": "",
     "parents": []
    }
   },
   "outputs": [],
   "source": []
  }
 ],
 "metadata": {
  "canvas": {
   "colorPalette": [
    "inherit",
    "inherit",
    "inherit",
    "inherit",
    "inherit",
    "inherit",
    "inherit",
    "inherit",
    "inherit",
    "inherit"
   ],
   "parameters": []
  },
  "kernelspec": {
   "display_name": "Python 3 (ipykernel)",
   "language": "python",
   "name": "python3"
  },
  "language_info": {
   "codemirror_mode": {
    "name": "ipython",
    "version": 3
   },
   "file_extension": ".py",
   "mimetype": "text/x-python",
   "name": "python",
   "nbconvert_exporter": "python",
   "pygments_lexer": "ipython3",
   "version": "3.9.16"
  }
 },
 "nbformat": 4,
 "nbformat_minor": 5
}
