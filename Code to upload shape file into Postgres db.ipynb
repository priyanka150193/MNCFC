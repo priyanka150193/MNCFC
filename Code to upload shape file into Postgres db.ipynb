{
 "cells": [
  {
   "cell_type": "code",
   "execution_count": 108,
   "id": "07b84e38",
   "metadata": {
    "canvas": {
     "comments": [],
     "componentType": "CodeCell",
     "copiedOriginId": null,
     "diskcache": false,
     "headerColor": "transparent",
     "id": "f11a8c18-0ee7-47c0-9aae-7fc8d7e87480",
     "isComponent": false,
     "name": "",
     "parents": []
    },
    "tags": []
   },
   "outputs": [
    {
     "name": "stderr",
     "output_type": "stream",
     "text": [
      "C:\\Users\\user\\AppData\\Local\\Temp\\ipykernel_3452\\1342919420.py:89: SettingWithCopyWarning: \n",
      "A value is trying to be set on a copy of a slice from a DataFrame.\n",
      "Try using .loc[row_indexer,col_indexer] = value instead\n",
      "\n",
      "See the caveats in the documentation: https://pandas.pydata.org/pandas-docs/stable/user_guide/indexing.html#returning-a-view-versus-a-copy\n",
      "  shp_df['unique_file_name']=new_file_name\n"
     ]
    },
    {
     "name": "stdout",
     "output_type": "stream",
     "text": [
      "Executing 8500st file\n",
      "Table 'UK_10_POINTS_fbb000d9' already exists. \\\\192.168.1.151\\ncfc_data3\\Neetu Mam (IP 26 Data Backup 17 April 23)\\Dr. Kanthesh\\Desktop 5-5-2022\\Shape Files\\final\\New folder\\UK_10_POINTS.shp\n",
      "Executing 8501st file\n",
      "Table 'UP_b44e1730' already exists. \\\\192.168.1.151\\ncfc_data3\\Neetu Mam (IP 26 Data Backup 17 April 23)\\Dr. Kanthesh\\Desktop 5-5-2022\\Shape Files\\final\\New folder\\UP.shp\n",
      "Executing 8502st file\n",
      "Table 'UP2_63c9441c' already exists. \\\\192.168.1.151\\ncfc_data3\\Neetu Mam (IP 26 Data Backup 17 April 23)\\Dr. Kanthesh\\Desktop 5-5-2022\\Shape Files\\final\\New folder\\UP2.shp\n",
      "Executing 8503st file\n",
      "Table 'UTTARKHAND_c4edc866' already exists. \\\\192.168.1.151\\ncfc_data3\\Neetu Mam (IP 26 Data Backup 17 April 23)\\Dr. Kanthesh\\Desktop 5-5-2022\\Shape Files\\final\\New folder\\UTTARKHAND.shp\n",
      "Executing 8504st file\n",
      "Table 'AP_FINAL_2c3c7228' already exists. \\\\192.168.1.151\\ncfc_data3\\Neetu Mam (IP 26 Data Backup 17 April 23)\\Dr. Kanthesh\\Desktop 5-5-2022\\Shape Files\\final\\New folder\\final\\AP_FINAL.shp\n",
      "Executing 8505st file\n",
      "Table 'CCE_POINTS_3accc6dc' already exists. \\\\192.168.1.151\\ncfc_data3\\Neetu Mam (IP 26 Data Backup 17 April 23)\\Dr. Kanthesh\\Desktop 5-5-2022\\Shape Files\\final\\New folder\\final\\CCE_POINTS.shp\n",
      "Executing 8506st file\n",
      "Table 'HR_Final_c5aa2d0d' already exists. \\\\192.168.1.151\\ncfc_data3\\Neetu Mam (IP 26 Data Backup 17 April 23)\\Dr. Kanthesh\\Desktop 5-5-2022\\Shape Files\\final\\New folder\\final\\HR_Final.shp\n",
      "Executing 8507st file\n",
      "Table 'KA_Final_1aa7befa' already exists. \\\\192.168.1.151\\ncfc_data3\\Neetu Mam (IP 26 Data Backup 17 April 23)\\Dr. Kanthesh\\Desktop 5-5-2022\\Shape Files\\final\\New folder\\final\\KA_Final.shp\n",
      "Executing 8508st file\n",
      "Table 'MP_Final_455e0369' already exists. \\\\192.168.1.151\\ncfc_data3\\Neetu Mam (IP 26 Data Backup 17 April 23)\\Dr. Kanthesh\\Desktop 5-5-2022\\Shape Files\\final\\New folder\\final\\MP_Final.shp\n",
      "Executing 8509st file\n",
      "Table 'OD_Final_ed5a9500' already exists. \\\\192.168.1.151\\ncfc_data3\\Neetu Mam (IP 26 Data Backup 17 April 23)\\Dr. Kanthesh\\Desktop 5-5-2022\\Shape Files\\final\\New folder\\final\\OD_Final.shp\n",
      "Executing 8510st file\n",
      "Table 'RJ_final_d502922d' already exists. \\\\192.168.1.151\\ncfc_data3\\Neetu Mam (IP 26 Data Backup 17 April 23)\\Dr. Kanthesh\\Desktop 5-5-2022\\Shape Files\\final\\New folder\\final\\RJ_final.shp\n",
      "Executing 8511st file\n",
      "Table 'Tanmilnadu_Final_CCE_bec9a095' already exists. \\\\192.168.1.151\\ncfc_data3\\Neetu Mam (IP 26 Data Backup 17 April 23)\\Dr. Kanthesh\\Desktop 5-5-2022\\Shape Files\\final\\New folder\\final\\Tanmilnadu_Final_CCE.shp\n",
      "Executing 8512st file\n",
      "Table 'UK_10_Point_33432324' already exists. \\\\192.168.1.151\\ncfc_data3\\Neetu Mam (IP 26 Data Backup 17 April 23)\\Dr. Kanthesh\\Desktop 5-5-2022\\Shape Files\\final\\New folder\\final\\UK_10_Point.shp\n",
      "Executing 8513st file\n",
      "Table 'UP_Final_302f08e0' already exists. \\\\192.168.1.151\\ncfc_data3\\Neetu Mam (IP 26 Data Backup 17 April 23)\\Dr. Kanthesh\\Desktop 5-5-2022\\Shape Files\\final\\New folder\\final\\UP_Final.shp\n",
      "Executing 8514st file\n",
      "Table 'AP_FINAL_26b613e1' already exists. \\\\192.168.1.151\\ncfc_data3\\Neetu Mam (IP 26 Data Backup 17 April 23)\\Dr. Kanthesh\\Desktop 5-5-2022\\Shape Files\\final\\New folder\\final\\Final_All_Correction\\AP_FINAL.shp\n",
      "Executing 8515st file\n",
      "Table 'HR_Final_44d6b402' already exists. \\\\192.168.1.151\\ncfc_data3\\Neetu Mam (IP 26 Data Backup 17 April 23)\\Dr. Kanthesh\\Desktop 5-5-2022\\Shape Files\\final\\New folder\\final\\Final_All_Correction\\HR_Final.shp\n",
      "Executing 8516st file\n",
      "Table 'KA_Final_d58c1a09' already exists. \\\\192.168.1.151\\ncfc_data3\\Neetu Mam (IP 26 Data Backup 17 April 23)\\Dr. Kanthesh\\Desktop 5-5-2022\\Shape Files\\final\\New folder\\final\\Final_All_Correction\\KA_Final.shp\n",
      "Executing 8517st file\n",
      "Table 'MP_Final_a846f641' already exists. \\\\192.168.1.151\\ncfc_data3\\Neetu Mam (IP 26 Data Backup 17 April 23)\\Dr. Kanthesh\\Desktop 5-5-2022\\Shape Files\\final\\New folder\\final\\Final_All_Correction\\MP_Final.shp\n",
      "Executing 8518st file\n",
      "Table 'OD_Final_4e70c499' already exists. \\\\192.168.1.151\\ncfc_data3\\Neetu Mam (IP 26 Data Backup 17 April 23)\\Dr. Kanthesh\\Desktop 5-5-2022\\Shape Files\\final\\New folder\\final\\Final_All_Correction\\OD_Final.shp\n",
      "Executing 8519st file\n",
      "Table 'RJ_final_92bd0894' already exists. \\\\192.168.1.151\\ncfc_data3\\Neetu Mam (IP 26 Data Backup 17 April 23)\\Dr. Kanthesh\\Desktop 5-5-2022\\Shape Files\\final\\New folder\\final\\Final_All_Correction\\RJ_final.shp\n",
      "Executing 8520st file\n",
      "Table 'Tanmilnadu_Final_CCE_8ca5ae8d' already exists. \\\\192.168.1.151\\ncfc_data3\\Neetu Mam (IP 26 Data Backup 17 April 23)\\Dr. Kanthesh\\Desktop 5-5-2022\\Shape Files\\final\\New folder\\final\\Final_All_Correction\\Tanmilnadu_Final_CCE.shp\n",
      "Executing 8521st file\n",
      "Table 'UK_10_Point_6b1c705a' already exists. \\\\192.168.1.151\\ncfc_data3\\Neetu Mam (IP 26 Data Backup 17 April 23)\\Dr. Kanthesh\\Desktop 5-5-2022\\Shape Files\\final\\New folder\\final\\Final_All_Correction\\UK_10_Point.shp\n",
      "Executing 8522st file\n",
      "Table 'UP_Final_d527e67f' already exists. \\\\192.168.1.151\\ncfc_data3\\Neetu Mam (IP 26 Data Backup 17 April 23)\\Dr. Kanthesh\\Desktop 5-5-2022\\Shape Files\\final\\New folder\\final\\Final_All_Correction\\UP_Final.shp\n",
      "Executing 8523st file\n",
      "Table 'Odisha_CCE_points_a1ed040b' already exists. \\\\192.168.1.151\\ncfc_data3\\Neetu Mam (IP 26 Data Backup 17 April 23)\\Dr. Kanthesh\\Desktop 5-5-2022\\Shape Files\\final\\New folder\\final\\odccepoints\\Odisha_CCE_points.shp\n",
      "Executing 8524st file\n",
      "Table 'Odisha_CCE_points_8c8591c5' already exists. \\\\192.168.1.151\\ncfc_data3\\Neetu Mam (IP 26 Data Backup 17 April 23)\\Dr. Kanthesh\\Desktop 5-5-2022\\Shape Files\\final\\odccepoints\\Odisha_CCE_points.shp\n",
      "Executing 8525st file\n",
      "Table 'East_godavari_villages_e6e204f7' already exists. \\\\192.168.1.151\\ncfc_data3\\Neetu Mam (IP 26 Data Backup 17 April 23)\\Dr. Kanthesh\\Desktop 5-5-2022\\Shape Files\\IAR\\Mandi_villages\\East_godavari_villages.shp\n",
      "Executing 8526st file\n"
     ]
    },
    {
     "ename": "KeyboardInterrupt",
     "evalue": "",
     "output_type": "error",
     "traceback": [
      "\u001b[1;31m---------------------------------------------------------------------------\u001b[0m",
      "\u001b[1;31mKeyboardInterrupt\u001b[0m                         Traceback (most recent call last)",
      "Cell \u001b[1;32mIn[108], line 125\u001b[0m\n\u001b[0;32m    123\u001b[0m \u001b[38;5;28mprint\u001b[39m(\u001b[38;5;124mf\u001b[39m\u001b[38;5;124m'\u001b[39m\u001b[38;5;124mExecuting \u001b[39m\u001b[38;5;132;01m{\u001b[39;00mi\u001b[38;5;132;01m}\u001b[39;00m\u001b[38;5;124mst file\u001b[39m\u001b[38;5;124m'\u001b[39m)\n\u001b[0;32m    124\u001b[0m \u001b[38;5;28;01mtry\u001b[39;00m:\n\u001b[1;32m--> 125\u001b[0m     \u001b[43mshape_file_dump\u001b[49m\u001b[43m(\u001b[49m\u001b[43mshp_df\u001b[49m\u001b[38;5;241;43m.\u001b[39;49m\u001b[43munique_file_name\u001b[49m\u001b[38;5;241;43m.\u001b[39;49m\u001b[43miloc\u001b[49m\u001b[43m[\u001b[49m\u001b[43mi\u001b[49m\u001b[43m]\u001b[49m\u001b[43m,\u001b[49m\u001b[43m \u001b[49m\u001b[43mshp_df\u001b[49m\u001b[38;5;241;43m.\u001b[39;49m\u001b[43mFile_path\u001b[49m\u001b[38;5;241;43m.\u001b[39;49m\u001b[43miloc\u001b[49m\u001b[43m[\u001b[49m\u001b[43mi\u001b[49m\u001b[43m]\u001b[49m\u001b[43m,\u001b[49m\u001b[43m \u001b[49m\u001b[43mengine\u001b[49m\u001b[43m)\u001b[49m\n\u001b[0;32m    126\u001b[0m     \u001b[38;5;66;03m#print(shp_df.unique_file_name.iloc[i])\u001b[39;00m\n\u001b[0;32m    127\u001b[0m \u001b[38;5;28;01mexcept\u001b[39;00m \u001b[38;5;167;01mException\u001b[39;00m \u001b[38;5;28;01mas\u001b[39;00m e:\n",
      "Cell \u001b[1;32mIn[108], line 47\u001b[0m, in \u001b[0;36mshape_file_dump\u001b[1;34m(file_name, file_path, engine)\u001b[0m\n\u001b[0;32m     45\u001b[0m     gdf \u001b[38;5;241m=\u001b[39m shp_zip_read(file_path)\n\u001b[0;32m     46\u001b[0m \u001b[38;5;28;01melse\u001b[39;00m:\n\u001b[1;32m---> 47\u001b[0m     gdf \u001b[38;5;241m=\u001b[39m \u001b[43mgp\u001b[49m\u001b[38;5;241;43m.\u001b[39;49m\u001b[43mread_file\u001b[49m\u001b[43m(\u001b[49m\u001b[43mfile_path\u001b[49m\u001b[43m)\u001b[49m\n\u001b[0;32m     49\u001b[0m \u001b[38;5;66;03m#Import shapefile to databse\u001b[39;00m\n\u001b[0;32m     50\u001b[0m \u001b[38;5;66;03m#print(file_name)\u001b[39;00m\n\u001b[0;32m     51\u001b[0m gdf\u001b[38;5;241m.\u001b[39mto_postgis(name\u001b[38;5;241m=\u001b[39mfile_name, con\u001b[38;5;241m=\u001b[39mengine, schema\u001b[38;5;241m=\u001b[39m\u001b[38;5;124m\"\u001b[39m\u001b[38;5;124mpostgis\u001b[39m\u001b[38;5;124m\"\u001b[39m)\n",
      "File \u001b[1;32m~\\miniconda3\\envs\\kdss\\lib\\site-packages\\geopandas\\io\\file.py:248\u001b[0m, in \u001b[0;36m_read_file\u001b[1;34m(filename, bbox, mask, rows, engine, **kwargs)\u001b[0m\n\u001b[0;32m    245\u001b[0m     \u001b[38;5;28;01melse\u001b[39;00m:\n\u001b[0;32m    246\u001b[0m         path_or_bytes \u001b[38;5;241m=\u001b[39m filename\n\u001b[1;32m--> 248\u001b[0m     \u001b[38;5;28;01mreturn\u001b[39;00m _read_file_fiona(\n\u001b[0;32m    249\u001b[0m         path_or_bytes, from_bytes, bbox\u001b[38;5;241m=\u001b[39mbbox, mask\u001b[38;5;241m=\u001b[39mmask, rows\u001b[38;5;241m=\u001b[39mrows, \u001b[38;5;241m*\u001b[39m\u001b[38;5;241m*\u001b[39mkwargs\n\u001b[0;32m    250\u001b[0m     )\n\u001b[0;32m    252\u001b[0m \u001b[38;5;28;01melse\u001b[39;00m:\n\u001b[0;32m    253\u001b[0m     \u001b[38;5;28;01mraise\u001b[39;00m \u001b[38;5;167;01mValueError\u001b[39;00m(\u001b[38;5;124mf\u001b[39m\u001b[38;5;124m\"\u001b[39m\u001b[38;5;124munknown engine \u001b[39m\u001b[38;5;124m'\u001b[39m\u001b[38;5;132;01m{\u001b[39;00mengine\u001b[38;5;132;01m}\u001b[39;00m\u001b[38;5;124m'\u001b[39m\u001b[38;5;124m\"\u001b[39m)\n",
      "File \u001b[1;32m~\\miniconda3\\envs\\kdss\\lib\\site-packages\\geopandas\\io\\file.py:346\u001b[0m, in \u001b[0;36m_read_file_fiona\u001b[1;34m(path_or_bytes, from_bytes, bbox, mask, rows, where, **kwargs)\u001b[0m\n\u001b[0;32m    342\u001b[0m     df \u001b[38;5;241m=\u001b[39m pd\u001b[38;5;241m.\u001b[39mDataFrame(\n\u001b[0;32m    343\u001b[0m         [record[\u001b[38;5;124m\"\u001b[39m\u001b[38;5;124mproperties\u001b[39m\u001b[38;5;124m\"\u001b[39m] \u001b[38;5;28;01mfor\u001b[39;00m record \u001b[38;5;129;01min\u001b[39;00m f_filt], columns\u001b[38;5;241m=\u001b[39mcolumns\n\u001b[0;32m    344\u001b[0m     )\n\u001b[0;32m    345\u001b[0m \u001b[38;5;28;01melse\u001b[39;00m:\n\u001b[1;32m--> 346\u001b[0m     df \u001b[38;5;241m=\u001b[39m \u001b[43mGeoDataFrame\u001b[49m\u001b[38;5;241;43m.\u001b[39;49m\u001b[43mfrom_features\u001b[49m\u001b[43m(\u001b[49m\n\u001b[0;32m    347\u001b[0m \u001b[43m        \u001b[49m\u001b[43mf_filt\u001b[49m\u001b[43m,\u001b[49m\u001b[43m \u001b[49m\u001b[43mcrs\u001b[49m\u001b[38;5;241;43m=\u001b[39;49m\u001b[43mcrs\u001b[49m\u001b[43m,\u001b[49m\u001b[43m \u001b[49m\u001b[43mcolumns\u001b[49m\u001b[38;5;241;43m=\u001b[39;49m\u001b[43mcolumns\u001b[49m\u001b[43m \u001b[49m\u001b[38;5;241;43m+\u001b[39;49m\u001b[43m \u001b[49m\u001b[43m[\u001b[49m\u001b[38;5;124;43m\"\u001b[39;49m\u001b[38;5;124;43mgeometry\u001b[39;49m\u001b[38;5;124;43m\"\u001b[39;49m\u001b[43m]\u001b[49m\n\u001b[0;32m    348\u001b[0m \u001b[43m    \u001b[49m\u001b[43m)\u001b[49m\n\u001b[0;32m    349\u001b[0m \u001b[38;5;28;01mfor\u001b[39;00m k \u001b[38;5;129;01min\u001b[39;00m datetime_fields:\n\u001b[0;32m    350\u001b[0m     as_dt \u001b[38;5;241m=\u001b[39m pd\u001b[38;5;241m.\u001b[39mto_datetime(df[k], errors\u001b[38;5;241m=\u001b[39m\u001b[38;5;124m\"\u001b[39m\u001b[38;5;124mignore\u001b[39m\u001b[38;5;124m\"\u001b[39m)\n",
      "File \u001b[1;32m~\\miniconda3\\envs\\kdss\\lib\\site-packages\\geopandas\\geodataframe.py:640\u001b[0m, in \u001b[0;36mGeoDataFrame.from_features\u001b[1;34m(cls, features, crs, columns)\u001b[0m\n\u001b[0;32m    637\u001b[0m \u001b[38;5;28;01mif\u001b[39;00m \u001b[38;5;28mhasattr\u001b[39m(feature, \u001b[38;5;124m\"\u001b[39m\u001b[38;5;124m__geo_interface__\u001b[39m\u001b[38;5;124m\"\u001b[39m):\n\u001b[0;32m    638\u001b[0m     feature \u001b[38;5;241m=\u001b[39m feature\u001b[38;5;241m.\u001b[39m__geo_interface__\n\u001b[0;32m    639\u001b[0m row \u001b[38;5;241m=\u001b[39m {\n\u001b[1;32m--> 640\u001b[0m     \u001b[38;5;124m\"\u001b[39m\u001b[38;5;124mgeometry\u001b[39m\u001b[38;5;124m\"\u001b[39m: \u001b[43mshape\u001b[49m\u001b[43m(\u001b[49m\u001b[43mfeature\u001b[49m\u001b[43m[\u001b[49m\u001b[38;5;124;43m\"\u001b[39;49m\u001b[38;5;124;43mgeometry\u001b[39;49m\u001b[38;5;124;43m\"\u001b[39;49m\u001b[43m]\u001b[49m\u001b[43m)\u001b[49m \u001b[38;5;28;01mif\u001b[39;00m feature[\u001b[38;5;124m\"\u001b[39m\u001b[38;5;124mgeometry\u001b[39m\u001b[38;5;124m\"\u001b[39m] \u001b[38;5;28;01melse\u001b[39;00m \u001b[38;5;28;01mNone\u001b[39;00m\n\u001b[0;32m    641\u001b[0m }\n\u001b[0;32m    642\u001b[0m \u001b[38;5;66;03m# load properties\u001b[39;00m\n\u001b[0;32m    643\u001b[0m properties \u001b[38;5;241m=\u001b[39m feature[\u001b[38;5;124m\"\u001b[39m\u001b[38;5;124mproperties\u001b[39m\u001b[38;5;124m\"\u001b[39m]\n",
      "File \u001b[1;32m~\\miniconda3\\envs\\kdss\\lib\\site-packages\\shapely\\geometry\\geo.py:102\u001b[0m, in \u001b[0;36mshape\u001b[1;34m(context)\u001b[0m\n\u001b[0;32m    100\u001b[0m     \u001b[38;5;28;01mreturn\u001b[39;00m LinearRing(ob[\u001b[38;5;124m\"\u001b[39m\u001b[38;5;124mcoordinates\u001b[39m\u001b[38;5;124m\"\u001b[39m])\n\u001b[0;32m    101\u001b[0m \u001b[38;5;28;01melif\u001b[39;00m geom_type \u001b[38;5;241m==\u001b[39m \u001b[38;5;124m\"\u001b[39m\u001b[38;5;124mpolygon\u001b[39m\u001b[38;5;124m\"\u001b[39m:\n\u001b[1;32m--> 102\u001b[0m     \u001b[38;5;28;01mreturn\u001b[39;00m \u001b[43mPolygon\u001b[49m\u001b[43m(\u001b[49m\u001b[43mob\u001b[49m\u001b[43m[\u001b[49m\u001b[38;5;124;43m\"\u001b[39;49m\u001b[38;5;124;43mcoordinates\u001b[39;49m\u001b[38;5;124;43m\"\u001b[39;49m\u001b[43m]\u001b[49m\u001b[43m[\u001b[49m\u001b[38;5;241;43m0\u001b[39;49m\u001b[43m]\u001b[49m\u001b[43m,\u001b[49m\u001b[43m \u001b[49m\u001b[43mob\u001b[49m\u001b[43m[\u001b[49m\u001b[38;5;124;43m\"\u001b[39;49m\u001b[38;5;124;43mcoordinates\u001b[39;49m\u001b[38;5;124;43m\"\u001b[39;49m\u001b[43m]\u001b[49m\u001b[43m[\u001b[49m\u001b[38;5;241;43m1\u001b[39;49m\u001b[43m:\u001b[49m\u001b[43m]\u001b[49m\u001b[43m)\u001b[49m\n\u001b[0;32m    103\u001b[0m \u001b[38;5;28;01melif\u001b[39;00m geom_type \u001b[38;5;241m==\u001b[39m \u001b[38;5;124m\"\u001b[39m\u001b[38;5;124mmultipoint\u001b[39m\u001b[38;5;124m\"\u001b[39m:\n\u001b[0;32m    104\u001b[0m     \u001b[38;5;28;01mreturn\u001b[39;00m MultiPoint(ob[\u001b[38;5;124m\"\u001b[39m\u001b[38;5;124mcoordinates\u001b[39m\u001b[38;5;124m\"\u001b[39m])\n",
      "File \u001b[1;32m~\\miniconda3\\envs\\kdss\\lib\\site-packages\\shapely\\geometry\\polygon.py:230\u001b[0m, in \u001b[0;36mPolygon.__new__\u001b[1;34m(self, shell, holes)\u001b[0m\n\u001b[0;32m    228\u001b[0m     \u001b[38;5;28;01mreturn\u001b[39;00m shell\n\u001b[0;32m    229\u001b[0m \u001b[38;5;28;01melse\u001b[39;00m:\n\u001b[1;32m--> 230\u001b[0m     shell \u001b[38;5;241m=\u001b[39m \u001b[43mLinearRing\u001b[49m\u001b[43m(\u001b[49m\u001b[43mshell\u001b[49m\u001b[43m)\u001b[49m\n\u001b[0;32m    232\u001b[0m \u001b[38;5;28;01mif\u001b[39;00m holes \u001b[38;5;129;01mis\u001b[39;00m \u001b[38;5;129;01mnot\u001b[39;00m \u001b[38;5;28;01mNone\u001b[39;00m:\n\u001b[0;32m    233\u001b[0m     \u001b[38;5;28;01mif\u001b[39;00m \u001b[38;5;28mlen\u001b[39m(holes) \u001b[38;5;241m==\u001b[39m \u001b[38;5;241m0\u001b[39m:\n\u001b[0;32m    234\u001b[0m         \u001b[38;5;66;03m# shapely constructor cannot handle holes=[]\u001b[39;00m\n",
      "File \u001b[1;32m~\\miniconda3\\envs\\kdss\\lib\\site-packages\\shapely\\geometry\\polygon.py:104\u001b[0m, in \u001b[0;36mLinearRing.__new__\u001b[1;34m(self, coordinates)\u001b[0m\n\u001b[0;32m     99\u001b[0m \u001b[38;5;28;01mif\u001b[39;00m \u001b[38;5;28mlen\u001b[39m(coordinates) \u001b[38;5;241m==\u001b[39m \u001b[38;5;241m0\u001b[39m:\n\u001b[0;32m    100\u001b[0m     \u001b[38;5;66;03m# empty geometry\u001b[39;00m\n\u001b[0;32m    101\u001b[0m     \u001b[38;5;66;03m# TODO better constructor + should shapely.linearrings handle this?\u001b[39;00m\n\u001b[0;32m    102\u001b[0m     \u001b[38;5;28;01mreturn\u001b[39;00m shapely\u001b[38;5;241m.\u001b[39mfrom_wkt(\u001b[38;5;124m\"\u001b[39m\u001b[38;5;124mLINEARRING EMPTY\u001b[39m\u001b[38;5;124m\"\u001b[39m)\n\u001b[1;32m--> 104\u001b[0m geom \u001b[38;5;241m=\u001b[39m \u001b[43mshapely\u001b[49m\u001b[38;5;241;43m.\u001b[39;49m\u001b[43mlinearrings\u001b[49m\u001b[43m(\u001b[49m\u001b[43mcoordinates\u001b[49m\u001b[43m)\u001b[49m\n\u001b[0;32m    105\u001b[0m \u001b[38;5;28;01mif\u001b[39;00m \u001b[38;5;129;01mnot\u001b[39;00m \u001b[38;5;28misinstance\u001b[39m(geom, LinearRing):\n\u001b[0;32m    106\u001b[0m     \u001b[38;5;28;01mraise\u001b[39;00m \u001b[38;5;167;01mValueError\u001b[39;00m(\u001b[38;5;124m\"\u001b[39m\u001b[38;5;124mInvalid values passed to LinearRing constructor\u001b[39m\u001b[38;5;124m\"\u001b[39m)\n",
      "File \u001b[1;32m~\\miniconda3\\envs\\kdss\\lib\\site-packages\\shapely\\decorators.py:77\u001b[0m, in \u001b[0;36mmultithreading_enabled.<locals>.wrapped\u001b[1;34m(*args, **kwargs)\u001b[0m\n\u001b[0;32m     75\u001b[0m     \u001b[38;5;28;01mfor\u001b[39;00m arr \u001b[38;5;129;01min\u001b[39;00m array_args:\n\u001b[0;32m     76\u001b[0m         arr\u001b[38;5;241m.\u001b[39mflags\u001b[38;5;241m.\u001b[39mwriteable \u001b[38;5;241m=\u001b[39m \u001b[38;5;28;01mFalse\u001b[39;00m\n\u001b[1;32m---> 77\u001b[0m     \u001b[38;5;28;01mreturn\u001b[39;00m func(\u001b[38;5;241m*\u001b[39margs, \u001b[38;5;241m*\u001b[39m\u001b[38;5;241m*\u001b[39mkwargs)\n\u001b[0;32m     78\u001b[0m \u001b[38;5;28;01mfinally\u001b[39;00m:\n\u001b[0;32m     79\u001b[0m     \u001b[38;5;28;01mfor\u001b[39;00m arr, old_flag \u001b[38;5;129;01min\u001b[39;00m \u001b[38;5;28mzip\u001b[39m(array_args, old_flags):\n",
      "File \u001b[1;32m~\\miniconda3\\envs\\kdss\\lib\\site-packages\\shapely\\creation.py:173\u001b[0m, in \u001b[0;36mlinearrings\u001b[1;34m(coords, y, z, indices, out, **kwargs)\u001b[0m\n\u001b[0;32m    171\u001b[0m coords \u001b[38;5;241m=\u001b[39m _xyz_to_coords(coords, y, z)\n\u001b[0;32m    172\u001b[0m \u001b[38;5;28;01mif\u001b[39;00m indices \u001b[38;5;129;01mis\u001b[39;00m \u001b[38;5;28;01mNone\u001b[39;00m:\n\u001b[1;32m--> 173\u001b[0m     \u001b[38;5;28;01mreturn\u001b[39;00m lib\u001b[38;5;241m.\u001b[39mlinearrings(coords, out\u001b[38;5;241m=\u001b[39mout, \u001b[38;5;241m*\u001b[39m\u001b[38;5;241m*\u001b[39mkwargs)\n\u001b[0;32m    174\u001b[0m \u001b[38;5;28;01melse\u001b[39;00m:\n\u001b[0;32m    175\u001b[0m     \u001b[38;5;28;01mreturn\u001b[39;00m simple_geometries_1d(coords, indices, GeometryType\u001b[38;5;241m.\u001b[39mLINEARRING, out\u001b[38;5;241m=\u001b[39mout)\n",
      "\u001b[1;31mKeyboardInterrupt\u001b[0m: "
     ]
    }
   ],
   "source": [
    "from sqlalchemy import create_engine\n",
    "import geopandas as gp\n",
    "import multiprocessing\n",
    "import zipfile as zp\n",
    "import pandas as pd\n",
    "import numpy as np\n",
    "import shutil\n",
    "import os\n",
    "from IPython.display import clear_output, display\n",
    "import time\n",
    "import concurrent.futures as cf\n",
    "\n",
    "df = pd.read_csv(r'E:\\combined.csv')\n",
    "shp_df = df[df.Ext == 'shp']\n",
    "shp_df.head()\n",
    "\n",
    "\n",
    "# Function to read shape files into a temp directory\n",
    "def shp_zip_read(full_path):\n",
    "    os.makedirs(r\"E:\\New folder\", exist_ok=True)\n",
    "    zip_file_path = full_path.split('.zip\\\\')[0]\n",
    "    shp_file_path = full_path.split('.zip\\\\')[1]\n",
    "    archive = zp.ZipFile(zip_file_path)\n",
    "    if '/' not in shp_file_path:\n",
    "        for file in archive.namelist():\n",
    "            if '/' not in file:\n",
    "                archive.extract(file, r\"E:\\New folder\")\n",
    "    else:\n",
    "        shpfile_folder_path = '/'.join(file_zip_path.split('/')[:-1])+'/'\n",
    "        for file in archive.namelist():\n",
    "            if file.startswith(shpfile_folder_path):\n",
    "                archive.extract(file, r\"E:\\New folder\")\n",
    "    gdf = gp.read_file(r\"E:\\New folder\\{}\".format(file_zip_path))\n",
    "    shutil.rmtree(r'E:\\New folder', ignore_errors=True)\n",
    "    return gdf\n",
    "\n",
    "\n",
    "# Function to dump shape files into postgres db \n",
    "def shape_file_dump(file_name, file_path, engine):\n",
    "    \n",
    "    conn = engine.connect()\n",
    "    \n",
    "    # Reading the shape file\n",
    "    if '.zip' in file_path:\n",
    "        gdf = shp_zip_read(file_path)\n",
    "    else:\n",
    "        gdf = gp.read_file(file_path)\n",
    "\n",
    "    #Import shapefile to databse\n",
    "    #print(file_name)\n",
    "    gdf.to_postgis(name=file_name, con=engine, schema=\"postgis\")\n",
    "    \n",
    "    conn.close()\n",
    "    \n",
    "\n",
    "# Deriving a unique file name to create table in the database \n",
    "import hashlib\n",
    "class FilePathShortener:\n",
    "    def __init__(self):\n",
    "        self.paths = {}\n",
    "    \n",
    "    def shorten_file_path(self, file_path):\n",
    "        if file_path in self.paths:\n",
    "            return self.paths[file_path]\n",
    "        \n",
    "        file_hash = hashlib.md5(file_path.encode()).hexdigest()\n",
    "        shortened_path = file_hash[:8]\n",
    "        \n",
    "        self.paths[file_path] = shortened_path\n",
    "        return shortened_path\n",
    "    \n",
    "    def decode_shortened_path(self, shortened_path):\n",
    "        for path, short_path in self.paths.items():\n",
    "            if short_path == shortened_path:\n",
    "                return path\n",
    "        \n",
    "        return None\n",
    "\n",
    "shortener = FilePathShortener()\n",
    "\n",
    " \n",
    "\n",
    "\"\"\"file_path = '\\\\\\\\192.168.1.151\\\\ncfc_data3\\\\Neetu Mam (IP 26 Data Backup 17 April 23)\\\\Backup_Del\\\\Transfer-data\\\\Sent-Analysis\\\\shp\\\\0.India_state_shp\\\\india state_lcc.shp'\n",
    "shortened_path = shortener.shorten_file_path(file_path)\n",
    "print(shortened_path)\"\"\"\n",
    "\n",
    "shortened_path = shp_df.File_path.apply(shortener.shorten_file_path) \n",
    "new_file_name = shp_df.File_Name+'_'+shortened_path\n",
    "shp_df['unique_file_name']=new_file_name\n",
    "        \n",
    "    \n",
    "if __name__ == '__main__':\n",
    "    # Number of processes to run in parallel\n",
    "    num_processes = multiprocessing.cpu_count()\n",
    "        \n",
    "    #DB details\n",
    "    host = 'localhost'\n",
    "    port = '5432'\n",
    "    database = 'postgis_33'\n",
    "    user = 'postgres'\n",
    "    password = 'wadhwanikdss'\n",
    "\n",
    "    conn = f\"postgresql://{user}:{password}@{host}:{port}/{database}\"\n",
    "    engine = create_engine(conn)\n",
    "            \n",
    "#     # Create a list to store the process instances\n",
    "#     processes = []\n",
    "\n",
    "#     for _ in range(num_processes):\n",
    "#         p = multiprocessing.Process(target=shape_file_dump, args=(list(shp_df.File_Name), list(shp_df.File_path), engine))\n",
    "#         p.start()\n",
    "#         processes.append(p)\n",
    "\n",
    "#     # Wait for all processes to finish\n",
    "#     for p in processes:\n",
    "#         p.join()\n",
    "    \n",
    "    j = 1\n",
    "    \n",
    "    \n",
    "    lst = []    \n",
    "    for i in range(shp_df.shape[0]):\n",
    "        print(f'Executing {i}st file')\n",
    "        try:\n",
    "            shape_file_dump(shp_df.unique_file_name.iloc[i], shp_df.File_path.iloc[i], engine)\n",
    "            #print(shp_df.unique_file_name.iloc[i])\n",
    "        except Exception as e:\n",
    "            print(e, shp_df.File_path.iloc[i])\n",
    "            lst.append(shp_df.File_path.iloc[i])\n",
    "\n",
    "    print(\"Data dumped successfully into the PostGIS database.\")\n",
    "    \n",
    "    engine.dispose()"
   ]
  },
  {
   "cell_type": "code",
   "execution_count": 93,
   "id": "79ac433f-477d-4564-8729-7cb7b3f64dc2",
   "metadata": {
    "canvas": {
     "comments": [],
     "componentType": "CodeCell",
     "copiedOriginId": null,
     "diskcache": false,
     "headerColor": "transparent",
     "id": "4e4cac72-d15f-47b3-8da5-f2566ec954e7",
     "isComponent": false,
     "name": "",
     "parents": []
    }
   },
   "outputs": [
    {
     "data": {
      "text/plain": [
       "(1036,)"
      ]
     },
     "execution_count": 93,
     "metadata": {},
     "output_type": "execute_result"
    }
   ],
   "source": [
    "shp_df.File_path.apply(lambda row : row if '.zip' in row else np.nan).dropna().shape"
   ]
  },
  {
   "cell_type": "code",
   "execution_count": 88,
   "id": "2e363d57-9ac6-4d4d-a69a-3aab6dac1f6c",
   "metadata": {
    "canvas": {
     "comments": [],
     "componentType": "CodeCell",
     "copiedOriginId": null,
     "diskcache": false,
     "headerColor": "transparent",
     "id": "233bd2b2-6265-49ee-9fa7-d9b9b95aa71b",
     "isComponent": false,
     "name": "",
     "parents": []
    }
   },
   "outputs": [
    {
     "ename": "FileNotFoundError",
     "evalue": "[Errno 2] No such file or directory: '\\\\\\\\192.168.1.151\\\\ncfc_data3\\\\Akhilesh\\\\akhileshPP\\\\PP_work\\\\RD\\\\xacto_ArcGIS101_062014.zip\\\\input_files/freeburg_xs_line.shp'",
     "output_type": "error",
     "traceback": [
      "\u001b[1;31m---------------------------------------------------------------------------\u001b[0m",
      "\u001b[1;31mFileNotFoundError\u001b[0m                         Traceback (most recent call last)",
      "Cell \u001b[1;32mIn[88], line 1\u001b[0m\n\u001b[1;32m----> 1\u001b[0m \u001b[38;5;28;43mopen\u001b[39;49m\u001b[43m(\u001b[49m\u001b[43mshp_df\u001b[49m\u001b[38;5;241;43m.\u001b[39;49m\u001b[43mFile_path\u001b[49m\u001b[38;5;241;43m.\u001b[39;49m\u001b[43miloc\u001b[49m\u001b[43m[\u001b[49m\u001b[38;5;241;43m25\u001b[39;49m\u001b[43m]\u001b[49m\u001b[43m)\u001b[49m\n",
      "File \u001b[1;32m~\\miniconda3\\envs\\kdss\\lib\\site-packages\\IPython\\core\\interactiveshell.py:284\u001b[0m, in \u001b[0;36m_modified_open\u001b[1;34m(file, *args, **kwargs)\u001b[0m\n\u001b[0;32m    277\u001b[0m \u001b[38;5;28;01mif\u001b[39;00m file \u001b[38;5;129;01min\u001b[39;00m {\u001b[38;5;241m0\u001b[39m, \u001b[38;5;241m1\u001b[39m, \u001b[38;5;241m2\u001b[39m}:\n\u001b[0;32m    278\u001b[0m     \u001b[38;5;28;01mraise\u001b[39;00m \u001b[38;5;167;01mValueError\u001b[39;00m(\n\u001b[0;32m    279\u001b[0m         \u001b[38;5;124mf\u001b[39m\u001b[38;5;124m\"\u001b[39m\u001b[38;5;124mIPython won\u001b[39m\u001b[38;5;124m'\u001b[39m\u001b[38;5;124mt let you open fd=\u001b[39m\u001b[38;5;132;01m{\u001b[39;00mfile\u001b[38;5;132;01m}\u001b[39;00m\u001b[38;5;124m by default \u001b[39m\u001b[38;5;124m\"\u001b[39m\n\u001b[0;32m    280\u001b[0m         \u001b[38;5;124m\"\u001b[39m\u001b[38;5;124mas it is likely to crash IPython. If you know what you are doing, \u001b[39m\u001b[38;5;124m\"\u001b[39m\n\u001b[0;32m    281\u001b[0m         \u001b[38;5;124m\"\u001b[39m\u001b[38;5;124myou can use builtins\u001b[39m\u001b[38;5;124m'\u001b[39m\u001b[38;5;124m open.\u001b[39m\u001b[38;5;124m\"\u001b[39m\n\u001b[0;32m    282\u001b[0m     )\n\u001b[1;32m--> 284\u001b[0m \u001b[38;5;28;01mreturn\u001b[39;00m io_open(file, \u001b[38;5;241m*\u001b[39margs, \u001b[38;5;241m*\u001b[39m\u001b[38;5;241m*\u001b[39mkwargs)\n",
      "\u001b[1;31mFileNotFoundError\u001b[0m: [Errno 2] No such file or directory: '\\\\\\\\192.168.1.151\\\\ncfc_data3\\\\Akhilesh\\\\akhileshPP\\\\PP_work\\\\RD\\\\xacto_ArcGIS101_062014.zip\\\\input_files/freeburg_xs_line.shp'"
     ]
    }
   ],
   "source": [
    "open('\\\\\\\\192.168.1.151\\\\ncfc_data3\\\\Akhilesh\\\\akhileshPP\\\\PP_work\\\\RD\\\\xacto_ArcGIS101_062014')"
   ]
  },
  {
   "cell_type": "code",
   "execution_count": 3,
   "id": "254ef273",
   "metadata": {
    "canvas": {
     "comments": [],
     "componentType": "CodeCell",
     "copiedOriginId": null,
     "diskcache": false,
     "headerColor": "transparent",
     "id": "60048e3a-5667-4fb5-85de-e268e25816f7",
     "isComponent": false,
     "name": "",
     "parents": []
    }
   },
   "outputs": [
    {
     "data": {
      "text/plain": [
       "(98875, 5)"
      ]
     },
     "execution_count": 3,
     "metadata": {},
     "output_type": "execute_result"
    }
   ],
   "source": [
    "shp_df.shape"
   ]
  },
  {
   "cell_type": "code",
   "execution_count": 34,
   "id": "e98f000b",
   "metadata": {
    "canvas": {
     "comments": [],
     "componentType": "CodeCell",
     "copiedOriginId": null,
     "diskcache": false,
     "headerColor": "transparent",
     "id": "07d712c6-bc96-4666-9116-f65e3cca2b06",
     "isComponent": false,
     "name": "",
     "parents": []
    }
   },
   "outputs": [
    {
     "data": {
      "text/plain": [
       "19     \\\\192.168.1.151\\ncfc_data3\\Akhilesh\\2018-19\\Co...\n",
       "35     \\\\192.168.1.151\\ncfc_data3\\Akhilesh\\2018-19\\Do...\n",
       "58     \\\\192.168.1.151\\ncfc_data3\\Akhilesh\\2018-19\\Do...\n",
       "145    \\\\192.168.1.151\\ncfc_data3\\Akhilesh\\akhileshPP...\n",
       "152    \\\\192.168.1.151\\ncfc_data3\\Akhilesh\\akhileshPP...\n",
       "Name: File_path, dtype: object"
      ]
     },
     "execution_count": 34,
     "metadata": {},
     "output_type": "execute_result"
    }
   ],
   "source": [
    "shp_df.File_path.head()"
   ]
  },
  {
   "cell_type": "code",
   "execution_count": 17,
   "id": "abdebc31",
   "metadata": {
    "canvas": {
     "comments": [],
     "componentType": "CodeCell",
     "copiedOriginId": null,
     "diskcache": false,
     "headerColor": "transparent",
     "id": "c073a59e-657e-4c08-b672-eb5863f7608f",
     "isComponent": false,
     "name": "",
     "parents": []
    }
   },
   "outputs": [],
   "source": [
    "from IPython.display import display"
   ]
  },
  {
   "cell_type": "code",
   "execution_count": 20,
   "id": "1bbe19c4",
   "metadata": {
    "canvas": {
     "comments": [],
     "componentType": "CodeCell",
     "copiedOriginId": null,
     "diskcache": false,
     "headerColor": "transparent",
     "id": "d688f7a4-5db4-4cfc-8a4c-ebeaa445293a",
     "isComponent": false,
     "name": "",
     "parents": []
    }
   },
   "outputs": [],
   "source": [
    "path='\\\\\\\\192.168.1.151\\\\ncfc_data3\\\\Neetu Mam (IP 26 Data Backup 17 April 23)\\\\Backup_Del\\\\Transfer-data\\\\Sent-Analysis\\\\shp\\\\0.India_state_shp\\\\india state_lcc.shp'"
   ]
  },
  {
   "cell_type": "code",
   "execution_count": 21,
   "id": "890f9967",
   "metadata": {
    "canvas": {
     "comments": [],
     "componentType": "CodeCell",
     "copiedOriginId": null,
     "diskcache": false,
     "headerColor": "transparent",
     "id": "072d7235-1014-45d5-b2ff-0b20f990d42f",
     "isComponent": false,
     "name": "",
     "parents": []
    }
   },
   "outputs": [
    {
     "data": {
      "text/plain": [
       "'\\\\\\\\192.168.1.151\\\\ncfc_data3\\\\Neetu Mam (IP 26 Data Backup 17 April 23)\\\\Backup_Del\\\\Transfer-data\\\\Sent-Analysis\\\\shp\\\\0.India_state_shp\\\\india state_lcc.shp'"
      ]
     },
     "execution_count": 21,
     "metadata": {},
     "output_type": "execute_result"
    }
   ],
   "source": [
    "path"
   ]
  },
  {
   "cell_type": "code",
   "execution_count": 19,
   "id": "06bdaa55",
   "metadata": {
    "canvas": {
     "comments": [],
     "componentType": "CodeCell",
     "copiedOriginId": null,
     "diskcache": false,
     "headerColor": "transparent",
     "id": "87a40400-9ac3-4bfa-8d84-73bb66d22141",
     "isComponent": false,
     "name": "",
     "parents": []
    }
   },
   "outputs": [
    {
     "data": {
      "text/plain": [
       "'\\\\\\\\192.168.1.151\\\\ncfc_data3\\\\Neetu Mam (IP 26 Data Backup 17 April 23)\\\\Backup_Del\\\\Transfer-data\\\\Sent-Analysis\\\\shp\\\\0.India_state_shp\\\\india state_lcc.shp'"
      ]
     },
     "metadata": {},
     "output_type": "display_data"
    },
    {
     "data": {
      "text/plain": [
       "'\\\\\\\\192.168.1.151\\\\ncfc_data3\\\\Neetu Mam (IP 26 Data Backup 17 April 23)\\\\Backup_Del\\\\Transfer-data\\\\Sent-Analysis\\\\shp\\\\0.India_state_shp\\\\india_boundary_lcc.shp'"
      ]
     },
     "metadata": {},
     "output_type": "display_data"
    },
    {
     "data": {
      "text/plain": [
       "'\\\\\\\\192.168.1.151\\\\ncfc_data3\\\\Neetu Mam (IP 26 Data Backup 17 April 23)\\\\Backup_Del\\\\Transfer-data\\\\Sent-Analysis\\\\shp\\\\0.India_state_shp\\\\india_dist_lcc.shp'"
      ]
     },
     "metadata": {},
     "output_type": "display_data"
    },
    {
     "data": {
      "text/plain": [
       "'\\\\\\\\192.168.1.151\\\\ncfc_data3\\\\Neetu Mam (IP 26 Data Backup 17 April 23)\\\\Backup_Del\\\\Transfer-data\\\\Sent-Analysis\\\\shp\\\\Others\\\\shp\\\\0.India_state_shp\\\\india state_lcc.shp'"
      ]
     },
     "metadata": {},
     "output_type": "display_data"
    },
    {
     "data": {
      "text/plain": [
       "'\\\\\\\\192.168.1.151\\\\ncfc_data3\\\\Neetu Mam (IP 26 Data Backup 17 April 23)\\\\Backup_Del\\\\Transfer-data\\\\Sent-Analysis\\\\shp\\\\Others\\\\shp\\\\0.India_state_shp\\\\india_boundary_lcc.shp'"
      ]
     },
     "metadata": {},
     "output_type": "display_data"
    },
    {
     "data": {
      "text/plain": [
       "'\\\\\\\\192.168.1.151\\\\ncfc_data3\\\\Neetu Mam (IP 26 Data Backup 17 April 23)\\\\Backup_Del\\\\Transfer-data\\\\Sent-Analysis\\\\shp\\\\Others\\\\shp\\\\0.India_state_shp\\\\india_dist_lcc.shp'"
      ]
     },
     "metadata": {},
     "output_type": "display_data"
    },
    {
     "ename": "IndexError",
     "evalue": "single positional indexer is out-of-bounds",
     "output_type": "error",
     "traceback": [
      "\u001b[1;31m---------------------------------------------------------------------------\u001b[0m",
      "\u001b[1;31mIndexError\u001b[0m                                Traceback (most recent call last)",
      "Cell \u001b[1;32mIn[19], line 2\u001b[0m\n\u001b[0;32m      1\u001b[0m \u001b[38;5;28;01mfor\u001b[39;00m i \u001b[38;5;129;01min\u001b[39;00m \u001b[38;5;28mrange\u001b[39m(\u001b[38;5;241m10\u001b[39m):\n\u001b[1;32m----> 2\u001b[0m     display(\u001b[43mshp_df\u001b[49m\u001b[43m[\u001b[49m\u001b[43mshp_df\u001b[49m\u001b[38;5;241;43m.\u001b[39;49m\u001b[43mFile_path\u001b[49m\u001b[38;5;241;43m.\u001b[39;49m\u001b[43mapply\u001b[49m\u001b[43m(\u001b[49m\u001b[38;5;28;43;01mlambda\u001b[39;49;00m\u001b[43m \u001b[49m\u001b[43mrow\u001b[49m\u001b[43m:\u001b[49m\u001b[38;5;124;43m'\u001b[39;49m\u001b[38;5;124;43m0.India_state_shp\u001b[39;49m\u001b[38;5;124;43m'\u001b[39;49m\u001b[43m \u001b[49m\u001b[38;5;129;43;01min\u001b[39;49;00m\u001b[43m \u001b[49m\u001b[43mrow\u001b[49m\u001b[43m)\u001b[49m\u001b[43m]\u001b[49m\u001b[38;5;241;43m.\u001b[39;49m\u001b[43mFile_path\u001b[49m\u001b[38;5;241;43m.\u001b[39;49m\u001b[43miloc\u001b[49m\u001b[43m[\u001b[49m\u001b[43mi\u001b[49m\u001b[43m]\u001b[49m)\n",
      "File \u001b[1;32m~\\miniconda3\\envs\\kdss\\lib\\site-packages\\pandas\\core\\indexing.py:1073\u001b[0m, in \u001b[0;36m_LocationIndexer.__getitem__\u001b[1;34m(self, key)\u001b[0m\n\u001b[0;32m   1070\u001b[0m axis \u001b[38;5;241m=\u001b[39m \u001b[38;5;28mself\u001b[39m\u001b[38;5;241m.\u001b[39maxis \u001b[38;5;129;01mor\u001b[39;00m \u001b[38;5;241m0\u001b[39m\n\u001b[0;32m   1072\u001b[0m maybe_callable \u001b[38;5;241m=\u001b[39m com\u001b[38;5;241m.\u001b[39mapply_if_callable(key, \u001b[38;5;28mself\u001b[39m\u001b[38;5;241m.\u001b[39mobj)\n\u001b[1;32m-> 1073\u001b[0m \u001b[38;5;28;01mreturn\u001b[39;00m \u001b[38;5;28;43mself\u001b[39;49m\u001b[38;5;241;43m.\u001b[39;49m\u001b[43m_getitem_axis\u001b[49m\u001b[43m(\u001b[49m\u001b[43mmaybe_callable\u001b[49m\u001b[43m,\u001b[49m\u001b[43m \u001b[49m\u001b[43maxis\u001b[49m\u001b[38;5;241;43m=\u001b[39;49m\u001b[43maxis\u001b[49m\u001b[43m)\u001b[49m\n",
      "File \u001b[1;32m~\\miniconda3\\envs\\kdss\\lib\\site-packages\\pandas\\core\\indexing.py:1625\u001b[0m, in \u001b[0;36m_iLocIndexer._getitem_axis\u001b[1;34m(self, key, axis)\u001b[0m\n\u001b[0;32m   1622\u001b[0m     \u001b[38;5;28;01mraise\u001b[39;00m \u001b[38;5;167;01mTypeError\u001b[39;00m(\u001b[38;5;124m\"\u001b[39m\u001b[38;5;124mCannot index by location index with a non-integer key\u001b[39m\u001b[38;5;124m\"\u001b[39m)\n\u001b[0;32m   1624\u001b[0m \u001b[38;5;66;03m# validate the location\u001b[39;00m\n\u001b[1;32m-> 1625\u001b[0m \u001b[38;5;28;43mself\u001b[39;49m\u001b[38;5;241;43m.\u001b[39;49m\u001b[43m_validate_integer\u001b[49m\u001b[43m(\u001b[49m\u001b[43mkey\u001b[49m\u001b[43m,\u001b[49m\u001b[43m \u001b[49m\u001b[43maxis\u001b[49m\u001b[43m)\u001b[49m\n\u001b[0;32m   1627\u001b[0m \u001b[38;5;28;01mreturn\u001b[39;00m \u001b[38;5;28mself\u001b[39m\u001b[38;5;241m.\u001b[39mobj\u001b[38;5;241m.\u001b[39m_ixs(key, axis\u001b[38;5;241m=\u001b[39maxis)\n",
      "File \u001b[1;32m~\\miniconda3\\envs\\kdss\\lib\\site-packages\\pandas\\core\\indexing.py:1557\u001b[0m, in \u001b[0;36m_iLocIndexer._validate_integer\u001b[1;34m(self, key, axis)\u001b[0m\n\u001b[0;32m   1555\u001b[0m len_axis \u001b[38;5;241m=\u001b[39m \u001b[38;5;28mlen\u001b[39m(\u001b[38;5;28mself\u001b[39m\u001b[38;5;241m.\u001b[39mobj\u001b[38;5;241m.\u001b[39m_get_axis(axis))\n\u001b[0;32m   1556\u001b[0m \u001b[38;5;28;01mif\u001b[39;00m key \u001b[38;5;241m>\u001b[39m\u001b[38;5;241m=\u001b[39m len_axis \u001b[38;5;129;01mor\u001b[39;00m key \u001b[38;5;241m<\u001b[39m \u001b[38;5;241m-\u001b[39mlen_axis:\n\u001b[1;32m-> 1557\u001b[0m     \u001b[38;5;28;01mraise\u001b[39;00m \u001b[38;5;167;01mIndexError\u001b[39;00m(\u001b[38;5;124m\"\u001b[39m\u001b[38;5;124msingle positional indexer is out-of-bounds\u001b[39m\u001b[38;5;124m\"\u001b[39m)\n",
      "\u001b[1;31mIndexError\u001b[0m: single positional indexer is out-of-bounds"
     ]
    }
   ],
   "source": [
    "for i in range(10):\n",
    "    display(shp_df[shp_df.File_path.apply(lambda row:'0.India_state_shp' in row)].File_path.iloc[i])"
   ]
  },
  {
   "cell_type": "code",
   "execution_count": 5,
   "id": "0c28f805",
   "metadata": {
    "canvas": {
     "comments": [],
     "componentType": "CodeCell",
     "copiedOriginId": null,
     "diskcache": false,
     "headerColor": "transparent",
     "id": "6349103d-f7d7-4ed1-a66f-ed5173cc8247",
     "isComponent": false,
     "name": "",
     "parents": []
    },
    "scrolled": true
   },
   "outputs": [
    {
     "data": {
      "text/plain": [
       "98874"
      ]
     },
     "execution_count": 5,
     "metadata": {},
     "output_type": "execute_result"
    }
   ],
   "source": [
    "shp_df['File_path'].nunique()"
   ]
  },
  {
   "cell_type": "code",
   "execution_count": 51,
   "id": "b3b332c0",
   "metadata": {
    "canvas": {
     "comments": [],
     "componentType": "CodeCell",
     "copiedOriginId": null,
     "diskcache": false,
     "headerColor": "transparent",
     "id": "d61c42db-7c58-4dbf-b78d-f161bfc6082d",
     "isComponent": false,
     "name": "",
     "parents": []
    },
    "scrolled": true
   },
   "outputs": [],
   "source": [
    "def clean(row):\n",
    "    return '-'.join(row.split('\\\\')[-12:])\n",
    "x = shp_df.File_path.apply(clean)\n"
   ]
  },
  {
   "cell_type": "code",
   "execution_count": 49,
   "id": "9bb763ce",
   "metadata": {
    "canvas": {
     "comments": [],
     "componentType": "CodeCell",
     "copiedOriginId": null,
     "diskcache": false,
     "headerColor": "transparent",
     "id": "0045e065-c188-4133-976e-2d58c4f06561",
     "isComponent": false,
     "name": "",
     "parents": []
    }
   },
   "outputs": [
    {
     "data": {
      "text/plain": [
       "19         --192.168.1.151-ncfc_data3-Akhilesh-2018-19-Co...\n",
       "35         --192.168.1.151-ncfc_data3-Akhilesh-2018-19-Do...\n",
       "58         --192.168.1.151-ncfc_data3-Akhilesh-2018-19-Do...\n",
       "717        --192.168.1.151-ncfc_data3-Akhilesh-Sugercane-...\n",
       "988        --192.168.1.151-ncfc_data3-Akhilesh-Sugercane-...\n",
       "                                 ...                        \n",
       "1409684    ncfc_data3-PMFBY analysis-Kharif Rabi Pilot st...\n",
       "1409685    ncfc_data3-PMFBY analysis-Kharif Rabi Pilot st...\n",
       "1409686    ncfc_data3-PMFBY analysis-Kharif Rabi Pilot st...\n",
       "1409687    ncfc_data3-PMFBY analysis-Kharif Rabi Pilot st...\n",
       "1409688    ncfc_data3-PMFBY analysis-Kharif Rabi Pilot st...\n",
       "Name: File_path, Length: 98875, dtype: object"
      ]
     },
     "execution_count": 49,
     "metadata": {},
     "output_type": "execute_result"
    }
   ],
   "source": [
    "x.sort_values()"
   ]
  },
  {
   "cell_type": "code",
   "execution_count": 36,
   "id": "2d182cf9",
   "metadata": {
    "canvas": {
     "comments": [],
     "componentType": "CodeCell",
     "copiedOriginId": null,
     "diskcache": false,
     "headerColor": "transparent",
     "id": "740f1598-677f-4d59-bc7f-d38bde078c8c",
     "isComponent": false,
     "name": "",
     "parents": []
    },
    "scrolled": true
   },
   "outputs": [
    {
     "data": {
      "text/plain": [
       "98874"
      ]
     },
     "execution_count": 36,
     "metadata": {},
     "output_type": "execute_result"
    }
   ],
   "source": [
    "shp_df['File_path'].nunique()"
   ]
  },
  {
   "cell_type": "code",
   "execution_count": 52,
   "id": "13cddff1",
   "metadata": {
    "canvas": {
     "comments": [],
     "componentType": "CodeCell",
     "copiedOriginId": null,
     "diskcache": false,
     "headerColor": "transparent",
     "id": "a079019c-2b41-4661-bd63-8c46a0a82bdc",
     "isComponent": false,
     "name": "",
     "parents": []
    }
   },
   "outputs": [
    {
     "data": {
      "text/plain": [
       "82429"
      ]
     },
     "execution_count": 52,
     "metadata": {},
     "output_type": "execute_result"
    }
   ],
   "source": [
    "x.nunique()"
   ]
  },
  {
   "cell_type": "code",
   "execution_count": 42,
   "id": "cacf13c0",
   "metadata": {
    "canvas": {
     "comments": [],
     "componentType": "CodeCell",
     "copiedOriginId": null,
     "diskcache": false,
     "headerColor": "transparent",
     "id": "e2f8934d-9b59-4f51-8c70-1e625cf232ba",
     "isComponent": false,
     "name": "",
     "parents": []
    }
   },
   "outputs": [
    {
     "data": {
      "text/plain": [
       "19     __192.168.1.151_ncfc_data3_Akhilesh_2018-19_Co...\n",
       "35     __192.168.1.151_ncfc_data3_Akhilesh_2018-19_Do...\n",
       "58     __192.168.1.151_ncfc_data3_Akhilesh_2018-19_Do...\n",
       "145    __192.168.1.151_ncfc_data3_Akhilesh_akhileshPP...\n",
       "152    __192.168.1.151_ncfc_data3_Akhilesh_akhileshPP...\n",
       "Name: File_path, dtype: object"
      ]
     },
     "metadata": {},
     "output_type": "display_data"
    }
   ],
   "source": [
    "display(x.head())"
   ]
  },
  {
   "cell_type": "code",
   "execution_count": 56,
   "id": "d7e941fc",
   "metadata": {
    "canvas": {
     "comments": [],
     "componentType": "CodeCell",
     "copiedOriginId": null,
     "diskcache": false,
     "headerColor": "transparent",
     "id": "3e59027d-7a03-48ed-975c-a37726c095de",
     "isComponent": false,
     "name": "",
     "parents": []
    }
   },
   "outputs": [
    {
     "name": "stdout",
     "output_type": "stream",
     "text": [
      "e621a0da\n",
      "\\\\192.168.1.151\\ncfc_data3\\Neetu Mam (IP 26 Data Backup 17 April 23)\\Backup_Del\\Transfer-data\\Sent-Analysis\\shp\\0.India_state_shp\\india state_lcc.shp\n"
     ]
    }
   ],
   "source": [
    "#Deriving short unique file path code \n",
    "\n",
    "import hashlib\n",
    "\n",
    "class FilePathShortener:\n",
    "    def __init__(self):\n",
    "        self.paths = {}\n",
    "    \n",
    "    def shorten_file_path(self, file_path):\n",
    "        if file_path in self.paths:\n",
    "            return self.paths[file_path]\n",
    "        \n",
    "        file_hash = hashlib.md5(file_path.encode()).hexdigest()\n",
    "        shortened_path = file_hash[:8]\n",
    "        \n",
    "        self.paths[file_path] = shortened_path\n",
    "        return shortened_path\n",
    "    \n",
    "    def decode_shortened_path(self, shortened_path):\n",
    "        for path, short_path in self.paths.items():\n",
    "            if short_path == shortened_path:\n",
    "                return path\n",
    "        \n",
    "        return None\n",
    "\n",
    "shortener = FilePathShortener()\n",
    "\n",
    " \n",
    "\n",
    "\"\"\"file_path = '\\\\\\\\192.168.1.151\\\\ncfc_data3\\\\Neetu Mam (IP 26 Data Backup 17 April 23)\\\\Backup_Del\\\\Transfer-data\\\\Sent-Analysis\\\\shp\\\\0.India_state_shp\\\\india state_lcc.shp'\n",
    "shortened_path = shortener.shorten_file_path(file_path)\n",
    "print(shortened_path)\"\"\"\n",
    "\n",
    "shortened_path = shp_df.File_path.apply(shortener.shorten_file_path)\n",
    "\n",
    "\n",
    "decoded_path = shortener.decode_shortened_path(shortened_path)\n",
    "print(decoded_path)"
   ]
  },
  {
   "cell_type": "code",
   "execution_count": 58,
   "id": "fb633be0",
   "metadata": {
    "canvas": {
     "comments": [],
     "componentType": "CodeCell",
     "copiedOriginId": null,
     "diskcache": false,
     "headerColor": "transparent",
     "id": "0f46a9c8-aa55-4a6b-b3a3-e58c6c09d846",
     "isComponent": false,
     "name": "",
     "parents": []
    }
   },
   "outputs": [
    {
     "ename": "TypeError",
     "evalue": "unhashable type: 'Series'",
     "output_type": "error",
     "traceback": [
      "\u001b[1;31m---------------------------------------------------------------------------\u001b[0m",
      "\u001b[1;31mTypeError\u001b[0m                                 Traceback (most recent call last)",
      "Cell \u001b[1;32mIn[58], line 2\u001b[0m\n\u001b[0;32m      1\u001b[0m file_path \u001b[38;5;241m=\u001b[39m shp_df\u001b[38;5;241m.\u001b[39mFile_path\n\u001b[1;32m----> 2\u001b[0m shortened_path \u001b[38;5;241m=\u001b[39m \u001b[43mshortener\u001b[49m\u001b[38;5;241;43m.\u001b[39;49m\u001b[43mshorten_file_path\u001b[49m\u001b[43m(\u001b[49m\u001b[43mfile_path\u001b[49m\u001b[43m)\u001b[49m\n\u001b[0;32m      3\u001b[0m \u001b[38;5;28mprint\u001b[39m(shortened_path)\n",
      "Cell \u001b[1;32mIn[56], line 8\u001b[0m, in \u001b[0;36mFilePathShortener.shorten_file_path\u001b[1;34m(self, file_path)\u001b[0m\n\u001b[0;32m      7\u001b[0m \u001b[38;5;28;01mdef\u001b[39;00m \u001b[38;5;21mshorten_file_path\u001b[39m(\u001b[38;5;28mself\u001b[39m, file_path):\n\u001b[1;32m----> 8\u001b[0m     \u001b[38;5;28;01mif\u001b[39;00m \u001b[43mfile_path\u001b[49m\u001b[43m \u001b[49m\u001b[38;5;129;43;01min\u001b[39;49;00m\u001b[43m \u001b[49m\u001b[38;5;28;43mself\u001b[39;49m\u001b[38;5;241;43m.\u001b[39;49m\u001b[43mpaths\u001b[49m:\n\u001b[0;32m      9\u001b[0m         \u001b[38;5;28;01mreturn\u001b[39;00m \u001b[38;5;28mself\u001b[39m\u001b[38;5;241m.\u001b[39mpaths[file_path]\n\u001b[0;32m     11\u001b[0m     file_hash \u001b[38;5;241m=\u001b[39m hashlib\u001b[38;5;241m.\u001b[39mmd5(file_path\u001b[38;5;241m.\u001b[39mencode())\u001b[38;5;241m.\u001b[39mhexdigest()\n",
      "\u001b[1;31mTypeError\u001b[0m: unhashable type: 'Series'"
     ]
    }
   ],
   "source": [
    "file_path = shp_df.File_path\n",
    "shortened_path = shortener.shorten_file_path(file_path)\n",
    "print(shortened_path)"
   ]
  },
  {
   "cell_type": "code",
   "execution_count": 68,
   "id": "b4572f24",
   "metadata": {
    "canvas": {
     "comments": [],
     "componentType": "CodeCell",
     "copiedOriginId": null,
     "diskcache": false,
     "headerColor": "transparent",
     "id": "d84d950b-643a-445c-be8e-2f5a9815465a",
     "isComponent": false,
     "name": "",
     "parents": []
    }
   },
   "outputs": [],
   "source": [
    "shortened_path = shp_df.File_path.apply(shortener.shorten_file_path)\n",
    "new_file_name = shp_df.File_Name+'_'+shortened_path"
   ]
  },
  {
   "cell_type": "code",
   "execution_count": 62,
   "id": "6bfb9dc6",
   "metadata": {
    "canvas": {
     "comments": [],
     "componentType": "CodeCell",
     "copiedOriginId": null,
     "diskcache": false,
     "headerColor": "transparent",
     "id": "ab87f921-af71-4af4-b1db-3c949c2c79b2",
     "isComponent": false,
     "name": "",
     "parents": []
    }
   },
   "outputs": [
    {
     "data": {
      "text/plain": [
       "98873"
      ]
     },
     "execution_count": 62,
     "metadata": {},
     "output_type": "execute_result"
    }
   ],
   "source": [
    "shortened_path.nunique()\n"
   ]
  },
  {
   "cell_type": "code",
   "execution_count": 65,
   "id": "10b468dd",
   "metadata": {
    "canvas": {
     "comments": [],
     "componentType": "CodeCell",
     "copiedOriginId": null,
     "diskcache": false,
     "headerColor": "transparent",
     "id": "6914104b-1081-433a-9d70-7a0b628a35d8",
     "isComponent": false,
     "name": "",
     "parents": []
    }
   },
   "outputs": [
    {
     "data": {
      "text/plain": [
       "98874"
      ]
     },
     "execution_count": 65,
     "metadata": {},
     "output_type": "execute_result"
    }
   ],
   "source": [
    "new_file_name.nunique()"
   ]
  },
  {
   "cell_type": "code",
   "execution_count": 79,
   "id": "662b99c4",
   "metadata": {
    "canvas": {
     "comments": [],
     "componentType": "CodeCell",
     "copiedOriginId": null,
     "diskcache": false,
     "headerColor": "transparent",
     "id": "a8d335a1-1f2e-4cb3-b013-202e5afb34ef",
     "isComponent": false,
     "name": "",
     "parents": []
    }
   },
   "outputs": [
    {
     "name": "stderr",
     "output_type": "stream",
     "text": [
      "C:\\Users\\user\\AppData\\Local\\Temp\\ipykernel_3452\\3839595209.py:1: SettingWithCopyWarning: \n",
      "A value is trying to be set on a copy of a slice from a DataFrame.\n",
      "Try using .loc[row_indexer,col_indexer] = value instead\n",
      "\n",
      "See the caveats in the documentation: https://pandas.pydata.org/pandas-docs/stable/user_guide/indexing.html#returning-a-view-versus-a-copy\n",
      "  shp_df['unique_file_name']=new_file_name\n"
     ]
    }
   ],
   "source": [
    "shp_df['unique_file_name']=new_file_name"
   ]
  },
  {
   "cell_type": "code",
   "execution_count": 80,
   "id": "3dc86fa9",
   "metadata": {
    "canvas": {
     "comments": [],
     "componentType": "CodeCell",
     "copiedOriginId": null,
     "diskcache": false,
     "headerColor": "transparent",
     "id": "7ba836c0-41ab-422a-b6ea-5f7de5da6d2b",
     "isComponent": false,
     "name": "",
     "parents": []
    }
   },
   "outputs": [
    {
     "data": {
      "text/html": [
       "<div>\n",
       "<style scoped>\n",
       "    .dataframe tbody tr th:only-of-type {\n",
       "        vertical-align: middle;\n",
       "    }\n",
       "\n",
       "    .dataframe tbody tr th {\n",
       "        vertical-align: top;\n",
       "    }\n",
       "\n",
       "    .dataframe thead th {\n",
       "        text-align: right;\n",
       "    }\n",
       "</style>\n",
       "<table border=\"1\" class=\"dataframe\">\n",
       "  <thead>\n",
       "    <tr style=\"text-align: right;\">\n",
       "      <th></th>\n",
       "      <th>File_Name</th>\n",
       "      <th>Columns</th>\n",
       "      <th>Ext</th>\n",
       "      <th>Size(in mb)</th>\n",
       "      <th>File_path</th>\n",
       "      <th>unique_file_name</th>\n",
       "    </tr>\n",
       "  </thead>\n",
       "  <tbody>\n",
       "    <tr>\n",
       "      <th>19</th>\n",
       "      <td>Cotton_States</td>\n",
       "      <td>{'STATE', 'geometry', 'State_1'}</td>\n",
       "      <td>shp</td>\n",
       "      <td>2.354198</td>\n",
       "      <td>\\\\192.168.1.151\\ncfc_data3\\Akhilesh\\2018-19\\Co...</td>\n",
       "      <td>Cotton_States_41d30cad</td>\n",
       "    </tr>\n",
       "    <tr>\n",
       "      <th>35</th>\n",
       "      <td>Banswara</td>\n",
       "      <td>{'ID', 'STATE_NAME', 'TALUK', 'geometry', 'SUM...</td>\n",
       "      <td>shp</td>\n",
       "      <td>0.347881</td>\n",
       "      <td>\\\\192.168.1.151\\ncfc_data3\\Akhilesh\\2018-19\\Do...</td>\n",
       "      <td>Banswara_9e90aae4</td>\n",
       "    </tr>\n",
       "    <tr>\n",
       "      <th>58</th>\n",
       "      <td>Rajasthan</td>\n",
       "      <td>{'ID', 'STATE_NAME', 'DIST_IMD', 'ID_RAIN', 'D...</td>\n",
       "      <td>shp</td>\n",
       "      <td>0.477604</td>\n",
       "      <td>\\\\192.168.1.151\\ncfc_data3\\Akhilesh\\2018-19\\Do...</td>\n",
       "      <td>Rajasthan_b0ad2740</td>\n",
       "    </tr>\n",
       "    <tr>\n",
       "      <th>145</th>\n",
       "      <td>Sirmaur</td>\n",
       "      <td>{'VALIDTO_2', 'TYPE_2', 'Shape_Area', 'NAME_2'...</td>\n",
       "      <td>shp</td>\n",
       "      <td>0.007275</td>\n",
       "      <td>\\\\192.168.1.151\\ncfc_data3\\Akhilesh\\akhileshPP...</td>\n",
       "      <td>Sirmaur_cce49301</td>\n",
       "    </tr>\n",
       "    <tr>\n",
       "      <th>152</th>\n",
       "      <td>sirmaur_lcc</td>\n",
       "      <td>{'VALIDTO_2', 'TYPE_2', 'Shape_Area', 'NAME_2'...</td>\n",
       "      <td>shp</td>\n",
       "      <td>0.007275</td>\n",
       "      <td>\\\\192.168.1.151\\ncfc_data3\\Akhilesh\\akhileshPP...</td>\n",
       "      <td>sirmaur_lcc_7f8a3da6</td>\n",
       "    </tr>\n",
       "  </tbody>\n",
       "</table>\n",
       "</div>"
      ],
      "text/plain": [
       "         File_Name                                            Columns  Ext  \\\n",
       "19   Cotton_States                   {'STATE', 'geometry', 'State_1'}  shp   \n",
       "35        Banswara  {'ID', 'STATE_NAME', 'TALUK', 'geometry', 'SUM...  shp   \n",
       "58       Rajasthan  {'ID', 'STATE_NAME', 'DIST_IMD', 'ID_RAIN', 'D...  shp   \n",
       "145        Sirmaur  {'VALIDTO_2', 'TYPE_2', 'Shape_Area', 'NAME_2'...  shp   \n",
       "152    sirmaur_lcc  {'VALIDTO_2', 'TYPE_2', 'Shape_Area', 'NAME_2'...  shp   \n",
       "\n",
       "     Size(in mb)                                          File_path  \\\n",
       "19      2.354198  \\\\192.168.1.151\\ncfc_data3\\Akhilesh\\2018-19\\Co...   \n",
       "35      0.347881  \\\\192.168.1.151\\ncfc_data3\\Akhilesh\\2018-19\\Do...   \n",
       "58      0.477604  \\\\192.168.1.151\\ncfc_data3\\Akhilesh\\2018-19\\Do...   \n",
       "145     0.007275  \\\\192.168.1.151\\ncfc_data3\\Akhilesh\\akhileshPP...   \n",
       "152     0.007275  \\\\192.168.1.151\\ncfc_data3\\Akhilesh\\akhileshPP...   \n",
       "\n",
       "           unique_file_name  \n",
       "19   Cotton_States_41d30cad  \n",
       "35        Banswara_9e90aae4  \n",
       "58       Rajasthan_b0ad2740  \n",
       "145        Sirmaur_cce49301  \n",
       "152    sirmaur_lcc_7f8a3da6  "
      ]
     },
     "execution_count": 80,
     "metadata": {},
     "output_type": "execute_result"
    }
   ],
   "source": [
    "shp_df.head()"
   ]
  },
  {
   "cell_type": "code",
   "execution_count": 102,
   "id": "3d4fe746",
   "metadata": {
    "canvas": {
     "comments": [],
     "componentType": "CodeCell",
     "copiedOriginId": null,
     "diskcache": false,
     "headerColor": "transparent",
     "id": "cf5e111a-23ca-4327-aa5e-2b33edca8125",
     "isComponent": false,
     "name": "",
     "parents": []
    }
   },
   "outputs": [
    {
     "name": "stdout",
     "output_type": "stream",
     "text": [
      "\\\\192.168.1.151\\ncfc_data3\\Neetu Mam (IP 26 Data Backup 17 April 23)\\Dr. Kanthesh\\Desktop 5-5-2022\\Shape Files\\PILOT STUDY\\village boundary\\block_3_sst_vil\\Blocks\\9.shp\n"
     ]
    }
   ],
   "source": [
    "decoded_path = shortener.decode_shortened_path('639e1a68')\n",
    "print(decoded_path)"
   ]
  },
  {
   "cell_type": "code",
   "execution_count": 104,
   "id": "5bd0015a",
   "metadata": {
    "canvas": {
     "comments": [],
     "componentType": "CodeCell",
     "copiedOriginId": null,
     "diskcache": false,
     "headerColor": "transparent",
     "id": "2852d95a-d74f-4736-b5ff-1c812fb0b55f",
     "isComponent": false,
     "name": "",
     "parents": []
    }
   },
   "outputs": [
    {
     "ename": "KeyError",
     "evalue": "'A'",
     "output_type": "error",
     "traceback": [
      "\u001b[1;31m---------------------------------------------------------------------------\u001b[0m",
      "\u001b[1;31mKeyError\u001b[0m                                  Traceback (most recent call last)",
      "Cell \u001b[1;32mIn[104], line 5\u001b[0m\n\u001b[0;32m      2\u001b[0m     \u001b[38;5;28;01mimport\u001b[39;00m \u001b[38;5;21;01mpandas\u001b[39;00m \u001b[38;5;28;01mas\u001b[39;00m \u001b[38;5;21;01mpd\u001b[39;00m\n\u001b[0;32m      3\u001b[0m     \u001b[38;5;28;01mreturn\u001b[39;00m pd\u001b[38;5;241m.\u001b[39mSeries([x[\u001b[38;5;124m'\u001b[39m\u001b[38;5;124mC\u001b[39m\u001b[38;5;124m'\u001b[39m]\u001b[38;5;241m.\u001b[39mmean()])\n\u001b[1;32m----> 5\u001b[0m \u001b[43mdf\u001b[49m\u001b[38;5;241;43m.\u001b[39;49m\u001b[43mgroupby\u001b[49m\u001b[43m(\u001b[49m\u001b[43m[\u001b[49m\u001b[38;5;124;43m\"\u001b[39;49m\u001b[38;5;124;43mA\u001b[39;49m\u001b[38;5;124;43m\"\u001b[39;49m\u001b[43m,\u001b[49m\u001b[38;5;124;43m\"\u001b[39;49m\u001b[38;5;124;43mB\u001b[39;49m\u001b[38;5;124;43m\"\u001b[39;49m\u001b[43m]\u001b[49m\u001b[43m)\u001b[49m\u001b[38;5;241m.\u001b[39mapply_parallel(func, num_processes\u001b[38;5;241m=\u001b[39m\u001b[38;5;241m30\u001b[39m)\n",
      "File \u001b[1;32m~\\miniconda3\\envs\\kdss\\lib\\site-packages\\pandas\\core\\frame.py:8402\u001b[0m, in \u001b[0;36mDataFrame.groupby\u001b[1;34m(self, by, axis, level, as_index, sort, group_keys, squeeze, observed, dropna)\u001b[0m\n\u001b[0;32m   8399\u001b[0m     \u001b[38;5;28;01mraise\u001b[39;00m \u001b[38;5;167;01mTypeError\u001b[39;00m(\u001b[38;5;124m\"\u001b[39m\u001b[38;5;124mYou have to supply one of \u001b[39m\u001b[38;5;124m'\u001b[39m\u001b[38;5;124mby\u001b[39m\u001b[38;5;124m'\u001b[39m\u001b[38;5;124m and \u001b[39m\u001b[38;5;124m'\u001b[39m\u001b[38;5;124mlevel\u001b[39m\u001b[38;5;124m'\u001b[39m\u001b[38;5;124m\"\u001b[39m)\n\u001b[0;32m   8400\u001b[0m axis \u001b[38;5;241m=\u001b[39m \u001b[38;5;28mself\u001b[39m\u001b[38;5;241m.\u001b[39m_get_axis_number(axis)\n\u001b[1;32m-> 8402\u001b[0m \u001b[38;5;28;01mreturn\u001b[39;00m \u001b[43mDataFrameGroupBy\u001b[49m\u001b[43m(\u001b[49m\n\u001b[0;32m   8403\u001b[0m \u001b[43m    \u001b[49m\u001b[43mobj\u001b[49m\u001b[38;5;241;43m=\u001b[39;49m\u001b[38;5;28;43mself\u001b[39;49m\u001b[43m,\u001b[49m\n\u001b[0;32m   8404\u001b[0m \u001b[43m    \u001b[49m\u001b[43mkeys\u001b[49m\u001b[38;5;241;43m=\u001b[39;49m\u001b[43mby\u001b[49m\u001b[43m,\u001b[49m\n\u001b[0;32m   8405\u001b[0m \u001b[43m    \u001b[49m\u001b[43maxis\u001b[49m\u001b[38;5;241;43m=\u001b[39;49m\u001b[43maxis\u001b[49m\u001b[43m,\u001b[49m\n\u001b[0;32m   8406\u001b[0m \u001b[43m    \u001b[49m\u001b[43mlevel\u001b[49m\u001b[38;5;241;43m=\u001b[39;49m\u001b[43mlevel\u001b[49m\u001b[43m,\u001b[49m\n\u001b[0;32m   8407\u001b[0m \u001b[43m    \u001b[49m\u001b[43mas_index\u001b[49m\u001b[38;5;241;43m=\u001b[39;49m\u001b[43mas_index\u001b[49m\u001b[43m,\u001b[49m\n\u001b[0;32m   8408\u001b[0m \u001b[43m    \u001b[49m\u001b[43msort\u001b[49m\u001b[38;5;241;43m=\u001b[39;49m\u001b[43msort\u001b[49m\u001b[43m,\u001b[49m\n\u001b[0;32m   8409\u001b[0m \u001b[43m    \u001b[49m\u001b[43mgroup_keys\u001b[49m\u001b[38;5;241;43m=\u001b[39;49m\u001b[43mgroup_keys\u001b[49m\u001b[43m,\u001b[49m\n\u001b[0;32m   8410\u001b[0m \u001b[43m    \u001b[49m\u001b[43msqueeze\u001b[49m\u001b[38;5;241;43m=\u001b[39;49m\u001b[43msqueeze\u001b[49m\u001b[43m,\u001b[49m\n\u001b[0;32m   8411\u001b[0m \u001b[43m    \u001b[49m\u001b[43mobserved\u001b[49m\u001b[38;5;241;43m=\u001b[39;49m\u001b[43mobserved\u001b[49m\u001b[43m,\u001b[49m\n\u001b[0;32m   8412\u001b[0m \u001b[43m    \u001b[49m\u001b[43mdropna\u001b[49m\u001b[38;5;241;43m=\u001b[39;49m\u001b[43mdropna\u001b[49m\u001b[43m,\u001b[49m\n\u001b[0;32m   8413\u001b[0m \u001b[43m\u001b[49m\u001b[43m)\u001b[49m\n",
      "File \u001b[1;32m~\\miniconda3\\envs\\kdss\\lib\\site-packages\\pandas\\core\\groupby\\groupby.py:965\u001b[0m, in \u001b[0;36mGroupBy.__init__\u001b[1;34m(self, obj, keys, axis, level, grouper, exclusions, selection, as_index, sort, group_keys, squeeze, observed, mutated, dropna)\u001b[0m\n\u001b[0;32m    962\u001b[0m \u001b[38;5;28;01mif\u001b[39;00m grouper \u001b[38;5;129;01mis\u001b[39;00m \u001b[38;5;28;01mNone\u001b[39;00m:\n\u001b[0;32m    963\u001b[0m     \u001b[38;5;28;01mfrom\u001b[39;00m \u001b[38;5;21;01mpandas\u001b[39;00m\u001b[38;5;21;01m.\u001b[39;00m\u001b[38;5;21;01mcore\u001b[39;00m\u001b[38;5;21;01m.\u001b[39;00m\u001b[38;5;21;01mgroupby\u001b[39;00m\u001b[38;5;21;01m.\u001b[39;00m\u001b[38;5;21;01mgrouper\u001b[39;00m \u001b[38;5;28;01mimport\u001b[39;00m get_grouper\n\u001b[1;32m--> 965\u001b[0m     grouper, exclusions, obj \u001b[38;5;241m=\u001b[39m \u001b[43mget_grouper\u001b[49m\u001b[43m(\u001b[49m\n\u001b[0;32m    966\u001b[0m \u001b[43m        \u001b[49m\u001b[43mobj\u001b[49m\u001b[43m,\u001b[49m\n\u001b[0;32m    967\u001b[0m \u001b[43m        \u001b[49m\u001b[43mkeys\u001b[49m\u001b[43m,\u001b[49m\n\u001b[0;32m    968\u001b[0m \u001b[43m        \u001b[49m\u001b[43maxis\u001b[49m\u001b[38;5;241;43m=\u001b[39;49m\u001b[43maxis\u001b[49m\u001b[43m,\u001b[49m\n\u001b[0;32m    969\u001b[0m \u001b[43m        \u001b[49m\u001b[43mlevel\u001b[49m\u001b[38;5;241;43m=\u001b[39;49m\u001b[43mlevel\u001b[49m\u001b[43m,\u001b[49m\n\u001b[0;32m    970\u001b[0m \u001b[43m        \u001b[49m\u001b[43msort\u001b[49m\u001b[38;5;241;43m=\u001b[39;49m\u001b[43msort\u001b[49m\u001b[43m,\u001b[49m\n\u001b[0;32m    971\u001b[0m \u001b[43m        \u001b[49m\u001b[43mobserved\u001b[49m\u001b[38;5;241;43m=\u001b[39;49m\u001b[43mobserved\u001b[49m\u001b[43m,\u001b[49m\n\u001b[0;32m    972\u001b[0m \u001b[43m        \u001b[49m\u001b[43mmutated\u001b[49m\u001b[38;5;241;43m=\u001b[39;49m\u001b[38;5;28;43mself\u001b[39;49m\u001b[38;5;241;43m.\u001b[39;49m\u001b[43mmutated\u001b[49m\u001b[43m,\u001b[49m\n\u001b[0;32m    973\u001b[0m \u001b[43m        \u001b[49m\u001b[43mdropna\u001b[49m\u001b[38;5;241;43m=\u001b[39;49m\u001b[38;5;28;43mself\u001b[39;49m\u001b[38;5;241;43m.\u001b[39;49m\u001b[43mdropna\u001b[49m\u001b[43m,\u001b[49m\n\u001b[0;32m    974\u001b[0m \u001b[43m    \u001b[49m\u001b[43m)\u001b[49m\n\u001b[0;32m    976\u001b[0m \u001b[38;5;28mself\u001b[39m\u001b[38;5;241m.\u001b[39mobj \u001b[38;5;241m=\u001b[39m obj\n\u001b[0;32m    977\u001b[0m \u001b[38;5;28mself\u001b[39m\u001b[38;5;241m.\u001b[39maxis \u001b[38;5;241m=\u001b[39m obj\u001b[38;5;241m.\u001b[39m_get_axis_number(axis)\n",
      "File \u001b[1;32m~\\miniconda3\\envs\\kdss\\lib\\site-packages\\pandas\\core\\groupby\\grouper.py:888\u001b[0m, in \u001b[0;36mget_grouper\u001b[1;34m(obj, key, axis, level, sort, observed, mutated, validate, dropna)\u001b[0m\n\u001b[0;32m    886\u001b[0m         in_axis, level, gpr \u001b[38;5;241m=\u001b[39m \u001b[38;5;28;01mFalse\u001b[39;00m, gpr, \u001b[38;5;28;01mNone\u001b[39;00m\n\u001b[0;32m    887\u001b[0m     \u001b[38;5;28;01melse\u001b[39;00m:\n\u001b[1;32m--> 888\u001b[0m         \u001b[38;5;28;01mraise\u001b[39;00m \u001b[38;5;167;01mKeyError\u001b[39;00m(gpr)\n\u001b[0;32m    889\u001b[0m \u001b[38;5;28;01melif\u001b[39;00m \u001b[38;5;28misinstance\u001b[39m(gpr, Grouper) \u001b[38;5;129;01mand\u001b[39;00m gpr\u001b[38;5;241m.\u001b[39mkey \u001b[38;5;129;01mis\u001b[39;00m \u001b[38;5;129;01mnot\u001b[39;00m \u001b[38;5;28;01mNone\u001b[39;00m:\n\u001b[0;32m    890\u001b[0m     \u001b[38;5;66;03m# Add key to exclusions\u001b[39;00m\n\u001b[0;32m    891\u001b[0m     exclusions\u001b[38;5;241m.\u001b[39madd(gpr\u001b[38;5;241m.\u001b[39mkey)\n",
      "\u001b[1;31mKeyError\u001b[0m: 'A'"
     ]
    }
   ],
   "source": [
    "def func(x):\n",
    "    import pandas as pd\n",
    "    return pd.Series([x['C'].mean()])\n",
    "\n",
    "df.groupby([\"A\",\"B\"]).apply_parallel(func, num_processes=30)"
   ]
  },
  {
   "cell_type": "code",
   "execution_count": 112,
   "id": "9d39b771",
   "metadata": {
    "canvas": {
     "comments": [],
     "componentType": "CodeCell",
     "copiedOriginId": null,
     "diskcache": false,
     "headerColor": "transparent",
     "id": "070d68e3-6843-4de6-88d5-7c53c1e18056",
     "isComponent": false,
     "name": "",
     "parents": []
    }
   },
   "outputs": [
    {
     "data": {
      "text/plain": [
       "['\\\\\\\\192.168.1.151\\\\ncfc_data3\\\\Neetu Mam (IP 26 Data Backup 17 April 23)\\\\Dr. Kanthesh\\\\Desktop 5-5-2022\\\\Shape Files\\\\final\\\\New folder\\\\UK_10_POINTS.shp',\n",
       " '\\\\\\\\192.168.1.151\\\\ncfc_data3\\\\Neetu Mam (IP 26 Data Backup 17 April 23)\\\\Dr. Kanthesh\\\\Desktop 5-5-2022\\\\Shape Files\\\\final\\\\New folder\\\\UP.shp',\n",
       " '\\\\\\\\192.168.1.151\\\\ncfc_data3\\\\Neetu Mam (IP 26 Data Backup 17 April 23)\\\\Dr. Kanthesh\\\\Desktop 5-5-2022\\\\Shape Files\\\\final\\\\New folder\\\\UP2.shp',\n",
       " '\\\\\\\\192.168.1.151\\\\ncfc_data3\\\\Neetu Mam (IP 26 Data Backup 17 April 23)\\\\Dr. Kanthesh\\\\Desktop 5-5-2022\\\\Shape Files\\\\final\\\\New folder\\\\UTTARKHAND.shp',\n",
       " '\\\\\\\\192.168.1.151\\\\ncfc_data3\\\\Neetu Mam (IP 26 Data Backup 17 April 23)\\\\Dr. Kanthesh\\\\Desktop 5-5-2022\\\\Shape Files\\\\final\\\\New folder\\\\final\\\\AP_FINAL.shp',\n",
       " '\\\\\\\\192.168.1.151\\\\ncfc_data3\\\\Neetu Mam (IP 26 Data Backup 17 April 23)\\\\Dr. Kanthesh\\\\Desktop 5-5-2022\\\\Shape Files\\\\final\\\\New folder\\\\final\\\\CCE_POINTS.shp',\n",
       " '\\\\\\\\192.168.1.151\\\\ncfc_data3\\\\Neetu Mam (IP 26 Data Backup 17 April 23)\\\\Dr. Kanthesh\\\\Desktop 5-5-2022\\\\Shape Files\\\\final\\\\New folder\\\\final\\\\HR_Final.shp',\n",
       " '\\\\\\\\192.168.1.151\\\\ncfc_data3\\\\Neetu Mam (IP 26 Data Backup 17 April 23)\\\\Dr. Kanthesh\\\\Desktop 5-5-2022\\\\Shape Files\\\\final\\\\New folder\\\\final\\\\KA_Final.shp',\n",
       " '\\\\\\\\192.168.1.151\\\\ncfc_data3\\\\Neetu Mam (IP 26 Data Backup 17 April 23)\\\\Dr. Kanthesh\\\\Desktop 5-5-2022\\\\Shape Files\\\\final\\\\New folder\\\\final\\\\MP_Final.shp',\n",
       " '\\\\\\\\192.168.1.151\\\\ncfc_data3\\\\Neetu Mam (IP 26 Data Backup 17 April 23)\\\\Dr. Kanthesh\\\\Desktop 5-5-2022\\\\Shape Files\\\\final\\\\New folder\\\\final\\\\OD_Final.shp',\n",
       " '\\\\\\\\192.168.1.151\\\\ncfc_data3\\\\Neetu Mam (IP 26 Data Backup 17 April 23)\\\\Dr. Kanthesh\\\\Desktop 5-5-2022\\\\Shape Files\\\\final\\\\New folder\\\\final\\\\RJ_final.shp',\n",
       " '\\\\\\\\192.168.1.151\\\\ncfc_data3\\\\Neetu Mam (IP 26 Data Backup 17 April 23)\\\\Dr. Kanthesh\\\\Desktop 5-5-2022\\\\Shape Files\\\\final\\\\New folder\\\\final\\\\Tanmilnadu_Final_CCE.shp',\n",
       " '\\\\\\\\192.168.1.151\\\\ncfc_data3\\\\Neetu Mam (IP 26 Data Backup 17 April 23)\\\\Dr. Kanthesh\\\\Desktop 5-5-2022\\\\Shape Files\\\\final\\\\New folder\\\\final\\\\UK_10_Point.shp',\n",
       " '\\\\\\\\192.168.1.151\\\\ncfc_data3\\\\Neetu Mam (IP 26 Data Backup 17 April 23)\\\\Dr. Kanthesh\\\\Desktop 5-5-2022\\\\Shape Files\\\\final\\\\New folder\\\\final\\\\UP_Final.shp',\n",
       " '\\\\\\\\192.168.1.151\\\\ncfc_data3\\\\Neetu Mam (IP 26 Data Backup 17 April 23)\\\\Dr. Kanthesh\\\\Desktop 5-5-2022\\\\Shape Files\\\\final\\\\New folder\\\\final\\\\Final_All_Correction\\\\AP_FINAL.shp',\n",
       " '\\\\\\\\192.168.1.151\\\\ncfc_data3\\\\Neetu Mam (IP 26 Data Backup 17 April 23)\\\\Dr. Kanthesh\\\\Desktop 5-5-2022\\\\Shape Files\\\\final\\\\New folder\\\\final\\\\Final_All_Correction\\\\HR_Final.shp',\n",
       " '\\\\\\\\192.168.1.151\\\\ncfc_data3\\\\Neetu Mam (IP 26 Data Backup 17 April 23)\\\\Dr. Kanthesh\\\\Desktop 5-5-2022\\\\Shape Files\\\\final\\\\New folder\\\\final\\\\Final_All_Correction\\\\KA_Final.shp',\n",
       " '\\\\\\\\192.168.1.151\\\\ncfc_data3\\\\Neetu Mam (IP 26 Data Backup 17 April 23)\\\\Dr. Kanthesh\\\\Desktop 5-5-2022\\\\Shape Files\\\\final\\\\New folder\\\\final\\\\Final_All_Correction\\\\MP_Final.shp',\n",
       " '\\\\\\\\192.168.1.151\\\\ncfc_data3\\\\Neetu Mam (IP 26 Data Backup 17 April 23)\\\\Dr. Kanthesh\\\\Desktop 5-5-2022\\\\Shape Files\\\\final\\\\New folder\\\\final\\\\Final_All_Correction\\\\OD_Final.shp',\n",
       " '\\\\\\\\192.168.1.151\\\\ncfc_data3\\\\Neetu Mam (IP 26 Data Backup 17 April 23)\\\\Dr. Kanthesh\\\\Desktop 5-5-2022\\\\Shape Files\\\\final\\\\New folder\\\\final\\\\Final_All_Correction\\\\RJ_final.shp',\n",
       " '\\\\\\\\192.168.1.151\\\\ncfc_data3\\\\Neetu Mam (IP 26 Data Backup 17 April 23)\\\\Dr. Kanthesh\\\\Desktop 5-5-2022\\\\Shape Files\\\\final\\\\New folder\\\\final\\\\Final_All_Correction\\\\Tanmilnadu_Final_CCE.shp',\n",
       " '\\\\\\\\192.168.1.151\\\\ncfc_data3\\\\Neetu Mam (IP 26 Data Backup 17 April 23)\\\\Dr. Kanthesh\\\\Desktop 5-5-2022\\\\Shape Files\\\\final\\\\New folder\\\\final\\\\Final_All_Correction\\\\UK_10_Point.shp',\n",
       " '\\\\\\\\192.168.1.151\\\\ncfc_data3\\\\Neetu Mam (IP 26 Data Backup 17 April 23)\\\\Dr. Kanthesh\\\\Desktop 5-5-2022\\\\Shape Files\\\\final\\\\New folder\\\\final\\\\Final_All_Correction\\\\UP_Final.shp',\n",
       " '\\\\\\\\192.168.1.151\\\\ncfc_data3\\\\Neetu Mam (IP 26 Data Backup 17 April 23)\\\\Dr. Kanthesh\\\\Desktop 5-5-2022\\\\Shape Files\\\\final\\\\New folder\\\\final\\\\odccepoints\\\\Odisha_CCE_points.shp',\n",
       " '\\\\\\\\192.168.1.151\\\\ncfc_data3\\\\Neetu Mam (IP 26 Data Backup 17 April 23)\\\\Dr. Kanthesh\\\\Desktop 5-5-2022\\\\Shape Files\\\\final\\\\odccepoints\\\\Odisha_CCE_points.shp',\n",
       " '\\\\\\\\192.168.1.151\\\\ncfc_data3\\\\Neetu Mam (IP 26 Data Backup 17 April 23)\\\\Dr. Kanthesh\\\\Desktop 5-5-2022\\\\Shape Files\\\\IAR\\\\Mandi_villages\\\\East_godavari_villages.shp']"
      ]
     },
     "execution_count": 112,
     "metadata": {},
     "output_type": "execute_result"
    }
   ],
   "source": [
    "lst"
   ]
  },
  {
   "cell_type": "code",
   "execution_count": 113,
   "id": "fe94a42d",
   "metadata": {
    "canvas": {
     "comments": [],
     "componentType": "CodeCell",
     "copiedOriginId": null,
     "diskcache": false,
     "headerColor": "transparent",
     "id": "444eae99-5b94-4d88-9158-163abbd536c5",
     "isComponent": false,
     "name": "",
     "parents": []
    }
   },
   "outputs": [
    {
     "data": {
      "text/plain": [
       "['\\\\\\\\192.168.1.151\\\\ncfc_data3\\\\Neetu Mam (IP 26 Data Backup 17 April 23)\\\\Dr. Kanthesh\\\\Desktop 5-5-2022\\\\Shape Files\\\\final\\\\New folder\\\\UK_10_POINTS.shp',\n",
       " '\\\\\\\\192.168.1.151\\\\ncfc_data3\\\\Neetu Mam (IP 26 Data Backup 17 April 23)\\\\Dr. Kanthesh\\\\Desktop 5-5-2022\\\\Shape Files\\\\final\\\\New folder\\\\UP.shp',\n",
       " '\\\\\\\\192.168.1.151\\\\ncfc_data3\\\\Neetu Mam (IP 26 Data Backup 17 April 23)\\\\Dr. Kanthesh\\\\Desktop 5-5-2022\\\\Shape Files\\\\final\\\\New folder\\\\UP2.shp',\n",
       " '\\\\\\\\192.168.1.151\\\\ncfc_data3\\\\Neetu Mam (IP 26 Data Backup 17 April 23)\\\\Dr. Kanthesh\\\\Desktop 5-5-2022\\\\Shape Files\\\\final\\\\New folder\\\\UTTARKHAND.shp',\n",
       " '\\\\\\\\192.168.1.151\\\\ncfc_data3\\\\Neetu Mam (IP 26 Data Backup 17 April 23)\\\\Dr. Kanthesh\\\\Desktop 5-5-2022\\\\Shape Files\\\\final\\\\New folder\\\\final\\\\AP_FINAL.shp',\n",
       " '\\\\\\\\192.168.1.151\\\\ncfc_data3\\\\Neetu Mam (IP 26 Data Backup 17 April 23)\\\\Dr. Kanthesh\\\\Desktop 5-5-2022\\\\Shape Files\\\\final\\\\New folder\\\\final\\\\CCE_POINTS.shp',\n",
       " '\\\\\\\\192.168.1.151\\\\ncfc_data3\\\\Neetu Mam (IP 26 Data Backup 17 April 23)\\\\Dr. Kanthesh\\\\Desktop 5-5-2022\\\\Shape Files\\\\final\\\\New folder\\\\final\\\\HR_Final.shp',\n",
       " '\\\\\\\\192.168.1.151\\\\ncfc_data3\\\\Neetu Mam (IP 26 Data Backup 17 April 23)\\\\Dr. Kanthesh\\\\Desktop 5-5-2022\\\\Shape Files\\\\final\\\\New folder\\\\final\\\\KA_Final.shp',\n",
       " '\\\\\\\\192.168.1.151\\\\ncfc_data3\\\\Neetu Mam (IP 26 Data Backup 17 April 23)\\\\Dr. Kanthesh\\\\Desktop 5-5-2022\\\\Shape Files\\\\final\\\\New folder\\\\final\\\\MP_Final.shp',\n",
       " '\\\\\\\\192.168.1.151\\\\ncfc_data3\\\\Neetu Mam (IP 26 Data Backup 17 April 23)\\\\Dr. Kanthesh\\\\Desktop 5-5-2022\\\\Shape Files\\\\final\\\\New folder\\\\final\\\\OD_Final.shp',\n",
       " '\\\\\\\\192.168.1.151\\\\ncfc_data3\\\\Neetu Mam (IP 26 Data Backup 17 April 23)\\\\Dr. Kanthesh\\\\Desktop 5-5-2022\\\\Shape Files\\\\final\\\\New folder\\\\final\\\\RJ_final.shp',\n",
       " '\\\\\\\\192.168.1.151\\\\ncfc_data3\\\\Neetu Mam (IP 26 Data Backup 17 April 23)\\\\Dr. Kanthesh\\\\Desktop 5-5-2022\\\\Shape Files\\\\final\\\\New folder\\\\final\\\\Tanmilnadu_Final_CCE.shp',\n",
       " '\\\\\\\\192.168.1.151\\\\ncfc_data3\\\\Neetu Mam (IP 26 Data Backup 17 April 23)\\\\Dr. Kanthesh\\\\Desktop 5-5-2022\\\\Shape Files\\\\final\\\\New folder\\\\final\\\\UK_10_Point.shp',\n",
       " '\\\\\\\\192.168.1.151\\\\ncfc_data3\\\\Neetu Mam (IP 26 Data Backup 17 April 23)\\\\Dr. Kanthesh\\\\Desktop 5-5-2022\\\\Shape Files\\\\final\\\\New folder\\\\final\\\\UP_Final.shp',\n",
       " '\\\\\\\\192.168.1.151\\\\ncfc_data3\\\\Neetu Mam (IP 26 Data Backup 17 April 23)\\\\Dr. Kanthesh\\\\Desktop 5-5-2022\\\\Shape Files\\\\final\\\\New folder\\\\final\\\\Final_All_Correction\\\\AP_FINAL.shp',\n",
       " '\\\\\\\\192.168.1.151\\\\ncfc_data3\\\\Neetu Mam (IP 26 Data Backup 17 April 23)\\\\Dr. Kanthesh\\\\Desktop 5-5-2022\\\\Shape Files\\\\final\\\\New folder\\\\final\\\\Final_All_Correction\\\\HR_Final.shp',\n",
       " '\\\\\\\\192.168.1.151\\\\ncfc_data3\\\\Neetu Mam (IP 26 Data Backup 17 April 23)\\\\Dr. Kanthesh\\\\Desktop 5-5-2022\\\\Shape Files\\\\final\\\\New folder\\\\final\\\\Final_All_Correction\\\\KA_Final.shp',\n",
       " '\\\\\\\\192.168.1.151\\\\ncfc_data3\\\\Neetu Mam (IP 26 Data Backup 17 April 23)\\\\Dr. Kanthesh\\\\Desktop 5-5-2022\\\\Shape Files\\\\final\\\\New folder\\\\final\\\\Final_All_Correction\\\\MP_Final.shp',\n",
       " '\\\\\\\\192.168.1.151\\\\ncfc_data3\\\\Neetu Mam (IP 26 Data Backup 17 April 23)\\\\Dr. Kanthesh\\\\Desktop 5-5-2022\\\\Shape Files\\\\final\\\\New folder\\\\final\\\\Final_All_Correction\\\\OD_Final.shp',\n",
       " '\\\\\\\\192.168.1.151\\\\ncfc_data3\\\\Neetu Mam (IP 26 Data Backup 17 April 23)\\\\Dr. Kanthesh\\\\Desktop 5-5-2022\\\\Shape Files\\\\final\\\\New folder\\\\final\\\\Final_All_Correction\\\\RJ_final.shp',\n",
       " '\\\\\\\\192.168.1.151\\\\ncfc_data3\\\\Neetu Mam (IP 26 Data Backup 17 April 23)\\\\Dr. Kanthesh\\\\Desktop 5-5-2022\\\\Shape Files\\\\final\\\\New folder\\\\final\\\\Final_All_Correction\\\\Tanmilnadu_Final_CCE.shp',\n",
       " '\\\\\\\\192.168.1.151\\\\ncfc_data3\\\\Neetu Mam (IP 26 Data Backup 17 April 23)\\\\Dr. Kanthesh\\\\Desktop 5-5-2022\\\\Shape Files\\\\final\\\\New folder\\\\final\\\\Final_All_Correction\\\\UK_10_Point.shp',\n",
       " '\\\\\\\\192.168.1.151\\\\ncfc_data3\\\\Neetu Mam (IP 26 Data Backup 17 April 23)\\\\Dr. Kanthesh\\\\Desktop 5-5-2022\\\\Shape Files\\\\final\\\\New folder\\\\final\\\\Final_All_Correction\\\\UP_Final.shp',\n",
       " '\\\\\\\\192.168.1.151\\\\ncfc_data3\\\\Neetu Mam (IP 26 Data Backup 17 April 23)\\\\Dr. Kanthesh\\\\Desktop 5-5-2022\\\\Shape Files\\\\final\\\\New folder\\\\final\\\\odccepoints\\\\Odisha_CCE_points.shp',\n",
       " '\\\\\\\\192.168.1.151\\\\ncfc_data3\\\\Neetu Mam (IP 26 Data Backup 17 April 23)\\\\Dr. Kanthesh\\\\Desktop 5-5-2022\\\\Shape Files\\\\final\\\\odccepoints\\\\Odisha_CCE_points.shp',\n",
       " '\\\\\\\\192.168.1.151\\\\ncfc_data3\\\\Neetu Mam (IP 26 Data Backup 17 April 23)\\\\Dr. Kanthesh\\\\Desktop 5-5-2022\\\\Shape Files\\\\IAR\\\\Mandi_villages\\\\East_godavari_villages.shp']"
      ]
     },
     "execution_count": 113,
     "metadata": {},
     "output_type": "execute_result"
    }
   ],
   "source": [
    "lst"
   ]
  },
  {
   "cell_type": "code",
   "execution_count": null,
   "id": "19dbff84",
   "metadata": {
    "canvas": {
     "comments": [],
     "componentType": "CodeCell",
     "copiedOriginId": null,
     "diskcache": false,
     "headerColor": "transparent",
     "id": "b2daa7a4-f7b2-4b31-afd5-421f43017128",
     "isComponent": false,
     "name": "",
     "parents": []
    }
   },
   "outputs": [],
   "source": []
  }
 ],
 "metadata": {
  "canvas": {
   "colorPalette": [
    "inherit",
    "inherit",
    "inherit",
    "inherit",
    "inherit",
    "inherit",
    "inherit",
    "inherit",
    "inherit",
    "inherit"
   ],
   "parameters": []
  },
  "kernelspec": {
   "display_name": "Python 3 (ipykernel)",
   "language": "python",
   "name": "python3"
  },
  "language_info": {
   "codemirror_mode": {
    "name": "ipython",
    "version": 3
   },
   "file_extension": ".py",
   "mimetype": "text/x-python",
   "name": "python",
   "nbconvert_exporter": "python",
   "pygments_lexer": "ipython3",
   "version": "3.9.16"
  }
 },
 "nbformat": 4,
 "nbformat_minor": 5
}
