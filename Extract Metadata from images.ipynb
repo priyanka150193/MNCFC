{
 "cells": [
  {
   "cell_type": "code",
   "execution_count": 2,
   "id": "c0221673",
   "metadata": {},
   "outputs": [
    {
     "name": "stdout",
     "output_type": "stream",
     "text": [
      "Requirement already satisfied: Pillow in c:\\users\\user\\miniconda3\\envs\\kdss_base\\lib\\site-packages (9.4.0)\n"
     ]
    }
   ],
   "source": [
    "!pip install Pillow"
   ]
  },
  {
   "cell_type": "code",
   "execution_count": 3,
   "id": "b6eaf3e3",
   "metadata": {},
   "outputs": [],
   "source": [
    "from PIL import Image\n",
    "from PIL.ExifTags import TAGS"
   ]
  },
  {
   "cell_type": "code",
   "execution_count": 9,
   "id": "7f3fe182",
   "metadata": {},
   "outputs": [
    {
     "data": {
      "text/html": [
       "<div>\n",
       "<style scoped>\n",
       "    .dataframe tbody tr th:only-of-type {\n",
       "        vertical-align: middle;\n",
       "    }\n",
       "\n",
       "    .dataframe tbody tr th {\n",
       "        vertical-align: top;\n",
       "    }\n",
       "\n",
       "    .dataframe thead th {\n",
       "        text-align: right;\n",
       "    }\n",
       "</style>\n",
       "<table border=\"1\" class=\"dataframe\">\n",
       "  <thead>\n",
       "    <tr style=\"text-align: right;\">\n",
       "      <th></th>\n",
       "      <th>tablename</th>\n",
       "      <th>columnname</th>\n",
       "      <th>image</th>\n",
       "    </tr>\n",
       "  </thead>\n",
       "  <tbody>\n",
       "    <tr>\n",
       "      <th>0</th>\n",
       "      <td>NCFCCrop2019092791450_99c02781_22-06-2023 03:1...</td>\n",
       "      <td>photos</td>\n",
       "      <td>photo1_fdc_NCFCCrop_FDCCrop_FASAL_Point_db4e24...</td>\n",
       "    </tr>\n",
       "    <tr>\n",
       "      <th>1</th>\n",
       "      <td>NCFCCrop2018020791811_e25ef8fc_22-06-2023 03:1...</td>\n",
       "      <td>photo1</td>\n",
       "      <td>photo1_fdc_NCFCCrop_FDCCrop_FASAL_Point_2b7071...</td>\n",
       "    </tr>\n",
       "    <tr>\n",
       "      <th>2</th>\n",
       "      <td>NCFCCrop2019092791450_99c02781_22-06-2023 03:1...</td>\n",
       "      <td>photos</td>\n",
       "      <td>photo1_fdc_NCFCCrop_FDCCrop_FASAL_Point_77cf6a...</td>\n",
       "    </tr>\n",
       "    <tr>\n",
       "      <th>3</th>\n",
       "      <td>GEOTAG DATA_f297b621_22-06-2023 03:10:15</td>\n",
       "      <td>Path</td>\n",
       "      <td>D:\\work rs\\Analysis_2017-2018\\Anylesis Onion\\g...</td>\n",
       "    </tr>\n",
       "    <tr>\n",
       "      <th>4</th>\n",
       "      <td>KOTA_BARAN_7d2d0884_22-06-2023 03:35:55</td>\n",
       "      <td>Path</td>\n",
       "      <td>H:\\kota baran  gt  photo 23 march\\DUMMY\\DSC078...</td>\n",
       "    </tr>\n",
       "  </tbody>\n",
       "</table>\n",
       "</div>"
      ],
      "text/plain": [
       "                                           tablename columnname  \\\n",
       "0  NCFCCrop2019092791450_99c02781_22-06-2023 03:1...     photos   \n",
       "1  NCFCCrop2018020791811_e25ef8fc_22-06-2023 03:1...     photo1   \n",
       "2  NCFCCrop2019092791450_99c02781_22-06-2023 03:1...     photos   \n",
       "3           GEOTAG DATA_f297b621_22-06-2023 03:10:15       Path   \n",
       "4            KOTA_BARAN_7d2d0884_22-06-2023 03:35:55       Path   \n",
       "\n",
       "                                               image  \n",
       "0  photo1_fdc_NCFCCrop_FDCCrop_FASAL_Point_db4e24...  \n",
       "1  photo1_fdc_NCFCCrop_FDCCrop_FASAL_Point_2b7071...  \n",
       "2  photo1_fdc_NCFCCrop_FDCCrop_FASAL_Point_77cf6a...  \n",
       "3  D:\\work rs\\Analysis_2017-2018\\Anylesis Onion\\g...  \n",
       "4  H:\\kota baran  gt  photo 23 march\\DUMMY\\DSC078...  "
      ]
     },
     "execution_count": 9,
     "metadata": {},
     "output_type": "execute_result"
    }
   ],
   "source": [
    "import pandas as pd\n",
    "x=pd.read_csv(r'C:\\Users\\user\\Documents\\postgres db export data\\Shape files images\\Image1.csv')\n"
   ]
  },
  {
   "cell_type": "code",
   "execution_count": 35,
   "id": "5b94d505",
   "metadata": {},
   "outputs": [
    {
     "data": {
      "text/plain": [
       "'                                            tablename columnname                                                                                                                                                            image\\n0  NCFCCrop2019092791450_99c02781_22-06-2023 03:15:09     photos      photo1_fdc_NCFCCrop_FDCCrop_FASAL_Point_db4e2476cb5b1cc7_11_25_3_4_9_2019.jpg,photo2_fdc_NCFCCrop_FDCCrop_FASAL_Point_db4e2476cb5b1cc7_11_25_3_4_9_2019.jpg\\n1  NCFCCrop2018020791811_e25ef8fc_22-06-2023 03:11:27     photo1                                                                                    photo1_fdc_NCFCCrop_FDCCrop_FASAL_Point_2b70712bcbe4d1f8_9_23_58_3_2_2018.jpg\\n2  NCFCCrop2019092791450_99c02781_22-06-2023 03:15:09     photos  photo1_fdc_NCFCCrop_FDCCrop_FASAL_Point_77cf6a4bb9e44780_12_26_15_14_8_2019.jpg,photo2_fdc_NCFCCrop_FDCCrop_FASAL_Point_77cf6a4bb9e44780_12_26_15_14_8_2019.jpg\\n3            GEOTAG DATA_f297b621_22-06-2023 03:10:15       Path                                                                           D:\\\\work rs\\\\Analysis_2017-2018\\\\Anylesis Onion\\\\gt\\\\geotag\\\\20180304_033624(PM)___[org].jpg\\n4             KOTA_BARAN_7d2d0884_22-06-2023 03:35:55       Path                                                                                                             H:\\\\kota baran  gt  photo 23 march\\\\DUMMY\\\\DSC07878.JPG'"
      ]
     },
     "execution_count": 35,
     "metadata": {},
     "output_type": "execute_result"
    }
   ],
   "source": [
    "x.head(5).to_string()"
   ]
  },
  {
   "cell_type": "code",
   "execution_count": 11,
   "id": "fa9758a8",
   "metadata": {},
   "outputs": [
    {
     "data": {
      "text/html": [
       "<div>\n",
       "<style scoped>\n",
       "    .dataframe tbody tr th:only-of-type {\n",
       "        vertical-align: middle;\n",
       "    }\n",
       "\n",
       "    .dataframe tbody tr th {\n",
       "        vertical-align: top;\n",
       "    }\n",
       "\n",
       "    .dataframe thead th {\n",
       "        text-align: right;\n",
       "    }\n",
       "</style>\n",
       "<table border=\"1\" class=\"dataframe\">\n",
       "  <thead>\n",
       "    <tr style=\"text-align: right;\">\n",
       "      <th></th>\n",
       "      <th>tablename</th>\n",
       "      <th>columnname</th>\n",
       "      <th>image</th>\n",
       "    </tr>\n",
       "  </thead>\n",
       "  <tbody>\n",
       "    <tr>\n",
       "      <th>4413</th>\n",
       "      <td>NCFCCrop2018121352534_9ba17e60_22-06-2023 04:2...</td>\n",
       "      <td>photo2</td>\n",
       "      <td>photo2_fdc_NCFCCrop_FDCCrop_FASAL_Point_6481a6...</td>\n",
       "    </tr>\n",
       "    <tr>\n",
       "      <th>16228</th>\n",
       "      <td>Potato_GT_repro_00d8e945_22-06-2023 04:27:21</td>\n",
       "      <td>photo2</td>\n",
       "      <td>photo2_fdc_NCFCCrop_FDCCrop_FASAL_Point_6481a6...</td>\n",
       "    </tr>\n",
       "    <tr>\n",
       "      <th>16675</th>\n",
       "      <td>GJ_tomato_5a320cfa_22-06-2023 04:29:26</td>\n",
       "      <td>photo2</td>\n",
       "      <td>photo2_fdc_NCFCCrop_FDCCrop_FASAL_Point_6481a6...</td>\n",
       "    </tr>\n",
       "    <tr>\n",
       "      <th>24952</th>\n",
       "      <td>GJ_tomato_utm_64495fba_22-06-2023 04:29:28</td>\n",
       "      <td>photo2</td>\n",
       "      <td>photo2_fdc_NCFCCrop_FDCCrop_FASAL_Point_6481a6...</td>\n",
       "    </tr>\n",
       "    <tr>\n",
       "      <th>26751</th>\n",
       "      <td>Tomato_gt_88f7a495_22-06-2023 04:29:32</td>\n",
       "      <td>photo2</td>\n",
       "      <td>photo2_fdc_NCFCCrop_FDCCrop_FASAL_Point_6481a6...</td>\n",
       "    </tr>\n",
       "    <tr>\n",
       "      <th>1811061</th>\n",
       "      <td>NCFCCrop2018121352534_31975ccb_21-06-2023 21:2...</td>\n",
       "      <td>photo2</td>\n",
       "      <td>photo2_fdc_NCFCCrop_FDCCrop_FASAL_Point_6481a6...</td>\n",
       "    </tr>\n",
       "    <tr>\n",
       "      <th>7215955</th>\n",
       "      <td>NCFCCrop2019022824024_01888bf3_22-06-2023 14:4...</td>\n",
       "      <td>photo2</td>\n",
       "      <td>photo2_fdc_NCFCCrop_FDCCrop_FASAL_Point_6481a6...</td>\n",
       "    </tr>\n",
       "    <tr>\n",
       "      <th>7989126</th>\n",
       "      <td>Potato_GT_03f72151_22-06-2023 04:27:21</td>\n",
       "      <td>photo2</td>\n",
       "      <td>photo2_fdc_NCFCCrop_FDCCrop_FASAL_Point_6481a6...</td>\n",
       "    </tr>\n",
       "    <tr>\n",
       "      <th>8979388</th>\n",
       "      <td>NCFCCrop2019012721100_00ea59b5_21-06-2023 21:2...</td>\n",
       "      <td>photo2</td>\n",
       "      <td>photo2_fdc_NCFCCrop_FDCCrop_FASAL_Point_6481a6...</td>\n",
       "    </tr>\n",
       "    <tr>\n",
       "      <th>11960728</th>\n",
       "      <td>NCFCCrop2019012721100_4ad0fc94_22-06-2023 04:2...</td>\n",
       "      <td>photo2</td>\n",
       "      <td>photo2_fdc_NCFCCrop_FDCCrop_FASAL_Point_6481a6...</td>\n",
       "    </tr>\n",
       "  </tbody>\n",
       "</table>\n",
       "</div>"
      ],
      "text/plain": [
       "                                                  tablename columnname  \\\n",
       "4413      NCFCCrop2018121352534_9ba17e60_22-06-2023 04:2...     photo2   \n",
       "16228          Potato_GT_repro_00d8e945_22-06-2023 04:27:21     photo2   \n",
       "16675                GJ_tomato_5a320cfa_22-06-2023 04:29:26     photo2   \n",
       "24952            GJ_tomato_utm_64495fba_22-06-2023 04:29:28     photo2   \n",
       "26751                Tomato_gt_88f7a495_22-06-2023 04:29:32     photo2   \n",
       "1811061   NCFCCrop2018121352534_31975ccb_21-06-2023 21:2...     photo2   \n",
       "7215955   NCFCCrop2019022824024_01888bf3_22-06-2023 14:4...     photo2   \n",
       "7989126              Potato_GT_03f72151_22-06-2023 04:27:21     photo2   \n",
       "8979388   NCFCCrop2019012721100_00ea59b5_21-06-2023 21:2...     photo2   \n",
       "11960728  NCFCCrop2019012721100_4ad0fc94_22-06-2023 04:2...     photo2   \n",
       "\n",
       "                                                      image  \n",
       "4413      photo2_fdc_NCFCCrop_FDCCrop_FASAL_Point_6481a6...  \n",
       "16228     photo2_fdc_NCFCCrop_FDCCrop_FASAL_Point_6481a6...  \n",
       "16675     photo2_fdc_NCFCCrop_FDCCrop_FASAL_Point_6481a6...  \n",
       "24952     photo2_fdc_NCFCCrop_FDCCrop_FASAL_Point_6481a6...  \n",
       "26751     photo2_fdc_NCFCCrop_FDCCrop_FASAL_Point_6481a6...  \n",
       "1811061   photo2_fdc_NCFCCrop_FDCCrop_FASAL_Point_6481a6...  \n",
       "7215955   photo2_fdc_NCFCCrop_FDCCrop_FASAL_Point_6481a6...  \n",
       "7989126   photo2_fdc_NCFCCrop_FDCCrop_FASAL_Point_6481a6...  \n",
       "8979388   photo2_fdc_NCFCCrop_FDCCrop_FASAL_Point_6481a6...  \n",
       "11960728  photo2_fdc_NCFCCrop_FDCCrop_FASAL_Point_6481a6...  "
      ]
     },
     "execution_count": 11,
     "metadata": {},
     "output_type": "execute_result"
    }
   ],
   "source": [
    "x[x[\"image\"] == 'photo2_fdc_NCFCCrop_FDCCrop_FASAL_Point_6481a6e9992aca26_13_19_21_3_12_2018.jpg']"
   ]
  },
  {
   "cell_type": "code",
   "execution_count": 38,
   "id": "c466f324",
   "metadata": {},
   "outputs": [
    {
     "data": {
      "text/plain": [
       "(0, 3)"
      ]
     },
     "execution_count": 38,
     "metadata": {},
     "output_type": "execute_result"
    }
   ],
   "source": [
    "x[x[\"image\"] == '//'].shape"
   ]
  },
  {
   "cell_type": "code",
   "execution_count": 36,
   "id": "ed80df9c",
   "metadata": {},
   "outputs": [
    {
     "ename": "FileNotFoundError",
     "evalue": "[Errno 2] No such file or directory: 'D:\\\\work rs\\\\Analysis_2017-2018\\\\Anylesis Onion\\\\gt\\\\geotag\\\\20180304_033624(PM)___[org].jpg'",
     "output_type": "error",
     "traceback": [
      "\u001b[1;31m---------------------------------------------------------------------------\u001b[0m",
      "\u001b[1;31mFileNotFoundError\u001b[0m                         Traceback (most recent call last)",
      "Cell \u001b[1;32mIn[36], line 5\u001b[0m\n\u001b[0;32m      2\u001b[0m imagename \u001b[38;5;241m=\u001b[39m \u001b[38;5;124m\"\u001b[39m\u001b[38;5;124mD:\u001b[39m\u001b[38;5;130;01m\\\\\u001b[39;00m\u001b[38;5;124mwork rs\u001b[39m\u001b[38;5;130;01m\\\\\u001b[39;00m\u001b[38;5;124mAnalysis_2017-2018\u001b[39m\u001b[38;5;130;01m\\\\\u001b[39;00m\u001b[38;5;124mAnylesis Onion\u001b[39m\u001b[38;5;130;01m\\\\\u001b[39;00m\u001b[38;5;124mgt\u001b[39m\u001b[38;5;130;01m\\\\\u001b[39;00m\u001b[38;5;124mgeotag\u001b[39m\u001b[38;5;130;01m\\\\\u001b[39;00m\u001b[38;5;124m20180304_033624(PM)___[org].jpg\u001b[39m\u001b[38;5;124m\"\u001b[39m\n\u001b[0;32m      4\u001b[0m \u001b[38;5;66;03m# read the image data using PIL\u001b[39;00m\n\u001b[1;32m----> 5\u001b[0m image \u001b[38;5;241m=\u001b[39m \u001b[43mImage\u001b[49m\u001b[38;5;241;43m.\u001b[39;49m\u001b[43mopen\u001b[49m\u001b[43m(\u001b[49m\u001b[43mimagename\u001b[49m\u001b[43m)\u001b[49m\n",
      "File \u001b[1;32m~\\miniconda3\\envs\\kdss_base\\lib\\site-packages\\PIL\\Image.py:3227\u001b[0m, in \u001b[0;36mopen\u001b[1;34m(fp, mode, formats)\u001b[0m\n\u001b[0;32m   3224\u001b[0m     filename \u001b[38;5;241m=\u001b[39m fp\n\u001b[0;32m   3226\u001b[0m \u001b[38;5;28;01mif\u001b[39;00m filename:\n\u001b[1;32m-> 3227\u001b[0m     fp \u001b[38;5;241m=\u001b[39m \u001b[43mbuiltins\u001b[49m\u001b[38;5;241;43m.\u001b[39;49m\u001b[43mopen\u001b[49m\u001b[43m(\u001b[49m\u001b[43mfilename\u001b[49m\u001b[43m,\u001b[49m\u001b[43m \u001b[49m\u001b[38;5;124;43m\"\u001b[39;49m\u001b[38;5;124;43mrb\u001b[39;49m\u001b[38;5;124;43m\"\u001b[39;49m\u001b[43m)\u001b[49m\n\u001b[0;32m   3228\u001b[0m     exclusive_fp \u001b[38;5;241m=\u001b[39m \u001b[38;5;28;01mTrue\u001b[39;00m\n\u001b[0;32m   3230\u001b[0m \u001b[38;5;28;01mtry\u001b[39;00m:\n",
      "\u001b[1;31mFileNotFoundError\u001b[0m: [Errno 2] No such file or directory: 'D:\\\\work rs\\\\Analysis_2017-2018\\\\Anylesis Onion\\\\gt\\\\geotag\\\\20180304_033624(PM)___[org].jpg'"
     ]
    }
   ],
   "source": [
    "# path to the image or video\n",
    "imagename = \"D:\\\\work rs\\\\Analysis_2017-2018\\\\Anylesis Onion\\\\gt\\\\geotag\\\\20180304_033624(PM)___[org].jpg\"\n",
    "\n",
    "# read the image data using PIL\n",
    "image = Image.open(imagename)"
   ]
  },
  {
   "cell_type": "code",
   "execution_count": null,
   "id": "b8dfb838",
   "metadata": {},
   "outputs": [],
   "source": [
    "# extract other basic metadata\n",
    "info_dict = {\n",
    "    \"Filename\": image.filename,\n",
    "    \"Image Size\": image.size,\n",
    "    \"Image Height\": image.height,\n",
    "    \"Image Width\": image.width,\n",
    "    \"Image Format\": image.format,\n",
    "    \"Image Mode\": image.mode,\n",
    "    \"Image is Animated\": getattr(image, \"is_animated\", False),\n",
    "    \"Frames in Image\": getattr(image, \"n_frames\", 1)\n",
    "}\n",
    "\n",
    "for label,value in info_dict.items():\n",
    "    print(f\"{label:25}: {value}\")"
   ]
  },
  {
   "cell_type": "code",
   "execution_count": 32,
   "id": "eb2db112",
   "metadata": {},
   "outputs": [
    {
     "name": "stdout",
     "output_type": "stream",
     "text": [
      "None\n"
     ]
    }
   ],
   "source": [
    "import hashlib\n",
    "class FilePathShortener:\n",
    "    def __init__(self):\n",
    "        self.paths = {}\n",
    "    \n",
    "    def shorten_file_path(self, file_path):\n",
    "        if file_path in self.paths:\n",
    "            return self.paths[file_path]\n",
    "        \n",
    "        file_hash = hashlib.md5(file_path.encode()).hexdigest()\n",
    "        shortened_path = file_hash[:8]\n",
    "        \n",
    "        self.paths[file_path] = shortened_path\n",
    "        return shortened_path\n",
    "    \n",
    "    def decode_shortened_path(self, shortened_path):\n",
    "        for path, short_path in self.paths.items():\n",
    "            if short_path == shortened_path:\n",
    "                return path\n",
    "        \n",
    "        return None\n",
    "\n",
    "shortener = FilePathShortener()\n",
    "\n",
    "\n",
    "\n",
    "decoded_path = shortener.decode_shortened_path('6f2ae9b0')\n",
    "print(decoded_path)"
   ]
  },
  {
   "cell_type": "code",
   "execution_count": null,
   "id": "88fc28c0",
   "metadata": {},
   "outputs": [],
   "source": []
  }
 ],
 "metadata": {
  "kernelspec": {
   "display_name": "Python 3 (ipykernel)",
   "language": "python",
   "name": "python3"
  },
  "language_info": {
   "codemirror_mode": {
    "name": "ipython",
    "version": 3
   },
   "file_extension": ".py",
   "mimetype": "text/x-python",
   "name": "python",
   "nbconvert_exporter": "python",
   "pygments_lexer": "ipython3",
   "version": "3.9.16"
  }
 },
 "nbformat": 4,
 "nbformat_minor": 5
}
