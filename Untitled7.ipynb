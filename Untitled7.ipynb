{
 "cells": [
  {
   "cell_type": "code",
   "execution_count": 1,
   "id": "98b46eeb",
   "metadata": {},
   "outputs": [],
   "source": [
    "import base64\n",
    "\n",
    "class FilePathShortener:\n",
    "    def __init__(self):\n",
    "        self.paths = {}\n",
    "\n",
    "    def shorten_file_path(self, file_path):\n",
    "        if file_path in self.paths:\n",
    "            return self.paths[file_path]\n",
    "\n",
    "        # Encode the file_path using Base64\n",
    "        shortened_path = base64.urlsafe_b64encode(file_path.encode()).decode()[:8]\n",
    "\n",
    "        self.paths[file_path] = shortened_path\n",
    "        return shortened_path\n",
    "\n",
    "    def decode(self, shortened_path):\n",
    "        try:\n",
    "            # Decode the shortened path using Base64\n",
    "            decoded_file_path = base64.urlsafe_b64decode(shortened_path.encode()).decode()\n",
    "            return decoded_file_path\n",
    "        except Exception as e:\n",
    "            print(\"Decoding error:\", e)\n",
    "            return None\n",
    "        \n",
    "shortener = FilePathShortener()"
   ]
  },
  {
   "cell_type": "code",
   "execution_count": 2,
   "id": "9c078f3a",
   "metadata": {},
   "outputs": [
    {
     "data": {
      "text/plain": [
       "'\\\\192.1'"
      ]
     },
     "execution_count": 2,
     "metadata": {},
     "output_type": "execute_result"
    }
   ],
   "source": [
    "shortener.decode('XDE5Mi4x')"
   ]
  },
  {
   "cell_type": "code",
   "execution_count": null,
   "id": "ff69a596",
   "metadata": {},
   "outputs": [],
   "source": []
  }
 ],
 "metadata": {
  "kernelspec": {
   "display_name": "Python 3 (ipykernel)",
   "language": "python",
   "name": "python3"
  },
  "language_info": {
   "codemirror_mode": {
    "name": "ipython",
    "version": 3
   },
   "file_extension": ".py",
   "mimetype": "text/x-python",
   "name": "python",
   "nbconvert_exporter": "python",
   "pygments_lexer": "ipython3",
   "version": "3.9.16"
  }
 },
 "nbformat": 4,
 "nbformat_minor": 5
}
