{
 "cells": [
  {
   "cell_type": "code",
   "execution_count": 8,
   "id": "bc429e18",
   "metadata": {},
   "outputs": [],
   "source": [
    "import base64\n",
    "\n",
    "class FilePathShortener:\n",
    "    def __init__(self):\n",
    "        self.paths = {}\n",
    "\n",
    "    def shorten_file_path(self, file_path):\n",
    "        if file_path in self.paths:\n",
    "            return self.paths[file_path]\n",
    "\n",
    "        # Encode the file_path using Base64\n",
    "        shortened_path = base64.urlsafe_b64encode(file_path.encode()).decode()[:8]\n",
    "\n",
    "        self.paths[file_path] = shortened_path\n",
    "        return shortened_path\n",
    "\n",
    "    def decode(self, shortened_path):\n",
    "        try:\n",
    "            # Decode the shortened path using Base64\n",
    "            decoded_file_path = base64.urlsafe_b64decode(shortened_path.encode()).decode()\n",
    "            return decoded_file_path\n",
    "        except Exception as e:\n",
    "            print(\"Decoding error:\", e)\n",
    "            return None\n",
    "        \n",
    "shortener = FilePathShortener()\n",
    "\n"
   ]
  },
  {
   "cell_type": "code",
   "execution_count": 9,
   "id": "3011deb0",
   "metadata": {},
   "outputs": [
    {
     "data": {
      "text/plain": [
       "'XDE5Mi4x'"
      ]
     },
     "execution_count": 9,
     "metadata": {},
     "output_type": "execute_result"
    }
   ],
   "source": [
    "shortener.shorten_file_path('\\\\192.168.1.152\\ncfc data\\scratch\\FASAL\\GT_Refinement\\Refined_GT_data\\All India K Rice GT 2022\\Kharif_Rice _shifted GT .shp')"
   ]
  },
  {
   "cell_type": "code",
   "execution_count": 11,
   "id": "1c8be06c",
   "metadata": {},
   "outputs": [
    {
     "data": {
      "text/plain": [
       "'\\\\192.1'"
      ]
     },
     "execution_count": 11,
     "metadata": {},
     "output_type": "execute_result"
    }
   ],
   "source": [
    "shortener.decode('XDE5Mi4x')"
   ]
  },
  {
   "cell_type": "code",
   "execution_count": 7,
   "id": "6181d489",
   "metadata": {},
   "outputs": [
    {
     "name": "stdout",
     "output_type": "stream",
     "text": [
      "b'GwNXftEE8WqtwApjnTPLRA=='\n"
     ]
    }
   ],
   "source": [
    "import hashlib, base64\n",
    "\n",
    "text = \"www.yahoo.com\"\n",
    "text_utf8 = text.encode('utf8')\n",
    "md5 = hashlib.md5(text_utf8).digest()\n",
    "b64 = base64.b64encode(md5)\n",
    "print(b64)"
   ]
  },
  {
   "cell_type": "code",
   "execution_count": 6,
   "id": "19d88201",
   "metadata": {},
   "outputs": [
    {
     "name": "stdout",
     "output_type": "stream",
     "text": [
      "Shortened Path 1: gAAAAABkuQiqpSHdmWJZ3t56N2LuIBk44ZqxHNkElwNtBTcEF-diHw3Jqm9nrC0NTmUa6tucbC4tFeWHhVVFf6F4DMgIhxDgbHc6kdpq42j92A0FUIOM3Q7uRGX826xm9_bqxbbkEA6rc-JM88_nXVV7WiKrwg95rU2gLbLClaB7syfoS7An2XWnKj53_n9lpZLbg8EVAhCak_9p6fk0WukbDl5CENLunqjiZs7gbq-l2XANQ2kD1Ow=\n",
      "Shortened Path 2: gAAAAABkuQiqwjH6ONURTJH-enZlqzaQEfOzDeoJeaOltzWf2neo9LwLnoIa5JLxVkKTeANARxHrftgz-runTW9-RhQnYsDDwiRry2gyJJ3Shx0OmyHRbcI=\n",
      "Decoded Path 1: \\192.168.1.152\n",
      "cfc data\\scratch\\FASAL\\GT_Refinement\\Refined_GT_data\\All India K Rice GT 2022\\Kharif_Rice _shifted GT .shp\n",
      "Decoded Path 2: /path/to/file2.jpg\n"
     ]
    }
   ],
   "source": [
    "from cryptography.fernet import Fernet\n",
    "\n",
    "# Generate a random encryption key\n",
    "encryption_key = Fernet.generate_key()\n",
    "\n",
    "# Initialize the FilePathShortener with the encryption key\n",
    "file_path_shortener = FilePathShortener(encryption_key)\n",
    "\n",
    "# Example file paths\n",
    "file_path_1 = \"\\\\192.168.1.152\\ncfc data\\scratch\\FASAL\\GT_Refinement\\Refined_GT_data\\All India K Rice GT 2022\\Kharif_Rice _shifted GT .shp\"\n",
    "file_path_2 = \"/path/to/file2.jpg\"\n",
    "\n",
    "# Shorten the file paths\n",
    "shortened_path_1 = file_path_shortener.shorten_file_path(file_path_1)\n",
    "shortened_path_2 = file_path_shortener.shorten_file_path(file_path_2)\n",
    "\n",
    "print(\"Shortened Path 1:\", shortened_path_1)\n",
    "print(\"Shortened Path 2:\", shortened_path_2)\n",
    "\n",
    "# Decode the shortened paths\n",
    "decoded_path_1 = file_path_shortener.decode(shortened_path_1)\n",
    "decoded_path_2 = file_path_shortener.decode(shortened_path_2)\n",
    "\n",
    "print(\"Decoded Path 1:\", decoded_path_1)\n",
    "print(\"Decoded Path 2:\", decoded_path_2)"
   ]
  },
  {
   "cell_type": "code",
   "execution_count": 2,
   "id": "b74d56bf",
   "metadata": {},
   "outputs": [
    {
     "ename": "NameError",
     "evalue": "name 'shortener' is not defined",
     "output_type": "error",
     "traceback": [
      "\u001b[1;31m---------------------------------------------------------------------------\u001b[0m",
      "\u001b[1;31mNameError\u001b[0m                                 Traceback (most recent call last)",
      "Cell \u001b[1;32mIn[2], line 1\u001b[0m\n\u001b[1;32m----> 1\u001b[0m \u001b[43mshortener\u001b[49m\u001b[38;5;241m.\u001b[39mshorten_file_path(\u001b[38;5;124m'\u001b[39m\u001b[38;5;130;01m\\\\\u001b[39;00m\u001b[38;5;124m192.168.1.152\u001b[39m\u001b[38;5;130;01m\\n\u001b[39;00m\u001b[38;5;124mcfc data\u001b[39m\u001b[38;5;124m\\\u001b[39m\u001b[38;5;124mscratch\u001b[39m\u001b[38;5;124m\\\u001b[39m\u001b[38;5;124mFASAL\u001b[39m\u001b[38;5;124m\\\u001b[39m\u001b[38;5;124mGT_Refinement\u001b[39m\u001b[38;5;124m\\\u001b[39m\u001b[38;5;124mRefined_GT_data\u001b[39m\u001b[38;5;124m\\\u001b[39m\u001b[38;5;124mAll India K Rice GT 2022\u001b[39m\u001b[38;5;124m\\\u001b[39m\u001b[38;5;124mKharif_Rice _shifted GT .shp\u001b[39m\u001b[38;5;124m'\u001b[39m)\n",
      "\u001b[1;31mNameError\u001b[0m: name 'shortener' is not defined"
     ]
    }
   ],
   "source": [
    "shortener.shorten_file_path('\\\\192.168.1.152\\ncfc data\\scratch\\FASAL\\GT_Refinement\\Refined_GT_data\\All India K Rice GT 2022\\Kharif_Rice _shifted GT .shp')"
   ]
  },
  {
   "cell_type": "code",
   "execution_count": null,
   "id": "695b711e",
   "metadata": {},
   "outputs": [],
   "source": [
    "shortened_path = shp_df.File_path.apply(shortener.shorten_file_path) "
   ]
  }
 ],
 "metadata": {
  "kernelspec": {
   "display_name": "Python 3 (ipykernel)",
   "language": "python",
   "name": "python3"
  },
  "language_info": {
   "codemirror_mode": {
    "name": "ipython",
    "version": 3
   },
   "file_extension": ".py",
   "mimetype": "text/x-python",
   "name": "python",
   "nbconvert_exporter": "python",
   "pygments_lexer": "ipython3",
   "version": "3.9.16"
  }
 },
 "nbformat": 4,
 "nbformat_minor": 5
}
