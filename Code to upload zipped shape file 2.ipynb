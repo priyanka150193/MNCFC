{
 "cells": [
  {
   "cell_type": "code",
   "execution_count": 42,
   "id": "ddc04124",
   "metadata": {},
   "outputs": [
    {
     "name": "stderr",
     "output_type": "stream",
     "text": [
      "C:\\Users\\user\\AppData\\Local\\Temp\\ipykernel_17068\\1832265514.py:97: SettingWithCopyWarning: \n",
      "A value is trying to be set on a copy of a slice from a DataFrame.\n",
      "Try using .loc[row_indexer,col_indexer] = value instead\n",
      "\n",
      "See the caveats in the documentation: https://pandas.pydata.org/pandas-docs/stable/user_guide/indexing.html#returning-a-view-versus-a-copy\n",
      "  shp_df['unique_file_name']=new_file_name\n"
     ]
    },
    {
     "name": "stdout",
     "output_type": "stream",
     "text": [
      "Executing 3833st file\n",
      "Damoh_GramPanchayats.shp\n",
      "Executing 3834st file\n",
      "Dewas_GramPanchayats.shp\n"
     ]
    },
    {
     "name": "stderr",
     "output_type": "stream",
     "text": [
      "C:\\Users\\user\\AppData\\Local\\Temp\\ipykernel_17068\\1832265514.py:168: SettingWithCopyWarning: \n",
      "A value is trying to be set on a copy of a slice from a DataFrame\n",
      "\n",
      "See the caveats in the documentation: https://pandas.pydata.org/pandas-docs/stable/user_guide/indexing.html#returning-a-view-versus-a-copy\n",
      "  shp_df.unique_file_name.iloc[i] = pg_file_name\n"
     ]
    },
    {
     "name": "stdout",
     "output_type": "stream",
     "text": [
      "Executing 3835st file\n",
      "Raisen_GramPanchayats.shp\n"
     ]
    },
    {
     "name": "stderr",
     "output_type": "stream",
     "text": [
      "C:\\Users\\user\\AppData\\Local\\Temp\\ipykernel_17068\\1832265514.py:168: SettingWithCopyWarning: \n",
      "A value is trying to be set on a copy of a slice from a DataFrame\n",
      "\n",
      "See the caveats in the documentation: https://pandas.pydata.org/pandas-docs/stable/user_guide/indexing.html#returning-a-view-versus-a-copy\n",
      "  shp_df.unique_file_name.iloc[i] = pg_file_name\n"
     ]
    },
    {
     "name": "stdout",
     "output_type": "stream",
     "text": [
      "Executing 3836st file\n",
      "Rewa_GramPanchayats.shp\n"
     ]
    },
    {
     "name": "stderr",
     "output_type": "stream",
     "text": [
      "C:\\Users\\user\\AppData\\Local\\Temp\\ipykernel_17068\\1832265514.py:168: SettingWithCopyWarning: \n",
      "A value is trying to be set on a copy of a slice from a DataFrame\n",
      "\n",
      "See the caveats in the documentation: https://pandas.pydata.org/pandas-docs/stable/user_guide/indexing.html#returning-a-view-versus-a-copy\n",
      "  shp_df.unique_file_name.iloc[i] = pg_file_name\n"
     ]
    },
    {
     "name": "stdout",
     "output_type": "stream",
     "text": [
      "Executing 3837st file\n",
      "Ujjain_GramPanchayats.shp\n"
     ]
    },
    {
     "name": "stderr",
     "output_type": "stream",
     "text": [
      "C:\\Users\\user\\AppData\\Local\\Temp\\ipykernel_17068\\1832265514.py:168: SettingWithCopyWarning: \n",
      "A value is trying to be set on a copy of a slice from a DataFrame\n",
      "\n",
      "See the caveats in the documentation: https://pandas.pydata.org/pandas-docs/stable/user_guide/indexing.html#returning-a-view-versus-a-copy\n",
      "  shp_df.unique_file_name.iloc[i] = pg_file_name\n"
     ]
    },
    {
     "name": "stdout",
     "output_type": "stream",
     "text": [
      "Executing 3838st file\n",
      "Baleswar_GramPanchayats.shp\n"
     ]
    },
    {
     "name": "stderr",
     "output_type": "stream",
     "text": [
      "C:\\Users\\user\\AppData\\Local\\Temp\\ipykernel_17068\\1832265514.py:168: SettingWithCopyWarning: \n",
      "A value is trying to be set on a copy of a slice from a DataFrame\n",
      "\n",
      "See the caveats in the documentation: https://pandas.pydata.org/pandas-docs/stable/user_guide/indexing.html#returning-a-view-versus-a-copy\n",
      "  shp_df.unique_file_name.iloc[i] = pg_file_name\n"
     ]
    },
    {
     "name": "stdout",
     "output_type": "stream",
     "text": [
      "Identifier 'idx_Baleswar_GramPanchayats_476bfaf5_21-06-2023 21:03:18_geometry' exceeds maximum length of 63 characters \\\\192.168.1.152\\ncfc_data3\\Neetu Mam (IP 26 Data Backup 17 April 23)\\5-5-2022_office_work\\PMFBY_Updated\\Shape_Files\\Agrotech Rabi 20-21 boundary\\Odisha\\Baleswar_GramPanchayats.zip\\Baleswar_GramPanchayats.shp\n",
      "Executing 3839st file\n",
      "Bargarh_GramPanchayats.shp\n"
     ]
    },
    {
     "name": "stderr",
     "output_type": "stream",
     "text": [
      "C:\\Users\\user\\AppData\\Local\\Temp\\ipykernel_17068\\1832265514.py:168: SettingWithCopyWarning: \n",
      "A value is trying to be set on a copy of a slice from a DataFrame\n",
      "\n",
      "See the caveats in the documentation: https://pandas.pydata.org/pandas-docs/stable/user_guide/indexing.html#returning-a-view-versus-a-copy\n",
      "  shp_df.unique_file_name.iloc[i] = pg_file_name\n"
     ]
    },
    {
     "name": "stdout",
     "output_type": "stream",
     "text": [
      "Identifier 'idx_Bargarh_GramPanchayats_7957aacc_21-06-2023 21:03:19_geometry' exceeds maximum length of 63 characters \\\\192.168.1.152\\ncfc_data3\\Neetu Mam (IP 26 Data Backup 17 April 23)\\5-5-2022_office_work\\PMFBY_Updated\\Shape_Files\\Agrotech Rabi 20-21 boundary\\Odisha\\Bargarh_GramPanchayats.zip\\Bargarh_GramPanchayats.shp\n",
      "Executing 3840st file\n",
      "Kalahandi_GramPanchayats.shp\n"
     ]
    },
    {
     "name": "stderr",
     "output_type": "stream",
     "text": [
      "C:\\Users\\user\\AppData\\Local\\Temp\\ipykernel_17068\\1832265514.py:168: SettingWithCopyWarning: \n",
      "A value is trying to be set on a copy of a slice from a DataFrame\n",
      "\n",
      "See the caveats in the documentation: https://pandas.pydata.org/pandas-docs/stable/user_guide/indexing.html#returning-a-view-versus-a-copy\n",
      "  shp_df.unique_file_name.iloc[i] = pg_file_name\n"
     ]
    },
    {
     "name": "stdout",
     "output_type": "stream",
     "text": [
      "Identifier 'idx_Kalahandi_GramPanchayats_739f65a6_21-06-2023 21:03:19_geometry' exceeds maximum length of 63 characters \\\\192.168.1.152\\ncfc_data3\\Neetu Mam (IP 26 Data Backup 17 April 23)\\5-5-2022_office_work\\PMFBY_Updated\\Shape_Files\\Agrotech Rabi 20-21 boundary\\Odisha\\Kalahandi_GramPanchayats.zip\\Kalahandi_GramPanchayats.shp\n",
      "Executing 3841st file\n",
      "Chittorgarh_GramPanchayat.shp\n"
     ]
    },
    {
     "name": "stderr",
     "output_type": "stream",
     "text": [
      "C:\\Users\\user\\AppData\\Local\\Temp\\ipykernel_17068\\1832265514.py:168: SettingWithCopyWarning: \n",
      "A value is trying to be set on a copy of a slice from a DataFrame\n",
      "\n",
      "See the caveats in the documentation: https://pandas.pydata.org/pandas-docs/stable/user_guide/indexing.html#returning-a-view-versus-a-copy\n",
      "  shp_df.unique_file_name.iloc[i] = pg_file_name\n"
     ]
    },
    {
     "name": "stdout",
     "output_type": "stream",
     "text": [
      "Identifier 'idx_Chittorgarh_GramPanchayat_2a522133_21-06-2023 21:03:20_geometry' exceeds maximum length of 63 characters \\\\192.168.1.152\\ncfc_data3\\Neetu Mam (IP 26 Data Backup 17 April 23)\\5-5-2022_office_work\\PMFBY_Updated\\Shape_Files\\Agrotech Rabi 20-21 boundary\\Rajasthan\\Chittorgarh_GramPanchayat.zip\\Chittorgarh_GramPanchayat.shp\n",
      "Executing 3842st file\n",
      "Hanumangarh_GramPanchayat.shp\n"
     ]
    },
    {
     "name": "stderr",
     "output_type": "stream",
     "text": [
      "C:\\Users\\user\\AppData\\Local\\Temp\\ipykernel_17068\\1832265514.py:168: SettingWithCopyWarning: \n",
      "A value is trying to be set on a copy of a slice from a DataFrame\n",
      "\n",
      "See the caveats in the documentation: https://pandas.pydata.org/pandas-docs/stable/user_guide/indexing.html#returning-a-view-versus-a-copy\n",
      "  shp_df.unique_file_name.iloc[i] = pg_file_name\n"
     ]
    },
    {
     "name": "stdout",
     "output_type": "stream",
     "text": [
      "Identifier 'idx_Hanumangarh_GramPanchayat_be185ba5_21-06-2023 21:03:20_geometry' exceeds maximum length of 63 characters \\\\192.168.1.152\\ncfc_data3\\Neetu Mam (IP 26 Data Backup 17 April 23)\\5-5-2022_office_work\\PMFBY_Updated\\Shape_Files\\Agrotech Rabi 20-21 boundary\\Rajasthan\\Hanumangarh_GramPanchayat.zip\\Hanumangarh_GramPanchayat.shp\n",
      "Executing 3843st file\n",
      "Jhalawar_GramPanchayat.shp\n"
     ]
    },
    {
     "name": "stderr",
     "output_type": "stream",
     "text": [
      "C:\\Users\\user\\AppData\\Local\\Temp\\ipykernel_17068\\1832265514.py:168: SettingWithCopyWarning: \n",
      "A value is trying to be set on a copy of a slice from a DataFrame\n",
      "\n",
      "See the caveats in the documentation: https://pandas.pydata.org/pandas-docs/stable/user_guide/indexing.html#returning-a-view-versus-a-copy\n",
      "  shp_df.unique_file_name.iloc[i] = pg_file_name\n"
     ]
    },
    {
     "name": "stdout",
     "output_type": "stream",
     "text": [
      "Identifier 'idx_Jhalawar_GramPanchayat_afe60930_21-06-2023 21:03:21_geometry' exceeds maximum length of 63 characters \\\\192.168.1.152\\ncfc_data3\\Neetu Mam (IP 26 Data Backup 17 April 23)\\5-5-2022_office_work\\PMFBY_Updated\\Shape_Files\\Agrotech Rabi 20-21 boundary\\Rajasthan\\Jhalawar_GramPanchayat.zip\\Jhalawar_GramPanchayat.shp\n",
      "Executing 3863st file\n",
      "Dewas_Village_Boundary_updated.shp\n"
     ]
    },
    {
     "name": "stderr",
     "output_type": "stream",
     "text": [
      "C:\\Users\\user\\AppData\\Local\\Temp\\ipykernel_17068\\1832265514.py:168: SettingWithCopyWarning: \n",
      "A value is trying to be set on a copy of a slice from a DataFrame\n",
      "\n",
      "See the caveats in the documentation: https://pandas.pydata.org/pandas-docs/stable/user_guide/indexing.html#returning-a-view-versus-a-copy\n",
      "  shp_df.unique_file_name.iloc[i] = pg_file_name\n"
     ]
    },
    {
     "name": "stdout",
     "output_type": "stream",
     "text": [
      "Identifier 'idx_Dewas_Village_Boundary_updated_5d0bfd45_21-06-2023 21:03:21_geometry' exceeds maximum length of 63 characters \\\\192.168.1.152\\ncfc_data3\\Neetu Mam (IP 26 Data Backup 17 April 23)\\5-5-2022_office_work\\PMFBY_Updated\\Shape_Files\\AMNEX\\Rabi\\Madhya Pradesh\\Dewas\\Villages\\Villages.zip\\Dewas_Village_Boundary_updated.shp\n",
      "Executing 4000st file\n",
      "Muzaffarpur_D.shp\n"
     ]
    },
    {
     "name": "stderr",
     "output_type": "stream",
     "text": [
      "C:\\Users\\user\\AppData\\Local\\Temp\\ipykernel_17068\\1832265514.py:168: SettingWithCopyWarning: \n",
      "A value is trying to be set on a copy of a slice from a DataFrame\n",
      "\n",
      "See the caveats in the documentation: https://pandas.pydata.org/pandas-docs/stable/user_guide/indexing.html#returning-a-view-versus-a-copy\n",
      "  shp_df.unique_file_name.iloc[i] = pg_file_name\n"
     ]
    },
    {
     "name": "stdout",
     "output_type": "stream",
     "text": [
      "Executing 4002st file\n",
      "Muzaffarpur_Sub_district.shp\n"
     ]
    },
    {
     "name": "stderr",
     "output_type": "stream",
     "text": [
      "C:\\Users\\user\\AppData\\Local\\Temp\\ipykernel_17068\\1832265514.py:168: SettingWithCopyWarning: \n",
      "A value is trying to be set on a copy of a slice from a DataFrame\n",
      "\n",
      "See the caveats in the documentation: https://pandas.pydata.org/pandas-docs/stable/user_guide/indexing.html#returning-a-view-versus-a-copy\n",
      "  shp_df.unique_file_name.iloc[i] = pg_file_name\n"
     ]
    },
    {
     "name": "stdout",
     "output_type": "stream",
     "text": [
      "Identifier 'idx_Muzaffarpur_Sub_district_6589f8ad_21-06-2023 21:03:24_geometry' exceeds maximum length of 63 characters \\\\192.168.1.152\\ncfc_data3\\Neetu Mam (IP 26 Data Backup 17 April 23)\\5-5-2022_office_work\\PMFBY_Updated\\Shape_Files\\WRMS\\Shapefiles\\Bihar\\Muzaffarpur\\Muzaffarpur_Sub_district.zip\\Muzaffarpur_Sub_district.shp\n",
      "Executing 4005st file\n",
      "Purba_champaran_D.shp\n"
     ]
    },
    {
     "name": "stderr",
     "output_type": "stream",
     "text": [
      "C:\\Users\\user\\AppData\\Local\\Temp\\ipykernel_17068\\1832265514.py:168: SettingWithCopyWarning: \n",
      "A value is trying to be set on a copy of a slice from a DataFrame\n",
      "\n",
      "See the caveats in the documentation: https://pandas.pydata.org/pandas-docs/stable/user_guide/indexing.html#returning-a-view-versus-a-copy\n",
      "  shp_df.unique_file_name.iloc[i] = pg_file_name\n"
     ]
    },
    {
     "name": "stdout",
     "output_type": "stream",
     "text": [
      "Executing 4007st file\n",
      "Purbi_champaran_sub_district.shp\n"
     ]
    },
    {
     "name": "stderr",
     "output_type": "stream",
     "text": [
      "C:\\Users\\user\\AppData\\Local\\Temp\\ipykernel_17068\\1832265514.py:168: SettingWithCopyWarning: \n",
      "A value is trying to be set on a copy of a slice from a DataFrame\n",
      "\n",
      "See the caveats in the documentation: https://pandas.pydata.org/pandas-docs/stable/user_guide/indexing.html#returning-a-view-versus-a-copy\n",
      "  shp_df.unique_file_name.iloc[i] = pg_file_name\n"
     ]
    },
    {
     "name": "stdout",
     "output_type": "stream",
     "text": [
      "Identifier 'idx_Purbi_champaran_sub_district_1534bce4_21-06-2023 21:03:25_geometry' exceeds maximum length of 63 characters \\\\192.168.1.152\\ncfc_data3\\Neetu Mam (IP 26 Data Backup 17 April 23)\\5-5-2022_office_work\\PMFBY_Updated\\Shape_Files\\WRMS\\Shapefiles\\Bihar\\Purbi champaran\\Purbi_champaran_sub_district.zip\\Purbi_champaran_sub_district.shp\n",
      "Executing 4010st file\n",
      "Ahmedabad_district.shp\n"
     ]
    },
    {
     "name": "stderr",
     "output_type": "stream",
     "text": [
      "C:\\Users\\user\\AppData\\Local\\Temp\\ipykernel_17068\\1832265514.py:168: SettingWithCopyWarning: \n",
      "A value is trying to be set on a copy of a slice from a DataFrame\n",
      "\n",
      "See the caveats in the documentation: https://pandas.pydata.org/pandas-docs/stable/user_guide/indexing.html#returning-a-view-versus-a-copy\n",
      "  shp_df.unique_file_name.iloc[i] = pg_file_name\n"
     ]
    },
    {
     "name": "stdout",
     "output_type": "stream",
     "text": [
      "Executing 4012st file\n",
      "Ahmedabad_sub_district.shp\n"
     ]
    },
    {
     "name": "stderr",
     "output_type": "stream",
     "text": [
      "C:\\Users\\user\\AppData\\Local\\Temp\\ipykernel_17068\\1832265514.py:168: SettingWithCopyWarning: \n",
      "A value is trying to be set on a copy of a slice from a DataFrame\n",
      "\n",
      "See the caveats in the documentation: https://pandas.pydata.org/pandas-docs/stable/user_guide/indexing.html#returning-a-view-versus-a-copy\n",
      "  shp_df.unique_file_name.iloc[i] = pg_file_name\n"
     ]
    },
    {
     "name": "stdout",
     "output_type": "stream",
     "text": [
      "Identifier 'idx_Ahmedabad_sub_district_9ffc80bd_21-06-2023 21:03:25_geometry' exceeds maximum length of 63 characters \\\\192.168.1.152\\ncfc_data3\\Neetu Mam (IP 26 Data Backup 17 April 23)\\5-5-2022_office_work\\PMFBY_Updated\\Shape_Files\\WRMS\\Shapefiles\\Gujarat\\Ahmedabad\\Ahmedabad_sub_district.zip\\Ahmedabad_sub_district.shp\n",
      "Executing 4015st file\n",
      "aravalli_district.shp\n"
     ]
    },
    {
     "name": "stderr",
     "output_type": "stream",
     "text": [
      "C:\\Users\\user\\AppData\\Local\\Temp\\ipykernel_17068\\1832265514.py:168: SettingWithCopyWarning: \n",
      "A value is trying to be set on a copy of a slice from a DataFrame\n",
      "\n",
      "See the caveats in the documentation: https://pandas.pydata.org/pandas-docs/stable/user_guide/indexing.html#returning-a-view-versus-a-copy\n",
      "  shp_df.unique_file_name.iloc[i] = pg_file_name\n"
     ]
    },
    {
     "name": "stdout",
     "output_type": "stream",
     "text": [
      "Executing 4017st file\n",
      "Aravalli_sub_district.shp\n"
     ]
    },
    {
     "name": "stderr",
     "output_type": "stream",
     "text": [
      "C:\\Users\\user\\AppData\\Local\\Temp\\ipykernel_17068\\1832265514.py:168: SettingWithCopyWarning: \n",
      "A value is trying to be set on a copy of a slice from a DataFrame\n",
      "\n",
      "See the caveats in the documentation: https://pandas.pydata.org/pandas-docs/stable/user_guide/indexing.html#returning-a-view-versus-a-copy\n",
      "  shp_df.unique_file_name.iloc[i] = pg_file_name\n"
     ]
    },
    {
     "name": "stdout",
     "output_type": "stream",
     "text": [
      "Executing 4020st file\n",
      "Hisar_agri.shp\n"
     ]
    },
    {
     "name": "stderr",
     "output_type": "stream",
     "text": [
      "C:\\Users\\user\\AppData\\Local\\Temp\\ipykernel_17068\\1832265514.py:168: SettingWithCopyWarning: \n",
      "A value is trying to be set on a copy of a slice from a DataFrame\n",
      "\n",
      "See the caveats in the documentation: https://pandas.pydata.org/pandas-docs/stable/user_guide/indexing.html#returning-a-view-versus-a-copy\n",
      "  shp_df.unique_file_name.iloc[i] = pg_file_name\n"
     ]
    },
    {
     "name": "stdout",
     "output_type": "stream",
     "text": [
      "Executing 4022st file\n",
      "Hisar_B.shp\n"
     ]
    },
    {
     "name": "stderr",
     "output_type": "stream",
     "text": [
      "C:\\Users\\user\\AppData\\Local\\Temp\\ipykernel_17068\\1832265514.py:168: SettingWithCopyWarning: \n",
      "A value is trying to be set on a copy of a slice from a DataFrame\n",
      "\n",
      "See the caveats in the documentation: https://pandas.pydata.org/pandas-docs/stable/user_guide/indexing.html#returning-a-view-versus-a-copy\n",
      "  shp_df.unique_file_name.iloc[i] = pg_file_name\n"
     ]
    },
    {
     "name": "stdout",
     "output_type": "stream",
     "text": [
      "Executing 4024st file\n",
      "Hisar_D.shp\n"
     ]
    },
    {
     "name": "stderr",
     "output_type": "stream",
     "text": [
      "C:\\Users\\user\\AppData\\Local\\Temp\\ipykernel_17068\\1832265514.py:168: SettingWithCopyWarning: \n",
      "A value is trying to be set on a copy of a slice from a DataFrame\n",
      "\n",
      "See the caveats in the documentation: https://pandas.pydata.org/pandas-docs/stable/user_guide/indexing.html#returning-a-view-versus-a-copy\n",
      "  shp_df.unique_file_name.iloc[i] = pg_file_name\n"
     ]
    },
    {
     "name": "stdout",
     "output_type": "stream",
     "text": [
      "Executing 4029st file\n",
      "Hisar_V.shp\n"
     ]
    },
    {
     "name": "stderr",
     "output_type": "stream",
     "text": [
      "C:\\Users\\user\\AppData\\Local\\Temp\\ipykernel_17068\\1832265514.py:168: SettingWithCopyWarning: \n",
      "A value is trying to be set on a copy of a slice from a DataFrame\n",
      "\n",
      "See the caveats in the documentation: https://pandas.pydata.org/pandas-docs/stable/user_guide/indexing.html#returning-a-view-versus-a-copy\n",
      "  shp_df.unique_file_name.iloc[i] = pg_file_name\n"
     ]
    },
    {
     "name": "stdout",
     "output_type": "stream",
     "text": [
      "Executing 4031st file\n",
      "Kaithal_B.shp\n"
     ]
    },
    {
     "name": "stderr",
     "output_type": "stream",
     "text": [
      "C:\\Users\\user\\AppData\\Local\\Temp\\ipykernel_17068\\1832265514.py:168: SettingWithCopyWarning: \n",
      "A value is trying to be set on a copy of a slice from a DataFrame\n",
      "\n",
      "See the caveats in the documentation: https://pandas.pydata.org/pandas-docs/stable/user_guide/indexing.html#returning-a-view-versus-a-copy\n",
      "  shp_df.unique_file_name.iloc[i] = pg_file_name\n"
     ]
    },
    {
     "name": "stdout",
     "output_type": "stream",
     "text": [
      "Executing 4033st file\n",
      "Kaithal_D.shp\n"
     ]
    },
    {
     "name": "stderr",
     "output_type": "stream",
     "text": [
      "C:\\Users\\user\\AppData\\Local\\Temp\\ipykernel_17068\\1832265514.py:168: SettingWithCopyWarning: \n",
      "A value is trying to be set on a copy of a slice from a DataFrame\n",
      "\n",
      "See the caveats in the documentation: https://pandas.pydata.org/pandas-docs/stable/user_guide/indexing.html#returning-a-view-versus-a-copy\n",
      "  shp_df.unique_file_name.iloc[i] = pg_file_name\n"
     ]
    },
    {
     "name": "stdout",
     "output_type": "stream",
     "text": [
      "Executing 4035st file\n",
      "Kaithal_V.shp\n"
     ]
    },
    {
     "name": "stderr",
     "output_type": "stream",
     "text": [
      "C:\\Users\\user\\AppData\\Local\\Temp\\ipykernel_17068\\1832265514.py:168: SettingWithCopyWarning: \n",
      "A value is trying to be set on a copy of a slice from a DataFrame\n",
      "\n",
      "See the caveats in the documentation: https://pandas.pydata.org/pandas-docs/stable/user_guide/indexing.html#returning-a-view-versus-a-copy\n",
      "  shp_df.unique_file_name.iloc[i] = pg_file_name\n"
     ]
    },
    {
     "name": "stdout",
     "output_type": "stream",
     "text": [
      "Executing 4036st file\n",
      "karnal blcok/karnal_block.shp\n"
     ]
    },
    {
     "name": "stderr",
     "output_type": "stream",
     "text": [
      "C:\\Users\\user\\AppData\\Local\\Temp\\ipykernel_17068\\1832265514.py:168: SettingWithCopyWarning: \n",
      "A value is trying to be set on a copy of a slice from a DataFrame\n",
      "\n",
      "See the caveats in the documentation: https://pandas.pydata.org/pandas-docs/stable/user_guide/indexing.html#returning-a-view-versus-a-copy\n",
      "  shp_df.unique_file_name.iloc[i] = pg_file_name\n"
     ]
    },
    {
     "name": "stdout",
     "output_type": "stream",
     "text": [
      "Executing 4038st file\n",
      "Karnal_block.shp\n"
     ]
    },
    {
     "name": "stderr",
     "output_type": "stream",
     "text": [
      "C:\\Users\\user\\AppData\\Local\\Temp\\ipykernel_17068\\1832265514.py:168: SettingWithCopyWarning: \n",
      "A value is trying to be set on a copy of a slice from a DataFrame\n",
      "\n",
      "See the caveats in the documentation: https://pandas.pydata.org/pandas-docs/stable/user_guide/indexing.html#returning-a-view-versus-a-copy\n",
      "  shp_df.unique_file_name.iloc[i] = pg_file_name\n"
     ]
    },
    {
     "name": "stdout",
     "output_type": "stream",
     "text": [
      "Executing 4040st file\n",
      "Karnal_D.shp\n"
     ]
    },
    {
     "name": "stderr",
     "output_type": "stream",
     "text": [
      "C:\\Users\\user\\AppData\\Local\\Temp\\ipykernel_17068\\1832265514.py:168: SettingWithCopyWarning: \n",
      "A value is trying to be set on a copy of a slice from a DataFrame\n",
      "\n",
      "See the caveats in the documentation: https://pandas.pydata.org/pandas-docs/stable/user_guide/indexing.html#returning-a-view-versus-a-copy\n",
      "  shp_df.unique_file_name.iloc[i] = pg_file_name\n"
     ]
    },
    {
     "name": "stdout",
     "output_type": "stream",
     "text": [
      "Executing 4042st file\n",
      "Karnal_V.shp\n"
     ]
    },
    {
     "name": "stderr",
     "output_type": "stream",
     "text": [
      "C:\\Users\\user\\AppData\\Local\\Temp\\ipykernel_17068\\1832265514.py:168: SettingWithCopyWarning: \n",
      "A value is trying to be set on a copy of a slice from a DataFrame\n",
      "\n",
      "See the caveats in the documentation: https://pandas.pydata.org/pandas-docs/stable/user_guide/indexing.html#returning-a-view-versus-a-copy\n",
      "  shp_df.unique_file_name.iloc[i] = pg_file_name\n"
     ]
    },
    {
     "name": "stdout",
     "output_type": "stream",
     "text": [
      "Executing 4044st file\n",
      "Sonipat_Block.shp\n"
     ]
    },
    {
     "name": "stderr",
     "output_type": "stream",
     "text": [
      "C:\\Users\\user\\AppData\\Local\\Temp\\ipykernel_17068\\1832265514.py:168: SettingWithCopyWarning: \n",
      "A value is trying to be set on a copy of a slice from a DataFrame\n",
      "\n",
      "See the caveats in the documentation: https://pandas.pydata.org/pandas-docs/stable/user_guide/indexing.html#returning-a-view-versus-a-copy\n",
      "  shp_df.unique_file_name.iloc[i] = pg_file_name\n"
     ]
    },
    {
     "name": "stdout",
     "output_type": "stream",
     "text": [
      "Executing 4046st file\n",
      "Sonipat_D.shp\n"
     ]
    },
    {
     "name": "stderr",
     "output_type": "stream",
     "text": [
      "C:\\Users\\user\\AppData\\Local\\Temp\\ipykernel_17068\\1832265514.py:168: SettingWithCopyWarning: \n",
      "A value is trying to be set on a copy of a slice from a DataFrame\n",
      "\n",
      "See the caveats in the documentation: https://pandas.pydata.org/pandas-docs/stable/user_guide/indexing.html#returning-a-view-versus-a-copy\n",
      "  shp_df.unique_file_name.iloc[i] = pg_file_name\n"
     ]
    },
    {
     "name": "stdout",
     "output_type": "stream",
     "text": [
      "Executing 4048st file\n",
      "Sonipat_V.shp\n"
     ]
    },
    {
     "name": "stderr",
     "output_type": "stream",
     "text": [
      "C:\\Users\\user\\AppData\\Local\\Temp\\ipykernel_17068\\1832265514.py:168: SettingWithCopyWarning: \n",
      "A value is trying to be set on a copy of a slice from a DataFrame\n",
      "\n",
      "See the caveats in the documentation: https://pandas.pydata.org/pandas-docs/stable/user_guide/indexing.html#returning-a-view-versus-a-copy\n",
      "  shp_df.unique_file_name.iloc[i] = pg_file_name\n"
     ]
    },
    {
     "name": "stdout",
     "output_type": "stream",
     "text": [
      "Executing 4050st file\n",
      "Mandi_agrimask.shp\n"
     ]
    },
    {
     "name": "stderr",
     "output_type": "stream",
     "text": [
      "C:\\Users\\user\\AppData\\Local\\Temp\\ipykernel_17068\\1832265514.py:168: SettingWithCopyWarning: \n",
      "A value is trying to be set on a copy of a slice from a DataFrame\n",
      "\n",
      "See the caveats in the documentation: https://pandas.pydata.org/pandas-docs/stable/user_guide/indexing.html#returning-a-view-versus-a-copy\n",
      "  shp_df.unique_file_name.iloc[i] = pg_file_name\n"
     ]
    },
    {
     "name": "stdout",
     "output_type": "stream",
     "text": [
      "Executing 4053st file\n",
      "Mandi_Sub_district.shp\n"
     ]
    },
    {
     "name": "stderr",
     "output_type": "stream",
     "text": [
      "C:\\Users\\user\\AppData\\Local\\Temp\\ipykernel_17068\\1832265514.py:168: SettingWithCopyWarning: \n",
      "A value is trying to be set on a copy of a slice from a DataFrame\n",
      "\n",
      "See the caveats in the documentation: https://pandas.pydata.org/pandas-docs/stable/user_guide/indexing.html#returning-a-view-versus-a-copy\n",
      "  shp_df.unique_file_name.iloc[i] = pg_file_name\n"
     ]
    },
    {
     "name": "stdout",
     "output_type": "stream",
     "text": [
      "Executing 4055st file\n",
      "Mandi_v.shp\n"
     ]
    },
    {
     "name": "stderr",
     "output_type": "stream",
     "text": [
      "C:\\Users\\user\\AppData\\Local\\Temp\\ipykernel_17068\\1832265514.py:168: SettingWithCopyWarning: \n",
      "A value is trying to be set on a copy of a slice from a DataFrame\n",
      "\n",
      "See the caveats in the documentation: https://pandas.pydata.org/pandas-docs/stable/user_guide/indexing.html#returning-a-view-versus-a-copy\n",
      "  shp_df.unique_file_name.iloc[i] = pg_file_name\n"
     ]
    },
    {
     "name": "stdout",
     "output_type": "stream",
     "text": [
      "Executing 4057st file\n",
      "Bellary_B.shp\n"
     ]
    },
    {
     "name": "stderr",
     "output_type": "stream",
     "text": [
      "C:\\Users\\user\\AppData\\Local\\Temp\\ipykernel_17068\\1832265514.py:168: SettingWithCopyWarning: \n",
      "A value is trying to be set on a copy of a slice from a DataFrame\n",
      "\n",
      "See the caveats in the documentation: https://pandas.pydata.org/pandas-docs/stable/user_guide/indexing.html#returning-a-view-versus-a-copy\n",
      "  shp_df.unique_file_name.iloc[i] = pg_file_name\n"
     ]
    },
    {
     "name": "stdout",
     "output_type": "stream",
     "text": [
      "Executing 4059st file\n",
      "Bellary_D.shp\n"
     ]
    },
    {
     "name": "stderr",
     "output_type": "stream",
     "text": [
      "C:\\Users\\user\\AppData\\Local\\Temp\\ipykernel_17068\\1832265514.py:168: SettingWithCopyWarning: \n",
      "A value is trying to be set on a copy of a slice from a DataFrame\n",
      "\n",
      "See the caveats in the documentation: https://pandas.pydata.org/pandas-docs/stable/user_guide/indexing.html#returning-a-view-versus-a-copy\n",
      "  shp_df.unique_file_name.iloc[i] = pg_file_name\n"
     ]
    },
    {
     "name": "stdout",
     "output_type": "stream",
     "text": [
      "Executing 4063st file\n",
      "Alwar_B_shifted.shp\n"
     ]
    },
    {
     "name": "stderr",
     "output_type": "stream",
     "text": [
      "C:\\Users\\user\\AppData\\Local\\Temp\\ipykernel_17068\\1832265514.py:168: SettingWithCopyWarning: \n",
      "A value is trying to be set on a copy of a slice from a DataFrame\n",
      "\n",
      "See the caveats in the documentation: https://pandas.pydata.org/pandas-docs/stable/user_guide/indexing.html#returning-a-view-versus-a-copy\n",
      "  shp_df.unique_file_name.iloc[i] = pg_file_name\n"
     ]
    },
    {
     "name": "stdout",
     "output_type": "stream",
     "text": [
      "Executing 4065st file\n",
      "Alwar_B_update.shp\n"
     ]
    },
    {
     "name": "stderr",
     "output_type": "stream",
     "text": [
      "C:\\Users\\user\\AppData\\Local\\Temp\\ipykernel_17068\\1832265514.py:168: SettingWithCopyWarning: \n",
      "A value is trying to be set on a copy of a slice from a DataFrame\n",
      "\n",
      "See the caveats in the documentation: https://pandas.pydata.org/pandas-docs/stable/user_guide/indexing.html#returning-a-view-versus-a-copy\n",
      "  shp_df.unique_file_name.iloc[i] = pg_file_name\n"
     ]
    },
    {
     "name": "stdout",
     "output_type": "stream",
     "text": [
      "Executing 4067st file\n",
      "Alwar_D.shp\n"
     ]
    },
    {
     "name": "stderr",
     "output_type": "stream",
     "text": [
      "C:\\Users\\user\\AppData\\Local\\Temp\\ipykernel_17068\\1832265514.py:168: SettingWithCopyWarning: \n",
      "A value is trying to be set on a copy of a slice from a DataFrame\n",
      "\n",
      "See the caveats in the documentation: https://pandas.pydata.org/pandas-docs/stable/user_guide/indexing.html#returning-a-view-versus-a-copy\n",
      "  shp_df.unique_file_name.iloc[i] = pg_file_name\n"
     ]
    },
    {
     "name": "stdout",
     "output_type": "stream",
     "text": [
      "Executing 4069st file\n",
      "Alwar_V.shp\n"
     ]
    },
    {
     "name": "stderr",
     "output_type": "stream",
     "text": [
      "C:\\Users\\user\\AppData\\Local\\Temp\\ipykernel_17068\\1832265514.py:168: SettingWithCopyWarning: \n",
      "A value is trying to be set on a copy of a slice from a DataFrame\n",
      "\n",
      "See the caveats in the documentation: https://pandas.pydata.org/pandas-docs/stable/user_guide/indexing.html#returning-a-view-versus-a-copy\n",
      "  shp_df.unique_file_name.iloc[i] = pg_file_name\n"
     ]
    },
    {
     "name": "stdout",
     "output_type": "stream",
     "text": [
      "Executing 4072st file\n",
      "Hanumangarh_B.shp\n"
     ]
    },
    {
     "name": "stderr",
     "output_type": "stream",
     "text": [
      "C:\\Users\\user\\AppData\\Local\\Temp\\ipykernel_17068\\1832265514.py:168: SettingWithCopyWarning: \n",
      "A value is trying to be set on a copy of a slice from a DataFrame\n",
      "\n",
      "See the caveats in the documentation: https://pandas.pydata.org/pandas-docs/stable/user_guide/indexing.html#returning-a-view-versus-a-copy\n",
      "  shp_df.unique_file_name.iloc[i] = pg_file_name\n"
     ]
    },
    {
     "name": "stdout",
     "output_type": "stream",
     "text": [
      "Executing 4074st file\n",
      "Hanumangarh_B_update.shp\n"
     ]
    },
    {
     "name": "stderr",
     "output_type": "stream",
     "text": [
      "C:\\Users\\user\\AppData\\Local\\Temp\\ipykernel_17068\\1832265514.py:168: SettingWithCopyWarning: \n",
      "A value is trying to be set on a copy of a slice from a DataFrame\n",
      "\n",
      "See the caveats in the documentation: https://pandas.pydata.org/pandas-docs/stable/user_guide/indexing.html#returning-a-view-versus-a-copy\n",
      "  shp_df.unique_file_name.iloc[i] = pg_file_name\n"
     ]
    },
    {
     "name": "stdout",
     "output_type": "stream",
     "text": [
      "Executing 4076st file\n",
      "Hanumangarh_D.shp\n"
     ]
    },
    {
     "name": "stderr",
     "output_type": "stream",
     "text": [
      "C:\\Users\\user\\AppData\\Local\\Temp\\ipykernel_17068\\1832265514.py:168: SettingWithCopyWarning: \n",
      "A value is trying to be set on a copy of a slice from a DataFrame\n",
      "\n",
      "See the caveats in the documentation: https://pandas.pydata.org/pandas-docs/stable/user_guide/indexing.html#returning-a-view-versus-a-copy\n",
      "  shp_df.unique_file_name.iloc[i] = pg_file_name\n"
     ]
    },
    {
     "name": "stdout",
     "output_type": "stream",
     "text": [
      "Executing 4078st file\n",
      "Hanumangarh_D_v1.shp\n"
     ]
    },
    {
     "name": "stderr",
     "output_type": "stream",
     "text": [
      "C:\\Users\\user\\AppData\\Local\\Temp\\ipykernel_17068\\1832265514.py:168: SettingWithCopyWarning: \n",
      "A value is trying to be set on a copy of a slice from a DataFrame\n",
      "\n",
      "See the caveats in the documentation: https://pandas.pydata.org/pandas-docs/stable/user_guide/indexing.html#returning-a-view-versus-a-copy\n",
      "  shp_df.unique_file_name.iloc[i] = pg_file_name\n"
     ]
    },
    {
     "name": "stdout",
     "output_type": "stream",
     "text": [
      "Executing 4080st file\n",
      "Hanumangarh_V.shp\n"
     ]
    },
    {
     "name": "stderr",
     "output_type": "stream",
     "text": [
      "C:\\Users\\user\\AppData\\Local\\Temp\\ipykernel_17068\\1832265514.py:168: SettingWithCopyWarning: \n",
      "A value is trying to be set on a copy of a slice from a DataFrame\n",
      "\n",
      "See the caveats in the documentation: https://pandas.pydata.org/pandas-docs/stable/user_guide/indexing.html#returning-a-view-versus-a-copy\n",
      "  shp_df.unique_file_name.iloc[i] = pg_file_name\n"
     ]
    },
    {
     "name": "stdout",
     "output_type": "stream",
     "text": [
      "Executing 4083st file\n",
      "Jhalawar_agrimask.shp\n"
     ]
    },
    {
     "name": "stderr",
     "output_type": "stream",
     "text": [
      "C:\\Users\\user\\AppData\\Local\\Temp\\ipykernel_17068\\1832265514.py:168: SettingWithCopyWarning: \n",
      "A value is trying to be set on a copy of a slice from a DataFrame\n",
      "\n",
      "See the caveats in the documentation: https://pandas.pydata.org/pandas-docs/stable/user_guide/indexing.html#returning-a-view-versus-a-copy\n",
      "  shp_df.unique_file_name.iloc[i] = pg_file_name\n"
     ]
    },
    {
     "name": "stdout",
     "output_type": "stream",
     "text": [
      "Executing 4085st file\n",
      "Jhalawar_B_shifted.shp\n"
     ]
    },
    {
     "name": "stderr",
     "output_type": "stream",
     "text": [
      "C:\\Users\\user\\AppData\\Local\\Temp\\ipykernel_17068\\1832265514.py:168: SettingWithCopyWarning: \n",
      "A value is trying to be set on a copy of a slice from a DataFrame\n",
      "\n",
      "See the caveats in the documentation: https://pandas.pydata.org/pandas-docs/stable/user_guide/indexing.html#returning-a-view-versus-a-copy\n",
      "  shp_df.unique_file_name.iloc[i] = pg_file_name\n"
     ]
    },
    {
     "name": "stdout",
     "output_type": "stream",
     "text": [
      "Executing 4087st file\n",
      "Jhalawar_B_update.shp\n"
     ]
    },
    {
     "name": "stderr",
     "output_type": "stream",
     "text": [
      "C:\\Users\\user\\AppData\\Local\\Temp\\ipykernel_17068\\1832265514.py:168: SettingWithCopyWarning: \n",
      "A value is trying to be set on a copy of a slice from a DataFrame\n",
      "\n",
      "See the caveats in the documentation: https://pandas.pydata.org/pandas-docs/stable/user_guide/indexing.html#returning-a-view-versus-a-copy\n",
      "  shp_df.unique_file_name.iloc[i] = pg_file_name\n"
     ]
    },
    {
     "name": "stdout",
     "output_type": "stream",
     "text": [
      "Executing 4089st file\n",
      "Jhalawar_D.shp\n"
     ]
    },
    {
     "name": "stderr",
     "output_type": "stream",
     "text": [
      "C:\\Users\\user\\AppData\\Local\\Temp\\ipykernel_17068\\1832265514.py:168: SettingWithCopyWarning: \n",
      "A value is trying to be set on a copy of a slice from a DataFrame\n",
      "\n",
      "See the caveats in the documentation: https://pandas.pydata.org/pandas-docs/stable/user_guide/indexing.html#returning-a-view-versus-a-copy\n",
      "  shp_df.unique_file_name.iloc[i] = pg_file_name\n"
     ]
    },
    {
     "name": "stdout",
     "output_type": "stream",
     "text": [
      "Executing 4091st file\n",
      "Jhalawar_Dv1.shp\n"
     ]
    },
    {
     "name": "stderr",
     "output_type": "stream",
     "text": [
      "C:\\Users\\user\\AppData\\Local\\Temp\\ipykernel_17068\\1832265514.py:168: SettingWithCopyWarning: \n",
      "A value is trying to be set on a copy of a slice from a DataFrame\n",
      "\n",
      "See the caveats in the documentation: https://pandas.pydata.org/pandas-docs/stable/user_guide/indexing.html#returning-a-view-versus-a-copy\n",
      "  shp_df.unique_file_name.iloc[i] = pg_file_name\n"
     ]
    },
    {
     "name": "stdout",
     "output_type": "stream",
     "text": [
      "Executing 4093st file\n",
      "Jhalawar_V.shp\n"
     ]
    },
    {
     "name": "stderr",
     "output_type": "stream",
     "text": [
      "C:\\Users\\user\\AppData\\Local\\Temp\\ipykernel_17068\\1832265514.py:168: SettingWithCopyWarning: \n",
      "A value is trying to be set on a copy of a slice from a DataFrame\n",
      "\n",
      "See the caveats in the documentation: https://pandas.pydata.org/pandas-docs/stable/user_guide/indexing.html#returning-a-view-versus-a-copy\n",
      "  shp_df.unique_file_name.iloc[i] = pg_file_name\n"
     ]
    },
    {
     "name": "stdout",
     "output_type": "stream",
     "text": [
      "Executing 4095st file\n",
      "Kota_block.shp\n"
     ]
    },
    {
     "name": "stderr",
     "output_type": "stream",
     "text": [
      "C:\\Users\\user\\AppData\\Local\\Temp\\ipykernel_17068\\1832265514.py:168: SettingWithCopyWarning: \n",
      "A value is trying to be set on a copy of a slice from a DataFrame\n",
      "\n",
      "See the caveats in the documentation: https://pandas.pydata.org/pandas-docs/stable/user_guide/indexing.html#returning-a-view-versus-a-copy\n",
      "  shp_df.unique_file_name.iloc[i] = pg_file_name\n"
     ]
    },
    {
     "name": "stdout",
     "output_type": "stream",
     "text": [
      "Executing 4097st file\n",
      "Kota_D.shp\n"
     ]
    },
    {
     "name": "stderr",
     "output_type": "stream",
     "text": [
      "C:\\Users\\user\\AppData\\Local\\Temp\\ipykernel_17068\\1832265514.py:168: SettingWithCopyWarning: \n",
      "A value is trying to be set on a copy of a slice from a DataFrame\n",
      "\n",
      "See the caveats in the documentation: https://pandas.pydata.org/pandas-docs/stable/user_guide/indexing.html#returning-a-view-versus-a-copy\n",
      "  shp_df.unique_file_name.iloc[i] = pg_file_name\n"
     ]
    },
    {
     "name": "stdout",
     "output_type": "stream",
     "text": [
      "Executing 4099st file\n",
      "Kota_D_update.shp\n"
     ]
    },
    {
     "name": "stderr",
     "output_type": "stream",
     "text": [
      "C:\\Users\\user\\AppData\\Local\\Temp\\ipykernel_17068\\1832265514.py:168: SettingWithCopyWarning: \n",
      "A value is trying to be set on a copy of a slice from a DataFrame\n",
      "\n",
      "See the caveats in the documentation: https://pandas.pydata.org/pandas-docs/stable/user_guide/indexing.html#returning-a-view-versus-a-copy\n",
      "  shp_df.unique_file_name.iloc[i] = pg_file_name\n"
     ]
    },
    {
     "name": "stdout",
     "output_type": "stream",
     "text": [
      "Executing 4101st file\n",
      "Kota_Sub_district.shp\n"
     ]
    },
    {
     "name": "stderr",
     "output_type": "stream",
     "text": [
      "C:\\Users\\user\\AppData\\Local\\Temp\\ipykernel_17068\\1832265514.py:168: SettingWithCopyWarning: \n",
      "A value is trying to be set on a copy of a slice from a DataFrame\n",
      "\n",
      "See the caveats in the documentation: https://pandas.pydata.org/pandas-docs/stable/user_guide/indexing.html#returning-a-view-versus-a-copy\n",
      "  shp_df.unique_file_name.iloc[i] = pg_file_name\n"
     ]
    },
    {
     "name": "stdout",
     "output_type": "stream",
     "text": [
      "Executing 4103st file\n",
      "Kota_V.shp\n"
     ]
    },
    {
     "name": "stderr",
     "output_type": "stream",
     "text": [
      "C:\\Users\\user\\AppData\\Local\\Temp\\ipykernel_17068\\1832265514.py:168: SettingWithCopyWarning: \n",
      "A value is trying to be set on a copy of a slice from a DataFrame\n",
      "\n",
      "See the caveats in the documentation: https://pandas.pydata.org/pandas-docs/stable/user_guide/indexing.html#returning-a-view-versus-a-copy\n",
      "  shp_df.unique_file_name.iloc[i] = pg_file_name\n"
     ]
    },
    {
     "name": "stdout",
     "output_type": "stream",
     "text": [
      "Executing 4105st file\n",
      "Gonda_B.shp\n"
     ]
    },
    {
     "name": "stderr",
     "output_type": "stream",
     "text": [
      "C:\\Users\\user\\AppData\\Local\\Temp\\ipykernel_17068\\1832265514.py:168: SettingWithCopyWarning: \n",
      "A value is trying to be set on a copy of a slice from a DataFrame\n",
      "\n",
      "See the caveats in the documentation: https://pandas.pydata.org/pandas-docs/stable/user_guide/indexing.html#returning-a-view-versus-a-copy\n",
      "  shp_df.unique_file_name.iloc[i] = pg_file_name\n"
     ]
    },
    {
     "name": "stdout",
     "output_type": "stream",
     "text": [
      "Executing 4107st file\n",
      "Gonda_D.shp\n"
     ]
    },
    {
     "name": "stderr",
     "output_type": "stream",
     "text": [
      "C:\\Users\\user\\AppData\\Local\\Temp\\ipykernel_17068\\1832265514.py:168: SettingWithCopyWarning: \n",
      "A value is trying to be set on a copy of a slice from a DataFrame\n",
      "\n",
      "See the caveats in the documentation: https://pandas.pydata.org/pandas-docs/stable/user_guide/indexing.html#returning-a-view-versus-a-copy\n",
      "  shp_df.unique_file_name.iloc[i] = pg_file_name\n"
     ]
    },
    {
     "name": "stdout",
     "output_type": "stream",
     "text": [
      "Executing 4110st file\n",
      "Mainpuri_B.shp\n"
     ]
    },
    {
     "name": "stderr",
     "output_type": "stream",
     "text": [
      "C:\\Users\\user\\AppData\\Local\\Temp\\ipykernel_17068\\1832265514.py:168: SettingWithCopyWarning: \n",
      "A value is trying to be set on a copy of a slice from a DataFrame\n",
      "\n",
      "See the caveats in the documentation: https://pandas.pydata.org/pandas-docs/stable/user_guide/indexing.html#returning-a-view-versus-a-copy\n",
      "  shp_df.unique_file_name.iloc[i] = pg_file_name\n"
     ]
    },
    {
     "name": "stdout",
     "output_type": "stream",
     "text": [
      "Executing 4112st file\n",
      "Mainpuri_D.shp\n"
     ]
    },
    {
     "name": "stderr",
     "output_type": "stream",
     "text": [
      "C:\\Users\\user\\AppData\\Local\\Temp\\ipykernel_17068\\1832265514.py:168: SettingWithCopyWarning: \n",
      "A value is trying to be set on a copy of a slice from a DataFrame\n",
      "\n",
      "See the caveats in the documentation: https://pandas.pydata.org/pandas-docs/stable/user_guide/indexing.html#returning-a-view-versus-a-copy\n",
      "  shp_df.unique_file_name.iloc[i] = pg_file_name\n"
     ]
    },
    {
     "name": "stdout",
     "output_type": "stream",
     "text": [
      "Executing 4115st file\n",
      "Mathura_B.shp\n"
     ]
    },
    {
     "name": "stderr",
     "output_type": "stream",
     "text": [
      "C:\\Users\\user\\AppData\\Local\\Temp\\ipykernel_17068\\1832265514.py:168: SettingWithCopyWarning: \n",
      "A value is trying to be set on a copy of a slice from a DataFrame\n",
      "\n",
      "See the caveats in the documentation: https://pandas.pydata.org/pandas-docs/stable/user_guide/indexing.html#returning-a-view-versus-a-copy\n",
      "  shp_df.unique_file_name.iloc[i] = pg_file_name\n"
     ]
    },
    {
     "name": "stdout",
     "output_type": "stream",
     "text": [
      "Executing 4117st file\n",
      "Mathura_D.shp\n"
     ]
    },
    {
     "name": "stderr",
     "output_type": "stream",
     "text": [
      "C:\\Users\\user\\AppData\\Local\\Temp\\ipykernel_17068\\1832265514.py:168: SettingWithCopyWarning: \n",
      "A value is trying to be set on a copy of a slice from a DataFrame\n",
      "\n",
      "See the caveats in the documentation: https://pandas.pydata.org/pandas-docs/stable/user_guide/indexing.html#returning-a-view-versus-a-copy\n",
      "  shp_df.unique_file_name.iloc[i] = pg_file_name\n"
     ]
    },
    {
     "name": "stdout",
     "output_type": "stream",
     "text": [
      "Executing 4120st file\n",
      "Shahjahanpur_B.shp\n"
     ]
    },
    {
     "name": "stderr",
     "output_type": "stream",
     "text": [
      "C:\\Users\\user\\AppData\\Local\\Temp\\ipykernel_17068\\1832265514.py:168: SettingWithCopyWarning: \n",
      "A value is trying to be set on a copy of a slice from a DataFrame\n",
      "\n",
      "See the caveats in the documentation: https://pandas.pydata.org/pandas-docs/stable/user_guide/indexing.html#returning-a-view-versus-a-copy\n",
      "  shp_df.unique_file_name.iloc[i] = pg_file_name\n"
     ]
    },
    {
     "name": "stdout",
     "output_type": "stream",
     "text": [
      "Executing 4122st file\n",
      "Shahjahanpur_D.shp\n"
     ]
    },
    {
     "name": "stderr",
     "output_type": "stream",
     "text": [
      "C:\\Users\\user\\AppData\\Local\\Temp\\ipykernel_17068\\1832265514.py:168: SettingWithCopyWarning: \n",
      "A value is trying to be set on a copy of a slice from a DataFrame\n",
      "\n",
      "See the caveats in the documentation: https://pandas.pydata.org/pandas-docs/stable/user_guide/indexing.html#returning-a-view-versus-a-copy\n",
      "  shp_df.unique_file_name.iloc[i] = pg_file_name\n"
     ]
    },
    {
     "name": "stdout",
     "output_type": "stream",
     "text": [
      "Executing 4125st file\n",
      "Siddhartnagar_B.shp\n"
     ]
    },
    {
     "name": "stderr",
     "output_type": "stream",
     "text": [
      "C:\\Users\\user\\AppData\\Local\\Temp\\ipykernel_17068\\1832265514.py:168: SettingWithCopyWarning: \n",
      "A value is trying to be set on a copy of a slice from a DataFrame\n",
      "\n",
      "See the caveats in the documentation: https://pandas.pydata.org/pandas-docs/stable/user_guide/indexing.html#returning-a-view-versus-a-copy\n",
      "  shp_df.unique_file_name.iloc[i] = pg_file_name\n"
     ]
    },
    {
     "name": "stdout",
     "output_type": "stream",
     "text": [
      "Executing 4127st file\n",
      "Siddhartnagar_D.shp\n"
     ]
    },
    {
     "name": "stderr",
     "output_type": "stream",
     "text": [
      "C:\\Users\\user\\AppData\\Local\\Temp\\ipykernel_17068\\1832265514.py:168: SettingWithCopyWarning: \n",
      "A value is trying to be set on a copy of a slice from a DataFrame\n",
      "\n",
      "See the caveats in the documentation: https://pandas.pydata.org/pandas-docs/stable/user_guide/indexing.html#returning-a-view-versus-a-copy\n",
      "  shp_df.unique_file_name.iloc[i] = pg_file_name\n"
     ]
    },
    {
     "name": "stdout",
     "output_type": "stream",
     "text": [
      "Executing 4130st file\n",
      "Sitapur_B.shp\n"
     ]
    },
    {
     "name": "stderr",
     "output_type": "stream",
     "text": [
      "C:\\Users\\user\\AppData\\Local\\Temp\\ipykernel_17068\\1832265514.py:168: SettingWithCopyWarning: \n",
      "A value is trying to be set on a copy of a slice from a DataFrame\n",
      "\n",
      "See the caveats in the documentation: https://pandas.pydata.org/pandas-docs/stable/user_guide/indexing.html#returning-a-view-versus-a-copy\n",
      "  shp_df.unique_file_name.iloc[i] = pg_file_name\n"
     ]
    },
    {
     "name": "stdout",
     "output_type": "stream",
     "text": [
      "Executing 4132st file\n",
      "Sitapur_D.shp\n"
     ]
    },
    {
     "name": "stderr",
     "output_type": "stream",
     "text": [
      "C:\\Users\\user\\AppData\\Local\\Temp\\ipykernel_17068\\1832265514.py:168: SettingWithCopyWarning: \n",
      "A value is trying to be set on a copy of a slice from a DataFrame\n",
      "\n",
      "See the caveats in the documentation: https://pandas.pydata.org/pandas-docs/stable/user_guide/indexing.html#returning-a-view-versus-a-copy\n",
      "  shp_df.unique_file_name.iloc[i] = pg_file_name\n"
     ]
    },
    {
     "name": "stdout",
     "output_type": "stream",
     "text": [
      "Executing 4135st file\n",
      "Unnao_B.shp\n"
     ]
    },
    {
     "name": "stderr",
     "output_type": "stream",
     "text": [
      "C:\\Users\\user\\AppData\\Local\\Temp\\ipykernel_17068\\1832265514.py:168: SettingWithCopyWarning: \n",
      "A value is trying to be set on a copy of a slice from a DataFrame\n",
      "\n",
      "See the caveats in the documentation: https://pandas.pydata.org/pandas-docs/stable/user_guide/indexing.html#returning-a-view-versus-a-copy\n",
      "  shp_df.unique_file_name.iloc[i] = pg_file_name\n"
     ]
    },
    {
     "name": "stdout",
     "output_type": "stream",
     "text": [
      "Executing 4137st file\n",
      "Unnao_D.shp\n"
     ]
    },
    {
     "name": "stderr",
     "output_type": "stream",
     "text": [
      "C:\\Users\\user\\AppData\\Local\\Temp\\ipykernel_17068\\1832265514.py:168: SettingWithCopyWarning: \n",
      "A value is trying to be set on a copy of a slice from a DataFrame\n",
      "\n",
      "See the caveats in the documentation: https://pandas.pydata.org/pandas-docs/stable/user_guide/indexing.html#returning-a-view-versus-a-copy\n",
      "  shp_df.unique_file_name.iloc[i] = pg_file_name\n"
     ]
    },
    {
     "name": "stdout",
     "output_type": "stream",
     "text": [
      "Executing 4140st file\n",
      "Birbhum_D.shp\n"
     ]
    },
    {
     "name": "stderr",
     "output_type": "stream",
     "text": [
      "C:\\Users\\user\\AppData\\Local\\Temp\\ipykernel_17068\\1832265514.py:168: SettingWithCopyWarning: \n",
      "A value is trying to be set on a copy of a slice from a DataFrame\n",
      "\n",
      "See the caveats in the documentation: https://pandas.pydata.org/pandas-docs/stable/user_guide/indexing.html#returning-a-view-versus-a-copy\n",
      "  shp_df.unique_file_name.iloc[i] = pg_file_name\n",
      "C:\\Users\\user\\miniconda3\\envs\\kdss_base\\lib\\site-packages\\geopandas\\io\\sql.py:415: UserWarning: Could not parse CRS from the GeoDataFrame. Inserting data without defined CRS.\n",
      "  srid = _get_srid_from_crs(gdf)\n",
      "C:\\Users\\user\\AppData\\Local\\Temp\\ipykernel_17068\\1832265514.py:168: SettingWithCopyWarning: \n",
      "A value is trying to be set on a copy of a slice from a DataFrame\n",
      "\n",
      "See the caveats in the documentation: https://pandas.pydata.org/pandas-docs/stable/user_guide/indexing.html#returning-a-view-versus-a-copy\n",
      "  shp_df.unique_file_name.iloc[i] = pg_file_name\n"
     ]
    },
    {
     "name": "stdout",
     "output_type": "stream",
     "text": [
      "Executing 4142st file\n",
      "Birbhum_T.shp\n"
     ]
    },
    {
     "name": "stderr",
     "output_type": "stream",
     "text": [
      "C:\\Users\\user\\miniconda3\\envs\\kdss_base\\lib\\site-packages\\geopandas\\io\\sql.py:415: UserWarning: Could not parse CRS from the GeoDataFrame. Inserting data without defined CRS.\n",
      "  srid = _get_srid_from_crs(gdf)\n",
      "C:\\Users\\user\\AppData\\Local\\Temp\\ipykernel_17068\\1832265514.py:168: SettingWithCopyWarning: \n",
      "A value is trying to be set on a copy of a slice from a DataFrame\n",
      "\n",
      "See the caveats in the documentation: https://pandas.pydata.org/pandas-docs/stable/user_guide/indexing.html#returning-a-view-versus-a-copy\n",
      "  shp_df.unique_file_name.iloc[i] = pg_file_name\n"
     ]
    },
    {
     "name": "stdout",
     "output_type": "stream",
     "text": [
      "Executing 4145st file\n",
      "paschim_mednipur_D.shp\n"
     ]
    },
    {
     "name": "stderr",
     "output_type": "stream",
     "text": [
      "C:\\Users\\user\\miniconda3\\envs\\kdss_base\\lib\\site-packages\\geopandas\\io\\sql.py:415: UserWarning: Could not parse CRS from the GeoDataFrame. Inserting data without defined CRS.\n",
      "  srid = _get_srid_from_crs(gdf)\n",
      "C:\\Users\\user\\AppData\\Local\\Temp\\ipykernel_17068\\1832265514.py:168: SettingWithCopyWarning: \n",
      "A value is trying to be set on a copy of a slice from a DataFrame\n",
      "\n",
      "See the caveats in the documentation: https://pandas.pydata.org/pandas-docs/stable/user_guide/indexing.html#returning-a-view-versus-a-copy\n",
      "  shp_df.unique_file_name.iloc[i] = pg_file_name\n"
     ]
    },
    {
     "name": "stdout",
     "output_type": "stream",
     "text": [
      "Executing 4147st file\n",
      "paschim_mednipur_T.shp\n"
     ]
    },
    {
     "name": "stderr",
     "output_type": "stream",
     "text": [
      "C:\\Users\\user\\miniconda3\\envs\\kdss_base\\lib\\site-packages\\geopandas\\io\\sql.py:415: UserWarning: Could not parse CRS from the GeoDataFrame. Inserting data without defined CRS.\n",
      "  srid = _get_srid_from_crs(gdf)\n",
      "C:\\Users\\user\\AppData\\Local\\Temp\\ipykernel_17068\\1832265514.py:168: SettingWithCopyWarning: \n",
      "A value is trying to be set on a copy of a slice from a DataFrame\n",
      "\n",
      "See the caveats in the documentation: https://pandas.pydata.org/pandas-docs/stable/user_guide/indexing.html#returning-a-view-versus-a-copy\n",
      "  shp_df.unique_file_name.iloc[i] = pg_file_name\n"
     ]
    },
    {
     "name": "stdout",
     "output_type": "stream",
     "text": [
      "Executing 4150st file\n",
      "Purba_mednipur_agrimask.shp\n"
     ]
    },
    {
     "name": "stderr",
     "output_type": "stream",
     "text": [
      "C:\\Users\\user\\miniconda3\\envs\\kdss_base\\lib\\site-packages\\geopandas\\io\\sql.py:415: UserWarning: Could not parse CRS from the GeoDataFrame. Inserting data without defined CRS.\n",
      "  srid = _get_srid_from_crs(gdf)\n"
     ]
    },
    {
     "name": "stdout",
     "output_type": "stream",
     "text": [
      "Identifier 'idx_Purba_mednipur_agrimask_55811f4b_21-06-2023 21:04:09_geometry' exceeds maximum length of 63 characters \\\\192.168.1.152\\ncfc_data3\\Neetu Mam (IP 26 Data Backup 17 April 23)\\5-5-2022_office_work\\PMFBY_Updated\\Shape_Files\\WRMS\\Shapefiles\\West Bengal\\Purba medinipur\\Purba_mednipur_agrimask.zip\\Purba_mednipur_agrimask.shp\n",
      "Executing 4152st file\n",
      "Purba_mednipur_D.shp\n"
     ]
    },
    {
     "name": "stderr",
     "output_type": "stream",
     "text": [
      "C:\\Users\\user\\AppData\\Local\\Temp\\ipykernel_17068\\1832265514.py:168: SettingWithCopyWarning: \n",
      "A value is trying to be set on a copy of a slice from a DataFrame\n",
      "\n",
      "See the caveats in the documentation: https://pandas.pydata.org/pandas-docs/stable/user_guide/indexing.html#returning-a-view-versus-a-copy\n",
      "  shp_df.unique_file_name.iloc[i] = pg_file_name\n",
      "C:\\Users\\user\\miniconda3\\envs\\kdss_base\\lib\\site-packages\\geopandas\\io\\sql.py:415: UserWarning: Could not parse CRS from the GeoDataFrame. Inserting data without defined CRS.\n",
      "  srid = _get_srid_from_crs(gdf)\n",
      "C:\\Users\\user\\AppData\\Local\\Temp\\ipykernel_17068\\1832265514.py:168: SettingWithCopyWarning: \n",
      "A value is trying to be set on a copy of a slice from a DataFrame\n",
      "\n",
      "See the caveats in the documentation: https://pandas.pydata.org/pandas-docs/stable/user_guide/indexing.html#returning-a-view-versus-a-copy\n",
      "  shp_df.unique_file_name.iloc[i] = pg_file_name\n"
     ]
    },
    {
     "name": "stdout",
     "output_type": "stream",
     "text": [
      "Executing 4154st file\n",
      "Purba_mednipur_T.shp\n"
     ]
    },
    {
     "name": "stderr",
     "output_type": "stream",
     "text": [
      "C:\\Users\\user\\miniconda3\\envs\\kdss_base\\lib\\site-packages\\geopandas\\io\\sql.py:415: UserWarning: Could not parse CRS from the GeoDataFrame. Inserting data without defined CRS.\n",
      "  srid = _get_srid_from_crs(gdf)\n",
      "C:\\Users\\user\\AppData\\Local\\Temp\\ipykernel_17068\\1832265514.py:168: SettingWithCopyWarning: \n",
      "A value is trying to be set on a copy of a slice from a DataFrame\n",
      "\n",
      "See the caveats in the documentation: https://pandas.pydata.org/pandas-docs/stable/user_guide/indexing.html#returning-a-view-versus-a-copy\n",
      "  shp_df.unique_file_name.iloc[i] = pg_file_name\n"
     ]
    },
    {
     "name": "stdout",
     "output_type": "stream",
     "text": [
      "Executing 4164st file\n",
      "Muzaffarpur_D.shp\n",
      "Executing 4166st file\n",
      "Muzaffarpur_Sub_district.shp\n"
     ]
    },
    {
     "name": "stderr",
     "output_type": "stream",
     "text": [
      "C:\\Users\\user\\AppData\\Local\\Temp\\ipykernel_17068\\1832265514.py:168: SettingWithCopyWarning: \n",
      "A value is trying to be set on a copy of a slice from a DataFrame\n",
      "\n",
      "See the caveats in the documentation: https://pandas.pydata.org/pandas-docs/stable/user_guide/indexing.html#returning-a-view-versus-a-copy\n",
      "  shp_df.unique_file_name.iloc[i] = pg_file_name\n"
     ]
    },
    {
     "name": "stdout",
     "output_type": "stream",
     "text": [
      "Identifier 'idx_Muzaffarpur_Sub_district_4aadbbfb_21-06-2023 21:04:11_geometry' exceeds maximum length of 63 characters \\\\192.168.1.152\\ncfc_data3\\Neetu Mam (IP 26 Data Backup 17 April 23)\\5-5-2022_office_work\\PMFBY_Updated\\Shape_Files\\WRMS\\WRMS\\Shapefiles\\Bihar\\Muzaffarpur\\Muzaffarpur_Sub_district.zip\\Muzaffarpur_Sub_district.shp\n",
      "Executing 4169st file\n",
      "Purba_champaran_D.shp\n"
     ]
    },
    {
     "name": "stderr",
     "output_type": "stream",
     "text": [
      "C:\\Users\\user\\AppData\\Local\\Temp\\ipykernel_17068\\1832265514.py:168: SettingWithCopyWarning: \n",
      "A value is trying to be set on a copy of a slice from a DataFrame\n",
      "\n",
      "See the caveats in the documentation: https://pandas.pydata.org/pandas-docs/stable/user_guide/indexing.html#returning-a-view-versus-a-copy\n",
      "  shp_df.unique_file_name.iloc[i] = pg_file_name\n"
     ]
    },
    {
     "name": "stdout",
     "output_type": "stream",
     "text": [
      "Executing 4171st file\n",
      "Purbi_champaran_sub_district.shp\n"
     ]
    },
    {
     "name": "stderr",
     "output_type": "stream",
     "text": [
      "C:\\Users\\user\\AppData\\Local\\Temp\\ipykernel_17068\\1832265514.py:168: SettingWithCopyWarning: \n",
      "A value is trying to be set on a copy of a slice from a DataFrame\n",
      "\n",
      "See the caveats in the documentation: https://pandas.pydata.org/pandas-docs/stable/user_guide/indexing.html#returning-a-view-versus-a-copy\n",
      "  shp_df.unique_file_name.iloc[i] = pg_file_name\n"
     ]
    },
    {
     "name": "stdout",
     "output_type": "stream",
     "text": [
      "Identifier 'idx_Purbi_champaran_sub_district_e4db60c3_21-06-2023 21:04:12_geometry' exceeds maximum length of 63 characters \\\\192.168.1.152\\ncfc_data3\\Neetu Mam (IP 26 Data Backup 17 April 23)\\5-5-2022_office_work\\PMFBY_Updated\\Shape_Files\\WRMS\\WRMS\\Shapefiles\\Bihar\\Purbi champaran\\Purbi_champaran_sub_district.zip\\Purbi_champaran_sub_district.shp\n",
      "Executing 4174st file\n",
      "Ahmedabad_district.shp\n"
     ]
    },
    {
     "name": "stderr",
     "output_type": "stream",
     "text": [
      "C:\\Users\\user\\AppData\\Local\\Temp\\ipykernel_17068\\1832265514.py:168: SettingWithCopyWarning: \n",
      "A value is trying to be set on a copy of a slice from a DataFrame\n",
      "\n",
      "See the caveats in the documentation: https://pandas.pydata.org/pandas-docs/stable/user_guide/indexing.html#returning-a-view-versus-a-copy\n",
      "  shp_df.unique_file_name.iloc[i] = pg_file_name\n"
     ]
    },
    {
     "name": "stdout",
     "output_type": "stream",
     "text": [
      "Executing 4176st file\n",
      "Ahmedabad_sub_district.shp\n"
     ]
    },
    {
     "name": "stderr",
     "output_type": "stream",
     "text": [
      "C:\\Users\\user\\AppData\\Local\\Temp\\ipykernel_17068\\1832265514.py:168: SettingWithCopyWarning: \n",
      "A value is trying to be set on a copy of a slice from a DataFrame\n",
      "\n",
      "See the caveats in the documentation: https://pandas.pydata.org/pandas-docs/stable/user_guide/indexing.html#returning-a-view-versus-a-copy\n",
      "  shp_df.unique_file_name.iloc[i] = pg_file_name\n"
     ]
    },
    {
     "name": "stdout",
     "output_type": "stream",
     "text": [
      "Identifier 'idx_Ahmedabad_sub_district_d8d0a7bf_21-06-2023 21:04:12_geometry' exceeds maximum length of 63 characters \\\\192.168.1.152\\ncfc_data3\\Neetu Mam (IP 26 Data Backup 17 April 23)\\5-5-2022_office_work\\PMFBY_Updated\\Shape_Files\\WRMS\\WRMS\\Shapefiles\\Gujarat\\Ahmedabad\\Ahmedabad_sub_district.zip\\Ahmedabad_sub_district.shp\n",
      "Executing 4179st file\n",
      "aravalli_district.shp\n"
     ]
    },
    {
     "name": "stderr",
     "output_type": "stream",
     "text": [
      "C:\\Users\\user\\AppData\\Local\\Temp\\ipykernel_17068\\1832265514.py:168: SettingWithCopyWarning: \n",
      "A value is trying to be set on a copy of a slice from a DataFrame\n",
      "\n",
      "See the caveats in the documentation: https://pandas.pydata.org/pandas-docs/stable/user_guide/indexing.html#returning-a-view-versus-a-copy\n",
      "  shp_df.unique_file_name.iloc[i] = pg_file_name\n"
     ]
    },
    {
     "name": "stdout",
     "output_type": "stream",
     "text": [
      "Executing 4181st file\n",
      "Aravalli_sub_district.shp\n"
     ]
    },
    {
     "name": "stderr",
     "output_type": "stream",
     "text": [
      "C:\\Users\\user\\AppData\\Local\\Temp\\ipykernel_17068\\1832265514.py:168: SettingWithCopyWarning: \n",
      "A value is trying to be set on a copy of a slice from a DataFrame\n",
      "\n",
      "See the caveats in the documentation: https://pandas.pydata.org/pandas-docs/stable/user_guide/indexing.html#returning-a-view-versus-a-copy\n",
      "  shp_df.unique_file_name.iloc[i] = pg_file_name\n"
     ]
    },
    {
     "name": "stdout",
     "output_type": "stream",
     "text": [
      "Executing 4184st file\n",
      "Hisar_agri.shp\n"
     ]
    },
    {
     "name": "stderr",
     "output_type": "stream",
     "text": [
      "C:\\Users\\user\\AppData\\Local\\Temp\\ipykernel_17068\\1832265514.py:168: SettingWithCopyWarning: \n",
      "A value is trying to be set on a copy of a slice from a DataFrame\n",
      "\n",
      "See the caveats in the documentation: https://pandas.pydata.org/pandas-docs/stable/user_guide/indexing.html#returning-a-view-versus-a-copy\n",
      "  shp_df.unique_file_name.iloc[i] = pg_file_name\n"
     ]
    },
    {
     "name": "stdout",
     "output_type": "stream",
     "text": [
      "Executing 4186st file\n",
      "Hisar_B.shp\n"
     ]
    },
    {
     "name": "stderr",
     "output_type": "stream",
     "text": [
      "C:\\Users\\user\\AppData\\Local\\Temp\\ipykernel_17068\\1832265514.py:168: SettingWithCopyWarning: \n",
      "A value is trying to be set on a copy of a slice from a DataFrame\n",
      "\n",
      "See the caveats in the documentation: https://pandas.pydata.org/pandas-docs/stable/user_guide/indexing.html#returning-a-view-versus-a-copy\n",
      "  shp_df.unique_file_name.iloc[i] = pg_file_name\n"
     ]
    },
    {
     "name": "stdout",
     "output_type": "stream",
     "text": [
      "Executing 4188st file\n",
      "Hisar_D.shp\n"
     ]
    },
    {
     "name": "stderr",
     "output_type": "stream",
     "text": [
      "C:\\Users\\user\\AppData\\Local\\Temp\\ipykernel_17068\\1832265514.py:168: SettingWithCopyWarning: \n",
      "A value is trying to be set on a copy of a slice from a DataFrame\n",
      "\n",
      "See the caveats in the documentation: https://pandas.pydata.org/pandas-docs/stable/user_guide/indexing.html#returning-a-view-versus-a-copy\n",
      "  shp_df.unique_file_name.iloc[i] = pg_file_name\n"
     ]
    },
    {
     "name": "stdout",
     "output_type": "stream",
     "text": [
      "Executing 4193st file\n",
      "Hisar_V.shp\n"
     ]
    },
    {
     "name": "stderr",
     "output_type": "stream",
     "text": [
      "C:\\Users\\user\\AppData\\Local\\Temp\\ipykernel_17068\\1832265514.py:168: SettingWithCopyWarning: \n",
      "A value is trying to be set on a copy of a slice from a DataFrame\n",
      "\n",
      "See the caveats in the documentation: https://pandas.pydata.org/pandas-docs/stable/user_guide/indexing.html#returning-a-view-versus-a-copy\n",
      "  shp_df.unique_file_name.iloc[i] = pg_file_name\n"
     ]
    },
    {
     "name": "stdout",
     "output_type": "stream",
     "text": [
      "Executing 4195st file\n",
      "Kaithal_B.shp\n"
     ]
    },
    {
     "name": "stderr",
     "output_type": "stream",
     "text": [
      "C:\\Users\\user\\AppData\\Local\\Temp\\ipykernel_17068\\1832265514.py:168: SettingWithCopyWarning: \n",
      "A value is trying to be set on a copy of a slice from a DataFrame\n",
      "\n",
      "See the caveats in the documentation: https://pandas.pydata.org/pandas-docs/stable/user_guide/indexing.html#returning-a-view-versus-a-copy\n",
      "  shp_df.unique_file_name.iloc[i] = pg_file_name\n"
     ]
    },
    {
     "name": "stdout",
     "output_type": "stream",
     "text": [
      "Executing 4197st file\n",
      "Kaithal_D.shp\n"
     ]
    },
    {
     "name": "stderr",
     "output_type": "stream",
     "text": [
      "C:\\Users\\user\\AppData\\Local\\Temp\\ipykernel_17068\\1832265514.py:168: SettingWithCopyWarning: \n",
      "A value is trying to be set on a copy of a slice from a DataFrame\n",
      "\n",
      "See the caveats in the documentation: https://pandas.pydata.org/pandas-docs/stable/user_guide/indexing.html#returning-a-view-versus-a-copy\n",
      "  shp_df.unique_file_name.iloc[i] = pg_file_name\n"
     ]
    },
    {
     "name": "stdout",
     "output_type": "stream",
     "text": [
      "Executing 4199st file\n",
      "Kaithal_V.shp\n"
     ]
    },
    {
     "name": "stderr",
     "output_type": "stream",
     "text": [
      "C:\\Users\\user\\AppData\\Local\\Temp\\ipykernel_17068\\1832265514.py:168: SettingWithCopyWarning: \n",
      "A value is trying to be set on a copy of a slice from a DataFrame\n",
      "\n",
      "See the caveats in the documentation: https://pandas.pydata.org/pandas-docs/stable/user_guide/indexing.html#returning-a-view-versus-a-copy\n",
      "  shp_df.unique_file_name.iloc[i] = pg_file_name\n"
     ]
    },
    {
     "name": "stdout",
     "output_type": "stream",
     "text": [
      "Executing 4200st file\n",
      "karnal blcok/karnal_block.shp\n"
     ]
    },
    {
     "name": "stderr",
     "output_type": "stream",
     "text": [
      "C:\\Users\\user\\AppData\\Local\\Temp\\ipykernel_17068\\1832265514.py:168: SettingWithCopyWarning: \n",
      "A value is trying to be set on a copy of a slice from a DataFrame\n",
      "\n",
      "See the caveats in the documentation: https://pandas.pydata.org/pandas-docs/stable/user_guide/indexing.html#returning-a-view-versus-a-copy\n",
      "  shp_df.unique_file_name.iloc[i] = pg_file_name\n"
     ]
    },
    {
     "name": "stdout",
     "output_type": "stream",
     "text": [
      "Executing 4202st file\n",
      "Karnal_block.shp\n"
     ]
    },
    {
     "name": "stderr",
     "output_type": "stream",
     "text": [
      "C:\\Users\\user\\AppData\\Local\\Temp\\ipykernel_17068\\1832265514.py:168: SettingWithCopyWarning: \n",
      "A value is trying to be set on a copy of a slice from a DataFrame\n",
      "\n",
      "See the caveats in the documentation: https://pandas.pydata.org/pandas-docs/stable/user_guide/indexing.html#returning-a-view-versus-a-copy\n",
      "  shp_df.unique_file_name.iloc[i] = pg_file_name\n"
     ]
    },
    {
     "name": "stdout",
     "output_type": "stream",
     "text": [
      "Executing 4204st file\n",
      "Karnal_D.shp\n"
     ]
    },
    {
     "name": "stderr",
     "output_type": "stream",
     "text": [
      "C:\\Users\\user\\AppData\\Local\\Temp\\ipykernel_17068\\1832265514.py:168: SettingWithCopyWarning: \n",
      "A value is trying to be set on a copy of a slice from a DataFrame\n",
      "\n",
      "See the caveats in the documentation: https://pandas.pydata.org/pandas-docs/stable/user_guide/indexing.html#returning-a-view-versus-a-copy\n",
      "  shp_df.unique_file_name.iloc[i] = pg_file_name\n"
     ]
    },
    {
     "name": "stdout",
     "output_type": "stream",
     "text": [
      "Executing 4206st file\n",
      "Karnal_V.shp\n"
     ]
    },
    {
     "name": "stderr",
     "output_type": "stream",
     "text": [
      "C:\\Users\\user\\AppData\\Local\\Temp\\ipykernel_17068\\1832265514.py:168: SettingWithCopyWarning: \n",
      "A value is trying to be set on a copy of a slice from a DataFrame\n",
      "\n",
      "See the caveats in the documentation: https://pandas.pydata.org/pandas-docs/stable/user_guide/indexing.html#returning-a-view-versus-a-copy\n",
      "  shp_df.unique_file_name.iloc[i] = pg_file_name\n"
     ]
    },
    {
     "name": "stdout",
     "output_type": "stream",
     "text": [
      "Executing 4208st file\n",
      "Sonipat_Block.shp\n"
     ]
    },
    {
     "name": "stderr",
     "output_type": "stream",
     "text": [
      "C:\\Users\\user\\AppData\\Local\\Temp\\ipykernel_17068\\1832265514.py:168: SettingWithCopyWarning: \n",
      "A value is trying to be set on a copy of a slice from a DataFrame\n",
      "\n",
      "See the caveats in the documentation: https://pandas.pydata.org/pandas-docs/stable/user_guide/indexing.html#returning-a-view-versus-a-copy\n",
      "  shp_df.unique_file_name.iloc[i] = pg_file_name\n"
     ]
    },
    {
     "name": "stdout",
     "output_type": "stream",
     "text": [
      "Executing 4210st file\n",
      "Sonipat_D.shp\n"
     ]
    },
    {
     "name": "stderr",
     "output_type": "stream",
     "text": [
      "C:\\Users\\user\\AppData\\Local\\Temp\\ipykernel_17068\\1832265514.py:168: SettingWithCopyWarning: \n",
      "A value is trying to be set on a copy of a slice from a DataFrame\n",
      "\n",
      "See the caveats in the documentation: https://pandas.pydata.org/pandas-docs/stable/user_guide/indexing.html#returning-a-view-versus-a-copy\n",
      "  shp_df.unique_file_name.iloc[i] = pg_file_name\n"
     ]
    },
    {
     "name": "stdout",
     "output_type": "stream",
     "text": [
      "Executing 4212st file\n",
      "Sonipat_V.shp\n"
     ]
    },
    {
     "name": "stderr",
     "output_type": "stream",
     "text": [
      "C:\\Users\\user\\AppData\\Local\\Temp\\ipykernel_17068\\1832265514.py:168: SettingWithCopyWarning: \n",
      "A value is trying to be set on a copy of a slice from a DataFrame\n",
      "\n",
      "See the caveats in the documentation: https://pandas.pydata.org/pandas-docs/stable/user_guide/indexing.html#returning-a-view-versus-a-copy\n",
      "  shp_df.unique_file_name.iloc[i] = pg_file_name\n"
     ]
    },
    {
     "name": "stdout",
     "output_type": "stream",
     "text": [
      "Executing 4214st file\n",
      "Mandi_agrimask.shp\n"
     ]
    },
    {
     "name": "stderr",
     "output_type": "stream",
     "text": [
      "C:\\Users\\user\\AppData\\Local\\Temp\\ipykernel_17068\\1832265514.py:168: SettingWithCopyWarning: \n",
      "A value is trying to be set on a copy of a slice from a DataFrame\n",
      "\n",
      "See the caveats in the documentation: https://pandas.pydata.org/pandas-docs/stable/user_guide/indexing.html#returning-a-view-versus-a-copy\n",
      "  shp_df.unique_file_name.iloc[i] = pg_file_name\n"
     ]
    },
    {
     "name": "stdout",
     "output_type": "stream",
     "text": [
      "Executing 4217st file\n",
      "Mandi_Sub_district.shp\n"
     ]
    },
    {
     "name": "stderr",
     "output_type": "stream",
     "text": [
      "C:\\Users\\user\\AppData\\Local\\Temp\\ipykernel_17068\\1832265514.py:168: SettingWithCopyWarning: \n",
      "A value is trying to be set on a copy of a slice from a DataFrame\n",
      "\n",
      "See the caveats in the documentation: https://pandas.pydata.org/pandas-docs/stable/user_guide/indexing.html#returning-a-view-versus-a-copy\n",
      "  shp_df.unique_file_name.iloc[i] = pg_file_name\n"
     ]
    },
    {
     "name": "stdout",
     "output_type": "stream",
     "text": [
      "Executing 4219st file\n",
      "Mandi_v.shp\n"
     ]
    },
    {
     "name": "stderr",
     "output_type": "stream",
     "text": [
      "C:\\Users\\user\\AppData\\Local\\Temp\\ipykernel_17068\\1832265514.py:168: SettingWithCopyWarning: \n",
      "A value is trying to be set on a copy of a slice from a DataFrame\n",
      "\n",
      "See the caveats in the documentation: https://pandas.pydata.org/pandas-docs/stable/user_guide/indexing.html#returning-a-view-versus-a-copy\n",
      "  shp_df.unique_file_name.iloc[i] = pg_file_name\n"
     ]
    },
    {
     "name": "stdout",
     "output_type": "stream",
     "text": [
      "Executing 4221st file\n",
      "Bellary_B.shp\n",
      "Executing 4223st file\n",
      "Bellary_D.shp\n"
     ]
    },
    {
     "name": "stderr",
     "output_type": "stream",
     "text": [
      "C:\\Users\\user\\AppData\\Local\\Temp\\ipykernel_17068\\1832265514.py:168: SettingWithCopyWarning: \n",
      "A value is trying to be set on a copy of a slice from a DataFrame\n",
      "\n",
      "See the caveats in the documentation: https://pandas.pydata.org/pandas-docs/stable/user_guide/indexing.html#returning-a-view-versus-a-copy\n",
      "  shp_df.unique_file_name.iloc[i] = pg_file_name\n",
      "C:\\Users\\user\\AppData\\Local\\Temp\\ipykernel_17068\\1832265514.py:168: SettingWithCopyWarning: \n",
      "A value is trying to be set on a copy of a slice from a DataFrame\n",
      "\n",
      "See the caveats in the documentation: https://pandas.pydata.org/pandas-docs/stable/user_guide/indexing.html#returning-a-view-versus-a-copy\n",
      "  shp_df.unique_file_name.iloc[i] = pg_file_name\n"
     ]
    },
    {
     "name": "stdout",
     "output_type": "stream",
     "text": [
      "Executing 4227st file\n",
      "Alwar_B_shifted.shp\n"
     ]
    },
    {
     "name": "stderr",
     "output_type": "stream",
     "text": [
      "C:\\Users\\user\\AppData\\Local\\Temp\\ipykernel_17068\\1832265514.py:168: SettingWithCopyWarning: \n",
      "A value is trying to be set on a copy of a slice from a DataFrame\n",
      "\n",
      "See the caveats in the documentation: https://pandas.pydata.org/pandas-docs/stable/user_guide/indexing.html#returning-a-view-versus-a-copy\n",
      "  shp_df.unique_file_name.iloc[i] = pg_file_name\n"
     ]
    },
    {
     "name": "stdout",
     "output_type": "stream",
     "text": [
      "Executing 4229st file\n",
      "Alwar_B_update.shp\n"
     ]
    },
    {
     "name": "stderr",
     "output_type": "stream",
     "text": [
      "C:\\Users\\user\\AppData\\Local\\Temp\\ipykernel_17068\\1832265514.py:168: SettingWithCopyWarning: \n",
      "A value is trying to be set on a copy of a slice from a DataFrame\n",
      "\n",
      "See the caveats in the documentation: https://pandas.pydata.org/pandas-docs/stable/user_guide/indexing.html#returning-a-view-versus-a-copy\n",
      "  shp_df.unique_file_name.iloc[i] = pg_file_name\n"
     ]
    },
    {
     "name": "stdout",
     "output_type": "stream",
     "text": [
      "Executing 4231st file\n",
      "Alwar_D.shp\n"
     ]
    },
    {
     "name": "stderr",
     "output_type": "stream",
     "text": [
      "C:\\Users\\user\\AppData\\Local\\Temp\\ipykernel_17068\\1832265514.py:168: SettingWithCopyWarning: \n",
      "A value is trying to be set on a copy of a slice from a DataFrame\n",
      "\n",
      "See the caveats in the documentation: https://pandas.pydata.org/pandas-docs/stable/user_guide/indexing.html#returning-a-view-versus-a-copy\n",
      "  shp_df.unique_file_name.iloc[i] = pg_file_name\n"
     ]
    },
    {
     "name": "stdout",
     "output_type": "stream",
     "text": [
      "Executing 4233st file\n",
      "Alwar_V.shp\n"
     ]
    },
    {
     "name": "stderr",
     "output_type": "stream",
     "text": [
      "C:\\Users\\user\\AppData\\Local\\Temp\\ipykernel_17068\\1832265514.py:168: SettingWithCopyWarning: \n",
      "A value is trying to be set on a copy of a slice from a DataFrame\n",
      "\n",
      "See the caveats in the documentation: https://pandas.pydata.org/pandas-docs/stable/user_guide/indexing.html#returning-a-view-versus-a-copy\n",
      "  shp_df.unique_file_name.iloc[i] = pg_file_name\n"
     ]
    },
    {
     "name": "stdout",
     "output_type": "stream",
     "text": [
      "Executing 4236st file\n",
      "Hanumangarh_B.shp\n"
     ]
    },
    {
     "name": "stderr",
     "output_type": "stream",
     "text": [
      "C:\\Users\\user\\AppData\\Local\\Temp\\ipykernel_17068\\1832265514.py:168: SettingWithCopyWarning: \n",
      "A value is trying to be set on a copy of a slice from a DataFrame\n",
      "\n",
      "See the caveats in the documentation: https://pandas.pydata.org/pandas-docs/stable/user_guide/indexing.html#returning-a-view-versus-a-copy\n",
      "  shp_df.unique_file_name.iloc[i] = pg_file_name\n"
     ]
    },
    {
     "name": "stdout",
     "output_type": "stream",
     "text": [
      "Executing 4238st file\n",
      "Hanumangarh_B_update.shp\n"
     ]
    },
    {
     "name": "stderr",
     "output_type": "stream",
     "text": [
      "C:\\Users\\user\\AppData\\Local\\Temp\\ipykernel_17068\\1832265514.py:168: SettingWithCopyWarning: \n",
      "A value is trying to be set on a copy of a slice from a DataFrame\n",
      "\n",
      "See the caveats in the documentation: https://pandas.pydata.org/pandas-docs/stable/user_guide/indexing.html#returning-a-view-versus-a-copy\n",
      "  shp_df.unique_file_name.iloc[i] = pg_file_name\n"
     ]
    },
    {
     "name": "stdout",
     "output_type": "stream",
     "text": [
      "Executing 4240st file\n",
      "Hanumangarh_D.shp\n"
     ]
    },
    {
     "name": "stderr",
     "output_type": "stream",
     "text": [
      "C:\\Users\\user\\AppData\\Local\\Temp\\ipykernel_17068\\1832265514.py:168: SettingWithCopyWarning: \n",
      "A value is trying to be set on a copy of a slice from a DataFrame\n",
      "\n",
      "See the caveats in the documentation: https://pandas.pydata.org/pandas-docs/stable/user_guide/indexing.html#returning-a-view-versus-a-copy\n",
      "  shp_df.unique_file_name.iloc[i] = pg_file_name\n"
     ]
    },
    {
     "name": "stdout",
     "output_type": "stream",
     "text": [
      "Executing 4242st file\n",
      "Hanumangarh_D_v1.shp\n"
     ]
    },
    {
     "name": "stderr",
     "output_type": "stream",
     "text": [
      "C:\\Users\\user\\AppData\\Local\\Temp\\ipykernel_17068\\1832265514.py:168: SettingWithCopyWarning: \n",
      "A value is trying to be set on a copy of a slice from a DataFrame\n",
      "\n",
      "See the caveats in the documentation: https://pandas.pydata.org/pandas-docs/stable/user_guide/indexing.html#returning-a-view-versus-a-copy\n",
      "  shp_df.unique_file_name.iloc[i] = pg_file_name\n"
     ]
    },
    {
     "name": "stdout",
     "output_type": "stream",
     "text": [
      "Executing 4244st file\n",
      "Hanumangarh_V.shp\n"
     ]
    },
    {
     "name": "stderr",
     "output_type": "stream",
     "text": [
      "C:\\Users\\user\\AppData\\Local\\Temp\\ipykernel_17068\\1832265514.py:168: SettingWithCopyWarning: \n",
      "A value is trying to be set on a copy of a slice from a DataFrame\n",
      "\n",
      "See the caveats in the documentation: https://pandas.pydata.org/pandas-docs/stable/user_guide/indexing.html#returning-a-view-versus-a-copy\n",
      "  shp_df.unique_file_name.iloc[i] = pg_file_name\n"
     ]
    },
    {
     "name": "stdout",
     "output_type": "stream",
     "text": [
      "Executing 4247st file\n",
      "Jhalawar_agrimask.shp\n"
     ]
    },
    {
     "name": "stderr",
     "output_type": "stream",
     "text": [
      "C:\\Users\\user\\AppData\\Local\\Temp\\ipykernel_17068\\1832265514.py:168: SettingWithCopyWarning: \n",
      "A value is trying to be set on a copy of a slice from a DataFrame\n",
      "\n",
      "See the caveats in the documentation: https://pandas.pydata.org/pandas-docs/stable/user_guide/indexing.html#returning-a-view-versus-a-copy\n",
      "  shp_df.unique_file_name.iloc[i] = pg_file_name\n"
     ]
    },
    {
     "name": "stdout",
     "output_type": "stream",
     "text": [
      "Executing 4249st file\n",
      "Jhalawar_B_shifted.shp\n"
     ]
    },
    {
     "name": "stderr",
     "output_type": "stream",
     "text": [
      "C:\\Users\\user\\AppData\\Local\\Temp\\ipykernel_17068\\1832265514.py:168: SettingWithCopyWarning: \n",
      "A value is trying to be set on a copy of a slice from a DataFrame\n",
      "\n",
      "See the caveats in the documentation: https://pandas.pydata.org/pandas-docs/stable/user_guide/indexing.html#returning-a-view-versus-a-copy\n",
      "  shp_df.unique_file_name.iloc[i] = pg_file_name\n"
     ]
    },
    {
     "name": "stdout",
     "output_type": "stream",
     "text": [
      "Executing 4251st file\n",
      "Jhalawar_B_update.shp\n"
     ]
    },
    {
     "name": "stderr",
     "output_type": "stream",
     "text": [
      "C:\\Users\\user\\AppData\\Local\\Temp\\ipykernel_17068\\1832265514.py:168: SettingWithCopyWarning: \n",
      "A value is trying to be set on a copy of a slice from a DataFrame\n",
      "\n",
      "See the caveats in the documentation: https://pandas.pydata.org/pandas-docs/stable/user_guide/indexing.html#returning-a-view-versus-a-copy\n",
      "  shp_df.unique_file_name.iloc[i] = pg_file_name\n"
     ]
    },
    {
     "name": "stdout",
     "output_type": "stream",
     "text": [
      "Executing 4253st file\n",
      "Jhalawar_D.shp\n"
     ]
    },
    {
     "name": "stderr",
     "output_type": "stream",
     "text": [
      "C:\\Users\\user\\AppData\\Local\\Temp\\ipykernel_17068\\1832265514.py:168: SettingWithCopyWarning: \n",
      "A value is trying to be set on a copy of a slice from a DataFrame\n",
      "\n",
      "See the caveats in the documentation: https://pandas.pydata.org/pandas-docs/stable/user_guide/indexing.html#returning-a-view-versus-a-copy\n",
      "  shp_df.unique_file_name.iloc[i] = pg_file_name\n"
     ]
    },
    {
     "name": "stdout",
     "output_type": "stream",
     "text": [
      "Executing 4255st file\n",
      "Jhalawar_Dv1.shp\n"
     ]
    },
    {
     "name": "stderr",
     "output_type": "stream",
     "text": [
      "C:\\Users\\user\\AppData\\Local\\Temp\\ipykernel_17068\\1832265514.py:168: SettingWithCopyWarning: \n",
      "A value is trying to be set on a copy of a slice from a DataFrame\n",
      "\n",
      "See the caveats in the documentation: https://pandas.pydata.org/pandas-docs/stable/user_guide/indexing.html#returning-a-view-versus-a-copy\n",
      "  shp_df.unique_file_name.iloc[i] = pg_file_name\n"
     ]
    },
    {
     "name": "stdout",
     "output_type": "stream",
     "text": [
      "Executing 4257st file\n",
      "Jhalawar_V.shp\n"
     ]
    },
    {
     "name": "stderr",
     "output_type": "stream",
     "text": [
      "C:\\Users\\user\\AppData\\Local\\Temp\\ipykernel_17068\\1832265514.py:168: SettingWithCopyWarning: \n",
      "A value is trying to be set on a copy of a slice from a DataFrame\n",
      "\n",
      "See the caveats in the documentation: https://pandas.pydata.org/pandas-docs/stable/user_guide/indexing.html#returning-a-view-versus-a-copy\n",
      "  shp_df.unique_file_name.iloc[i] = pg_file_name\n"
     ]
    },
    {
     "name": "stdout",
     "output_type": "stream",
     "text": [
      "Executing 4259st file\n",
      "Kota_block.shp\n"
     ]
    },
    {
     "name": "stderr",
     "output_type": "stream",
     "text": [
      "C:\\Users\\user\\AppData\\Local\\Temp\\ipykernel_17068\\1832265514.py:168: SettingWithCopyWarning: \n",
      "A value is trying to be set on a copy of a slice from a DataFrame\n",
      "\n",
      "See the caveats in the documentation: https://pandas.pydata.org/pandas-docs/stable/user_guide/indexing.html#returning-a-view-versus-a-copy\n",
      "  shp_df.unique_file_name.iloc[i] = pg_file_name\n"
     ]
    },
    {
     "name": "stdout",
     "output_type": "stream",
     "text": [
      "Executing 4261st file\n",
      "Kota_D.shp\n"
     ]
    },
    {
     "name": "stderr",
     "output_type": "stream",
     "text": [
      "C:\\Users\\user\\AppData\\Local\\Temp\\ipykernel_17068\\1832265514.py:168: SettingWithCopyWarning: \n",
      "A value is trying to be set on a copy of a slice from a DataFrame\n",
      "\n",
      "See the caveats in the documentation: https://pandas.pydata.org/pandas-docs/stable/user_guide/indexing.html#returning-a-view-versus-a-copy\n",
      "  shp_df.unique_file_name.iloc[i] = pg_file_name\n"
     ]
    },
    {
     "name": "stdout",
     "output_type": "stream",
     "text": [
      "Executing 4263st file\n",
      "Kota_D_update.shp\n"
     ]
    },
    {
     "name": "stderr",
     "output_type": "stream",
     "text": [
      "C:\\Users\\user\\AppData\\Local\\Temp\\ipykernel_17068\\1832265514.py:168: SettingWithCopyWarning: \n",
      "A value is trying to be set on a copy of a slice from a DataFrame\n",
      "\n",
      "See the caveats in the documentation: https://pandas.pydata.org/pandas-docs/stable/user_guide/indexing.html#returning-a-view-versus-a-copy\n",
      "  shp_df.unique_file_name.iloc[i] = pg_file_name\n"
     ]
    },
    {
     "name": "stdout",
     "output_type": "stream",
     "text": [
      "Executing 4265st file\n",
      "Kota_Sub_district.shp\n"
     ]
    },
    {
     "name": "stderr",
     "output_type": "stream",
     "text": [
      "C:\\Users\\user\\AppData\\Local\\Temp\\ipykernel_17068\\1832265514.py:168: SettingWithCopyWarning: \n",
      "A value is trying to be set on a copy of a slice from a DataFrame\n",
      "\n",
      "See the caveats in the documentation: https://pandas.pydata.org/pandas-docs/stable/user_guide/indexing.html#returning-a-view-versus-a-copy\n",
      "  shp_df.unique_file_name.iloc[i] = pg_file_name\n"
     ]
    },
    {
     "name": "stdout",
     "output_type": "stream",
     "text": [
      "Executing 4267st file\n",
      "Kota_V.shp\n"
     ]
    },
    {
     "name": "stderr",
     "output_type": "stream",
     "text": [
      "C:\\Users\\user\\AppData\\Local\\Temp\\ipykernel_17068\\1832265514.py:168: SettingWithCopyWarning: \n",
      "A value is trying to be set on a copy of a slice from a DataFrame\n",
      "\n",
      "See the caveats in the documentation: https://pandas.pydata.org/pandas-docs/stable/user_guide/indexing.html#returning-a-view-versus-a-copy\n",
      "  shp_df.unique_file_name.iloc[i] = pg_file_name\n"
     ]
    },
    {
     "name": "stdout",
     "output_type": "stream",
     "text": [
      "Executing 4269st file\n",
      "Gonda_B.shp\n"
     ]
    },
    {
     "name": "stderr",
     "output_type": "stream",
     "text": [
      "C:\\Users\\user\\AppData\\Local\\Temp\\ipykernel_17068\\1832265514.py:168: SettingWithCopyWarning: \n",
      "A value is trying to be set on a copy of a slice from a DataFrame\n",
      "\n",
      "See the caveats in the documentation: https://pandas.pydata.org/pandas-docs/stable/user_guide/indexing.html#returning-a-view-versus-a-copy\n",
      "  shp_df.unique_file_name.iloc[i] = pg_file_name\n"
     ]
    },
    {
     "name": "stdout",
     "output_type": "stream",
     "text": [
      "Executing 4271st file\n",
      "Gonda_D.shp\n"
     ]
    },
    {
     "name": "stderr",
     "output_type": "stream",
     "text": [
      "C:\\Users\\user\\AppData\\Local\\Temp\\ipykernel_17068\\1832265514.py:168: SettingWithCopyWarning: \n",
      "A value is trying to be set on a copy of a slice from a DataFrame\n",
      "\n",
      "See the caveats in the documentation: https://pandas.pydata.org/pandas-docs/stable/user_guide/indexing.html#returning-a-view-versus-a-copy\n",
      "  shp_df.unique_file_name.iloc[i] = pg_file_name\n"
     ]
    },
    {
     "name": "stdout",
     "output_type": "stream",
     "text": [
      "Executing 4274st file\n",
      "Mainpuri_B.shp\n"
     ]
    },
    {
     "name": "stderr",
     "output_type": "stream",
     "text": [
      "C:\\Users\\user\\AppData\\Local\\Temp\\ipykernel_17068\\1832265514.py:168: SettingWithCopyWarning: \n",
      "A value is trying to be set on a copy of a slice from a DataFrame\n",
      "\n",
      "See the caveats in the documentation: https://pandas.pydata.org/pandas-docs/stable/user_guide/indexing.html#returning-a-view-versus-a-copy\n",
      "  shp_df.unique_file_name.iloc[i] = pg_file_name\n"
     ]
    },
    {
     "name": "stdout",
     "output_type": "stream",
     "text": [
      "Executing 4276st file\n",
      "Mainpuri_D.shp\n"
     ]
    },
    {
     "name": "stderr",
     "output_type": "stream",
     "text": [
      "C:\\Users\\user\\AppData\\Local\\Temp\\ipykernel_17068\\1832265514.py:168: SettingWithCopyWarning: \n",
      "A value is trying to be set on a copy of a slice from a DataFrame\n",
      "\n",
      "See the caveats in the documentation: https://pandas.pydata.org/pandas-docs/stable/user_guide/indexing.html#returning-a-view-versus-a-copy\n",
      "  shp_df.unique_file_name.iloc[i] = pg_file_name\n"
     ]
    },
    {
     "name": "stdout",
     "output_type": "stream",
     "text": [
      "Executing 4279st file\n",
      "Mathura_B.shp\n"
     ]
    },
    {
     "name": "stderr",
     "output_type": "stream",
     "text": [
      "C:\\Users\\user\\AppData\\Local\\Temp\\ipykernel_17068\\1832265514.py:168: SettingWithCopyWarning: \n",
      "A value is trying to be set on a copy of a slice from a DataFrame\n",
      "\n",
      "See the caveats in the documentation: https://pandas.pydata.org/pandas-docs/stable/user_guide/indexing.html#returning-a-view-versus-a-copy\n",
      "  shp_df.unique_file_name.iloc[i] = pg_file_name\n"
     ]
    },
    {
     "name": "stdout",
     "output_type": "stream",
     "text": [
      "Executing 4281st file\n",
      "Mathura_D.shp\n"
     ]
    },
    {
     "name": "stderr",
     "output_type": "stream",
     "text": [
      "C:\\Users\\user\\AppData\\Local\\Temp\\ipykernel_17068\\1832265514.py:168: SettingWithCopyWarning: \n",
      "A value is trying to be set on a copy of a slice from a DataFrame\n",
      "\n",
      "See the caveats in the documentation: https://pandas.pydata.org/pandas-docs/stable/user_guide/indexing.html#returning-a-view-versus-a-copy\n",
      "  shp_df.unique_file_name.iloc[i] = pg_file_name\n"
     ]
    },
    {
     "name": "stdout",
     "output_type": "stream",
     "text": [
      "Executing 4284st file\n",
      "Shahjahanpur_B.shp\n"
     ]
    },
    {
     "name": "stderr",
     "output_type": "stream",
     "text": [
      "C:\\Users\\user\\AppData\\Local\\Temp\\ipykernel_17068\\1832265514.py:168: SettingWithCopyWarning: \n",
      "A value is trying to be set on a copy of a slice from a DataFrame\n",
      "\n",
      "See the caveats in the documentation: https://pandas.pydata.org/pandas-docs/stable/user_guide/indexing.html#returning-a-view-versus-a-copy\n",
      "  shp_df.unique_file_name.iloc[i] = pg_file_name\n"
     ]
    },
    {
     "name": "stdout",
     "output_type": "stream",
     "text": [
      "Executing 4286st file\n",
      "Shahjahanpur_D.shp\n"
     ]
    },
    {
     "name": "stderr",
     "output_type": "stream",
     "text": [
      "C:\\Users\\user\\AppData\\Local\\Temp\\ipykernel_17068\\1832265514.py:168: SettingWithCopyWarning: \n",
      "A value is trying to be set on a copy of a slice from a DataFrame\n",
      "\n",
      "See the caveats in the documentation: https://pandas.pydata.org/pandas-docs/stable/user_guide/indexing.html#returning-a-view-versus-a-copy\n",
      "  shp_df.unique_file_name.iloc[i] = pg_file_name\n"
     ]
    },
    {
     "name": "stdout",
     "output_type": "stream",
     "text": [
      "Executing 4289st file\n",
      "Siddhartnagar_B.shp\n"
     ]
    },
    {
     "name": "stderr",
     "output_type": "stream",
     "text": [
      "C:\\Users\\user\\AppData\\Local\\Temp\\ipykernel_17068\\1832265514.py:168: SettingWithCopyWarning: \n",
      "A value is trying to be set on a copy of a slice from a DataFrame\n",
      "\n",
      "See the caveats in the documentation: https://pandas.pydata.org/pandas-docs/stable/user_guide/indexing.html#returning-a-view-versus-a-copy\n",
      "  shp_df.unique_file_name.iloc[i] = pg_file_name\n"
     ]
    },
    {
     "name": "stdout",
     "output_type": "stream",
     "text": [
      "Executing 4291st file\n",
      "Siddhartnagar_D.shp\n"
     ]
    },
    {
     "name": "stderr",
     "output_type": "stream",
     "text": [
      "C:\\Users\\user\\AppData\\Local\\Temp\\ipykernel_17068\\1832265514.py:168: SettingWithCopyWarning: \n",
      "A value is trying to be set on a copy of a slice from a DataFrame\n",
      "\n",
      "See the caveats in the documentation: https://pandas.pydata.org/pandas-docs/stable/user_guide/indexing.html#returning-a-view-versus-a-copy\n",
      "  shp_df.unique_file_name.iloc[i] = pg_file_name\n"
     ]
    },
    {
     "name": "stdout",
     "output_type": "stream",
     "text": [
      "Executing 4294st file\n",
      "Sitapur_B.shp\n"
     ]
    },
    {
     "name": "stderr",
     "output_type": "stream",
     "text": [
      "C:\\Users\\user\\AppData\\Local\\Temp\\ipykernel_17068\\1832265514.py:168: SettingWithCopyWarning: \n",
      "A value is trying to be set on a copy of a slice from a DataFrame\n",
      "\n",
      "See the caveats in the documentation: https://pandas.pydata.org/pandas-docs/stable/user_guide/indexing.html#returning-a-view-versus-a-copy\n",
      "  shp_df.unique_file_name.iloc[i] = pg_file_name\n"
     ]
    },
    {
     "name": "stdout",
     "output_type": "stream",
     "text": [
      "Executing 4296st file\n",
      "Sitapur_D.shp\n"
     ]
    },
    {
     "name": "stderr",
     "output_type": "stream",
     "text": [
      "C:\\Users\\user\\AppData\\Local\\Temp\\ipykernel_17068\\1832265514.py:168: SettingWithCopyWarning: \n",
      "A value is trying to be set on a copy of a slice from a DataFrame\n",
      "\n",
      "See the caveats in the documentation: https://pandas.pydata.org/pandas-docs/stable/user_guide/indexing.html#returning-a-view-versus-a-copy\n",
      "  shp_df.unique_file_name.iloc[i] = pg_file_name\n"
     ]
    },
    {
     "name": "stdout",
     "output_type": "stream",
     "text": [
      "Executing 4299st file\n",
      "Unnao_B.shp\n"
     ]
    },
    {
     "name": "stderr",
     "output_type": "stream",
     "text": [
      "C:\\Users\\user\\AppData\\Local\\Temp\\ipykernel_17068\\1832265514.py:168: SettingWithCopyWarning: \n",
      "A value is trying to be set on a copy of a slice from a DataFrame\n",
      "\n",
      "See the caveats in the documentation: https://pandas.pydata.org/pandas-docs/stable/user_guide/indexing.html#returning-a-view-versus-a-copy\n",
      "  shp_df.unique_file_name.iloc[i] = pg_file_name\n"
     ]
    },
    {
     "name": "stdout",
     "output_type": "stream",
     "text": [
      "Executing 4301st file\n",
      "Unnao_D.shp\n"
     ]
    },
    {
     "name": "stderr",
     "output_type": "stream",
     "text": [
      "C:\\Users\\user\\AppData\\Local\\Temp\\ipykernel_17068\\1832265514.py:168: SettingWithCopyWarning: \n",
      "A value is trying to be set on a copy of a slice from a DataFrame\n",
      "\n",
      "See the caveats in the documentation: https://pandas.pydata.org/pandas-docs/stable/user_guide/indexing.html#returning-a-view-versus-a-copy\n",
      "  shp_df.unique_file_name.iloc[i] = pg_file_name\n"
     ]
    },
    {
     "name": "stdout",
     "output_type": "stream",
     "text": [
      "Executing 4304st file\n",
      "Birbhum_D.shp\n"
     ]
    },
    {
     "name": "stderr",
     "output_type": "stream",
     "text": [
      "C:\\Users\\user\\AppData\\Local\\Temp\\ipykernel_17068\\1832265514.py:168: SettingWithCopyWarning: \n",
      "A value is trying to be set on a copy of a slice from a DataFrame\n",
      "\n",
      "See the caveats in the documentation: https://pandas.pydata.org/pandas-docs/stable/user_guide/indexing.html#returning-a-view-versus-a-copy\n",
      "  shp_df.unique_file_name.iloc[i] = pg_file_name\n",
      "C:\\Users\\user\\miniconda3\\envs\\kdss_base\\lib\\site-packages\\geopandas\\io\\sql.py:415: UserWarning: Could not parse CRS from the GeoDataFrame. Inserting data without defined CRS.\n",
      "  srid = _get_srid_from_crs(gdf)\n"
     ]
    },
    {
     "name": "stdout",
     "output_type": "stream",
     "text": [
      "Executing 4306st file\n",
      "Birbhum_T.shp\n"
     ]
    },
    {
     "name": "stderr",
     "output_type": "stream",
     "text": [
      "C:\\Users\\user\\AppData\\Local\\Temp\\ipykernel_17068\\1832265514.py:168: SettingWithCopyWarning: \n",
      "A value is trying to be set on a copy of a slice from a DataFrame\n",
      "\n",
      "See the caveats in the documentation: https://pandas.pydata.org/pandas-docs/stable/user_guide/indexing.html#returning-a-view-versus-a-copy\n",
      "  shp_df.unique_file_name.iloc[i] = pg_file_name\n",
      "C:\\Users\\user\\miniconda3\\envs\\kdss_base\\lib\\site-packages\\geopandas\\io\\sql.py:415: UserWarning: Could not parse CRS from the GeoDataFrame. Inserting data without defined CRS.\n",
      "  srid = _get_srid_from_crs(gdf)\n",
      "C:\\Users\\user\\AppData\\Local\\Temp\\ipykernel_17068\\1832265514.py:168: SettingWithCopyWarning: \n",
      "A value is trying to be set on a copy of a slice from a DataFrame\n",
      "\n",
      "See the caveats in the documentation: https://pandas.pydata.org/pandas-docs/stable/user_guide/indexing.html#returning-a-view-versus-a-copy\n",
      "  shp_df.unique_file_name.iloc[i] = pg_file_name\n"
     ]
    },
    {
     "name": "stdout",
     "output_type": "stream",
     "text": [
      "Executing 4309st file\n",
      "paschim_mednipur_D.shp\n"
     ]
    },
    {
     "name": "stderr",
     "output_type": "stream",
     "text": [
      "C:\\Users\\user\\miniconda3\\envs\\kdss_base\\lib\\site-packages\\geopandas\\io\\sql.py:415: UserWarning: Could not parse CRS from the GeoDataFrame. Inserting data without defined CRS.\n",
      "  srid = _get_srid_from_crs(gdf)\n",
      "C:\\Users\\user\\AppData\\Local\\Temp\\ipykernel_17068\\1832265514.py:168: SettingWithCopyWarning: \n",
      "A value is trying to be set on a copy of a slice from a DataFrame\n",
      "\n",
      "See the caveats in the documentation: https://pandas.pydata.org/pandas-docs/stable/user_guide/indexing.html#returning-a-view-versus-a-copy\n",
      "  shp_df.unique_file_name.iloc[i] = pg_file_name\n"
     ]
    },
    {
     "name": "stdout",
     "output_type": "stream",
     "text": [
      "Executing 4311st file\n",
      "paschim_mednipur_T.shp\n"
     ]
    },
    {
     "name": "stderr",
     "output_type": "stream",
     "text": [
      "C:\\Users\\user\\miniconda3\\envs\\kdss_base\\lib\\site-packages\\geopandas\\io\\sql.py:415: UserWarning: Could not parse CRS from the GeoDataFrame. Inserting data without defined CRS.\n",
      "  srid = _get_srid_from_crs(gdf)\n",
      "C:\\Users\\user\\AppData\\Local\\Temp\\ipykernel_17068\\1832265514.py:168: SettingWithCopyWarning: \n",
      "A value is trying to be set on a copy of a slice from a DataFrame\n",
      "\n",
      "See the caveats in the documentation: https://pandas.pydata.org/pandas-docs/stable/user_guide/indexing.html#returning-a-view-versus-a-copy\n",
      "  shp_df.unique_file_name.iloc[i] = pg_file_name\n"
     ]
    },
    {
     "name": "stdout",
     "output_type": "stream",
     "text": [
      "Executing 4314st file\n",
      "Purba_mednipur_agrimask.shp\n"
     ]
    },
    {
     "name": "stderr",
     "output_type": "stream",
     "text": [
      "C:\\Users\\user\\miniconda3\\envs\\kdss_base\\lib\\site-packages\\geopandas\\io\\sql.py:415: UserWarning: Could not parse CRS from the GeoDataFrame. Inserting data without defined CRS.\n",
      "  srid = _get_srid_from_crs(gdf)\n"
     ]
    },
    {
     "name": "stdout",
     "output_type": "stream",
     "text": [
      "Identifier 'idx_Purba_mednipur_agrimask_058e6edf_21-06-2023 21:04:52_geometry' exceeds maximum length of 63 characters \\\\192.168.1.152\\ncfc_data3\\Neetu Mam (IP 26 Data Backup 17 April 23)\\5-5-2022_office_work\\PMFBY_Updated\\Shape_Files\\WRMS\\WRMS\\Shapefiles\\West Bengal\\Purba medinipur\\Purba_mednipur_agrimask.zip\\Purba_mednipur_agrimask.shp\n",
      "Executing 4316st file\n",
      "Purba_mednipur_D.shp\n"
     ]
    },
    {
     "name": "stderr",
     "output_type": "stream",
     "text": [
      "C:\\Users\\user\\AppData\\Local\\Temp\\ipykernel_17068\\1832265514.py:168: SettingWithCopyWarning: \n",
      "A value is trying to be set on a copy of a slice from a DataFrame\n",
      "\n",
      "See the caveats in the documentation: https://pandas.pydata.org/pandas-docs/stable/user_guide/indexing.html#returning-a-view-versus-a-copy\n",
      "  shp_df.unique_file_name.iloc[i] = pg_file_name\n",
      "C:\\Users\\user\\miniconda3\\envs\\kdss_base\\lib\\site-packages\\geopandas\\io\\sql.py:415: UserWarning: Could not parse CRS from the GeoDataFrame. Inserting data without defined CRS.\n",
      "  srid = _get_srid_from_crs(gdf)\n",
      "C:\\Users\\user\\AppData\\Local\\Temp\\ipykernel_17068\\1832265514.py:168: SettingWithCopyWarning: \n",
      "A value is trying to be set on a copy of a slice from a DataFrame\n",
      "\n",
      "See the caveats in the documentation: https://pandas.pydata.org/pandas-docs/stable/user_guide/indexing.html#returning-a-view-versus-a-copy\n",
      "  shp_df.unique_file_name.iloc[i] = pg_file_name\n"
     ]
    },
    {
     "name": "stdout",
     "output_type": "stream",
     "text": [
      "Executing 4318st file\n",
      "Purba_mednipur_T.shp\n"
     ]
    },
    {
     "name": "stderr",
     "output_type": "stream",
     "text": [
      "C:\\Users\\user\\miniconda3\\envs\\kdss_base\\lib\\site-packages\\geopandas\\io\\sql.py:415: UserWarning: Could not parse CRS from the GeoDataFrame. Inserting data without defined CRS.\n",
      "  srid = _get_srid_from_crs(gdf)\n",
      "C:\\Users\\user\\AppData\\Local\\Temp\\ipykernel_17068\\1832265514.py:168: SettingWithCopyWarning: \n",
      "A value is trying to be set on a copy of a slice from a DataFrame\n",
      "\n",
      "See the caveats in the documentation: https://pandas.pydata.org/pandas-docs/stable/user_guide/indexing.html#returning-a-view-versus-a-copy\n",
      "  shp_df.unique_file_name.iloc[i] = pg_file_name\n"
     ]
    },
    {
     "name": "stdout",
     "output_type": "stream",
     "text": [
      "Executing 4320st file\n",
      "MNCFC Data/CIRCLE_MAP_ASSAC/Barpeta.shp\n"
     ]
    },
    {
     "name": "stderr",
     "output_type": "stream",
     "text": [
      "C:\\Users\\user\\miniconda3\\envs\\kdss_base\\lib\\site-packages\\geopandas\\io\\sql.py:415: UserWarning: Could not parse CRS from the GeoDataFrame. Inserting data without defined CRS.\n",
      "  srid = _get_srid_from_crs(gdf)\n"
     ]
    },
    {
     "name": "stdout",
     "output_type": "stream",
     "text": [
      "Executing 4321st file\n",
      "MNCFC Data/CIRCLE_MAP_ASSAC/Baska.shp\n"
     ]
    },
    {
     "name": "stderr",
     "output_type": "stream",
     "text": [
      "C:\\Users\\user\\AppData\\Local\\Temp\\ipykernel_17068\\1832265514.py:168: SettingWithCopyWarning: \n",
      "A value is trying to be set on a copy of a slice from a DataFrame\n",
      "\n",
      "See the caveats in the documentation: https://pandas.pydata.org/pandas-docs/stable/user_guide/indexing.html#returning-a-view-versus-a-copy\n",
      "  shp_df.unique_file_name.iloc[i] = pg_file_name\n",
      "C:\\Users\\user\\miniconda3\\envs\\kdss_base\\lib\\site-packages\\geopandas\\io\\sql.py:415: UserWarning: Could not parse CRS from the GeoDataFrame. Inserting data without defined CRS.\n",
      "  srid = _get_srid_from_crs(gdf)\n"
     ]
    },
    {
     "name": "stdout",
     "output_type": "stream",
     "text": [
      "Executing 4322st file\n",
      "MNCFC Data/CIRCLE_MAP_ASSAC/Biswanath.shp\n"
     ]
    },
    {
     "name": "stderr",
     "output_type": "stream",
     "text": [
      "C:\\Users\\user\\AppData\\Local\\Temp\\ipykernel_17068\\1832265514.py:168: SettingWithCopyWarning: \n",
      "A value is trying to be set on a copy of a slice from a DataFrame\n",
      "\n",
      "See the caveats in the documentation: https://pandas.pydata.org/pandas-docs/stable/user_guide/indexing.html#returning-a-view-versus-a-copy\n",
      "  shp_df.unique_file_name.iloc[i] = pg_file_name\n",
      "C:\\Users\\user\\miniconda3\\envs\\kdss_base\\lib\\site-packages\\geopandas\\io\\sql.py:415: UserWarning: Could not parse CRS from the GeoDataFrame. Inserting data without defined CRS.\n",
      "  srid = _get_srid_from_crs(gdf)\n"
     ]
    },
    {
     "name": "stdout",
     "output_type": "stream",
     "text": [
      "Executing 4323st file\n",
      "MNCFC Data/CIRCLE_MAP_ASSAC/Bongaigaon.shp\n"
     ]
    },
    {
     "name": "stderr",
     "output_type": "stream",
     "text": [
      "C:\\Users\\user\\AppData\\Local\\Temp\\ipykernel_17068\\1832265514.py:168: SettingWithCopyWarning: \n",
      "A value is trying to be set on a copy of a slice from a DataFrame\n",
      "\n",
      "See the caveats in the documentation: https://pandas.pydata.org/pandas-docs/stable/user_guide/indexing.html#returning-a-view-versus-a-copy\n",
      "  shp_df.unique_file_name.iloc[i] = pg_file_name\n",
      "C:\\Users\\user\\miniconda3\\envs\\kdss_base\\lib\\site-packages\\geopandas\\io\\sql.py:415: UserWarning: Could not parse CRS from the GeoDataFrame. Inserting data without defined CRS.\n",
      "  srid = _get_srid_from_crs(gdf)\n"
     ]
    },
    {
     "name": "stdout",
     "output_type": "stream",
     "text": [
      "Executing 4324st file\n",
      "MNCFC Data/CIRCLE_MAP_ASSAC/Cachar.shp\n"
     ]
    },
    {
     "name": "stderr",
     "output_type": "stream",
     "text": [
      "C:\\Users\\user\\AppData\\Local\\Temp\\ipykernel_17068\\1832265514.py:168: SettingWithCopyWarning: \n",
      "A value is trying to be set on a copy of a slice from a DataFrame\n",
      "\n",
      "See the caveats in the documentation: https://pandas.pydata.org/pandas-docs/stable/user_guide/indexing.html#returning-a-view-versus-a-copy\n",
      "  shp_df.unique_file_name.iloc[i] = pg_file_name\n",
      "C:\\Users\\user\\miniconda3\\envs\\kdss_base\\lib\\site-packages\\geopandas\\io\\sql.py:415: UserWarning: Could not parse CRS from the GeoDataFrame. Inserting data without defined CRS.\n",
      "  srid = _get_srid_from_crs(gdf)\n"
     ]
    },
    {
     "name": "stdout",
     "output_type": "stream",
     "text": [
      "Executing 4325st file\n",
      "MNCFC Data/CIRCLE_MAP_ASSAC/Charaideo.shp\n"
     ]
    },
    {
     "name": "stderr",
     "output_type": "stream",
     "text": [
      "C:\\Users\\user\\AppData\\Local\\Temp\\ipykernel_17068\\1832265514.py:168: SettingWithCopyWarning: \n",
      "A value is trying to be set on a copy of a slice from a DataFrame\n",
      "\n",
      "See the caveats in the documentation: https://pandas.pydata.org/pandas-docs/stable/user_guide/indexing.html#returning-a-view-versus-a-copy\n",
      "  shp_df.unique_file_name.iloc[i] = pg_file_name\n",
      "C:\\Users\\user\\miniconda3\\envs\\kdss_base\\lib\\site-packages\\geopandas\\io\\sql.py:415: UserWarning: Could not parse CRS from the GeoDataFrame. Inserting data without defined CRS.\n",
      "  srid = _get_srid_from_crs(gdf)\n"
     ]
    },
    {
     "name": "stdout",
     "output_type": "stream",
     "text": [
      "Executing 4326st file\n",
      "MNCFC Data/CIRCLE_MAP_ASSAC/Chirang.shp\n"
     ]
    },
    {
     "name": "stderr",
     "output_type": "stream",
     "text": [
      "C:\\Users\\user\\AppData\\Local\\Temp\\ipykernel_17068\\1832265514.py:168: SettingWithCopyWarning: \n",
      "A value is trying to be set on a copy of a slice from a DataFrame\n",
      "\n",
      "See the caveats in the documentation: https://pandas.pydata.org/pandas-docs/stable/user_guide/indexing.html#returning-a-view-versus-a-copy\n",
      "  shp_df.unique_file_name.iloc[i] = pg_file_name\n",
      "C:\\Users\\user\\miniconda3\\envs\\kdss_base\\lib\\site-packages\\geopandas\\io\\sql.py:415: UserWarning: Could not parse CRS from the GeoDataFrame. Inserting data without defined CRS.\n",
      "  srid = _get_srid_from_crs(gdf)\n"
     ]
    },
    {
     "name": "stdout",
     "output_type": "stream",
     "text": [
      "Executing 4327st file\n",
      "MNCFC Data/CIRCLE_MAP_ASSAC/Darrang.shp\n"
     ]
    },
    {
     "name": "stderr",
     "output_type": "stream",
     "text": [
      "C:\\Users\\user\\AppData\\Local\\Temp\\ipykernel_17068\\1832265514.py:168: SettingWithCopyWarning: \n",
      "A value is trying to be set on a copy of a slice from a DataFrame\n",
      "\n",
      "See the caveats in the documentation: https://pandas.pydata.org/pandas-docs/stable/user_guide/indexing.html#returning-a-view-versus-a-copy\n",
      "  shp_df.unique_file_name.iloc[i] = pg_file_name\n",
      "C:\\Users\\user\\miniconda3\\envs\\kdss_base\\lib\\site-packages\\geopandas\\io\\sql.py:415: UserWarning: Could not parse CRS from the GeoDataFrame. Inserting data without defined CRS.\n",
      "  srid = _get_srid_from_crs(gdf)\n"
     ]
    },
    {
     "name": "stdout",
     "output_type": "stream",
     "text": [
      "Executing 4328st file\n",
      "MNCFC Data/CIRCLE_MAP_ASSAC/Dhemaji.shp\n"
     ]
    },
    {
     "name": "stderr",
     "output_type": "stream",
     "text": [
      "C:\\Users\\user\\AppData\\Local\\Temp\\ipykernel_17068\\1832265514.py:168: SettingWithCopyWarning: \n",
      "A value is trying to be set on a copy of a slice from a DataFrame\n",
      "\n",
      "See the caveats in the documentation: https://pandas.pydata.org/pandas-docs/stable/user_guide/indexing.html#returning-a-view-versus-a-copy\n",
      "  shp_df.unique_file_name.iloc[i] = pg_file_name\n",
      "C:\\Users\\user\\miniconda3\\envs\\kdss_base\\lib\\site-packages\\geopandas\\io\\sql.py:415: UserWarning: Could not parse CRS from the GeoDataFrame. Inserting data without defined CRS.\n",
      "  srid = _get_srid_from_crs(gdf)\n"
     ]
    },
    {
     "name": "stdout",
     "output_type": "stream",
     "text": [
      "Executing 4329st file\n",
      "MNCFC Data/CIRCLE_MAP_ASSAC/Dhubri.shp\n"
     ]
    },
    {
     "name": "stderr",
     "output_type": "stream",
     "text": [
      "C:\\Users\\user\\AppData\\Local\\Temp\\ipykernel_17068\\1832265514.py:168: SettingWithCopyWarning: \n",
      "A value is trying to be set on a copy of a slice from a DataFrame\n",
      "\n",
      "See the caveats in the documentation: https://pandas.pydata.org/pandas-docs/stable/user_guide/indexing.html#returning-a-view-versus-a-copy\n",
      "  shp_df.unique_file_name.iloc[i] = pg_file_name\n",
      "C:\\Users\\user\\miniconda3\\envs\\kdss_base\\lib\\site-packages\\geopandas\\io\\sql.py:415: UserWarning: Could not parse CRS from the GeoDataFrame. Inserting data without defined CRS.\n",
      "  srid = _get_srid_from_crs(gdf)\n"
     ]
    },
    {
     "name": "stdout",
     "output_type": "stream",
     "text": [
      "Executing 4330st file\n",
      "MNCFC Data/CIRCLE_MAP_ASSAC/Dibrugarh.shp\n"
     ]
    },
    {
     "name": "stderr",
     "output_type": "stream",
     "text": [
      "C:\\Users\\user\\AppData\\Local\\Temp\\ipykernel_17068\\1832265514.py:168: SettingWithCopyWarning: \n",
      "A value is trying to be set on a copy of a slice from a DataFrame\n",
      "\n",
      "See the caveats in the documentation: https://pandas.pydata.org/pandas-docs/stable/user_guide/indexing.html#returning-a-view-versus-a-copy\n",
      "  shp_df.unique_file_name.iloc[i] = pg_file_name\n",
      "C:\\Users\\user\\miniconda3\\envs\\kdss_base\\lib\\site-packages\\geopandas\\io\\sql.py:415: UserWarning: Could not parse CRS from the GeoDataFrame. Inserting data without defined CRS.\n",
      "  srid = _get_srid_from_crs(gdf)\n"
     ]
    },
    {
     "name": "stdout",
     "output_type": "stream",
     "text": [
      "Executing 4331st file\n",
      "MNCFC Data/CIRCLE_MAP_ASSAC/Dima_Hasao.shp\n"
     ]
    },
    {
     "name": "stderr",
     "output_type": "stream",
     "text": [
      "C:\\Users\\user\\AppData\\Local\\Temp\\ipykernel_17068\\1832265514.py:168: SettingWithCopyWarning: \n",
      "A value is trying to be set on a copy of a slice from a DataFrame\n",
      "\n",
      "See the caveats in the documentation: https://pandas.pydata.org/pandas-docs/stable/user_guide/indexing.html#returning-a-view-versus-a-copy\n",
      "  shp_df.unique_file_name.iloc[i] = pg_file_name\n",
      "C:\\Users\\user\\miniconda3\\envs\\kdss_base\\lib\\site-packages\\geopandas\\io\\sql.py:415: UserWarning: Could not parse CRS from the GeoDataFrame. Inserting data without defined CRS.\n",
      "  srid = _get_srid_from_crs(gdf)\n"
     ]
    },
    {
     "name": "stdout",
     "output_type": "stream",
     "text": [
      "Executing 4332st file\n",
      "MNCFC Data/CIRCLE_MAP_ASSAC/East_Karbi_Anglong.shp\n"
     ]
    },
    {
     "name": "stderr",
     "output_type": "stream",
     "text": [
      "C:\\Users\\user\\AppData\\Local\\Temp\\ipykernel_17068\\1832265514.py:168: SettingWithCopyWarning: \n",
      "A value is trying to be set on a copy of a slice from a DataFrame\n",
      "\n",
      "See the caveats in the documentation: https://pandas.pydata.org/pandas-docs/stable/user_guide/indexing.html#returning-a-view-versus-a-copy\n",
      "  shp_df.unique_file_name.iloc[i] = pg_file_name\n",
      "C:\\Users\\user\\miniconda3\\envs\\kdss_base\\lib\\site-packages\\geopandas\\io\\sql.py:415: UserWarning: Could not parse CRS from the GeoDataFrame. Inserting data without defined CRS.\n",
      "  srid = _get_srid_from_crs(gdf)\n"
     ]
    },
    {
     "name": "stdout",
     "output_type": "stream",
     "text": [
      "Executing 4333st file\n",
      "MNCFC Data/CIRCLE_MAP_ASSAC/Goalpara.shp\n"
     ]
    },
    {
     "name": "stderr",
     "output_type": "stream",
     "text": [
      "C:\\Users\\user\\AppData\\Local\\Temp\\ipykernel_17068\\1832265514.py:168: SettingWithCopyWarning: \n",
      "A value is trying to be set on a copy of a slice from a DataFrame\n",
      "\n",
      "See the caveats in the documentation: https://pandas.pydata.org/pandas-docs/stable/user_guide/indexing.html#returning-a-view-versus-a-copy\n",
      "  shp_df.unique_file_name.iloc[i] = pg_file_name\n",
      "C:\\Users\\user\\miniconda3\\envs\\kdss_base\\lib\\site-packages\\geopandas\\io\\sql.py:415: UserWarning: Could not parse CRS from the GeoDataFrame. Inserting data without defined CRS.\n",
      "  srid = _get_srid_from_crs(gdf)\n"
     ]
    },
    {
     "name": "stdout",
     "output_type": "stream",
     "text": [
      "Executing 4334st file\n",
      "MNCFC Data/CIRCLE_MAP_ASSAC/Golaghat.shp\n"
     ]
    },
    {
     "name": "stderr",
     "output_type": "stream",
     "text": [
      "C:\\Users\\user\\AppData\\Local\\Temp\\ipykernel_17068\\1832265514.py:168: SettingWithCopyWarning: \n",
      "A value is trying to be set on a copy of a slice from a DataFrame\n",
      "\n",
      "See the caveats in the documentation: https://pandas.pydata.org/pandas-docs/stable/user_guide/indexing.html#returning-a-view-versus-a-copy\n",
      "  shp_df.unique_file_name.iloc[i] = pg_file_name\n",
      "C:\\Users\\user\\miniconda3\\envs\\kdss_base\\lib\\site-packages\\geopandas\\io\\sql.py:415: UserWarning: Could not parse CRS from the GeoDataFrame. Inserting data without defined CRS.\n",
      "  srid = _get_srid_from_crs(gdf)\n"
     ]
    },
    {
     "name": "stdout",
     "output_type": "stream",
     "text": [
      "Executing 4335st file\n",
      "MNCFC Data/CIRCLE_MAP_ASSAC/Hailakandi.shp\n"
     ]
    },
    {
     "name": "stderr",
     "output_type": "stream",
     "text": [
      "C:\\Users\\user\\AppData\\Local\\Temp\\ipykernel_17068\\1832265514.py:168: SettingWithCopyWarning: \n",
      "A value is trying to be set on a copy of a slice from a DataFrame\n",
      "\n",
      "See the caveats in the documentation: https://pandas.pydata.org/pandas-docs/stable/user_guide/indexing.html#returning-a-view-versus-a-copy\n",
      "  shp_df.unique_file_name.iloc[i] = pg_file_name\n",
      "C:\\Users\\user\\miniconda3\\envs\\kdss_base\\lib\\site-packages\\geopandas\\io\\sql.py:415: UserWarning: Could not parse CRS from the GeoDataFrame. Inserting data without defined CRS.\n",
      "  srid = _get_srid_from_crs(gdf)\n"
     ]
    },
    {
     "name": "stdout",
     "output_type": "stream",
     "text": [
      "Executing 4336st file\n",
      "MNCFC Data/CIRCLE_MAP_ASSAC/Hojai.shp\n"
     ]
    },
    {
     "name": "stderr",
     "output_type": "stream",
     "text": [
      "C:\\Users\\user\\AppData\\Local\\Temp\\ipykernel_17068\\1832265514.py:168: SettingWithCopyWarning: \n",
      "A value is trying to be set on a copy of a slice from a DataFrame\n",
      "\n",
      "See the caveats in the documentation: https://pandas.pydata.org/pandas-docs/stable/user_guide/indexing.html#returning-a-view-versus-a-copy\n",
      "  shp_df.unique_file_name.iloc[i] = pg_file_name\n",
      "C:\\Users\\user\\miniconda3\\envs\\kdss_base\\lib\\site-packages\\geopandas\\io\\sql.py:415: UserWarning: Could not parse CRS from the GeoDataFrame. Inserting data without defined CRS.\n",
      "  srid = _get_srid_from_crs(gdf)\n"
     ]
    },
    {
     "name": "stdout",
     "output_type": "stream",
     "text": [
      "Executing 4337st file\n",
      "MNCFC Data/CIRCLE_MAP_ASSAC/Jorhat.shp\n"
     ]
    },
    {
     "name": "stderr",
     "output_type": "stream",
     "text": [
      "C:\\Users\\user\\AppData\\Local\\Temp\\ipykernel_17068\\1832265514.py:168: SettingWithCopyWarning: \n",
      "A value is trying to be set on a copy of a slice from a DataFrame\n",
      "\n",
      "See the caveats in the documentation: https://pandas.pydata.org/pandas-docs/stable/user_guide/indexing.html#returning-a-view-versus-a-copy\n",
      "  shp_df.unique_file_name.iloc[i] = pg_file_name\n",
      "C:\\Users\\user\\miniconda3\\envs\\kdss_base\\lib\\site-packages\\geopandas\\io\\sql.py:415: UserWarning: Could not parse CRS from the GeoDataFrame. Inserting data without defined CRS.\n",
      "  srid = _get_srid_from_crs(gdf)\n"
     ]
    },
    {
     "name": "stdout",
     "output_type": "stream",
     "text": [
      "Executing 4338st file\n",
      "MNCFC Data/CIRCLE_MAP_ASSAC/Kamrup.shp\n"
     ]
    },
    {
     "name": "stderr",
     "output_type": "stream",
     "text": [
      "C:\\Users\\user\\AppData\\Local\\Temp\\ipykernel_17068\\1832265514.py:168: SettingWithCopyWarning: \n",
      "A value is trying to be set on a copy of a slice from a DataFrame\n",
      "\n",
      "See the caveats in the documentation: https://pandas.pydata.org/pandas-docs/stable/user_guide/indexing.html#returning-a-view-versus-a-copy\n",
      "  shp_df.unique_file_name.iloc[i] = pg_file_name\n",
      "C:\\Users\\user\\miniconda3\\envs\\kdss_base\\lib\\site-packages\\geopandas\\io\\sql.py:415: UserWarning: Could not parse CRS from the GeoDataFrame. Inserting data without defined CRS.\n",
      "  srid = _get_srid_from_crs(gdf)\n"
     ]
    },
    {
     "name": "stdout",
     "output_type": "stream",
     "text": [
      "Executing 4339st file\n",
      "MNCFC Data/CIRCLE_MAP_ASSAC/Kamrup_M.shp\n"
     ]
    },
    {
     "name": "stderr",
     "output_type": "stream",
     "text": [
      "C:\\Users\\user\\AppData\\Local\\Temp\\ipykernel_17068\\1832265514.py:168: SettingWithCopyWarning: \n",
      "A value is trying to be set on a copy of a slice from a DataFrame\n",
      "\n",
      "See the caveats in the documentation: https://pandas.pydata.org/pandas-docs/stable/user_guide/indexing.html#returning-a-view-versus-a-copy\n",
      "  shp_df.unique_file_name.iloc[i] = pg_file_name\n",
      "C:\\Users\\user\\miniconda3\\envs\\kdss_base\\lib\\site-packages\\geopandas\\io\\sql.py:415: UserWarning: Could not parse CRS from the GeoDataFrame. Inserting data without defined CRS.\n",
      "  srid = _get_srid_from_crs(gdf)\n"
     ]
    },
    {
     "name": "stdout",
     "output_type": "stream",
     "text": [
      "Executing 4340st file\n",
      "MNCFC Data/CIRCLE_MAP_ASSAC/Karimganj.shp\n"
     ]
    },
    {
     "name": "stderr",
     "output_type": "stream",
     "text": [
      "C:\\Users\\user\\AppData\\Local\\Temp\\ipykernel_17068\\1832265514.py:168: SettingWithCopyWarning: \n",
      "A value is trying to be set on a copy of a slice from a DataFrame\n",
      "\n",
      "See the caveats in the documentation: https://pandas.pydata.org/pandas-docs/stable/user_guide/indexing.html#returning-a-view-versus-a-copy\n",
      "  shp_df.unique_file_name.iloc[i] = pg_file_name\n",
      "C:\\Users\\user\\miniconda3\\envs\\kdss_base\\lib\\site-packages\\geopandas\\io\\sql.py:415: UserWarning: Could not parse CRS from the GeoDataFrame. Inserting data without defined CRS.\n",
      "  srid = _get_srid_from_crs(gdf)\n"
     ]
    },
    {
     "name": "stdout",
     "output_type": "stream",
     "text": [
      "Executing 4341st file\n",
      "MNCFC Data/CIRCLE_MAP_ASSAC/Kokrajhar.shp\n"
     ]
    },
    {
     "name": "stderr",
     "output_type": "stream",
     "text": [
      "C:\\Users\\user\\AppData\\Local\\Temp\\ipykernel_17068\\1832265514.py:168: SettingWithCopyWarning: \n",
      "A value is trying to be set on a copy of a slice from a DataFrame\n",
      "\n",
      "See the caveats in the documentation: https://pandas.pydata.org/pandas-docs/stable/user_guide/indexing.html#returning-a-view-versus-a-copy\n",
      "  shp_df.unique_file_name.iloc[i] = pg_file_name\n",
      "C:\\Users\\user\\miniconda3\\envs\\kdss_base\\lib\\site-packages\\geopandas\\io\\sql.py:415: UserWarning: Could not parse CRS from the GeoDataFrame. Inserting data without defined CRS.\n",
      "  srid = _get_srid_from_crs(gdf)\n"
     ]
    },
    {
     "name": "stdout",
     "output_type": "stream",
     "text": [
      "Executing 4342st file\n",
      "MNCFC Data/CIRCLE_MAP_ASSAC/Lakhimpur.shp\n"
     ]
    },
    {
     "name": "stderr",
     "output_type": "stream",
     "text": [
      "C:\\Users\\user\\AppData\\Local\\Temp\\ipykernel_17068\\1832265514.py:168: SettingWithCopyWarning: \n",
      "A value is trying to be set on a copy of a slice from a DataFrame\n",
      "\n",
      "See the caveats in the documentation: https://pandas.pydata.org/pandas-docs/stable/user_guide/indexing.html#returning-a-view-versus-a-copy\n",
      "  shp_df.unique_file_name.iloc[i] = pg_file_name\n",
      "C:\\Users\\user\\miniconda3\\envs\\kdss_base\\lib\\site-packages\\geopandas\\io\\sql.py:415: UserWarning: Could not parse CRS from the GeoDataFrame. Inserting data without defined CRS.\n",
      "  srid = _get_srid_from_crs(gdf)\n"
     ]
    },
    {
     "name": "stdout",
     "output_type": "stream",
     "text": [
      "Executing 4343st file\n",
      "MNCFC Data/CIRCLE_MAP_ASSAC/Majuli.shp\n"
     ]
    },
    {
     "name": "stderr",
     "output_type": "stream",
     "text": [
      "C:\\Users\\user\\AppData\\Local\\Temp\\ipykernel_17068\\1832265514.py:168: SettingWithCopyWarning: \n",
      "A value is trying to be set on a copy of a slice from a DataFrame\n",
      "\n",
      "See the caveats in the documentation: https://pandas.pydata.org/pandas-docs/stable/user_guide/indexing.html#returning-a-view-versus-a-copy\n",
      "  shp_df.unique_file_name.iloc[i] = pg_file_name\n",
      "C:\\Users\\user\\miniconda3\\envs\\kdss_base\\lib\\site-packages\\geopandas\\io\\sql.py:415: UserWarning: Could not parse CRS from the GeoDataFrame. Inserting data without defined CRS.\n",
      "  srid = _get_srid_from_crs(gdf)\n"
     ]
    },
    {
     "name": "stdout",
     "output_type": "stream",
     "text": [
      "Executing 4344st file\n",
      "MNCFC Data/CIRCLE_MAP_ASSAC/Morigaon.shp\n"
     ]
    },
    {
     "name": "stderr",
     "output_type": "stream",
     "text": [
      "C:\\Users\\user\\AppData\\Local\\Temp\\ipykernel_17068\\1832265514.py:168: SettingWithCopyWarning: \n",
      "A value is trying to be set on a copy of a slice from a DataFrame\n",
      "\n",
      "See the caveats in the documentation: https://pandas.pydata.org/pandas-docs/stable/user_guide/indexing.html#returning-a-view-versus-a-copy\n",
      "  shp_df.unique_file_name.iloc[i] = pg_file_name\n",
      "C:\\Users\\user\\miniconda3\\envs\\kdss_base\\lib\\site-packages\\geopandas\\io\\sql.py:415: UserWarning: Could not parse CRS from the GeoDataFrame. Inserting data without defined CRS.\n",
      "  srid = _get_srid_from_crs(gdf)\n"
     ]
    },
    {
     "name": "stdout",
     "output_type": "stream",
     "text": [
      "Executing 4345st file\n",
      "MNCFC Data/CIRCLE_MAP_ASSAC/Nagaon.shp\n"
     ]
    },
    {
     "name": "stderr",
     "output_type": "stream",
     "text": [
      "C:\\Users\\user\\AppData\\Local\\Temp\\ipykernel_17068\\1832265514.py:168: SettingWithCopyWarning: \n",
      "A value is trying to be set on a copy of a slice from a DataFrame\n",
      "\n",
      "See the caveats in the documentation: https://pandas.pydata.org/pandas-docs/stable/user_guide/indexing.html#returning-a-view-versus-a-copy\n",
      "  shp_df.unique_file_name.iloc[i] = pg_file_name\n",
      "C:\\Users\\user\\miniconda3\\envs\\kdss_base\\lib\\site-packages\\geopandas\\io\\sql.py:415: UserWarning: Could not parse CRS from the GeoDataFrame. Inserting data without defined CRS.\n",
      "  srid = _get_srid_from_crs(gdf)\n"
     ]
    },
    {
     "name": "stdout",
     "output_type": "stream",
     "text": [
      "Executing 4346st file\n",
      "MNCFC Data/CIRCLE_MAP_ASSAC/Nalbari.shp\n"
     ]
    },
    {
     "name": "stderr",
     "output_type": "stream",
     "text": [
      "C:\\Users\\user\\AppData\\Local\\Temp\\ipykernel_17068\\1832265514.py:168: SettingWithCopyWarning: \n",
      "A value is trying to be set on a copy of a slice from a DataFrame\n",
      "\n",
      "See the caveats in the documentation: https://pandas.pydata.org/pandas-docs/stable/user_guide/indexing.html#returning-a-view-versus-a-copy\n",
      "  shp_df.unique_file_name.iloc[i] = pg_file_name\n",
      "C:\\Users\\user\\miniconda3\\envs\\kdss_base\\lib\\site-packages\\geopandas\\io\\sql.py:415: UserWarning: Could not parse CRS from the GeoDataFrame. Inserting data without defined CRS.\n",
      "  srid = _get_srid_from_crs(gdf)\n"
     ]
    },
    {
     "name": "stdout",
     "output_type": "stream",
     "text": [
      "Executing 4347st file\n",
      "MNCFC Data/CIRCLE_MAP_ASSAC/Sibsagar.shp\n"
     ]
    },
    {
     "name": "stderr",
     "output_type": "stream",
     "text": [
      "C:\\Users\\user\\AppData\\Local\\Temp\\ipykernel_17068\\1832265514.py:168: SettingWithCopyWarning: \n",
      "A value is trying to be set on a copy of a slice from a DataFrame\n",
      "\n",
      "See the caveats in the documentation: https://pandas.pydata.org/pandas-docs/stable/user_guide/indexing.html#returning-a-view-versus-a-copy\n",
      "  shp_df.unique_file_name.iloc[i] = pg_file_name\n",
      "C:\\Users\\user\\miniconda3\\envs\\kdss_base\\lib\\site-packages\\geopandas\\io\\sql.py:415: UserWarning: Could not parse CRS from the GeoDataFrame. Inserting data without defined CRS.\n",
      "  srid = _get_srid_from_crs(gdf)\n"
     ]
    },
    {
     "name": "stdout",
     "output_type": "stream",
     "text": [
      "Executing 4348st file\n",
      "MNCFC Data/CIRCLE_MAP_ASSAC/Sonitpur.shp\n"
     ]
    },
    {
     "name": "stderr",
     "output_type": "stream",
     "text": [
      "C:\\Users\\user\\AppData\\Local\\Temp\\ipykernel_17068\\1832265514.py:168: SettingWithCopyWarning: \n",
      "A value is trying to be set on a copy of a slice from a DataFrame\n",
      "\n",
      "See the caveats in the documentation: https://pandas.pydata.org/pandas-docs/stable/user_guide/indexing.html#returning-a-view-versus-a-copy\n",
      "  shp_df.unique_file_name.iloc[i] = pg_file_name\n",
      "C:\\Users\\user\\miniconda3\\envs\\kdss_base\\lib\\site-packages\\geopandas\\io\\sql.py:415: UserWarning: Could not parse CRS from the GeoDataFrame. Inserting data without defined CRS.\n",
      "  srid = _get_srid_from_crs(gdf)\n"
     ]
    },
    {
     "name": "stdout",
     "output_type": "stream",
     "text": [
      "Executing 4349st file\n",
      "MNCFC Data/CIRCLE_MAP_ASSAC/South_Salmara.shp\n"
     ]
    },
    {
     "name": "stderr",
     "output_type": "stream",
     "text": [
      "C:\\Users\\user\\AppData\\Local\\Temp\\ipykernel_17068\\1832265514.py:168: SettingWithCopyWarning: \n",
      "A value is trying to be set on a copy of a slice from a DataFrame\n",
      "\n",
      "See the caveats in the documentation: https://pandas.pydata.org/pandas-docs/stable/user_guide/indexing.html#returning-a-view-versus-a-copy\n",
      "  shp_df.unique_file_name.iloc[i] = pg_file_name\n",
      "C:\\Users\\user\\miniconda3\\envs\\kdss_base\\lib\\site-packages\\geopandas\\io\\sql.py:415: UserWarning: Could not parse CRS from the GeoDataFrame. Inserting data without defined CRS.\n",
      "  srid = _get_srid_from_crs(gdf)\n"
     ]
    },
    {
     "name": "stdout",
     "output_type": "stream",
     "text": [
      "Executing 4350st file\n",
      "MNCFC Data/CIRCLE_MAP_ASSAC/Tinsukia.shp\n"
     ]
    },
    {
     "name": "stderr",
     "output_type": "stream",
     "text": [
      "C:\\Users\\user\\AppData\\Local\\Temp\\ipykernel_17068\\1832265514.py:168: SettingWithCopyWarning: \n",
      "A value is trying to be set on a copy of a slice from a DataFrame\n",
      "\n",
      "See the caveats in the documentation: https://pandas.pydata.org/pandas-docs/stable/user_guide/indexing.html#returning-a-view-versus-a-copy\n",
      "  shp_df.unique_file_name.iloc[i] = pg_file_name\n",
      "C:\\Users\\user\\miniconda3\\envs\\kdss_base\\lib\\site-packages\\geopandas\\io\\sql.py:415: UserWarning: Could not parse CRS from the GeoDataFrame. Inserting data without defined CRS.\n",
      "  srid = _get_srid_from_crs(gdf)\n"
     ]
    },
    {
     "name": "stdout",
     "output_type": "stream",
     "text": [
      "Executing 4351st file\n",
      "MNCFC Data/CIRCLE_MAP_ASSAC/Udalguri.shp\n"
     ]
    },
    {
     "name": "stderr",
     "output_type": "stream",
     "text": [
      "C:\\Users\\user\\AppData\\Local\\Temp\\ipykernel_17068\\1832265514.py:168: SettingWithCopyWarning: \n",
      "A value is trying to be set on a copy of a slice from a DataFrame\n",
      "\n",
      "See the caveats in the documentation: https://pandas.pydata.org/pandas-docs/stable/user_guide/indexing.html#returning-a-view-versus-a-copy\n",
      "  shp_df.unique_file_name.iloc[i] = pg_file_name\n",
      "C:\\Users\\user\\miniconda3\\envs\\kdss_base\\lib\\site-packages\\geopandas\\io\\sql.py:415: UserWarning: Could not parse CRS from the GeoDataFrame. Inserting data without defined CRS.\n",
      "  srid = _get_srid_from_crs(gdf)\n"
     ]
    },
    {
     "name": "stdout",
     "output_type": "stream",
     "text": [
      "Executing 4352st file\n",
      "MNCFC Data/CIRCLE_MAP_ASSAC/West_Karbi_Anglong.shp\n"
     ]
    },
    {
     "name": "stderr",
     "output_type": "stream",
     "text": [
      "C:\\Users\\user\\AppData\\Local\\Temp\\ipykernel_17068\\1832265514.py:168: SettingWithCopyWarning: \n",
      "A value is trying to be set on a copy of a slice from a DataFrame\n",
      "\n",
      "See the caveats in the documentation: https://pandas.pydata.org/pandas-docs/stable/user_guide/indexing.html#returning-a-view-versus-a-copy\n",
      "  shp_df.unique_file_name.iloc[i] = pg_file_name\n",
      "C:\\Users\\user\\miniconda3\\envs\\kdss_base\\lib\\site-packages\\geopandas\\io\\sql.py:415: UserWarning: Could not parse CRS from the GeoDataFrame. Inserting data without defined CRS.\n",
      "  srid = _get_srid_from_crs(gdf)\n"
     ]
    },
    {
     "name": "stdout",
     "output_type": "stream",
     "text": [
      "Executing 4698st file\n",
      "Baragarh_SST_CCE.shp\n"
     ]
    },
    {
     "name": "stderr",
     "output_type": "stream",
     "text": [
      "C:\\Users\\user\\AppData\\Local\\Temp\\ipykernel_17068\\1832265514.py:168: SettingWithCopyWarning: \n",
      "A value is trying to be set on a copy of a slice from a DataFrame\n",
      "\n",
      "See the caveats in the documentation: https://pandas.pydata.org/pandas-docs/stable/user_guide/indexing.html#returning-a-view-versus-a-copy\n",
      "  shp_df.unique_file_name.iloc[i] = pg_file_name\n"
     ]
    },
    {
     "name": "stdout",
     "output_type": "stream",
     "text": [
      "Executing 7556st file\n",
      "Churu_Patwar_Boundary.shp\n"
     ]
    },
    {
     "name": "stderr",
     "output_type": "stream",
     "text": [
      "C:\\Users\\user\\AppData\\Local\\Temp\\ipykernel_17068\\1832265514.py:168: SettingWithCopyWarning: \n",
      "A value is trying to be set on a copy of a slice from a DataFrame\n",
      "\n",
      "See the caveats in the documentation: https://pandas.pydata.org/pandas-docs/stable/user_guide/indexing.html#returning-a-view-versus-a-copy\n",
      "  shp_df.unique_file_name.iloc[i] = pg_file_name\n"
     ]
    },
    {
     "name": "stdout",
     "output_type": "stream",
     "text": [
      "Executing 7563st file\n",
      "Pali_Patwar_Circle/Pali_Patwar_Circle.shp\n"
     ]
    },
    {
     "name": "stderr",
     "output_type": "stream",
     "text": [
      "C:\\Users\\user\\AppData\\Local\\Temp\\ipykernel_17068\\1832265514.py:168: SettingWithCopyWarning: \n",
      "A value is trying to be set on a copy of a slice from a DataFrame\n",
      "\n",
      "See the caveats in the documentation: https://pandas.pydata.org/pandas-docs/stable/user_guide/indexing.html#returning-a-view-versus-a-copy\n",
      "  shp_df.unique_file_name.iloc[i] = pg_file_name\n"
     ]
    },
    {
     "name": "stdout",
     "output_type": "stream",
     "text": [
      "Executing 7564st file\n",
      "Pali_Patwar_Circle/Study_area_lcc.shp\n"
     ]
    },
    {
     "name": "stderr",
     "output_type": "stream",
     "text": [
      "C:\\Users\\user\\AppData\\Local\\Temp\\ipykernel_17068\\1832265514.py:168: SettingWithCopyWarning: \n",
      "A value is trying to be set on a copy of a slice from a DataFrame\n",
      "\n",
      "See the caveats in the documentation: https://pandas.pydata.org/pandas-docs/stable/user_guide/indexing.html#returning-a-view-versus-a-copy\n",
      "  shp_df.unique_file_name.iloc[i] = pg_file_name\n"
     ]
    },
    {
     "name": "stdout",
     "output_type": "stream",
     "text": [
      "Executing 7566st file\n",
      "Pali_Patwar_Circle.shp\n"
     ]
    },
    {
     "name": "stderr",
     "output_type": "stream",
     "text": [
      "C:\\Users\\user\\AppData\\Local\\Temp\\ipykernel_17068\\1832265514.py:168: SettingWithCopyWarning: \n",
      "A value is trying to be set on a copy of a slice from a DataFrame\n",
      "\n",
      "See the caveats in the documentation: https://pandas.pydata.org/pandas-docs/stable/user_guide/indexing.html#returning-a-view-versus-a-copy\n",
      "  shp_df.unique_file_name.iloc[i] = pg_file_name\n"
     ]
    },
    {
     "name": "stdout",
     "output_type": "stream",
     "text": [
      "Executing 7569st file\n",
      "Study_area_albers.shp\n"
     ]
    },
    {
     "name": "stderr",
     "output_type": "stream",
     "text": [
      "C:\\Users\\user\\AppData\\Local\\Temp\\ipykernel_17068\\1832265514.py:168: SettingWithCopyWarning: \n",
      "A value is trying to be set on a copy of a slice from a DataFrame\n",
      "\n",
      "See the caveats in the documentation: https://pandas.pydata.org/pandas-docs/stable/user_guide/indexing.html#returning-a-view-versus-a-copy\n",
      "  shp_df.unique_file_name.iloc[i] = pg_file_name\n"
     ]
    },
    {
     "name": "stdout",
     "output_type": "stream",
     "text": [
      "Executing 7570st file\n",
      "Study_area_lcc.shp\n"
     ]
    },
    {
     "name": "stderr",
     "output_type": "stream",
     "text": [
      "C:\\Users\\user\\AppData\\Local\\Temp\\ipykernel_17068\\1832265514.py:168: SettingWithCopyWarning: \n",
      "A value is trying to be set on a copy of a slice from a DataFrame\n",
      "\n",
      "See the caveats in the documentation: https://pandas.pydata.org/pandas-docs/stable/user_guide/indexing.html#returning-a-view-versus-a-copy\n",
      "  shp_df.unique_file_name.iloc[i] = pg_file_name\n"
     ]
    },
    {
     "name": "stdout",
     "output_type": "stream",
     "text": [
      "Executing 7577st file\n",
      "shape/BhuvanFASAL20220825102309.shp\n"
     ]
    },
    {
     "name": "stderr",
     "output_type": "stream",
     "text": [
      "C:\\Users\\user\\AppData\\Local\\Temp\\ipykernel_17068\\1832265514.py:168: SettingWithCopyWarning: \n",
      "A value is trying to be set on a copy of a slice from a DataFrame\n",
      "\n",
      "See the caveats in the documentation: https://pandas.pydata.org/pandas-docs/stable/user_guide/indexing.html#returning-a-view-versus-a-copy\n",
      "  shp_df.unique_file_name.iloc[i] = pg_file_name\n"
     ]
    },
    {
     "name": "stdout",
     "output_type": "stream",
     "text": [
      "Identifier 'idx_BhuvanFASAL20220825102309_fdd1ca00_21-06-2023 21:05:59_geometry' exceeds maximum length of 63 characters \\\\192.168.1.152\\ncfc_data3\\Neetu Mam (IP 26 Data Backup 17 April 23)\\Backup_Del\\Transfer-data\\BhuvanFASAL20220825102309.zip\\shape/BhuvanFASAL20220825102309.shp\n",
      "Executing 7578st file\n",
      "shape/BhuvanFASAL20220907124333.shp\n"
     ]
    },
    {
     "name": "stderr",
     "output_type": "stream",
     "text": [
      "C:\\Users\\user\\AppData\\Local\\Temp\\ipykernel_17068\\1832265514.py:168: SettingWithCopyWarning: \n",
      "A value is trying to be set on a copy of a slice from a DataFrame\n",
      "\n",
      "See the caveats in the documentation: https://pandas.pydata.org/pandas-docs/stable/user_guide/indexing.html#returning-a-view-versus-a-copy\n",
      "  shp_df.unique_file_name.iloc[i] = pg_file_name\n"
     ]
    },
    {
     "name": "stdout",
     "output_type": "stream",
     "text": [
      "Identifier 'idx_BhuvanFASAL20220907124333_37803e8b_21-06-2023 21:06:01_geometry' exceeds maximum length of 63 characters \\\\192.168.1.152\\ncfc_data3\\Neetu Mam (IP 26 Data Backup 17 April 23)\\Backup_Del\\Transfer-data\\0. Rice-2022-23\\Karnataka-GT_1June_30Sept2021\\BhuvanFASAL20220907124333.zip\\shape/BhuvanFASAL20220907124333.shp\n",
      "Executing 7595st file\n",
      "shape/BhuvanFASAL2022082951645.shp\n"
     ]
    },
    {
     "name": "stderr",
     "output_type": "stream",
     "text": [
      "C:\\Users\\user\\AppData\\Local\\Temp\\ipykernel_17068\\1832265514.py:168: SettingWithCopyWarning: \n",
      "A value is trying to be set on a copy of a slice from a DataFrame\n",
      "\n",
      "See the caveats in the documentation: https://pandas.pydata.org/pandas-docs/stable/user_guide/indexing.html#returning-a-view-versus-a-copy\n",
      "  shp_df.unique_file_name.iloc[i] = pg_file_name\n"
     ]
    },
    {
     "name": "stdout",
     "output_type": "stream",
     "text": [
      "Identifier 'idx_BhuvanFASAL2022082951645_3632fe81_21-06-2023 21:06:02_geometry' exceeds maximum length of 63 characters \\\\192.168.1.152\\ncfc_data3\\Neetu Mam (IP 26 Data Backup 17 April 23)\\Backup_Del\\Transfer-data\\MP-GT\\BhuvanFASAL2022082951645.zip\\shape/BhuvanFASAL2022082951645.shp\n",
      "Executing 7728st file\n",
      "Odisha_CCE_points.shp\n"
     ]
    },
    {
     "name": "stderr",
     "output_type": "stream",
     "text": [
      "C:\\Users\\user\\AppData\\Local\\Temp\\ipykernel_17068\\1832265514.py:168: SettingWithCopyWarning: \n",
      "A value is trying to be set on a copy of a slice from a DataFrame\n",
      "\n",
      "See the caveats in the documentation: https://pandas.pydata.org/pandas-docs/stable/user_guide/indexing.html#returning-a-view-versus-a-copy\n",
      "  shp_df.unique_file_name.iloc[i] = pg_file_name\n"
     ]
    },
    {
     "name": "stdout",
     "output_type": "stream",
     "text": [
      "Executing 7808st file\n",
      "shape/BhuvanCCE2021110264237.shp\n"
     ]
    },
    {
     "name": "stderr",
     "output_type": "stream",
     "text": [
      "C:\\Users\\user\\AppData\\Local\\Temp\\ipykernel_17068\\1832265514.py:168: SettingWithCopyWarning: \n",
      "A value is trying to be set on a copy of a slice from a DataFrame\n",
      "\n",
      "See the caveats in the documentation: https://pandas.pydata.org/pandas-docs/stable/user_guide/indexing.html#returning-a-view-versus-a-copy\n",
      "  shp_df.unique_file_name.iloc[i] = pg_file_name\n"
     ]
    },
    {
     "name": "stdout",
     "output_type": "stream",
     "text": [
      "Identifier 'idx_BhuvanCCE2021110264237_98f3e7be_21-06-2023 21:06:05_geometry' exceeds maximum length of 63 characters \\\\192.168.1.152\\ncfc_data3\\Neetu Mam (IP 26 Data Backup 17 April 23)\\Dr. Kanthesh\\CCES\\Oct.zip\\shape/BhuvanCCE2021110264237.shp\n",
      "Executing 7809st file\n",
      "photos_Apr01to15/shape/BhuvanCCE20210920100510.shp\n"
     ]
    },
    {
     "name": "stderr",
     "output_type": "stream",
     "text": [
      "C:\\Users\\user\\AppData\\Local\\Temp\\ipykernel_17068\\1832265514.py:168: SettingWithCopyWarning: \n",
      "A value is trying to be set on a copy of a slice from a DataFrame\n",
      "\n",
      "See the caveats in the documentation: https://pandas.pydata.org/pandas-docs/stable/user_guide/indexing.html#returning-a-view-versus-a-copy\n",
      "  shp_df.unique_file_name.iloc[i] = pg_file_name\n"
     ]
    },
    {
     "name": "stdout",
     "output_type": "stream",
     "text": [
      "Identifier 'idx_BhuvanCCE20210920100510_54979b3e_21-06-2023 21:06:08_geometry' exceeds maximum length of 63 characters \\\\192.168.1.152\\ncfc_data3\\Neetu Mam (IP 26 Data Backup 17 April 23)\\Dr. Kanthesh\\CCES\\2021\\April\\photos_Apr01to15.zip\\photos_Apr01to15/shape/BhuvanCCE20210920100510.shp\n",
      "Executing 7812st file\n",
      "shape/BhuvanCCE20210712121032.shp\n"
     ]
    },
    {
     "name": "stderr",
     "output_type": "stream",
     "text": [
      "C:\\Users\\user\\AppData\\Local\\Temp\\ipykernel_17068\\1832265514.py:168: SettingWithCopyWarning: \n",
      "A value is trying to be set on a copy of a slice from a DataFrame\n",
      "\n",
      "See the caveats in the documentation: https://pandas.pydata.org/pandas-docs/stable/user_guide/indexing.html#returning-a-view-versus-a-copy\n",
      "  shp_df.unique_file_name.iloc[i] = pg_file_name\n"
     ]
    },
    {
     "name": "stdout",
     "output_type": "stream",
     "text": [
      "Identifier 'idx_BhuvanCCE20210712121032_e550ad0a_21-06-2023 21:07:08_geometry' exceeds maximum length of 63 characters \\\\192.168.1.152\\ncfc_data3\\Neetu Mam (IP 26 Data Backup 17 April 23)\\Dr. Kanthesh\\CCES_2021\\3-9-2021\\CCE\\All CCE from 27 06 2021to12 07 2021.zip\\shape/BhuvanCCE20210712121032.shp\n",
      "Executing 7813st file\n",
      "shape/BhuvanCCE2021030555526.shp\n"
     ]
    },
    {
     "name": "stderr",
     "output_type": "stream",
     "text": [
      "C:\\Users\\user\\AppData\\Local\\Temp\\ipykernel_17068\\1832265514.py:168: SettingWithCopyWarning: \n",
      "A value is trying to be set on a copy of a slice from a DataFrame\n",
      "\n",
      "See the caveats in the documentation: https://pandas.pydata.org/pandas-docs/stable/user_guide/indexing.html#returning-a-view-versus-a-copy\n",
      "  shp_df.unique_file_name.iloc[i] = pg_file_name\n"
     ]
    },
    {
     "name": "stdout",
     "output_type": "stream",
     "text": [
      "Identifier 'idx_BhuvanCCE2021030555526_c7aa086d_21-06-2023 21:07:10_geometry' exceeds maximum length of 63 characters \\\\192.168.1.152\\ncfc_data3\\Neetu Mam (IP 26 Data Backup 17 April 23)\\Dr. Kanthesh\\CCES_2021\\3-9-2021\\CCE\\BhuvanCCE2021030555526 Karnataka.zip\\shape/BhuvanCCE2021030555526.shp\n",
      "Executing 7814st file\n",
      "shape/BhuvanCCE2021030555739.shp\n"
     ]
    },
    {
     "name": "stderr",
     "output_type": "stream",
     "text": [
      "C:\\Users\\user\\AppData\\Local\\Temp\\ipykernel_17068\\1832265514.py:168: SettingWithCopyWarning: \n",
      "A value is trying to be set on a copy of a slice from a DataFrame\n",
      "\n",
      "See the caveats in the documentation: https://pandas.pydata.org/pandas-docs/stable/user_guide/indexing.html#returning-a-view-versus-a-copy\n",
      "  shp_df.unique_file_name.iloc[i] = pg_file_name\n"
     ]
    },
    {
     "name": "stdout",
     "output_type": "stream",
     "text": [
      "Identifier 'idx_BhuvanCCE2021030555739_8a11f5bc_21-06-2023 21:07:11_geometry' exceeds maximum length of 63 characters \\\\192.168.1.152\\ncfc_data3\\Neetu Mam (IP 26 Data Backup 17 April 23)\\Dr. Kanthesh\\CCES_2021\\3-9-2021\\CCE\\BhuvanCCE2021030555739 Gujrat.zip\\shape/BhuvanCCE2021030555739.shp\n",
      "Executing 7815st file\n",
      "shape/BhuvanCCE2021030560033.shp\n"
     ]
    },
    {
     "name": "stderr",
     "output_type": "stream",
     "text": [
      "C:\\Users\\user\\AppData\\Local\\Temp\\ipykernel_17068\\1832265514.py:168: SettingWithCopyWarning: \n",
      "A value is trying to be set on a copy of a slice from a DataFrame\n",
      "\n",
      "See the caveats in the documentation: https://pandas.pydata.org/pandas-docs/stable/user_guide/indexing.html#returning-a-view-versus-a-copy\n",
      "  shp_df.unique_file_name.iloc[i] = pg_file_name\n"
     ]
    },
    {
     "name": "stdout",
     "output_type": "stream",
     "text": [
      "Identifier 'idx_BhuvanCCE2021030560033_1418985c_21-06-2023 21:07:11_geometry' exceeds maximum length of 63 characters \\\\192.168.1.152\\ncfc_data3\\Neetu Mam (IP 26 Data Backup 17 April 23)\\Dr. Kanthesh\\CCES_2021\\3-9-2021\\CCE\\BhuvanCCE2021030560033 Rajastan.zip\\shape/BhuvanCCE2021030560033.shp\n",
      "Executing 7816st file\n",
      "shape/BhuvanCCE2021030560227.shp\n"
     ]
    },
    {
     "name": "stderr",
     "output_type": "stream",
     "text": [
      "C:\\Users\\user\\AppData\\Local\\Temp\\ipykernel_17068\\1832265514.py:168: SettingWithCopyWarning: \n",
      "A value is trying to be set on a copy of a slice from a DataFrame\n",
      "\n",
      "See the caveats in the documentation: https://pandas.pydata.org/pandas-docs/stable/user_guide/indexing.html#returning-a-view-versus-a-copy\n",
      "  shp_df.unique_file_name.iloc[i] = pg_file_name\n"
     ]
    },
    {
     "name": "stdout",
     "output_type": "stream",
     "text": [
      "Identifier 'idx_BhuvanCCE2021030560227_d7c0b74a_21-06-2023 21:07:13_geometry' exceeds maximum length of 63 characters \\\\192.168.1.152\\ncfc_data3\\Neetu Mam (IP 26 Data Backup 17 April 23)\\Dr. Kanthesh\\CCES_2021\\3-9-2021\\CCE\\BhuvanCCE2021030560227 Uttarpradesh.zip\\shape/BhuvanCCE2021030560227.shp\n",
      "Executing 7817st file\n",
      "shape/BhuvanCCE20210708102431.shp\n"
     ]
    },
    {
     "name": "stderr",
     "output_type": "stream",
     "text": [
      "C:\\Users\\user\\AppData\\Local\\Temp\\ipykernel_17068\\1832265514.py:168: SettingWithCopyWarning: \n",
      "A value is trying to be set on a copy of a slice from a DataFrame\n",
      "\n",
      "See the caveats in the documentation: https://pandas.pydata.org/pandas-docs/stable/user_guide/indexing.html#returning-a-view-versus-a-copy\n",
      "  shp_df.unique_file_name.iloc[i] = pg_file_name\n"
     ]
    },
    {
     "name": "stdout",
     "output_type": "stream",
     "text": [
      "Identifier 'idx_BhuvanCCE20210708102431_fb3bd57f_21-06-2023 21:07:13_geometry' exceeds maximum length of 63 characters \\\\192.168.1.152\\ncfc_data3\\Neetu Mam (IP 26 Data Backup 17 April 23)\\Dr. Kanthesh\\CCES_2021\\3-9-2021\\CCE\\BhuvanCCE20210708102431.zip\\shape/BhuvanCCE20210708102431.shp\n",
      "Executing 7818st file\n"
     ]
    },
    {
     "name": "stderr",
     "output_type": "stream",
     "text": [
      "C:\\Users\\user\\AppData\\Local\\Temp\\ipykernel_17068\\1832265514.py:168: SettingWithCopyWarning: \n",
      "A value is trying to be set on a copy of a slice from a DataFrame\n",
      "\n",
      "See the caveats in the documentation: https://pandas.pydata.org/pandas-docs/stable/user_guide/indexing.html#returning-a-view-versus-a-copy\n",
      "  shp_df.unique_file_name.iloc[i] = pg_file_name\n"
     ]
    },
    {
     "name": "stdout",
     "output_type": "stream",
     "text": [
      "shape/BhuvanCCE20210708102821.shp\n",
      "Identifier 'idx_BhuvanCCE20210708102821_e284c913_21-06-2023 21:07:15_geometry' exceeds maximum length of 63 characters \\\\192.168.1.152\\ncfc_data3\\Neetu Mam (IP 26 Data Backup 17 April 23)\\Dr. Kanthesh\\CCES_2021\\3-9-2021\\CCE\\BhuvanCCE20210708102821.zip\\shape/BhuvanCCE20210708102821.shp\n",
      "Executing 7819st file\n",
      "shape/BhuvanCCE20210708103005.shp\n"
     ]
    },
    {
     "name": "stderr",
     "output_type": "stream",
     "text": [
      "C:\\Users\\user\\AppData\\Local\\Temp\\ipykernel_17068\\1832265514.py:168: SettingWithCopyWarning: \n",
      "A value is trying to be set on a copy of a slice from a DataFrame\n",
      "\n",
      "See the caveats in the documentation: https://pandas.pydata.org/pandas-docs/stable/user_guide/indexing.html#returning-a-view-versus-a-copy\n",
      "  shp_df.unique_file_name.iloc[i] = pg_file_name\n"
     ]
    },
    {
     "name": "stdout",
     "output_type": "stream",
     "text": [
      "Identifier 'idx_BhuvanCCE20210708103005_a9cc1234_21-06-2023 21:07:15_geometry' exceeds maximum length of 63 characters \\\\192.168.1.152\\ncfc_data3\\Neetu Mam (IP 26 Data Backup 17 April 23)\\Dr. Kanthesh\\CCES_2021\\3-9-2021\\CCE\\BhuvanCCE20210708103005.zip\\shape/BhuvanCCE20210708103005.shp\n",
      "Executing 7820st file\n",
      "shape/BhuvanCCE20210708103104.shp\n"
     ]
    },
    {
     "name": "stderr",
     "output_type": "stream",
     "text": [
      "C:\\Users\\user\\AppData\\Local\\Temp\\ipykernel_17068\\1832265514.py:168: SettingWithCopyWarning: \n",
      "A value is trying to be set on a copy of a slice from a DataFrame\n",
      "\n",
      "See the caveats in the documentation: https://pandas.pydata.org/pandas-docs/stable/user_guide/indexing.html#returning-a-view-versus-a-copy\n",
      "  shp_df.unique_file_name.iloc[i] = pg_file_name\n"
     ]
    },
    {
     "name": "stdout",
     "output_type": "stream",
     "text": [
      "Identifier 'idx_BhuvanCCE20210708103104_03f5580b_21-06-2023 21:07:17_geometry' exceeds maximum length of 63 characters \\\\192.168.1.152\\ncfc_data3\\Neetu Mam (IP 26 Data Backup 17 April 23)\\Dr. Kanthesh\\CCES_2021\\3-9-2021\\CCE\\BhuvanCCE20210708103104.zip\\shape/BhuvanCCE20210708103104.shp\n",
      "Executing 7821st file\n",
      "shape/BhuvanCCE20210708104607.shp\n"
     ]
    },
    {
     "name": "stderr",
     "output_type": "stream",
     "text": [
      "C:\\Users\\user\\AppData\\Local\\Temp\\ipykernel_17068\\1832265514.py:168: SettingWithCopyWarning: \n",
      "A value is trying to be set on a copy of a slice from a DataFrame\n",
      "\n",
      "See the caveats in the documentation: https://pandas.pydata.org/pandas-docs/stable/user_guide/indexing.html#returning-a-view-versus-a-copy\n",
      "  shp_df.unique_file_name.iloc[i] = pg_file_name\n"
     ]
    },
    {
     "name": "stdout",
     "output_type": "stream",
     "text": [
      "Identifier 'idx_BhuvanCCE20210708104607_3f01265e_21-06-2023 21:07:18_geometry' exceeds maximum length of 63 characters \\\\192.168.1.152\\ncfc_data3\\Neetu Mam (IP 26 Data Backup 17 April 23)\\Dr. Kanthesh\\CCES_2021\\3-9-2021\\CCE\\BhuvanCCE20210708104607.zip\\shape/BhuvanCCE20210708104607.shp\n",
      "Executing 7822st file\n",
      "shape/BhuvanCCE2021070961747.shp\n"
     ]
    },
    {
     "name": "stderr",
     "output_type": "stream",
     "text": [
      "C:\\Users\\user\\AppData\\Local\\Temp\\ipykernel_17068\\1832265514.py:168: SettingWithCopyWarning: \n",
      "A value is trying to be set on a copy of a slice from a DataFrame\n",
      "\n",
      "See the caveats in the documentation: https://pandas.pydata.org/pandas-docs/stable/user_guide/indexing.html#returning-a-view-versus-a-copy\n",
      "  shp_df.unique_file_name.iloc[i] = pg_file_name\n"
     ]
    },
    {
     "name": "stdout",
     "output_type": "stream",
     "text": [
      "Identifier 'idx_BhuvanCCE2021070961747_0d22b73c_21-06-2023 21:07:20_geometry' exceeds maximum length of 63 characters \\\\192.168.1.152\\ncfc_data3\\Neetu Mam (IP 26 Data Backup 17 April 23)\\Dr. Kanthesh\\CCES_2021\\3-9-2021\\CCE\\CCEall.zip\\shape/BhuvanCCE2021070961747.shp\n",
      "Executing 7823st file\n",
      "shape/BhuvanCCE20210708111728.shp\n"
     ]
    },
    {
     "name": "stderr",
     "output_type": "stream",
     "text": [
      "C:\\Users\\user\\AppData\\Local\\Temp\\ipykernel_17068\\1832265514.py:168: SettingWithCopyWarning: \n",
      "A value is trying to be set on a copy of a slice from a DataFrame\n",
      "\n",
      "See the caveats in the documentation: https://pandas.pydata.org/pandas-docs/stable/user_guide/indexing.html#returning-a-view-versus-a-copy\n",
      "  shp_df.unique_file_name.iloc[i] = pg_file_name\n"
     ]
    },
    {
     "name": "stdout",
     "output_type": "stream",
     "text": [
      "Identifier 'idx_BhuvanCCE20210708111728_5dff1b8d_21-06-2023 21:07:23_geometry' exceeds maximum length of 63 characters \\\\192.168.1.152\\ncfc_data3\\Neetu Mam (IP 26 Data Backup 17 April 23)\\Dr. Kanthesh\\CCES_2021\\3-9-2021\\CCE\\madhya_p.zip\\shape/BhuvanCCE20210708111728.shp\n",
      "Executing 7824st file\n",
      "shape/BhuvanCCE20210708111058.shp\n"
     ]
    },
    {
     "name": "stderr",
     "output_type": "stream",
     "text": [
      "C:\\Users\\user\\AppData\\Local\\Temp\\ipykernel_17068\\1832265514.py:168: SettingWithCopyWarning: \n",
      "A value is trying to be set on a copy of a slice from a DataFrame\n",
      "\n",
      "See the caveats in the documentation: https://pandas.pydata.org/pandas-docs/stable/user_guide/indexing.html#returning-a-view-versus-a-copy\n",
      "  shp_df.unique_file_name.iloc[i] = pg_file_name\n"
     ]
    },
    {
     "name": "stdout",
     "output_type": "stream",
     "text": [
      "Identifier 'idx_BhuvanCCE20210708111058_8afbcd57_21-06-2023 21:07:24_geometry' exceeds maximum length of 63 characters \\\\192.168.1.152\\ncfc_data3\\Neetu Mam (IP 26 Data Backup 17 April 23)\\Dr. Kanthesh\\CCES_2021\\3-9-2021\\CCE\\ODHISA.zip\\shape/BhuvanCCE20210708111058.shp\n",
      "Executing 7825st file\n",
      "shape/BhuvanCCE20210708110121.shp\n"
     ]
    },
    {
     "name": "stderr",
     "output_type": "stream",
     "text": [
      "C:\\Users\\user\\AppData\\Local\\Temp\\ipykernel_17068\\1832265514.py:168: SettingWithCopyWarning: \n",
      "A value is trying to be set on a copy of a slice from a DataFrame\n",
      "\n",
      "See the caveats in the documentation: https://pandas.pydata.org/pandas-docs/stable/user_guide/indexing.html#returning-a-view-versus-a-copy\n",
      "  shp_df.unique_file_name.iloc[i] = pg_file_name\n"
     ]
    },
    {
     "name": "stdout",
     "output_type": "stream",
     "text": [
      "Identifier 'idx_BhuvanCCE20210708110121_d821f962_21-06-2023 21:07:26_geometry' exceeds maximum length of 63 characters \\\\192.168.1.152\\ncfc_data3\\Neetu Mam (IP 26 Data Backup 17 April 23)\\Dr. Kanthesh\\CCES_2021\\3-9-2021\\CCE\\RJ.zip\\shape/BhuvanCCE20210708110121.shp\n",
      "Executing 7826st file\n",
      "shape/BhuvanCCE20210708105156.shp\n"
     ]
    },
    {
     "name": "stderr",
     "output_type": "stream",
     "text": [
      "C:\\Users\\user\\AppData\\Local\\Temp\\ipykernel_17068\\1832265514.py:168: SettingWithCopyWarning: \n",
      "A value is trying to be set on a copy of a slice from a DataFrame\n",
      "\n",
      "See the caveats in the documentation: https://pandas.pydata.org/pandas-docs/stable/user_guide/indexing.html#returning-a-view-versus-a-copy\n",
      "  shp_df.unique_file_name.iloc[i] = pg_file_name\n"
     ]
    },
    {
     "name": "stdout",
     "output_type": "stream",
     "text": [
      "Identifier 'idx_BhuvanCCE20210708105156_216fb4d9_21-06-2023 21:07:29_geometry' exceeds maximum length of 63 characters \\\\192.168.1.152\\ncfc_data3\\Neetu Mam (IP 26 Data Backup 17 April 23)\\Dr. Kanthesh\\CCES_2021\\3-9-2021\\CCE\\TE.zip\\shape/BhuvanCCE20210708105156.shp\n",
      "Executing 7856st file\n",
      "shape/BhuvanCCE20210823103635.shp\n"
     ]
    },
    {
     "name": "stderr",
     "output_type": "stream",
     "text": [
      "C:\\Users\\user\\AppData\\Local\\Temp\\ipykernel_17068\\1832265514.py:168: SettingWithCopyWarning: \n",
      "A value is trying to be set on a copy of a slice from a DataFrame\n",
      "\n",
      "See the caveats in the documentation: https://pandas.pydata.org/pandas-docs/stable/user_guide/indexing.html#returning-a-view-versus-a-copy\n",
      "  shp_df.unique_file_name.iloc[i] = pg_file_name\n"
     ]
    },
    {
     "name": "stdout",
     "output_type": "stream",
     "text": [
      "Identifier 'idx_BhuvanCCE20210823103635_e8b3ecd7_21-06-2023 21:07:30_geometry' exceeds maximum length of 63 characters \\\\192.168.1.152\\ncfc_data3\\Neetu Mam (IP 26 Data Backup 17 April 23)\\Dr. Kanthesh\\CCES_2021\\3-9-2021\\CCE_Kharif\\BhuvanCCE_kharif2020.zip\\shape/BhuvanCCE20210823103635.shp\n",
      "Executing 7857st file\n",
      "shape/BhuvanCCEJune.shp\n",
      "Executing 8216st file\n",
      "Paddy crop area wise Village and yield/Uttar_pradesh/Hardoi/Hardoi_Vill_GT_100ha.shp\n"
     ]
    },
    {
     "name": "stderr",
     "output_type": "stream",
     "text": [
      "C:\\Users\\user\\AppData\\Local\\Temp\\ipykernel_17068\\1832265514.py:168: SettingWithCopyWarning: \n",
      "A value is trying to be set on a copy of a slice from a DataFrame\n",
      "\n",
      "See the caveats in the documentation: https://pandas.pydata.org/pandas-docs/stable/user_guide/indexing.html#returning-a-view-versus-a-copy\n",
      "  shp_df.unique_file_name.iloc[i] = pg_file_name\n"
     ]
    },
    {
     "name": "stdout",
     "output_type": "stream",
     "text": [
      "Executing 8217st file\n",
      "Paddy crop area wise Village and yield/Uttar_pradesh/Kanpur_Dehat/Kanpur_dehat_Vill_100ha.shp\n"
     ]
    },
    {
     "name": "stderr",
     "output_type": "stream",
     "text": [
      "C:\\Users\\user\\AppData\\Local\\Temp\\ipykernel_17068\\1832265514.py:168: SettingWithCopyWarning: \n",
      "A value is trying to be set on a copy of a slice from a DataFrame\n",
      "\n",
      "See the caveats in the documentation: https://pandas.pydata.org/pandas-docs/stable/user_guide/indexing.html#returning-a-view-versus-a-copy\n",
      "  shp_df.unique_file_name.iloc[i] = pg_file_name\n"
     ]
    },
    {
     "name": "stdout",
     "output_type": "stream",
     "text": [
      "Identifier 'idx_Kanpur_dehat_Vill_100ha_20722168_21-06-2023 21:09:39_geometry' exceeds maximum length of 63 characters \\\\192.168.1.152\\ncfc_data3\\Neetu Mam (IP 26 Data Backup 17 April 23)\\Dr. Kanthesh\\Desktop 5-5-2022\\AMNEX_2020\\Kharif\\MNCFC_Kharif_2020_Area\\Paddy crop area wise Village and yield.zip\\Paddy crop area wise Village and yield/Uttar_pradesh/Kanpur_Dehat/Kanpur_dehat_Vill_100ha.shp\n",
      "Executing 8218st file\n",
      "Paddy crop area wise Village and yield/Uttar_pradesh/Kanpur_Dehat/Kanpur_dehat_Vill_GT_100ha.shp\n"
     ]
    },
    {
     "name": "stderr",
     "output_type": "stream",
     "text": [
      "C:\\Users\\user\\AppData\\Local\\Temp\\ipykernel_17068\\1832265514.py:168: SettingWithCopyWarning: \n",
      "A value is trying to be set on a copy of a slice from a DataFrame\n",
      "\n",
      "See the caveats in the documentation: https://pandas.pydata.org/pandas-docs/stable/user_guide/indexing.html#returning-a-view-versus-a-copy\n",
      "  shp_df.unique_file_name.iloc[i] = pg_file_name\n"
     ]
    },
    {
     "name": "stdout",
     "output_type": "stream",
     "text": [
      "Identifier 'idx_Kanpur_dehat_Vill_GT_100ha_7a8223cc_21-06-2023 21:09:39_geometry' exceeds maximum length of 63 characters \\\\192.168.1.152\\ncfc_data3\\Neetu Mam (IP 26 Data Backup 17 April 23)\\Dr. Kanthesh\\Desktop 5-5-2022\\AMNEX_2020\\Kharif\\MNCFC_Kharif_2020_Area\\Paddy crop area wise Village and yield.zip\\Paddy crop area wise Village and yield/Uttar_pradesh/Kanpur_Dehat/Kanpur_dehat_Vill_GT_100ha.shp\n",
      "Executing 8219st file\n",
      "Paddy crop area wise Village and yield/Uttar_pradesh/Sonbhadra/Sonbhadra_Vill_100ha.shp\n"
     ]
    },
    {
     "name": "stderr",
     "output_type": "stream",
     "text": [
      "C:\\Users\\user\\AppData\\Local\\Temp\\ipykernel_17068\\1832265514.py:168: SettingWithCopyWarning: \n",
      "A value is trying to be set on a copy of a slice from a DataFrame\n",
      "\n",
      "See the caveats in the documentation: https://pandas.pydata.org/pandas-docs/stable/user_guide/indexing.html#returning-a-view-versus-a-copy\n",
      "  shp_df.unique_file_name.iloc[i] = pg_file_name\n"
     ]
    },
    {
     "name": "stdout",
     "output_type": "stream",
     "text": [
      "Executing 8220st file\n",
      "Paddy crop area wise Village and yield/Uttar_pradesh/Sonbhadra/Sonbhadra_Vill_GT_100ha.shp\n"
     ]
    },
    {
     "name": "stderr",
     "output_type": "stream",
     "text": [
      "C:\\Users\\user\\AppData\\Local\\Temp\\ipykernel_17068\\1832265514.py:168: SettingWithCopyWarning: \n",
      "A value is trying to be set on a copy of a slice from a DataFrame\n",
      "\n",
      "See the caveats in the documentation: https://pandas.pydata.org/pandas-docs/stable/user_guide/indexing.html#returning-a-view-versus-a-copy\n",
      "  shp_df.unique_file_name.iloc[i] = pg_file_name\n"
     ]
    },
    {
     "name": "stdout",
     "output_type": "stream",
     "text": [
      "Identifier 'idx_Sonbhadra_Vill_GT_100ha_45147946_21-06-2023 21:09:41_geometry' exceeds maximum length of 63 characters \\\\192.168.1.152\\ncfc_data3\\Neetu Mam (IP 26 Data Backup 17 April 23)\\Dr. Kanthesh\\Desktop 5-5-2022\\AMNEX_2020\\Kharif\\MNCFC_Kharif_2020_Area\\Paddy crop area wise Village and yield.zip\\Paddy crop area wise Village and yield/Uttar_pradesh/Sonbhadra/Sonbhadra_Vill_GT_100ha.shp\n",
      "Executing 8283st file\n",
      "Azamgarh_Taluka_Boundary.shp\n"
     ]
    },
    {
     "name": "stderr",
     "output_type": "stream",
     "text": [
      "C:\\Users\\user\\AppData\\Local\\Temp\\ipykernel_17068\\1832265514.py:168: SettingWithCopyWarning: \n",
      "A value is trying to be set on a copy of a slice from a DataFrame\n",
      "\n",
      "See the caveats in the documentation: https://pandas.pydata.org/pandas-docs/stable/user_guide/indexing.html#returning-a-view-versus-a-copy\n",
      "  shp_df.unique_file_name.iloc[i] = pg_file_name\n"
     ]
    },
    {
     "name": "stdout",
     "output_type": "stream",
     "text": [
      "Identifier 'idx_Azamgarh_Taluka_Boundary_69c2d900_21-06-2023 21:09:41_geometry' exceeds maximum length of 63 characters \\\\192.168.1.152\\ncfc_data3\\Neetu Mam (IP 26 Data Backup 17 April 23)\\Dr. Kanthesh\\Desktop 5-5-2022\\AMNEX_2020\\Kharif\\MNCFC_Kharif_2020_Area\\Kharif_Season_Study_Area_Boundary\\Uttar Pradesh\\Azamgarh\\Taluka\\Taluka.zip\\Azamgarh_Taluka_Boundary.shp\n",
      "Executing 8289st file\n",
      "Deoria_District_Boundary.shp\n"
     ]
    },
    {
     "name": "stderr",
     "output_type": "stream",
     "text": [
      "C:\\Users\\user\\AppData\\Local\\Temp\\ipykernel_17068\\1832265514.py:168: SettingWithCopyWarning: \n",
      "A value is trying to be set on a copy of a slice from a DataFrame\n",
      "\n",
      "See the caveats in the documentation: https://pandas.pydata.org/pandas-docs/stable/user_guide/indexing.html#returning-a-view-versus-a-copy\n",
      "  shp_df.unique_file_name.iloc[i] = pg_file_name\n"
     ]
    },
    {
     "name": "stdout",
     "output_type": "stream",
     "text": [
      "Identifier 'idx_Deoria_District_Boundary_647bfff8_21-06-2023 21:09:46_geometry' exceeds maximum length of 63 characters \\\\192.168.1.152\\ncfc_data3\\Neetu Mam (IP 26 Data Backup 17 April 23)\\Dr. Kanthesh\\Desktop 5-5-2022\\AMNEX_2020\\Kharif\\MNCFC_Kharif_2020_Area\\Kharif_Season_Study_Area_Boundary\\Uttar Pradesh\\Deoria\\District\\District.zip\\Deoria_District_Boundary.shp\n",
      "Executing 8334st file\n",
      "Dewas_Village_Boundary_updated.shp\n"
     ]
    },
    {
     "name": "stderr",
     "output_type": "stream",
     "text": [
      "C:\\Users\\user\\AppData\\Local\\Temp\\ipykernel_17068\\1832265514.py:168: SettingWithCopyWarning: \n",
      "A value is trying to be set on a copy of a slice from a DataFrame\n",
      "\n",
      "See the caveats in the documentation: https://pandas.pydata.org/pandas-docs/stable/user_guide/indexing.html#returning-a-view-versus-a-copy\n",
      "  shp_df.unique_file_name.iloc[i] = pg_file_name\n"
     ]
    },
    {
     "name": "stdout",
     "output_type": "stream",
     "text": [
      "Identifier 'idx_Dewas_Village_Boundary_updated_eb1eba56_21-06-2023 21:09:47_geometry' exceeds maximum length of 63 characters \\\\192.168.1.152\\ncfc_data3\\Neetu Mam (IP 26 Data Backup 17 April 23)\\Dr. Kanthesh\\Desktop 5-5-2022\\AMNEX_2020\\Kharif\\MNCFC_Village_Boundary\\MNCFC_Village_Boundary\\Rabi\\Madhya Pradesh\\Dewas\\Villages\\Villages.zip\\Dewas_Village_Boundary_updated.shp\n",
      "Executing 8808st file\n",
      "study area/Boundary.shp\n"
     ]
    },
    {
     "name": "stderr",
     "output_type": "stream",
     "text": [
      "C:\\Users\\user\\AppData\\Local\\Temp\\ipykernel_17068\\1832265514.py:168: SettingWithCopyWarning: \n",
      "A value is trying to be set on a copy of a slice from a DataFrame\n",
      "\n",
      "See the caveats in the documentation: https://pandas.pydata.org/pandas-docs/stable/user_guide/indexing.html#returning-a-view-versus-a-copy\n",
      "  shp_df.unique_file_name.iloc[i] = pg_file_name\n"
     ]
    },
    {
     "name": "stdout",
     "output_type": "stream",
     "text": [
      "Executing 8809st file\n",
      "study area/lulc.shp\n"
     ]
    },
    {
     "name": "stderr",
     "output_type": "stream",
     "text": [
      "C:\\Users\\user\\AppData\\Local\\Temp\\ipykernel_17068\\1832265514.py:168: SettingWithCopyWarning: \n",
      "A value is trying to be set on a copy of a slice from a DataFrame\n",
      "\n",
      "See the caveats in the documentation: https://pandas.pydata.org/pandas-docs/stable/user_guide/indexing.html#returning-a-view-versus-a-copy\n",
      "  shp_df.unique_file_name.iloc[i] = pg_file_name\n"
     ]
    },
    {
     "name": "stdout",
     "output_type": "stream",
     "text": [
      "Executing 8810st file\n",
      "study area/Physio.shp\n"
     ]
    },
    {
     "name": "stderr",
     "output_type": "stream",
     "text": [
      "C:\\Users\\user\\AppData\\Local\\Temp\\ipykernel_17068\\1832265514.py:168: SettingWithCopyWarning: \n",
      "A value is trying to be set on a copy of a slice from a DataFrame\n",
      "\n",
      "See the caveats in the documentation: https://pandas.pydata.org/pandas-docs/stable/user_guide/indexing.html#returning-a-view-versus-a-copy\n",
      "  shp_df.unique_file_name.iloc[i] = pg_file_name\n"
     ]
    },
    {
     "name": "stdout",
     "output_type": "stream",
     "text": [
      "Executing 8811st file\n",
      "study area/point_data.shp\n"
     ]
    },
    {
     "name": "stderr",
     "output_type": "stream",
     "text": [
      "C:\\Users\\user\\AppData\\Local\\Temp\\ipykernel_17068\\1832265514.py:168: SettingWithCopyWarning: \n",
      "A value is trying to be set on a copy of a slice from a DataFrame\n",
      "\n",
      "See the caveats in the documentation: https://pandas.pydata.org/pandas-docs/stable/user_guide/indexing.html#returning-a-view-versus-a-copy\n",
      "  shp_df.unique_file_name.iloc[i] = pg_file_name\n"
     ]
    },
    {
     "name": "stdout",
     "output_type": "stream",
     "text": [
      "Executing 8812st file\n",
      "study area/study_area_shapefile.shp\n"
     ]
    },
    {
     "name": "stderr",
     "output_type": "stream",
     "text": [
      "C:\\Users\\user\\AppData\\Local\\Temp\\ipykernel_17068\\1832265514.py:168: SettingWithCopyWarning: \n",
      "A value is trying to be set on a copy of a slice from a DataFrame\n",
      "\n",
      "See the caveats in the documentation: https://pandas.pydata.org/pandas-docs/stable/user_guide/indexing.html#returning-a-view-versus-a-copy\n",
      "  shp_df.unique_file_name.iloc[i] = pg_file_name\n"
     ]
    },
    {
     "name": "stdout",
     "output_type": "stream",
     "text": [
      "Executing 8831st file\n",
      "shape/BhuvanFASAL2021093093126.shp\n"
     ]
    },
    {
     "name": "stderr",
     "output_type": "stream",
     "text": [
      "C:\\Users\\user\\AppData\\Local\\Temp\\ipykernel_17068\\1832265514.py:168: SettingWithCopyWarning: \n",
      "A value is trying to be set on a copy of a slice from a DataFrame\n",
      "\n",
      "See the caveats in the documentation: https://pandas.pydata.org/pandas-docs/stable/user_guide/indexing.html#returning-a-view-versus-a-copy\n",
      "  shp_df.unique_file_name.iloc[i] = pg_file_name\n"
     ]
    },
    {
     "name": "stdout",
     "output_type": "stream",
     "text": [
      "Identifier 'idx_BhuvanFASAL2021093093126_81238726_21-06-2023 21:10:50_geometry' exceeds maximum length of 63 characters \\\\192.168.1.152\\ncfc_data3\\Neetu Mam (IP 26 Data Backup 17 April 23)\\Dr. Kanthesh\\GT\\May\\BhuvanFASAL2021093093126.zip\\shape/BhuvanFASAL2021093093126.shp\n",
      "Executing 9290st file\n",
      "India_taluk_boundary_14state_gcs.shp\n"
     ]
    },
    {
     "name": "stderr",
     "output_type": "stream",
     "text": [
      "C:\\Users\\user\\AppData\\Local\\Temp\\ipykernel_17068\\1832265514.py:168: SettingWithCopyWarning: \n",
      "A value is trying to be set on a copy of a slice from a DataFrame\n",
      "\n",
      "See the caveats in the documentation: https://pandas.pydata.org/pandas-docs/stable/user_guide/indexing.html#returning-a-view-versus-a-copy\n",
      "  shp_df.unique_file_name.iloc[i] = pg_file_name\n"
     ]
    },
    {
     "name": "stdout",
     "output_type": "stream",
     "text": [
      "Identifier 'idx_India_taluk_boundary_14state_gcs_d266a008_21-06-2023 21:10:56_geometry' exceeds maximum length of 63 characters \\\\192.168.1.152\\ncfc_data3\\Neetu Mam (IP 26 Data Backup 17 April 23)\\Drought_Kharif_2022\\india_14states_blk_shp.zip\\India_taluk_boundary_14state_gcs.shp\n",
      "Executing 9295st file\n",
      "India_taluk_boundary_14state_lcc.shp\n"
     ]
    },
    {
     "name": "stderr",
     "output_type": "stream",
     "text": [
      "C:\\Users\\user\\AppData\\Local\\Temp\\ipykernel_17068\\1832265514.py:168: SettingWithCopyWarning: \n",
      "A value is trying to be set on a copy of a slice from a DataFrame\n",
      "\n",
      "See the caveats in the documentation: https://pandas.pydata.org/pandas-docs/stable/user_guide/indexing.html#returning-a-view-versus-a-copy\n",
      "  shp_df.unique_file_name.iloc[i] = pg_file_name\n"
     ]
    },
    {
     "name": "stdout",
     "output_type": "stream",
     "text": [
      "Identifier 'idx_India_taluk_boundary_14state_lcc_9a0139a3_21-06-2023 21:12:42_geometry' exceeds maximum length of 63 characters \\\\192.168.1.152\\ncfc_data3\\Neetu Mam (IP 26 Data Backup 17 April 23)\\Drought_Kharif_2022\\Updated Subdistrict boundary.zip\\India_taluk_boundary_14state_lcc.shp\n",
      "Executing 9296st file\n",
      "Westbengal block boundary/WB_BLOCK.shp\n"
     ]
    },
    {
     "name": "stderr",
     "output_type": "stream",
     "text": [
      "C:\\Users\\user\\AppData\\Local\\Temp\\ipykernel_17068\\1832265514.py:168: SettingWithCopyWarning: \n",
      "A value is trying to be set on a copy of a slice from a DataFrame\n",
      "\n",
      "See the caveats in the documentation: https://pandas.pydata.org/pandas-docs/stable/user_guide/indexing.html#returning-a-view-versus-a-copy\n",
      "  shp_df.unique_file_name.iloc[i] = pg_file_name\n"
     ]
    },
    {
     "name": "stdout",
     "output_type": "stream",
     "text": [
      "Executing 9307st file\n",
      "WB_BLOCK.shp\n"
     ]
    },
    {
     "name": "stderr",
     "output_type": "stream",
     "text": [
      "C:\\Users\\user\\AppData\\Local\\Temp\\ipykernel_17068\\1832265514.py:168: SettingWithCopyWarning: \n",
      "A value is trying to be set on a copy of a slice from a DataFrame\n",
      "\n",
      "See the caveats in the documentation: https://pandas.pydata.org/pandas-docs/stable/user_guide/indexing.html#returning-a-view-versus-a-copy\n",
      "  shp_df.unique_file_name.iloc[i] = pg_file_name\n"
     ]
    },
    {
     "name": "stdout",
     "output_type": "stream",
     "text": [
      "Executing 9344st file\n",
      "Hanumangarh_B.shp\n"
     ]
    },
    {
     "name": "stderr",
     "output_type": "stream",
     "text": [
      "C:\\Users\\user\\AppData\\Local\\Temp\\ipykernel_17068\\1832265514.py:168: SettingWithCopyWarning: \n",
      "A value is trying to be set on a copy of a slice from a DataFrame\n",
      "\n",
      "See the caveats in the documentation: https://pandas.pydata.org/pandas-docs/stable/user_guide/indexing.html#returning-a-view-versus-a-copy\n",
      "  shp_df.unique_file_name.iloc[i] = pg_file_name\n"
     ]
    },
    {
     "name": "stdout",
     "output_type": "stream",
     "text": [
      "Executing 9346st file\n",
      "Hanumangarh_B_update.shp\n"
     ]
    },
    {
     "name": "stderr",
     "output_type": "stream",
     "text": [
      "C:\\Users\\user\\AppData\\Local\\Temp\\ipykernel_17068\\1832265514.py:168: SettingWithCopyWarning: \n",
      "A value is trying to be set on a copy of a slice from a DataFrame\n",
      "\n",
      "See the caveats in the documentation: https://pandas.pydata.org/pandas-docs/stable/user_guide/indexing.html#returning-a-view-versus-a-copy\n",
      "  shp_df.unique_file_name.iloc[i] = pg_file_name\n"
     ]
    },
    {
     "name": "stdout",
     "output_type": "stream",
     "text": [
      "Executing 9348st file\n",
      "Hanumangarh_D.shp\n"
     ]
    },
    {
     "name": "stderr",
     "output_type": "stream",
     "text": [
      "C:\\Users\\user\\AppData\\Local\\Temp\\ipykernel_17068\\1832265514.py:168: SettingWithCopyWarning: \n",
      "A value is trying to be set on a copy of a slice from a DataFrame\n",
      "\n",
      "See the caveats in the documentation: https://pandas.pydata.org/pandas-docs/stable/user_guide/indexing.html#returning-a-view-versus-a-copy\n",
      "  shp_df.unique_file_name.iloc[i] = pg_file_name\n"
     ]
    },
    {
     "name": "stdout",
     "output_type": "stream",
     "text": [
      "Executing 9350st file\n",
      "Hanumangarh_D_v1.shp\n"
     ]
    },
    {
     "name": "stderr",
     "output_type": "stream",
     "text": [
      "C:\\Users\\user\\AppData\\Local\\Temp\\ipykernel_17068\\1832265514.py:168: SettingWithCopyWarning: \n",
      "A value is trying to be set on a copy of a slice from a DataFrame\n",
      "\n",
      "See the caveats in the documentation: https://pandas.pydata.org/pandas-docs/stable/user_guide/indexing.html#returning-a-view-versus-a-copy\n",
      "  shp_df.unique_file_name.iloc[i] = pg_file_name\n"
     ]
    },
    {
     "name": "stdout",
     "output_type": "stream",
     "text": [
      "Executing 9352st file\n",
      "Hanumangarh_V.shp\n"
     ]
    },
    {
     "name": "stderr",
     "output_type": "stream",
     "text": [
      "C:\\Users\\user\\AppData\\Local\\Temp\\ipykernel_17068\\1832265514.py:168: SettingWithCopyWarning: \n",
      "A value is trying to be set on a copy of a slice from a DataFrame\n",
      "\n",
      "See the caveats in the documentation: https://pandas.pydata.org/pandas-docs/stable/user_guide/indexing.html#returning-a-view-versus-a-copy\n",
      "  shp_df.unique_file_name.iloc[i] = pg_file_name\n"
     ]
    },
    {
     "name": "stdout",
     "output_type": "stream",
     "text": [
      "Executing 9357st file\n",
      "Mainpuri_B.shp\n"
     ]
    },
    {
     "name": "stderr",
     "output_type": "stream",
     "text": [
      "C:\\Users\\user\\AppData\\Local\\Temp\\ipykernel_17068\\1832265514.py:168: SettingWithCopyWarning: \n",
      "A value is trying to be set on a copy of a slice from a DataFrame\n",
      "\n",
      "See the caveats in the documentation: https://pandas.pydata.org/pandas-docs/stable/user_guide/indexing.html#returning-a-view-versus-a-copy\n",
      "  shp_df.unique_file_name.iloc[i] = pg_file_name\n"
     ]
    },
    {
     "name": "stdout",
     "output_type": "stream",
     "text": [
      "Executing 9359st file\n",
      "Mainpuri_D.shp\n"
     ]
    },
    {
     "name": "stderr",
     "output_type": "stream",
     "text": [
      "C:\\Users\\user\\AppData\\Local\\Temp\\ipykernel_17068\\1832265514.py:168: SettingWithCopyWarning: \n",
      "A value is trying to be set on a copy of a slice from a DataFrame\n",
      "\n",
      "See the caveats in the documentation: https://pandas.pydata.org/pandas-docs/stable/user_guide/indexing.html#returning-a-view-versus-a-copy\n",
      "  shp_df.unique_file_name.iloc[i] = pg_file_name\n"
     ]
    },
    {
     "name": "stdout",
     "output_type": "stream",
     "text": [
      "Executing 9376st file\n",
      "IUs Boundary/Baran/Villages/Baran_Village_Boundary_updated.shp\n"
     ]
    },
    {
     "name": "stderr",
     "output_type": "stream",
     "text": [
      "C:\\Users\\user\\AppData\\Local\\Temp\\ipykernel_17068\\1832265514.py:168: SettingWithCopyWarning: \n",
      "A value is trying to be set on a copy of a slice from a DataFrame\n",
      "\n",
      "See the caveats in the documentation: https://pandas.pydata.org/pandas-docs/stable/user_guide/indexing.html#returning-a-view-versus-a-copy\n",
      "  shp_df.unique_file_name.iloc[i] = pg_file_name\n"
     ]
    },
    {
     "name": "stdout",
     "output_type": "stream",
     "text": [
      "Identifier 'idx_Baran_Village_Boundary_updated_e71cd957_21-06-2023 21:15:21_geometry' exceeds maximum length of 63 characters \\\\192.168.1.152\\ncfc_data3\\Neetu Mam (IP 26 Data Backup 17 April 23)\\Wheat validation\\Wheat_validation_agency\\IUs Boundary.zip\\IUs Boundary/Baran/Villages/Baran_Village_Boundary_updated.shp\n",
      "Executing 9377st file\n",
      "IUs Boundary/Bulandsahar/Villages/Bulandsahar_Village_Boundary_updated.shp\n"
     ]
    },
    {
     "name": "stderr",
     "output_type": "stream",
     "text": [
      "C:\\Users\\user\\AppData\\Local\\Temp\\ipykernel_17068\\1832265514.py:168: SettingWithCopyWarning: \n",
      "A value is trying to be set on a copy of a slice from a DataFrame\n",
      "\n",
      "See the caveats in the documentation: https://pandas.pydata.org/pandas-docs/stable/user_guide/indexing.html#returning-a-view-versus-a-copy\n",
      "  shp_df.unique_file_name.iloc[i] = pg_file_name\n"
     ]
    },
    {
     "name": "stdout",
     "output_type": "stream",
     "text": [
      "Identifier 'Bulandsahar_Village_Boundary_updated_1ba52931_21-06-2023 21:15:24' exceeds maximum length of 63 characters \\\\192.168.1.152\\ncfc_data3\\Neetu Mam (IP 26 Data Backup 17 April 23)\\Wheat validation\\Wheat_validation_agency\\IUs Boundary.zip\\IUs Boundary/Bulandsahar/Villages/Bulandsahar_Village_Boundary_updated.shp\n",
      "Executing 9378st file\n",
      "IUs Boundary/Chhitaurgarh/Villages/Chittaurgarh_Village_Boundary_updated.shp\n"
     ]
    },
    {
     "name": "stderr",
     "output_type": "stream",
     "text": [
      "C:\\Users\\user\\AppData\\Local\\Temp\\ipykernel_17068\\1832265514.py:168: SettingWithCopyWarning: \n",
      "A value is trying to be set on a copy of a slice from a DataFrame\n",
      "\n",
      "See the caveats in the documentation: https://pandas.pydata.org/pandas-docs/stable/user_guide/indexing.html#returning-a-view-versus-a-copy\n",
      "  shp_df.unique_file_name.iloc[i] = pg_file_name\n"
     ]
    },
    {
     "name": "stdout",
     "output_type": "stream",
     "text": [
      "Identifier 'Chittaurgarh_Village_Boundary_updated_70fb45da_21-06-2023 21:15:29' exceeds maximum length of 63 characters \\\\192.168.1.152\\ncfc_data3\\Neetu Mam (IP 26 Data Backup 17 April 23)\\Wheat validation\\Wheat_validation_agency\\IUs Boundary.zip\\IUs Boundary/Chhitaurgarh/Villages/Chittaurgarh_Village_Boundary_updated.shp\n",
      "Executing 9379st file\n",
      "IUs Boundary/Gorakhpur/Villages/Gorakhpur_Village_Boundary_updated.shp\n"
     ]
    },
    {
     "name": "stderr",
     "output_type": "stream",
     "text": [
      "C:\\Users\\user\\AppData\\Local\\Temp\\ipykernel_17068\\1832265514.py:168: SettingWithCopyWarning: \n",
      "A value is trying to be set on a copy of a slice from a DataFrame\n",
      "\n",
      "See the caveats in the documentation: https://pandas.pydata.org/pandas-docs/stable/user_guide/indexing.html#returning-a-view-versus-a-copy\n",
      "  shp_df.unique_file_name.iloc[i] = pg_file_name\n"
     ]
    },
    {
     "name": "stdout",
     "output_type": "stream",
     "text": [
      "Identifier 'idx_Gorakhpur_Village_Boundary_updated_392cf55e_21-06-2023 21:15:31_geometry' exceeds maximum length of 63 characters \\\\192.168.1.152\\ncfc_data3\\Neetu Mam (IP 26 Data Backup 17 April 23)\\Wheat validation\\Wheat_validation_agency\\IUs Boundary.zip\\IUs Boundary/Gorakhpur/Villages/Gorakhpur_Village_Boundary_updated.shp\n",
      "Executing 9380st file\n",
      "IUs Boundary/Hanumangarh/Hanumangarh_agrimask.shp\n"
     ]
    },
    {
     "name": "stderr",
     "output_type": "stream",
     "text": [
      "C:\\Users\\user\\AppData\\Local\\Temp\\ipykernel_17068\\1832265514.py:168: SettingWithCopyWarning: \n",
      "A value is trying to be set on a copy of a slice from a DataFrame\n",
      "\n",
      "See the caveats in the documentation: https://pandas.pydata.org/pandas-docs/stable/user_guide/indexing.html#returning-a-view-versus-a-copy\n",
      "  shp_df.unique_file_name.iloc[i] = pg_file_name\n"
     ]
    },
    {
     "name": "stdout",
     "output_type": "stream",
     "text": [
      "Executing 9381st file\n",
      "IUs Boundary/Hanumangarh/Hanumangarh_B.shp\n"
     ]
    },
    {
     "name": "stderr",
     "output_type": "stream",
     "text": [
      "C:\\Users\\user\\AppData\\Local\\Temp\\ipykernel_17068\\1832265514.py:168: SettingWithCopyWarning: \n",
      "A value is trying to be set on a copy of a slice from a DataFrame\n",
      "\n",
      "See the caveats in the documentation: https://pandas.pydata.org/pandas-docs/stable/user_guide/indexing.html#returning-a-view-versus-a-copy\n",
      "  shp_df.unique_file_name.iloc[i] = pg_file_name\n"
     ]
    },
    {
     "name": "stdout",
     "output_type": "stream",
     "text": [
      "Executing 9382st file\n",
      "IUs Boundary/Hanumangarh/Hanumangarh_B_update.shp\n"
     ]
    },
    {
     "name": "stderr",
     "output_type": "stream",
     "text": [
      "C:\\Users\\user\\AppData\\Local\\Temp\\ipykernel_17068\\1832265514.py:168: SettingWithCopyWarning: \n",
      "A value is trying to be set on a copy of a slice from a DataFrame\n",
      "\n",
      "See the caveats in the documentation: https://pandas.pydata.org/pandas-docs/stable/user_guide/indexing.html#returning-a-view-versus-a-copy\n",
      "  shp_df.unique_file_name.iloc[i] = pg_file_name\n"
     ]
    },
    {
     "name": "stdout",
     "output_type": "stream",
     "text": [
      "Executing 9383st file\n",
      "IUs Boundary/Hanumangarh/Hanumangarh_D.shp\n"
     ]
    },
    {
     "name": "stderr",
     "output_type": "stream",
     "text": [
      "C:\\Users\\user\\AppData\\Local\\Temp\\ipykernel_17068\\1832265514.py:168: SettingWithCopyWarning: \n",
      "A value is trying to be set on a copy of a slice from a DataFrame\n",
      "\n",
      "See the caveats in the documentation: https://pandas.pydata.org/pandas-docs/stable/user_guide/indexing.html#returning-a-view-versus-a-copy\n",
      "  shp_df.unique_file_name.iloc[i] = pg_file_name\n"
     ]
    },
    {
     "name": "stdout",
     "output_type": "stream",
     "text": [
      "Executing 9384st file\n",
      "IUs Boundary/Hanumangarh/Hanumangarh_D_v1.shp\n"
     ]
    },
    {
     "name": "stderr",
     "output_type": "stream",
     "text": [
      "C:\\Users\\user\\AppData\\Local\\Temp\\ipykernel_17068\\1832265514.py:168: SettingWithCopyWarning: \n",
      "A value is trying to be set on a copy of a slice from a DataFrame\n",
      "\n",
      "See the caveats in the documentation: https://pandas.pydata.org/pandas-docs/stable/user_guide/indexing.html#returning-a-view-versus-a-copy\n",
      "  shp_df.unique_file_name.iloc[i] = pg_file_name\n"
     ]
    },
    {
     "name": "stdout",
     "output_type": "stream",
     "text": [
      "Executing 9385st file\n",
      "IUs Boundary/Hanumangarh/Hanumangarh_V.shp\n"
     ]
    },
    {
     "name": "stderr",
     "output_type": "stream",
     "text": [
      "C:\\Users\\user\\AppData\\Local\\Temp\\ipykernel_17068\\1832265514.py:168: SettingWithCopyWarning: \n",
      "A value is trying to be set on a copy of a slice from a DataFrame\n",
      "\n",
      "See the caveats in the documentation: https://pandas.pydata.org/pandas-docs/stable/user_guide/indexing.html#returning-a-view-versus-a-copy\n",
      "  shp_df.unique_file_name.iloc[i] = pg_file_name\n"
     ]
    },
    {
     "name": "stdout",
     "output_type": "stream",
     "text": [
      "Executing 9386st file\n",
      "IUs Boundary/Hanumangarh/Hanumangarh_village_update.shp\n"
     ]
    },
    {
     "name": "stderr",
     "output_type": "stream",
     "text": [
      "C:\\Users\\user\\AppData\\Local\\Temp\\ipykernel_17068\\1832265514.py:168: SettingWithCopyWarning: \n",
      "A value is trying to be set on a copy of a slice from a DataFrame\n",
      "\n",
      "See the caveats in the documentation: https://pandas.pydata.org/pandas-docs/stable/user_guide/indexing.html#returning-a-view-versus-a-copy\n",
      "  shp_df.unique_file_name.iloc[i] = pg_file_name\n"
     ]
    },
    {
     "name": "stdout",
     "output_type": "stream",
     "text": [
      "Identifier 'idx_Hanumangarh_village_update_676c74be_21-06-2023 21:15:54_geometry' exceeds maximum length of 63 characters \\\\192.168.1.152\\ncfc_data3\\Neetu Mam (IP 26 Data Backup 17 April 23)\\Wheat validation\\Wheat_validation_agency\\IUs Boundary.zip\\IUs Boundary/Hanumangarh/Hanumangarh_village_update.shp\n",
      "Executing 9387st file\n",
      "IUs Boundary/Hisar/Hisar_HR_utm.shp\n"
     ]
    },
    {
     "name": "stderr",
     "output_type": "stream",
     "text": [
      "C:\\Users\\user\\AppData\\Local\\Temp\\ipykernel_17068\\1832265514.py:168: SettingWithCopyWarning: \n",
      "A value is trying to be set on a copy of a slice from a DataFrame\n",
      "\n",
      "See the caveats in the documentation: https://pandas.pydata.org/pandas-docs/stable/user_guide/indexing.html#returning-a-view-versus-a-copy\n",
      "  shp_df.unique_file_name.iloc[i] = pg_file_name\n"
     ]
    },
    {
     "name": "stdout",
     "output_type": "stream",
     "text": [
      "Executing 9388st file\n",
      "IUs Boundary/Karnal_GramPanchayats/Karnal_GramPanchayats.shp\n"
     ]
    },
    {
     "name": "stderr",
     "output_type": "stream",
     "text": [
      "C:\\Users\\user\\AppData\\Local\\Temp\\ipykernel_17068\\1832265514.py:168: SettingWithCopyWarning: \n",
      "A value is trying to be set on a copy of a slice from a DataFrame\n",
      "\n",
      "See the caveats in the documentation: https://pandas.pydata.org/pandas-docs/stable/user_guide/indexing.html#returning-a-view-versus-a-copy\n",
      "  shp_df.unique_file_name.iloc[i] = pg_file_name\n"
     ]
    },
    {
     "name": "stdout",
     "output_type": "stream",
     "text": [
      "Executing 9389st file\n",
      "IUs Boundary/Mainpuri/Mainpuri_B.shp\n"
     ]
    },
    {
     "name": "stderr",
     "output_type": "stream",
     "text": [
      "C:\\Users\\user\\AppData\\Local\\Temp\\ipykernel_17068\\1832265514.py:168: SettingWithCopyWarning: \n",
      "A value is trying to be set on a copy of a slice from a DataFrame\n",
      "\n",
      "See the caveats in the documentation: https://pandas.pydata.org/pandas-docs/stable/user_guide/indexing.html#returning-a-view-versus-a-copy\n",
      "  shp_df.unique_file_name.iloc[i] = pg_file_name\n"
     ]
    },
    {
     "name": "stdout",
     "output_type": "stream",
     "text": [
      "Executing 9390st file\n",
      "IUs Boundary/Mainpuri/Mainpuri_D.shp\n"
     ]
    },
    {
     "name": "stderr",
     "output_type": "stream",
     "text": [
      "C:\\Users\\user\\AppData\\Local\\Temp\\ipykernel_17068\\1832265514.py:168: SettingWithCopyWarning: \n",
      "A value is trying to be set on a copy of a slice from a DataFrame\n",
      "\n",
      "See the caveats in the documentation: https://pandas.pydata.org/pandas-docs/stable/user_guide/indexing.html#returning-a-view-versus-a-copy\n",
      "  shp_df.unique_file_name.iloc[i] = pg_file_name\n"
     ]
    },
    {
     "name": "stdout",
     "output_type": "stream",
     "text": [
      "Executing 9391st file\n",
      "IUs Boundary/Mainpuri/Mainpuri_V.shp\n"
     ]
    },
    {
     "name": "stderr",
     "output_type": "stream",
     "text": [
      "C:\\Users\\user\\AppData\\Local\\Temp\\ipykernel_17068\\1832265514.py:168: SettingWithCopyWarning: \n",
      "A value is trying to be set on a copy of a slice from a DataFrame\n",
      "\n",
      "See the caveats in the documentation: https://pandas.pydata.org/pandas-docs/stable/user_guide/indexing.html#returning-a-view-versus-a-copy\n",
      "  shp_df.unique_file_name.iloc[i] = pg_file_name\n"
     ]
    },
    {
     "name": "stdout",
     "output_type": "stream",
     "text": [
      "Executing 9392st file\n",
      "IUs Boundary/Rohtak/Rohtak_GramPanchayats.shp\n"
     ]
    },
    {
     "name": "stderr",
     "output_type": "stream",
     "text": [
      "C:\\Users\\user\\AppData\\Local\\Temp\\ipykernel_17068\\1832265514.py:168: SettingWithCopyWarning: \n",
      "A value is trying to be set on a copy of a slice from a DataFrame\n",
      "\n",
      "See the caveats in the documentation: https://pandas.pydata.org/pandas-docs/stable/user_guide/indexing.html#returning-a-view-versus-a-copy\n",
      "  shp_df.unique_file_name.iloc[i] = pg_file_name\n"
     ]
    },
    {
     "name": "stdout",
     "output_type": "stream",
     "text": [
      "Executing 9393st file\n",
      "IUs Boundary/Sitapur/Villages/Sitapur_Village_Boundary_updated.shp\n"
     ]
    },
    {
     "name": "stderr",
     "output_type": "stream",
     "text": [
      "C:\\Users\\user\\AppData\\Local\\Temp\\ipykernel_17068\\1832265514.py:168: SettingWithCopyWarning: \n",
      "A value is trying to be set on a copy of a slice from a DataFrame\n",
      "\n",
      "See the caveats in the documentation: https://pandas.pydata.org/pandas-docs/stable/user_guide/indexing.html#returning-a-view-versus-a-copy\n",
      "  shp_df.unique_file_name.iloc[i] = pg_file_name\n"
     ]
    },
    {
     "name": "stdout",
     "output_type": "stream",
     "text": [
      "Identifier 'idx_Sitapur_Village_Boundary_updated_fd099921_21-06-2023 21:15:59_geometry' exceeds maximum length of 63 characters \\\\192.168.1.152\\ncfc_data3\\Neetu Mam (IP 26 Data Backup 17 April 23)\\Wheat validation\\Wheat_validation_agency\\IUs Boundary.zip\\IUs Boundary/Sitapur/Villages/Sitapur_Village_Boundary_updated.shp\n",
      "Executing 9400st file\n",
      "Hanumangarh_B.shp\n"
     ]
    },
    {
     "name": "stderr",
     "output_type": "stream",
     "text": [
      "C:\\Users\\user\\AppData\\Local\\Temp\\ipykernel_17068\\1832265514.py:168: SettingWithCopyWarning: \n",
      "A value is trying to be set on a copy of a slice from a DataFrame\n",
      "\n",
      "See the caveats in the documentation: https://pandas.pydata.org/pandas-docs/stable/user_guide/indexing.html#returning-a-view-versus-a-copy\n",
      "  shp_df.unique_file_name.iloc[i] = pg_file_name\n"
     ]
    },
    {
     "name": "stdout",
     "output_type": "stream",
     "text": [
      "Executing 9402st file\n",
      "Hanumangarh_B_update.shp\n"
     ]
    },
    {
     "name": "stderr",
     "output_type": "stream",
     "text": [
      "C:\\Users\\user\\AppData\\Local\\Temp\\ipykernel_17068\\1832265514.py:168: SettingWithCopyWarning: \n",
      "A value is trying to be set on a copy of a slice from a DataFrame\n",
      "\n",
      "See the caveats in the documentation: https://pandas.pydata.org/pandas-docs/stable/user_guide/indexing.html#returning-a-view-versus-a-copy\n",
      "  shp_df.unique_file_name.iloc[i] = pg_file_name\n"
     ]
    },
    {
     "name": "stdout",
     "output_type": "stream",
     "text": [
      "Executing 9404st file\n",
      "Hanumangarh_D.shp\n"
     ]
    },
    {
     "name": "stderr",
     "output_type": "stream",
     "text": [
      "C:\\Users\\user\\AppData\\Local\\Temp\\ipykernel_17068\\1832265514.py:168: SettingWithCopyWarning: \n",
      "A value is trying to be set on a copy of a slice from a DataFrame\n",
      "\n",
      "See the caveats in the documentation: https://pandas.pydata.org/pandas-docs/stable/user_guide/indexing.html#returning-a-view-versus-a-copy\n",
      "  shp_df.unique_file_name.iloc[i] = pg_file_name\n"
     ]
    },
    {
     "name": "stdout",
     "output_type": "stream",
     "text": [
      "Executing 9406st file\n",
      "Hanumangarh_D_v1.shp\n"
     ]
    },
    {
     "name": "stderr",
     "output_type": "stream",
     "text": [
      "C:\\Users\\user\\AppData\\Local\\Temp\\ipykernel_17068\\1832265514.py:168: SettingWithCopyWarning: \n",
      "A value is trying to be set on a copy of a slice from a DataFrame\n",
      "\n",
      "See the caveats in the documentation: https://pandas.pydata.org/pandas-docs/stable/user_guide/indexing.html#returning-a-view-versus-a-copy\n",
      "  shp_df.unique_file_name.iloc[i] = pg_file_name\n"
     ]
    },
    {
     "name": "stdout",
     "output_type": "stream",
     "text": [
      "Executing 9408st file\n",
      "Hanumangarh_V.shp\n"
     ]
    },
    {
     "name": "stderr",
     "output_type": "stream",
     "text": [
      "C:\\Users\\user\\AppData\\Local\\Temp\\ipykernel_17068\\1832265514.py:168: SettingWithCopyWarning: \n",
      "A value is trying to be set on a copy of a slice from a DataFrame\n",
      "\n",
      "See the caveats in the documentation: https://pandas.pydata.org/pandas-docs/stable/user_guide/indexing.html#returning-a-view-versus-a-copy\n",
      "  shp_df.unique_file_name.iloc[i] = pg_file_name\n"
     ]
    },
    {
     "name": "stdout",
     "output_type": "stream",
     "text": [
      "Executing 9413st file\n",
      "Mainpuri_B.shp\n"
     ]
    },
    {
     "name": "stderr",
     "output_type": "stream",
     "text": [
      "C:\\Users\\user\\AppData\\Local\\Temp\\ipykernel_17068\\1832265514.py:168: SettingWithCopyWarning: \n",
      "A value is trying to be set on a copy of a slice from a DataFrame\n",
      "\n",
      "See the caveats in the documentation: https://pandas.pydata.org/pandas-docs/stable/user_guide/indexing.html#returning-a-view-versus-a-copy\n",
      "  shp_df.unique_file_name.iloc[i] = pg_file_name\n"
     ]
    },
    {
     "name": "stdout",
     "output_type": "stream",
     "text": [
      "Executing 9415st file\n",
      "Mainpuri_D.shp\n"
     ]
    },
    {
     "name": "stderr",
     "output_type": "stream",
     "text": [
      "C:\\Users\\user\\AppData\\Local\\Temp\\ipykernel_17068\\1832265514.py:168: SettingWithCopyWarning: \n",
      "A value is trying to be set on a copy of a slice from a DataFrame\n",
      "\n",
      "See the caveats in the documentation: https://pandas.pydata.org/pandas-docs/stable/user_guide/indexing.html#returning-a-view-versus-a-copy\n",
      "  shp_df.unique_file_name.iloc[i] = pg_file_name\n"
     ]
    },
    {
     "name": "stdout",
     "output_type": "stream",
     "text": [
      "Executing 9419st file\n",
      "MNCFC_2_Final/Ananthapur/Ground Data/ananthapur_validation.shp\n"
     ]
    },
    {
     "name": "stderr",
     "output_type": "stream",
     "text": [
      "C:\\Users\\user\\AppData\\Local\\Temp\\ipykernel_17068\\1832265514.py:168: SettingWithCopyWarning: \n",
      "A value is trying to be set on a copy of a slice from a DataFrame\n",
      "\n",
      "See the caveats in the documentation: https://pandas.pydata.org/pandas-docs/stable/user_guide/indexing.html#returning-a-view-versus-a-copy\n",
      "  shp_df.unique_file_name.iloc[i] = pg_file_name\n"
     ]
    },
    {
     "name": "stdout",
     "output_type": "stream",
     "text": [
      "Executing 9420st file\n",
      "MNCFC_2_Final/Ananthapur/Ground Data/ananthapur_training.shp\n"
     ]
    },
    {
     "name": "stderr",
     "output_type": "stream",
     "text": [
      "C:\\Users\\user\\AppData\\Local\\Temp\\ipykernel_17068\\1832265514.py:168: SettingWithCopyWarning: \n",
      "A value is trying to be set on a copy of a slice from a DataFrame\n",
      "\n",
      "See the caveats in the documentation: https://pandas.pydata.org/pandas-docs/stable/user_guide/indexing.html#returning-a-view-versus-a-copy\n",
      "  shp_df.unique_file_name.iloc[i] = pg_file_name\n"
     ]
    },
    {
     "name": "stdout",
     "output_type": "stream",
     "text": [
      "Executing 9421st file\n",
      "MNCFC_2_Final/Puri/Mandals_Selected/Puri/Puri.shp\n"
     ]
    },
    {
     "name": "stderr",
     "output_type": "stream",
     "text": [
      "C:\\Users\\user\\AppData\\Local\\Temp\\ipykernel_17068\\1832265514.py:168: SettingWithCopyWarning: \n",
      "A value is trying to be set on a copy of a slice from a DataFrame\n",
      "\n",
      "See the caveats in the documentation: https://pandas.pydata.org/pandas-docs/stable/user_guide/indexing.html#returning-a-view-versus-a-copy\n",
      "  shp_df.unique_file_name.iloc[i] = pg_file_name\n"
     ]
    },
    {
     "name": "stdout",
     "output_type": "stream",
     "text": [
      "Executing 9422st file\n",
      "MNCFC_2_Final/Puri/Ground Data/puri/puri.shp\n"
     ]
    },
    {
     "name": "stderr",
     "output_type": "stream",
     "text": [
      "C:\\Users\\user\\AppData\\Local\\Temp\\ipykernel_17068\\1832265514.py:168: SettingWithCopyWarning: \n",
      "A value is trying to be set on a copy of a slice from a DataFrame\n",
      "\n",
      "See the caveats in the documentation: https://pandas.pydata.org/pandas-docs/stable/user_guide/indexing.html#returning-a-view-versus-a-copy\n",
      "  shp_df.unique_file_name.iloc[i] = pg_file_name\n"
     ]
    },
    {
     "name": "stdout",
     "output_type": "stream",
     "text": [
      "Executing 9423st file\n",
      "MNCFC_2_Final/Ananthapur/CCE Data/Aanantapur/Anantapur_groundnut_cce.shp\n"
     ]
    },
    {
     "name": "stderr",
     "output_type": "stream",
     "text": [
      "C:\\Users\\user\\AppData\\Local\\Temp\\ipykernel_17068\\1832265514.py:168: SettingWithCopyWarning: \n",
      "A value is trying to be set on a copy of a slice from a DataFrame\n",
      "\n",
      "See the caveats in the documentation: https://pandas.pydata.org/pandas-docs/stable/user_guide/indexing.html#returning-a-view-versus-a-copy\n",
      "  shp_df.unique_file_name.iloc[i] = pg_file_name\n"
     ]
    },
    {
     "name": "stdout",
     "output_type": "stream",
     "text": [
      "Identifier 'idx_Anantapur_groundnut_cce_f1bb88ba_21-06-2023 21:20:38_geometry' exceeds maximum length of 63 characters \\\\192.168.1.152\\ncfc_data3\\PMFBY analysis\\MNCFC_2_Final-20201211T091835Z-001.zip\\MNCFC_2_Final/Ananthapur/CCE Data/Aanantapur/Anantapur_groundnut_cce.shp\n",
      "Executing 9424st file\n",
      "MNCFC_2_Final/Puri/CCE Data/puri/puri_paddy_cce.shp\n"
     ]
    },
    {
     "name": "stderr",
     "output_type": "stream",
     "text": [
      "C:\\Users\\user\\AppData\\Local\\Temp\\ipykernel_17068\\1832265514.py:168: SettingWithCopyWarning: \n",
      "A value is trying to be set on a copy of a slice from a DataFrame\n",
      "\n",
      "See the caveats in the documentation: https://pandas.pydata.org/pandas-docs/stable/user_guide/indexing.html#returning-a-view-versus-a-copy\n",
      "  shp_df.unique_file_name.iloc[i] = pg_file_name\n"
     ]
    },
    {
     "name": "stdout",
     "output_type": "stream",
     "text": [
      "Executing 9425st file\n",
      "MNCFC_2_Final/Kurnool/Ground Data/Kurnool/kurnool_validation.shp\n"
     ]
    },
    {
     "name": "stderr",
     "output_type": "stream",
     "text": [
      "C:\\Users\\user\\AppData\\Local\\Temp\\ipykernel_17068\\1832265514.py:168: SettingWithCopyWarning: \n",
      "A value is trying to be set on a copy of a slice from a DataFrame\n",
      "\n",
      "See the caveats in the documentation: https://pandas.pydata.org/pandas-docs/stable/user_guide/indexing.html#returning-a-view-versus-a-copy\n",
      "  shp_df.unique_file_name.iloc[i] = pg_file_name\n"
     ]
    },
    {
     "name": "stdout",
     "output_type": "stream",
     "text": [
      "Executing 9426st file\n",
      "MNCFC_2_Final/Mahabubnagar/Ground Data/Mahabubnagar/mahabubnagar_validation.shp\n",
      "Identifier 'idx_mahabubnagar_validation_5c7a5110_21-06-2023 21:20:44_geometry' exceeds maximum length of 63 characters \\\\192.168.1.152\\ncfc_data3\\PMFBY analysis\\MNCFC_2_Final-20201211T091835Z-001.zip\\MNCFC_2_Final/Mahabubnagar/Ground Data/Mahabubnagar/mahabubnagar_validation.shp\n"
     ]
    },
    {
     "name": "stderr",
     "output_type": "stream",
     "text": [
      "C:\\Users\\user\\AppData\\Local\\Temp\\ipykernel_17068\\1832265514.py:168: SettingWithCopyWarning: \n",
      "A value is trying to be set on a copy of a slice from a DataFrame\n",
      "\n",
      "See the caveats in the documentation: https://pandas.pydata.org/pandas-docs/stable/user_guide/indexing.html#returning-a-view-versus-a-copy\n",
      "  shp_df.unique_file_name.iloc[i] = pg_file_name\n"
     ]
    },
    {
     "name": "stdout",
     "output_type": "stream",
     "text": [
      "Executing 9427st file\n",
      "MNCFC_2_Final/Kurnool/Ground Data/Kurnool/kurnool_training.shp\n"
     ]
    },
    {
     "name": "stderr",
     "output_type": "stream",
     "text": [
      "C:\\Users\\user\\AppData\\Local\\Temp\\ipykernel_17068\\1832265514.py:168: SettingWithCopyWarning: \n",
      "A value is trying to be set on a copy of a slice from a DataFrame\n",
      "\n",
      "See the caveats in the documentation: https://pandas.pydata.org/pandas-docs/stable/user_guide/indexing.html#returning-a-view-versus-a-copy\n",
      "  shp_df.unique_file_name.iloc[i] = pg_file_name\n"
     ]
    },
    {
     "name": "stdout",
     "output_type": "stream",
     "text": [
      "Executing 9428st file\n",
      "MNCFC_2_Final/Mahabubnagar/Ground Data/Mahabubnagar/mahabubnagar_training.shp\n"
     ]
    },
    {
     "name": "stderr",
     "output_type": "stream",
     "text": [
      "C:\\Users\\user\\AppData\\Local\\Temp\\ipykernel_17068\\1832265514.py:168: SettingWithCopyWarning: \n",
      "A value is trying to be set on a copy of a slice from a DataFrame\n",
      "\n",
      "See the caveats in the documentation: https://pandas.pydata.org/pandas-docs/stable/user_guide/indexing.html#returning-a-view-versus-a-copy\n",
      "  shp_df.unique_file_name.iloc[i] = pg_file_name\n"
     ]
    },
    {
     "name": "stdout",
     "output_type": "stream",
     "text": [
      "Executing 9429st file\n",
      "MNCFC_2_Final/Mahabubnagar/Mandals_Selected/Mahabubnagar/mahabubnagar_s.shp\n"
     ]
    },
    {
     "name": "stderr",
     "output_type": "stream",
     "text": [
      "C:\\Users\\user\\AppData\\Local\\Temp\\ipykernel_17068\\1832265514.py:168: SettingWithCopyWarning: \n",
      "A value is trying to be set on a copy of a slice from a DataFrame\n",
      "\n",
      "See the caveats in the documentation: https://pandas.pydata.org/pandas-docs/stable/user_guide/indexing.html#returning-a-view-versus-a-copy\n",
      "  shp_df.unique_file_name.iloc[i] = pg_file_name\n"
     ]
    },
    {
     "name": "stdout",
     "output_type": "stream",
     "text": [
      "Executing 9430st file\n",
      "MNCFC_2_Final/Mahabubnagar/Mandals_Selected/Mahabubnagar/mahabubnagar.shp\n"
     ]
    },
    {
     "name": "stderr",
     "output_type": "stream",
     "text": [
      "C:\\Users\\user\\AppData\\Local\\Temp\\ipykernel_17068\\1832265514.py:168: SettingWithCopyWarning: \n",
      "A value is trying to be set on a copy of a slice from a DataFrame\n",
      "\n",
      "See the caveats in the documentation: https://pandas.pydata.org/pandas-docs/stable/user_guide/indexing.html#returning-a-view-versus-a-copy\n",
      "  shp_df.unique_file_name.iloc[i] = pg_file_name\n"
     ]
    },
    {
     "name": "stdout",
     "output_type": "stream",
     "text": [
      "Executing 9431st file\n",
      "MNCFC_2_Final/Puri/Mandals_Selected/Puri/grid/puri_1km_grid.shp\n"
     ]
    },
    {
     "name": "stderr",
     "output_type": "stream",
     "text": [
      "C:\\Users\\user\\AppData\\Local\\Temp\\ipykernel_17068\\1832265514.py:168: SettingWithCopyWarning: \n",
      "A value is trying to be set on a copy of a slice from a DataFrame\n",
      "\n",
      "See the caveats in the documentation: https://pandas.pydata.org/pandas-docs/stable/user_guide/indexing.html#returning-a-view-versus-a-copy\n",
      "  shp_df.unique_file_name.iloc[i] = pg_file_name\n"
     ]
    },
    {
     "name": "stdout",
     "output_type": "stream",
     "text": [
      "Executing 9432st file\n",
      "MNCFC_2_Final/Mahabubnagar/Mandals_Selected/Mahabubnagar/Grid/mahabubnagar_1km_grid.shp\n"
     ]
    },
    {
     "name": "stderr",
     "output_type": "stream",
     "text": [
      "C:\\Users\\user\\AppData\\Local\\Temp\\ipykernel_17068\\1832265514.py:168: SettingWithCopyWarning: \n",
      "A value is trying to be set on a copy of a slice from a DataFrame\n",
      "\n",
      "See the caveats in the documentation: https://pandas.pydata.org/pandas-docs/stable/user_guide/indexing.html#returning-a-view-versus-a-copy\n",
      "  shp_df.unique_file_name.iloc[i] = pg_file_name\n"
     ]
    },
    {
     "name": "stdout",
     "output_type": "stream",
     "text": [
      "Executing 9433st file\n",
      "MNCFC_2_Final/Ananthapur/Ground Data/Mahbubnagar_Kurnool_Anantapur/ShapeFiles/Training.shp\n"
     ]
    },
    {
     "name": "stderr",
     "output_type": "stream",
     "text": [
      "C:\\Users\\user\\AppData\\Local\\Temp\\ipykernel_17068\\1832265514.py:168: SettingWithCopyWarning: \n",
      "A value is trying to be set on a copy of a slice from a DataFrame\n",
      "\n",
      "See the caveats in the documentation: https://pandas.pydata.org/pandas-docs/stable/user_guide/indexing.html#returning-a-view-versus-a-copy\n",
      "  shp_df.unique_file_name.iloc[i] = pg_file_name\n"
     ]
    },
    {
     "name": "stdout",
     "output_type": "stream",
     "text": [
      "Executing 9434st file\n",
      "MNCFC_2_Final/Ananthapur/Ground Data/Mahbubnagar_Kurnool_Anantapur/ShapeFiles/validation.shp\n"
     ]
    },
    {
     "name": "stderr",
     "output_type": "stream",
     "text": [
      "C:\\Users\\user\\AppData\\Local\\Temp\\ipykernel_17068\\1832265514.py:168: SettingWithCopyWarning: \n",
      "A value is trying to be set on a copy of a slice from a DataFrame\n",
      "\n",
      "See the caveats in the documentation: https://pandas.pydata.org/pandas-docs/stable/user_guide/indexing.html#returning-a-view-versus-a-copy\n",
      "  shp_df.unique_file_name.iloc[i] = pg_file_name\n"
     ]
    },
    {
     "name": "stdout",
     "output_type": "stream",
     "text": [
      "Executing 9435st file\n",
      "MNCFC_2_Final/Ananthapur/Ground Data/Mahbubnagar_Kurnool_Anantapur/Track/antr.shp\n"
     ]
    },
    {
     "name": "stderr",
     "output_type": "stream",
     "text": [
      "C:\\Users\\user\\AppData\\Local\\Temp\\ipykernel_17068\\1832265514.py:168: SettingWithCopyWarning: \n",
      "A value is trying to be set on a copy of a slice from a DataFrame\n",
      "\n",
      "See the caveats in the documentation: https://pandas.pydata.org/pandas-docs/stable/user_guide/indexing.html#returning-a-view-versus-a-copy\n",
      "  shp_df.unique_file_name.iloc[i] = pg_file_name\n"
     ]
    },
    {
     "name": "stdout",
     "output_type": "stream",
     "text": [
      "Executing 9436st file\n",
      "MNCFC_2_Final/Ananthapur/Mandals_Selected/Ananthapur/Anantapur_s.shp\n"
     ]
    },
    {
     "name": "stderr",
     "output_type": "stream",
     "text": [
      "C:\\Users\\user\\AppData\\Local\\Temp\\ipykernel_17068\\1832265514.py:168: SettingWithCopyWarning: \n",
      "A value is trying to be set on a copy of a slice from a DataFrame\n",
      "\n",
      "See the caveats in the documentation: https://pandas.pydata.org/pandas-docs/stable/user_guide/indexing.html#returning-a-view-versus-a-copy\n",
      "  shp_df.unique_file_name.iloc[i] = pg_file_name\n"
     ]
    },
    {
     "name": "stdout",
     "output_type": "stream",
     "text": [
      "Executing 9437st file\n",
      "MNCFC_2_Final/Ananthapur/Ground Data/Mahbubnagar_Kurnool_Anantapur/Track/knrl.shp\n"
     ]
    },
    {
     "name": "stderr",
     "output_type": "stream",
     "text": [
      "C:\\Users\\user\\AppData\\Local\\Temp\\ipykernel_17068\\1832265514.py:168: SettingWithCopyWarning: \n",
      "A value is trying to be set on a copy of a slice from a DataFrame\n",
      "\n",
      "See the caveats in the documentation: https://pandas.pydata.org/pandas-docs/stable/user_guide/indexing.html#returning-a-view-versus-a-copy\n",
      "  shp_df.unique_file_name.iloc[i] = pg_file_name\n"
     ]
    },
    {
     "name": "stdout",
     "output_type": "stream",
     "text": [
      "Executing 9438st file\n",
      "MNCFC_2_Final/Ananthapur/Ground Data/Mahbubnagar_Kurnool_Anantapur/Track/mbnr.shp\n"
     ]
    },
    {
     "name": "stderr",
     "output_type": "stream",
     "text": [
      "C:\\Users\\user\\AppData\\Local\\Temp\\ipykernel_17068\\1832265514.py:168: SettingWithCopyWarning: \n",
      "A value is trying to be set on a copy of a slice from a DataFrame\n",
      "\n",
      "See the caveats in the documentation: https://pandas.pydata.org/pandas-docs/stable/user_guide/indexing.html#returning-a-view-versus-a-copy\n",
      "  shp_df.unique_file_name.iloc[i] = pg_file_name\n"
     ]
    },
    {
     "name": "stdout",
     "output_type": "stream",
     "text": [
      "Executing 9439st file\n",
      "MNCFC_2_Final/Ananthapur/Mandals_Selected/Ananthapur/Anantapur.shp\n"
     ]
    },
    {
     "name": "stderr",
     "output_type": "stream",
     "text": [
      "C:\\Users\\user\\AppData\\Local\\Temp\\ipykernel_17068\\1832265514.py:168: SettingWithCopyWarning: \n",
      "A value is trying to be set on a copy of a slice from a DataFrame\n",
      "\n",
      "See the caveats in the documentation: https://pandas.pydata.org/pandas-docs/stable/user_guide/indexing.html#returning-a-view-versus-a-copy\n",
      "  shp_df.unique_file_name.iloc[i] = pg_file_name\n"
     ]
    },
    {
     "name": "stdout",
     "output_type": "stream",
     "text": [
      "Executing 9440st file\n",
      "MNCFC_2_Final/Krishna/Ground Data/validation.shp\n"
     ]
    },
    {
     "name": "stderr",
     "output_type": "stream",
     "text": [
      "C:\\Users\\user\\AppData\\Local\\Temp\\ipykernel_17068\\1832265514.py:168: SettingWithCopyWarning: \n",
      "A value is trying to be set on a copy of a slice from a DataFrame\n",
      "\n",
      "See the caveats in the documentation: https://pandas.pydata.org/pandas-docs/stable/user_guide/indexing.html#returning-a-view-versus-a-copy\n",
      "  shp_df.unique_file_name.iloc[i] = pg_file_name\n"
     ]
    },
    {
     "name": "stdout",
     "output_type": "stream",
     "text": [
      "Executing 9441st file\n",
      "MNCFC_2_Final/Krishna/Ground Data/training.shp\n"
     ]
    },
    {
     "name": "stderr",
     "output_type": "stream",
     "text": [
      "C:\\Users\\user\\AppData\\Local\\Temp\\ipykernel_17068\\1832265514.py:168: SettingWithCopyWarning: \n",
      "A value is trying to be set on a copy of a slice from a DataFrame\n",
      "\n",
      "See the caveats in the documentation: https://pandas.pydata.org/pandas-docs/stable/user_guide/indexing.html#returning-a-view-versus-a-copy\n",
      "  shp_df.unique_file_name.iloc[i] = pg_file_name\n"
     ]
    },
    {
     "name": "stdout",
     "output_type": "stream",
     "text": [
      "Executing 9442st file\n",
      "MNCFC_2_Final/Ananthapur/Mandals_Selected/Ananthapur/Grid/ananthapur_1km_grid.shp\n"
     ]
    },
    {
     "name": "stderr",
     "output_type": "stream",
     "text": [
      "C:\\Users\\user\\AppData\\Local\\Temp\\ipykernel_17068\\1832265514.py:168: SettingWithCopyWarning: \n",
      "A value is trying to be set on a copy of a slice from a DataFrame\n",
      "\n",
      "See the caveats in the documentation: https://pandas.pydata.org/pandas-docs/stable/user_guide/indexing.html#returning-a-view-versus-a-copy\n",
      "  shp_df.unique_file_name.iloc[i] = pg_file_name\n"
     ]
    },
    {
     "name": "stdout",
     "output_type": "stream",
     "text": [
      "Executing 9443st file\n",
      "MNCFC_2_Final/Kurnool/Mandals_Selected/Kurnool/kurnool_s.shp\n"
     ]
    },
    {
     "name": "stderr",
     "output_type": "stream",
     "text": [
      "C:\\Users\\user\\AppData\\Local\\Temp\\ipykernel_17068\\1832265514.py:168: SettingWithCopyWarning: \n",
      "A value is trying to be set on a copy of a slice from a DataFrame\n",
      "\n",
      "See the caveats in the documentation: https://pandas.pydata.org/pandas-docs/stable/user_guide/indexing.html#returning-a-view-versus-a-copy\n",
      "  shp_df.unique_file_name.iloc[i] = pg_file_name\n"
     ]
    },
    {
     "name": "stdout",
     "output_type": "stream",
     "text": [
      "Executing 9444st file\n",
      "MNCFC_2_Final/Krishna/CCE Data/Shapefiles/krishna_mandals.shp\n"
     ]
    },
    {
     "name": "stderr",
     "output_type": "stream",
     "text": [
      "C:\\Users\\user\\AppData\\Local\\Temp\\ipykernel_17068\\1832265514.py:168: SettingWithCopyWarning: \n",
      "A value is trying to be set on a copy of a slice from a DataFrame\n",
      "\n",
      "See the caveats in the documentation: https://pandas.pydata.org/pandas-docs/stable/user_guide/indexing.html#returning-a-view-versus-a-copy\n",
      "  shp_df.unique_file_name.iloc[i] = pg_file_name\n"
     ]
    },
    {
     "name": "stdout",
     "output_type": "stream",
     "text": [
      "Executing 9445st file\n",
      "MNCFC_2_Final/Krishna/CCE Data/Shapefiles/Krishna_final_cce.shp\n"
     ]
    },
    {
     "name": "stderr",
     "output_type": "stream",
     "text": [
      "C:\\Users\\user\\AppData\\Local\\Temp\\ipykernel_17068\\1832265514.py:168: SettingWithCopyWarning: \n",
      "A value is trying to be set on a copy of a slice from a DataFrame\n",
      "\n",
      "See the caveats in the documentation: https://pandas.pydata.org/pandas-docs/stable/user_guide/indexing.html#returning-a-view-versus-a-copy\n",
      "  shp_df.unique_file_name.iloc[i] = pg_file_name\n"
     ]
    },
    {
     "name": "stdout",
     "output_type": "stream",
     "text": [
      "Executing 9446st file\n",
      "MNCFC_2_Final/Krishna/Mandals_Selected/Krishna/krishna_s.shp\n"
     ]
    },
    {
     "name": "stderr",
     "output_type": "stream",
     "text": [
      "C:\\Users\\user\\AppData\\Local\\Temp\\ipykernel_17068\\1832265514.py:168: SettingWithCopyWarning: \n",
      "A value is trying to be set on a copy of a slice from a DataFrame\n",
      "\n",
      "See the caveats in the documentation: https://pandas.pydata.org/pandas-docs/stable/user_guide/indexing.html#returning-a-view-versus-a-copy\n",
      "  shp_df.unique_file_name.iloc[i] = pg_file_name\n"
     ]
    },
    {
     "name": "stdout",
     "output_type": "stream",
     "text": [
      "Executing 9448st file\n",
      "Dataset_poly.shp\n"
     ]
    },
    {
     "name": "stderr",
     "output_type": "stream",
     "text": [
      "C:\\Users\\user\\AppData\\Local\\Temp\\ipykernel_17068\\1832265514.py:168: SettingWithCopyWarning: \n",
      "A value is trying to be set on a copy of a slice from a DataFrame\n",
      "\n",
      "See the caveats in the documentation: https://pandas.pydata.org/pandas-docs/stable/user_guide/indexing.html#returning-a-view-versus-a-copy\n",
      "  shp_df.unique_file_name.iloc[i] = pg_file_name\n"
     ]
    },
    {
     "name": "stdout",
     "output_type": "stream",
     "text": [
      "Executing 9465st file\n",
      "2018_stratified_sampling_Data/stratification_2018.shp\n"
     ]
    },
    {
     "name": "stderr",
     "output_type": "stream",
     "text": [
      "C:\\Users\\user\\AppData\\Local\\Temp\\ipykernel_17068\\1832265514.py:168: SettingWithCopyWarning: \n",
      "A value is trying to be set on a copy of a slice from a DataFrame\n",
      "\n",
      "See the caveats in the documentation: https://pandas.pydata.org/pandas-docs/stable/user_guide/indexing.html#returning-a-view-versus-a-copy\n",
      "  shp_df.unique_file_name.iloc[i] = pg_file_name\n"
     ]
    },
    {
     "name": "stdout",
     "output_type": "stream",
     "text": [
      "Executing 9466st file\n",
      "2018_stratified_sampling_Data/ROadPoints_6km.shp\n"
     ]
    },
    {
     "name": "stderr",
     "output_type": "stream",
     "text": [
      "C:\\Users\\user\\AppData\\Local\\Temp\\ipykernel_17068\\1832265514.py:168: SettingWithCopyWarning: \n",
      "A value is trying to be set on a copy of a slice from a DataFrame\n",
      "\n",
      "See the caveats in the documentation: https://pandas.pydata.org/pandas-docs/stable/user_guide/indexing.html#returning-a-view-versus-a-copy\n",
      "  shp_df.unique_file_name.iloc[i] = pg_file_name\n"
     ]
    },
    {
     "name": "stdout",
     "output_type": "stream",
     "text": [
      "Executing 9467st file\n",
      "2018_stratified_sampling_Data/Complete_points.shp\n"
     ]
    },
    {
     "name": "stderr",
     "output_type": "stream",
     "text": [
      "C:\\Users\\user\\AppData\\Local\\Temp\\ipykernel_17068\\1832265514.py:168: SettingWithCopyWarning: \n",
      "A value is trying to be set on a copy of a slice from a DataFrame\n",
      "\n",
      "See the caveats in the documentation: https://pandas.pydata.org/pandas-docs/stable/user_guide/indexing.html#returning-a-view-versus-a-copy\n",
      "  shp_df.unique_file_name.iloc[i] = pg_file_name\n"
     ]
    },
    {
     "name": "stdout",
     "output_type": "stream",
     "text": [
      "Executing 9468st file\n",
      "2018_stratified_sampling_Data/ROadPoints_4km.shp\n"
     ]
    },
    {
     "name": "stderr",
     "output_type": "stream",
     "text": [
      "C:\\Users\\user\\AppData\\Local\\Temp\\ipykernel_17068\\1832265514.py:168: SettingWithCopyWarning: \n",
      "A value is trying to be set on a copy of a slice from a DataFrame\n",
      "\n",
      "See the caveats in the documentation: https://pandas.pydata.org/pandas-docs/stable/user_guide/indexing.html#returning-a-view-versus-a-copy\n",
      "  shp_df.unique_file_name.iloc[i] = pg_file_name\n"
     ]
    },
    {
     "name": "stdout",
     "output_type": "stream",
     "text": [
      "Executing 9469st file\n",
      "2018_stratified_sampling_Data/ROadPoints_2km.shp\n"
     ]
    },
    {
     "name": "stderr",
     "output_type": "stream",
     "text": [
      "C:\\Users\\user\\AppData\\Local\\Temp\\ipykernel_17068\\1832265514.py:168: SettingWithCopyWarning: \n",
      "A value is trying to be set on a copy of a slice from a DataFrame\n",
      "\n",
      "See the caveats in the documentation: https://pandas.pydata.org/pandas-docs/stable/user_guide/indexing.html#returning-a-view-versus-a-copy\n",
      "  shp_df.unique_file_name.iloc[i] = pg_file_name\n"
     ]
    },
    {
     "name": "stdout",
     "output_type": "stream",
     "text": [
      "Executing 9470st file\n",
      "2018_stratified_sampling_Data/ROadPoints_3km.shp\n"
     ]
    },
    {
     "name": "stderr",
     "output_type": "stream",
     "text": [
      "C:\\Users\\user\\AppData\\Local\\Temp\\ipykernel_17068\\1832265514.py:168: SettingWithCopyWarning: \n",
      "A value is trying to be set on a copy of a slice from a DataFrame\n",
      "\n",
      "See the caveats in the documentation: https://pandas.pydata.org/pandas-docs/stable/user_guide/indexing.html#returning-a-view-versus-a-copy\n",
      "  shp_df.unique_file_name.iloc[i] = pg_file_name\n"
     ]
    },
    {
     "name": "stdout",
     "output_type": "stream",
     "text": [
      "Executing 9471st file\n",
      "2018_stratified_sampling_Data/ROadPoints_5km.shp\n"
     ]
    },
    {
     "name": "stderr",
     "output_type": "stream",
     "text": [
      "C:\\Users\\user\\AppData\\Local\\Temp\\ipykernel_17068\\1832265514.py:168: SettingWithCopyWarning: \n",
      "A value is trying to be set on a copy of a slice from a DataFrame\n",
      "\n",
      "See the caveats in the documentation: https://pandas.pydata.org/pandas-docs/stable/user_guide/indexing.html#returning-a-view-versus-a-copy\n",
      "  shp_df.unique_file_name.iloc[i] = pg_file_name\n"
     ]
    },
    {
     "name": "stdout",
     "output_type": "stream",
     "text": [
      "Executing 9472st file\n",
      "2018_stratified_sampling_Data/ROadPoints_7km.shp\n"
     ]
    },
    {
     "name": "stderr",
     "output_type": "stream",
     "text": [
      "C:\\Users\\user\\AppData\\Local\\Temp\\ipykernel_17068\\1832265514.py:168: SettingWithCopyWarning: \n",
      "A value is trying to be set on a copy of a slice from a DataFrame\n",
      "\n",
      "See the caveats in the documentation: https://pandas.pydata.org/pandas-docs/stable/user_guide/indexing.html#returning-a-view-versus-a-copy\n",
      "  shp_df.unique_file_name.iloc[i] = pg_file_name\n"
     ]
    },
    {
     "name": "stdout",
     "output_type": "stream",
     "text": [
      "Executing 9473st file\n",
      "CCE_Points_with_village_names.shp\n"
     ]
    },
    {
     "name": "stderr",
     "output_type": "stream",
     "text": [
      "C:\\Users\\user\\AppData\\Local\\Temp\\ipykernel_17068\\1832265514.py:168: SettingWithCopyWarning: \n",
      "A value is trying to be set on a copy of a slice from a DataFrame\n",
      "\n",
      "See the caveats in the documentation: https://pandas.pydata.org/pandas-docs/stable/user_guide/indexing.html#returning-a-view-versus-a-copy\n",
      "  shp_df.unique_file_name.iloc[i] = pg_file_name\n"
     ]
    },
    {
     "name": "stdout",
     "output_type": "stream",
     "text": [
      "Identifier 'idx_CCE_Points_with_village_names_ba449739_21-06-2023 21:21:56_geometry' exceeds maximum length of 63 characters \\\\192.168.1.152\\ncfc_data3\\PMFBY analysis\\Kharif Rabi Pilot studies report data\\Satsure\\CCE_DATA_Reports\\MNCFC_Project\\Mahasamund\\ccepts.zip\\CCE_Points_with_village_names.shp\n",
      "Executing 9479st file\n",
      "IND_roads.shp\n"
     ]
    },
    {
     "name": "stderr",
     "output_type": "stream",
     "text": [
      "C:\\Users\\user\\AppData\\Local\\Temp\\ipykernel_17068\\1832265514.py:168: SettingWithCopyWarning: \n",
      "A value is trying to be set on a copy of a slice from a DataFrame\n",
      "\n",
      "See the caveats in the documentation: https://pandas.pydata.org/pandas-docs/stable/user_guide/indexing.html#returning-a-view-versus-a-copy\n",
      "  shp_df.unique_file_name.iloc[i] = pg_file_name\n"
     ]
    },
    {
     "name": "stdout",
     "output_type": "stream",
     "text": [
      "Executing 9480st file\n",
      "mahasamund_ditrict_tehsil_shp.shp\n",
      "Identifier 'idx_mahasamund_ditrict_tehsil_shp_5d198b9b_21-06-2023 21:22:01_geometry' exceeds maximum length of 63 characters \\\\192.168.1.152\\ncfc_data3\\PMFBY analysis\\Kharif Rabi Pilot studies report data\\Satsure\\CCE_DATA_Reports\\MNCFC_Project\\Mahasamund\\mahasamund_road_and_tehsil_files.zip\\mahasamund_ditrict_tehsil_shp.shp\n"
     ]
    },
    {
     "name": "stderr",
     "output_type": "stream",
     "text": [
      "C:\\Users\\user\\AppData\\Local\\Temp\\ipykernel_17068\\1832265514.py:168: SettingWithCopyWarning: \n",
      "A value is trying to be set on a copy of a slice from a DataFrame\n",
      "\n",
      "See the caveats in the documentation: https://pandas.pydata.org/pandas-docs/stable/user_guide/indexing.html#returning-a-view-versus-a-copy\n",
      "  shp_df.unique_file_name.iloc[i] = pg_file_name\n"
     ]
    },
    {
     "name": "stdout",
     "output_type": "stream",
     "text": [
      "Executing 9483st file\n",
      "Tehsil_Strata_points_freq_cat_dist/strf_Tehsil3.shp\n"
     ]
    },
    {
     "name": "stderr",
     "output_type": "stream",
     "text": [
      "C:\\Users\\user\\AppData\\Local\\Temp\\ipykernel_17068\\1832265514.py:168: SettingWithCopyWarning: \n",
      "A value is trying to be set on a copy of a slice from a DataFrame\n",
      "\n",
      "See the caveats in the documentation: https://pandas.pydata.org/pandas-docs/stable/user_guide/indexing.html#returning-a-view-versus-a-copy\n",
      "  shp_df.unique_file_name.iloc[i] = pg_file_name\n"
     ]
    },
    {
     "name": "stdout",
     "output_type": "stream",
     "text": [
      "Executing 9484st file\n",
      "Tehsil_Strata_points_freq_cat_dist/strf_Tehsil2.shp\n"
     ]
    },
    {
     "name": "stderr",
     "output_type": "stream",
     "text": [
      "C:\\Users\\user\\AppData\\Local\\Temp\\ipykernel_17068\\1832265514.py:168: SettingWithCopyWarning: \n",
      "A value is trying to be set on a copy of a slice from a DataFrame\n",
      "\n",
      "See the caveats in the documentation: https://pandas.pydata.org/pandas-docs/stable/user_guide/indexing.html#returning-a-view-versus-a-copy\n",
      "  shp_df.unique_file_name.iloc[i] = pg_file_name\n"
     ]
    },
    {
     "name": "stdout",
     "output_type": "stream",
     "text": [
      "Executing 9485st file\n",
      "Tehsil_Strata_points_freq_cat_dist/strf_Tehsil4.shp\n"
     ]
    },
    {
     "name": "stderr",
     "output_type": "stream",
     "text": [
      "C:\\Users\\user\\AppData\\Local\\Temp\\ipykernel_17068\\1832265514.py:168: SettingWithCopyWarning: \n",
      "A value is trying to be set on a copy of a slice from a DataFrame\n",
      "\n",
      "See the caveats in the documentation: https://pandas.pydata.org/pandas-docs/stable/user_guide/indexing.html#returning-a-view-versus-a-copy\n",
      "  shp_df.unique_file_name.iloc[i] = pg_file_name\n"
     ]
    },
    {
     "name": "stdout",
     "output_type": "stream",
     "text": [
      "Executing 9486st file\n",
      "Tehsil_Strata_points_freq_cat_dist/strf_Tehsil5.shp\n"
     ]
    },
    {
     "name": "stderr",
     "output_type": "stream",
     "text": [
      "C:\\Users\\user\\AppData\\Local\\Temp\\ipykernel_17068\\1832265514.py:168: SettingWithCopyWarning: \n",
      "A value is trying to be set on a copy of a slice from a DataFrame\n",
      "\n",
      "See the caveats in the documentation: https://pandas.pydata.org/pandas-docs/stable/user_guide/indexing.html#returning-a-view-versus-a-copy\n",
      "  shp_df.unique_file_name.iloc[i] = pg_file_name\n"
     ]
    },
    {
     "name": "stdout",
     "output_type": "stream",
     "text": [
      "Executing 9487st file\n",
      "Tehsil_Strata_points_freq_cat_dist/strf_Tehsil1.shp\n"
     ]
    },
    {
     "name": "stderr",
     "output_type": "stream",
     "text": [
      "C:\\Users\\user\\AppData\\Local\\Temp\\ipykernel_17068\\1832265514.py:168: SettingWithCopyWarning: \n",
      "A value is trying to be set on a copy of a slice from a DataFrame\n",
      "\n",
      "See the caveats in the documentation: https://pandas.pydata.org/pandas-docs/stable/user_guide/indexing.html#returning-a-view-versus-a-copy\n",
      "  shp_df.unique_file_name.iloc[i] = pg_file_name\n"
     ]
    },
    {
     "name": "stdout",
     "output_type": "stream",
     "text": [
      "Executing 9521st file\n",
      "Final_analysis_Rabi/Alwar_NDVI_NDWI_NDRE/ALWAR_cces_RS/Alwar_rabi_cce_rs_2018-19_with_villagename_wgs.shp\n"
     ]
    },
    {
     "name": "stderr",
     "output_type": "stream",
     "text": [
      "C:\\Users\\user\\AppData\\Local\\Temp\\ipykernel_17068\\1832265514.py:168: SettingWithCopyWarning: \n",
      "A value is trying to be set on a copy of a slice from a DataFrame\n",
      "\n",
      "See the caveats in the documentation: https://pandas.pydata.org/pandas-docs/stable/user_guide/indexing.html#returning-a-view-versus-a-copy\n",
      "  shp_df.unique_file_name.iloc[i] = pg_file_name\n"
     ]
    },
    {
     "name": "stdout",
     "output_type": "stream",
     "text": [
      "Identifier 'Alwar_rabi_cce_rs_2018-19_with_villagename_wgs_4d1ea004_21-06-2023 21:22:11' exceeds maximum length of 63 characters \\\\192.168.1.152\\ncfc_data3\\PMFBY analysis\\Kharif Rabi Pilot studies report data\\Satsure\\CCE_DATA_Reports\\MNCFC_Project\\MNCFC_RABI_SEASON_REPORT_2018-19\\Final_analysis_Rabi.zip\\Final_analysis_Rabi/Alwar_NDVI_NDWI_NDRE/ALWAR_cces_RS/Alwar_rabi_cce_rs_2018-19_with_villagename_wgs.shp\n",
      "Executing 9522st file\n",
      "Alwar_rabi_cce_rs_2018-19_with_villagename_wgs.shp\n"
     ]
    },
    {
     "name": "stderr",
     "output_type": "stream",
     "text": [
      "C:\\Users\\user\\AppData\\Local\\Temp\\ipykernel_17068\\1832265514.py:168: SettingWithCopyWarning: \n",
      "A value is trying to be set on a copy of a slice from a DataFrame\n",
      "\n",
      "See the caveats in the documentation: https://pandas.pydata.org/pandas-docs/stable/user_guide/indexing.html#returning-a-view-versus-a-copy\n",
      "  shp_df.unique_file_name.iloc[i] = pg_file_name\n"
     ]
    },
    {
     "name": "stdout",
     "output_type": "stream",
     "text": [
      "Identifier 'Alwar_rabi_cce_rs_2018-19_with_villagename_wgs_addf8243_21-06-2023 21:22:14' exceeds maximum length of 63 characters \\\\192.168.1.152\\ncfc_data3\\PMFBY analysis\\Kharif Rabi Pilot studies report data\\Satsure\\CCE_DATA_Reports\\MNCFC_Project\\MNCFC_RABI_SEASON_REPORT_2018-19\\Final_analysis_Rabi\\Alwar_NDVI_NDWI_NDRE\\ALWAR_cces_RS.zip\\Alwar_rabi_cce_rs_2018-19_with_villagename_wgs.shp\n",
      "Executing 9524st file\n",
      "Final_analysis_Rabi/Alwar_NDVI_NDWI_NDRE/ALWAR_cces_RS/Alwar_rabi_cce_rs_2018-19_with_villagename_wgs.shp\n"
     ]
    },
    {
     "name": "stderr",
     "output_type": "stream",
     "text": [
      "C:\\Users\\user\\AppData\\Local\\Temp\\ipykernel_17068\\1832265514.py:168: SettingWithCopyWarning: \n",
      "A value is trying to be set on a copy of a slice from a DataFrame\n",
      "\n",
      "See the caveats in the documentation: https://pandas.pydata.org/pandas-docs/stable/user_guide/indexing.html#returning-a-view-versus-a-copy\n",
      "  shp_df.unique_file_name.iloc[i] = pg_file_name\n"
     ]
    },
    {
     "name": "stdout",
     "output_type": "stream",
     "text": [
      "Identifier 'Alwar_rabi_cce_rs_2018-19_with_villagename_wgs_95a2b9ed_21-06-2023 21:22:18' exceeds maximum length of 63 characters \\\\192.168.1.152\\ncfc_data3\\PMFBY analysis\\Kharif Rabi Pilot studies report data\\Satsure\\CCE_DATA_Reports\\MNCFC_Project\\RABI_SEASON_CCE_2018-19_All_DISTRICTS\\Final_analysis_results_rabi_2018-19\\Final_analysis_Rabi.zip\\Final_analysis_Rabi/Alwar_NDVI_NDWI_NDRE/ALWAR_cces_RS/Alwar_rabi_cce_rs_2018-19_with_villagename_wgs.shp\n",
      "Executing 9540st file\n",
      "updated_westgodavari_road_network.shp\n"
     ]
    },
    {
     "name": "stderr",
     "output_type": "stream",
     "text": [
      "C:\\Users\\user\\AppData\\Local\\Temp\\ipykernel_17068\\1832265514.py:168: SettingWithCopyWarning: \n",
      "A value is trying to be set on a copy of a slice from a DataFrame\n",
      "\n",
      "See the caveats in the documentation: https://pandas.pydata.org/pandas-docs/stable/user_guide/indexing.html#returning-a-view-versus-a-copy\n",
      "  shp_df.unique_file_name.iloc[i] = pg_file_name\n"
     ]
    },
    {
     "name": "stdout",
     "output_type": "stream",
     "text": [
      "Identifier 'idx_updated_westgodavari_road_network_9d3234ea_21-06-2023 21:22:24_geometry' exceeds maximum length of 63 characters \\\\192.168.1.152\\ncfc_data3\\PMFBY analysis\\Kharif Rabi Pilot studies report data\\Satsure\\CCE_DATA_Reports\\MNCFC_Project\\West_Godavari_Smart_Sampling_2018_MNCFC\\West_Godavari_road_network.zip\\updated_westgodavari_road_network.shp\n",
      "Executing 21515st file\n",
      "shape/NCFCCrop20170123121203.shp\n"
     ]
    },
    {
     "name": "stderr",
     "output_type": "stream",
     "text": [
      "C:\\Users\\user\\AppData\\Local\\Temp\\ipykernel_17068\\1832265514.py:168: SettingWithCopyWarning: \n",
      "A value is trying to be set on a copy of a slice from a DataFrame\n",
      "\n",
      "See the caveats in the documentation: https://pandas.pydata.org/pandas-docs/stable/user_guide/indexing.html#returning-a-view-versus-a-copy\n",
      "  shp_df.unique_file_name.iloc[i] = pg_file_name\n"
     ]
    },
    {
     "name": "stdout",
     "output_type": "stream",
     "text": [
      "Identifier 'idx_NCFCCrop20170123121203_0ff1faa0_21-06-2023 21:22:44_geometry' exceeds maximum length of 63 characters \\\\192.168.1.152\\ncfc_data3\\CHAMAN\\Potato F2 2017-18\\gujarat_potato2017_18\\GT\\NCFCCrop20170123121203.zip\\shape/NCFCCrop20170123121203.shp\n",
      "Executing 21530st file\n",
      "shape/NCFCCrop20170123121203.shp\n",
      "Identifier 'idx_NCFCCrop20170123121203_019e5d85_21-06-2023 21:22:44_geometry' exceeds maximum length of 63 characters \\\\192.168.1.152\\ncfc_data3\\CHAMAN\\Potato F2 2017-18\\potato f2 gujarat\\potato_Gujarat_F2_2017\\Potato data\\GT\\NCFCCrop20170123121203.zip\\shape/NCFCCrop20170123121203.shp\n"
     ]
    },
    {
     "name": "stderr",
     "output_type": "stream",
     "text": [
      "C:\\Users\\user\\AppData\\Local\\Temp\\ipykernel_17068\\1832265514.py:168: SettingWithCopyWarning: \n",
      "A value is trying to be set on a copy of a slice from a DataFrame\n",
      "\n",
      "See the caveats in the documentation: https://pandas.pydata.org/pandas-docs/stable/user_guide/indexing.html#returning-a-view-versus-a-copy\n",
      "  shp_df.unique_file_name.iloc[i] = pg_file_name\n"
     ]
    },
    {
     "name": "stdout",
     "output_type": "stream",
     "text": [
      "Executing 21542st file\n",
      "shape/NCFCCrop20180205115749.shp\n"
     ]
    },
    {
     "name": "stderr",
     "output_type": "stream",
     "text": [
      "C:\\Users\\user\\AppData\\Local\\Temp\\ipykernel_17068\\1832265514.py:168: SettingWithCopyWarning: \n",
      "A value is trying to be set on a copy of a slice from a DataFrame\n",
      "\n",
      "See the caveats in the documentation: https://pandas.pydata.org/pandas-docs/stable/user_guide/indexing.html#returning-a-view-versus-a-copy\n",
      "  shp_df.unique_file_name.iloc[i] = pg_file_name\n"
     ]
    },
    {
     "name": "stdout",
     "output_type": "stream",
     "text": [
      "Identifier 'idx_NCFCCrop20180205115749_d6603597_21-06-2023 21:22:46_geometry' exceeds maximum length of 63 characters \\\\192.168.1.152\\ncfc_data3\\CHAMAN\\Potato F2 2017-18\\up potato f2 2017_18\\up_gt\\NCFCCrop20180205115749.zip\\shape/NCFCCrop20180205115749.shp\n",
      "Executing 21543st file\n",
      "shape/NCFCCrop20180205115947.shp\n"
     ]
    },
    {
     "name": "stderr",
     "output_type": "stream",
     "text": [
      "C:\\Users\\user\\AppData\\Local\\Temp\\ipykernel_17068\\1832265514.py:168: SettingWithCopyWarning: \n",
      "A value is trying to be set on a copy of a slice from a DataFrame\n",
      "\n",
      "See the caveats in the documentation: https://pandas.pydata.org/pandas-docs/stable/user_guide/indexing.html#returning-a-view-versus-a-copy\n",
      "  shp_df.unique_file_name.iloc[i] = pg_file_name\n"
     ]
    },
    {
     "name": "stdout",
     "output_type": "stream",
     "text": [
      "Identifier 'idx_NCFCCrop20180205115947_5bf17d49_21-06-2023 21:22:48_geometry' exceeds maximum length of 63 characters \\\\192.168.1.152\\ncfc_data3\\CHAMAN\\Potato F2 2017-18\\up potato f2 2017_18\\up_gt\\NCFCCrop20180205115947.zip\\shape/NCFCCrop20180205115947.shp\n",
      "Executing 21544st file\n",
      "shape/NCFCCrop20180205120013.shp\n"
     ]
    },
    {
     "name": "stderr",
     "output_type": "stream",
     "text": [
      "C:\\Users\\user\\AppData\\Local\\Temp\\ipykernel_17068\\1832265514.py:168: SettingWithCopyWarning: \n",
      "A value is trying to be set on a copy of a slice from a DataFrame\n",
      "\n",
      "See the caveats in the documentation: https://pandas.pydata.org/pandas-docs/stable/user_guide/indexing.html#returning-a-view-versus-a-copy\n",
      "  shp_df.unique_file_name.iloc[i] = pg_file_name\n"
     ]
    },
    {
     "name": "stdout",
     "output_type": "stream",
     "text": [
      "Identifier 'idx_NCFCCrop20180205120013_39fc2095_21-06-2023 21:22:50_geometry' exceeds maximum length of 63 characters \\\\192.168.1.152\\ncfc_data3\\CHAMAN\\Potato F2 2017-18\\up potato f2 2017_18\\up_gt\\NCFCCrop20180205120013.zip\\shape/NCFCCrop20180205120013.shp\n",
      "Executing 21545st file\n",
      "shape/NCFCCrop2018020655728.shp\n"
     ]
    },
    {
     "name": "stderr",
     "output_type": "stream",
     "text": [
      "C:\\Users\\user\\AppData\\Local\\Temp\\ipykernel_17068\\1832265514.py:168: SettingWithCopyWarning: \n",
      "A value is trying to be set on a copy of a slice from a DataFrame\n",
      "\n",
      "See the caveats in the documentation: https://pandas.pydata.org/pandas-docs/stable/user_guide/indexing.html#returning-a-view-versus-a-copy\n",
      "  shp_df.unique_file_name.iloc[i] = pg_file_name\n"
     ]
    },
    {
     "name": "stdout",
     "output_type": "stream",
     "text": [
      "Executing 21552st file\n",
      "shape/NCFCCrop20180102125338.shp\n"
     ]
    },
    {
     "name": "stderr",
     "output_type": "stream",
     "text": [
      "C:\\Users\\user\\AppData\\Local\\Temp\\ipykernel_17068\\1832265514.py:168: SettingWithCopyWarning: \n",
      "A value is trying to be set on a copy of a slice from a DataFrame\n",
      "\n",
      "See the caveats in the documentation: https://pandas.pydata.org/pandas-docs/stable/user_guide/indexing.html#returning-a-view-versus-a-copy\n",
      "  shp_df.unique_file_name.iloc[i] = pg_file_name\n"
     ]
    },
    {
     "name": "stdout",
     "output_type": "stream",
     "text": [
      "Identifier 'idx_NCFCCrop20180102125338_d8677d02_21-06-2023 21:22:54_geometry' exceeds maximum length of 63 characters \\\\192.168.1.152\\ncfc_data3\\CHAMAN\\PUNJAB POTAO-2017-18\\NCFCCrop20180102125338.zip\\shape/NCFCCrop20180102125338.shp\n",
      "Executing 21601st file\n",
      "shape/NCFCCrop2018031361658.shp\n"
     ]
    },
    {
     "name": "stderr",
     "output_type": "stream",
     "text": [
      "C:\\Users\\user\\AppData\\Local\\Temp\\ipykernel_17068\\1832265514.py:168: SettingWithCopyWarning: \n",
      "A value is trying to be set on a copy of a slice from a DataFrame\n",
      "\n",
      "See the caveats in the documentation: https://pandas.pydata.org/pandas-docs/stable/user_guide/indexing.html#returning-a-view-versus-a-copy\n",
      "  shp_df.unique_file_name.iloc[i] = pg_file_name\n"
     ]
    },
    {
     "name": "stdout",
     "output_type": "stream",
     "text": [
      "Executing 21616st file\n",
      "shape/NCFCCrop20180305111117.shp\n"
     ]
    },
    {
     "name": "stderr",
     "output_type": "stream",
     "text": [
      "C:\\Users\\user\\AppData\\Local\\Temp\\ipykernel_17068\\1832265514.py:168: SettingWithCopyWarning: \n",
      "A value is trying to be set on a copy of a slice from a DataFrame\n",
      "\n",
      "See the caveats in the documentation: https://pandas.pydata.org/pandas-docs/stable/user_guide/indexing.html#returning-a-view-versus-a-copy\n",
      "  shp_df.unique_file_name.iloc[i] = pg_file_name\n"
     ]
    },
    {
     "name": "stdout",
     "output_type": "stream",
     "text": [
      "Identifier 'idx_NCFCCrop20180305111117_7cf9ef60_21-06-2023 21:23:02_geometry' exceeds maximum length of 63 characters \\\\192.168.1.152\\ncfc_data3\\CHAMAN\\tomato 2017_18\\tomato chilli wb\\NCFCCrop20180305111117.zip\\shape/NCFCCrop20180305111117.shp\n",
      "Executing 21620st file\n",
      "shape/NCFCCrop2018022854737.shp\n"
     ]
    },
    {
     "name": "stderr",
     "output_type": "stream",
     "text": [
      "C:\\Users\\user\\AppData\\Local\\Temp\\ipykernel_17068\\1832265514.py:168: SettingWithCopyWarning: \n",
      "A value is trying to be set on a copy of a slice from a DataFrame\n",
      "\n",
      "See the caveats in the documentation: https://pandas.pydata.org/pandas-docs/stable/user_guide/indexing.html#returning-a-view-versus-a-copy\n",
      "  shp_df.unique_file_name.iloc[i] = pg_file_name\n"
     ]
    },
    {
     "name": "stdout",
     "output_type": "stream",
     "text": [
      "Executing 21647st file\n",
      "shape/NCFCCrop20171013111712.shp\n"
     ]
    },
    {
     "name": "stderr",
     "output_type": "stream",
     "text": [
      "C:\\Users\\user\\AppData\\Local\\Temp\\ipykernel_17068\\1832265514.py:168: SettingWithCopyWarning: \n",
      "A value is trying to be set on a copy of a slice from a DataFrame\n",
      "\n",
      "See the caveats in the documentation: https://pandas.pydata.org/pandas-docs/stable/user_guide/indexing.html#returning-a-view-versus-a-copy\n",
      "  shp_df.unique_file_name.iloc[i] = pg_file_name\n"
     ]
    },
    {
     "name": "stdout",
     "output_type": "stream",
     "text": [
      "Identifier 'idx_NCFCCrop20171013111712_eb9901ff_21-06-2023 21:23:05_geometry' exceeds maximum length of 63 characters \\\\192.168.1.152\\ncfc_data3\\CHAMAN\\tomato 2017_18\\tomato chilli wb\\tomato_stats\\NCFCCrop20171013111712.zip\\shape/NCFCCrop20171013111712.shp\n",
      "Executing 21648st file\n",
      "shape/NCFCCrop20171013112455.shp\n"
     ]
    },
    {
     "name": "stderr",
     "output_type": "stream",
     "text": [
      "C:\\Users\\user\\AppData\\Local\\Temp\\ipykernel_17068\\1832265514.py:168: SettingWithCopyWarning: \n",
      "A value is trying to be set on a copy of a slice from a DataFrame\n",
      "\n",
      "See the caveats in the documentation: https://pandas.pydata.org/pandas-docs/stable/user_guide/indexing.html#returning-a-view-versus-a-copy\n",
      "  shp_df.unique_file_name.iloc[i] = pg_file_name\n"
     ]
    },
    {
     "name": "stdout",
     "output_type": "stream",
     "text": [
      "Identifier 'idx_NCFCCrop20171013112455_3e60b68f_21-06-2023 21:23:07_geometry' exceeds maximum length of 63 characters \\\\192.168.1.152\\ncfc_data3\\CHAMAN\\tomato 2017_18\\tomato chilli wb\\tomato_stats\\NCFCCrop20171013112455.zip\\shape/NCFCCrop20171013112455.shp\n",
      "Executing 21661st file\n",
      "shape/NCFCCrop2016092950906.shp\n"
     ]
    },
    {
     "name": "stderr",
     "output_type": "stream",
     "text": [
      "C:\\Users\\user\\AppData\\Local\\Temp\\ipykernel_17068\\1832265514.py:168: SettingWithCopyWarning: \n",
      "A value is trying to be set on a copy of a slice from a DataFrame\n",
      "\n",
      "See the caveats in the documentation: https://pandas.pydata.org/pandas-docs/stable/user_guide/indexing.html#returning-a-view-versus-a-copy\n",
      "  shp_df.unique_file_name.iloc[i] = pg_file_name\n"
     ]
    },
    {
     "name": "stdout",
     "output_type": "stream",
     "text": [
      "Executing 21742st file\n",
      "GT_Orchard.shp\n"
     ]
    },
    {
     "name": "stderr",
     "output_type": "stream",
     "text": [
      "C:\\Users\\user\\AppData\\Local\\Temp\\ipykernel_17068\\1832265514.py:168: SettingWithCopyWarning: \n",
      "A value is trying to be set on a copy of a slice from a DataFrame\n",
      "\n",
      "See the caveats in the documentation: https://pandas.pydata.org/pandas-docs/stable/user_guide/indexing.html#returning-a-view-versus-a-copy\n",
      "  shp_df.unique_file_name.iloc[i] = pg_file_name\n"
     ]
    },
    {
     "name": "stdout",
     "output_type": "stream",
     "text": [
      "Executing 21767st file\n",
      "barmer_other_crops_crop_Cotton.shp\n",
      "Identifier 'idx_barmer_other_crops_crop_Cotton_e65cd91b_21-06-2023 21:23:16_geometry' exceeds maximum length of 63 characters \\\\192.168.1.152\\ncfc_data3\\CHAMAN PHASE II\\2018-19\\Cumin_2018-19\\Rajasthan_crop_wise_GT_Cumin_competing_crops_2018_2019\\Rajasthan_crop_wise_GT_Cumin_competing_crops_2018_2019\\Barmer_cotton.zip\\barmer_other_crops_crop_Cotton.shp\n"
     ]
    },
    {
     "name": "stderr",
     "output_type": "stream",
     "text": [
      "C:\\Users\\user\\AppData\\Local\\Temp\\ipykernel_17068\\1832265514.py:168: SettingWithCopyWarning: \n",
      "A value is trying to be set on a copy of a slice from a DataFrame\n",
      "\n",
      "See the caveats in the documentation: https://pandas.pydata.org/pandas-docs/stable/user_guide/indexing.html#returning-a-view-versus-a-copy\n",
      "  shp_df.unique_file_name.iloc[i] = pg_file_name\n"
     ]
    },
    {
     "name": "stdout",
     "output_type": "stream",
     "text": [
      "Executing 21795st file\n",
      "shape/NCFCCrop2019072392602.shp\n"
     ]
    },
    {
     "name": "stderr",
     "output_type": "stream",
     "text": [
      "C:\\Users\\user\\AppData\\Local\\Temp\\ipykernel_17068\\1832265514.py:168: SettingWithCopyWarning: \n",
      "A value is trying to be set on a copy of a slice from a DataFrame\n",
      "\n",
      "See the caveats in the documentation: https://pandas.pydata.org/pandas-docs/stable/user_guide/indexing.html#returning-a-view-versus-a-copy\n",
      "  shp_df.unique_file_name.iloc[i] = pg_file_name\n"
     ]
    },
    {
     "name": "stdout",
     "output_type": "stream",
     "text": [
      "Executing 21852st file\n",
      "shape/NCFCCrop2019012721100.shp\n"
     ]
    },
    {
     "name": "stderr",
     "output_type": "stream",
     "text": [
      "C:\\Users\\user\\AppData\\Local\\Temp\\ipykernel_17068\\1832265514.py:168: SettingWithCopyWarning: \n",
      "A value is trying to be set on a copy of a slice from a DataFrame\n",
      "\n",
      "See the caveats in the documentation: https://pandas.pydata.org/pandas-docs/stable/user_guide/indexing.html#returning-a-view-versus-a-copy\n",
      "  shp_df.unique_file_name.iloc[i] = pg_file_name\n"
     ]
    },
    {
     "name": "stdout",
     "output_type": "stream",
     "text": [
      "Executing 21863st file\n",
      "shape/NCFCCrop2019032522927.shp\n"
     ]
    },
    {
     "name": "stderr",
     "output_type": "stream",
     "text": [
      "C:\\Users\\user\\AppData\\Local\\Temp\\ipykernel_17068\\1832265514.py:168: SettingWithCopyWarning: \n",
      "A value is trying to be set on a copy of a slice from a DataFrame\n",
      "\n",
      "See the caveats in the documentation: https://pandas.pydata.org/pandas-docs/stable/user_guide/indexing.html#returning-a-view-versus-a-copy\n",
      "  shp_df.unique_file_name.iloc[i] = pg_file_name\n"
     ]
    },
    {
     "name": "stdout",
     "output_type": "stream",
     "text": [
      "Executing 21864st file\n",
      "shape/NCFCCrop20190411105952.shp\n"
     ]
    },
    {
     "name": "stderr",
     "output_type": "stream",
     "text": [
      "C:\\Users\\user\\AppData\\Local\\Temp\\ipykernel_17068\\1832265514.py:168: SettingWithCopyWarning: \n",
      "A value is trying to be set on a copy of a slice from a DataFrame\n",
      "\n",
      "See the caveats in the documentation: https://pandas.pydata.org/pandas-docs/stable/user_guide/indexing.html#returning-a-view-versus-a-copy\n",
      "  shp_df.unique_file_name.iloc[i] = pg_file_name\n"
     ]
    },
    {
     "name": "stdout",
     "output_type": "stream",
     "text": [
      "Identifier 'idx_NCFCCrop20190411105952_8b261a54_21-06-2023 21:23:26_geometry' exceeds maximum length of 63 characters \\\\192.168.1.152\\ncfc_data3\\CHAMAN PHASE II\\2018-19\\onion_2018-19\\Gujarat Rabi Onion\\NCFCCrop20190411105952.zip\\shape/NCFCCrop20190411105952.shp\n",
      "Executing 21876st file\n",
      "Vector/GT.shp\n"
     ]
    },
    {
     "name": "stderr",
     "output_type": "stream",
     "text": [
      "C:\\Users\\user\\AppData\\Local\\Temp\\ipykernel_17068\\1832265514.py:168: SettingWithCopyWarning: \n",
      "A value is trying to be set on a copy of a slice from a DataFrame\n",
      "\n",
      "See the caveats in the documentation: https://pandas.pydata.org/pandas-docs/stable/user_guide/indexing.html#returning-a-view-versus-a-copy\n",
      "  shp_df.unique_file_name.iloc[i] = pg_file_name\n"
     ]
    },
    {
     "name": "stdout",
     "output_type": "stream",
     "text": [
      "Executing 21881st file\n",
      "shape/NCFCCrop2019010142817.shp\n"
     ]
    },
    {
     "name": "stderr",
     "output_type": "stream",
     "text": [
      "C:\\Users\\user\\AppData\\Local\\Temp\\ipykernel_17068\\1832265514.py:168: SettingWithCopyWarning: \n",
      "A value is trying to be set on a copy of a slice from a DataFrame\n",
      "\n",
      "See the caveats in the documentation: https://pandas.pydata.org/pandas-docs/stable/user_guide/indexing.html#returning-a-view-versus-a-copy\n",
      "  shp_df.unique_file_name.iloc[i] = pg_file_name\n"
     ]
    },
    {
     "name": "stdout",
     "output_type": "stream",
     "text": [
      "Executing 21884st file\n",
      "shape/NCFCCrop2019030843744.shp\n"
     ]
    },
    {
     "name": "stderr",
     "output_type": "stream",
     "text": [
      "C:\\Users\\user\\AppData\\Local\\Temp\\ipykernel_17068\\1832265514.py:168: SettingWithCopyWarning: \n",
      "A value is trying to be set on a copy of a slice from a DataFrame\n",
      "\n",
      "See the caveats in the documentation: https://pandas.pydata.org/pandas-docs/stable/user_guide/indexing.html#returning-a-view-versus-a-copy\n",
      "  shp_df.unique_file_name.iloc[i] = pg_file_name\n"
     ]
    },
    {
     "name": "stdout",
     "output_type": "stream",
     "text": [
      "Executing 21901st file\n",
      "shape/NCFCCrop20190208123021.shp\n"
     ]
    },
    {
     "name": "stderr",
     "output_type": "stream",
     "text": [
      "C:\\Users\\user\\AppData\\Local\\Temp\\ipykernel_17068\\1832265514.py:168: SettingWithCopyWarning: \n",
      "A value is trying to be set on a copy of a slice from a DataFrame\n",
      "\n",
      "See the caveats in the documentation: https://pandas.pydata.org/pandas-docs/stable/user_guide/indexing.html#returning-a-view-versus-a-copy\n",
      "  shp_df.unique_file_name.iloc[i] = pg_file_name\n"
     ]
    },
    {
     "name": "stdout",
     "output_type": "stream",
     "text": [
      "Identifier 'idx_NCFCCrop20190208123021_9aa6aece_21-06-2023 21:23:44_geometry' exceeds maximum length of 63 characters \\\\192.168.1.152\\ncfc_data3\\CHAMAN PHASE II\\2018-19\\Potato_2018-19\\Potato_F2-2018-19\\UP_Result\\gt\\NCFCCrop20190208123021.zip\\shape/NCFCCrop20190208123021.shp\n",
      "Executing 21932st file\n",
      "shape/NCFCCrop2018121352534.shp\n"
     ]
    },
    {
     "name": "stderr",
     "output_type": "stream",
     "text": [
      "C:\\Users\\user\\AppData\\Local\\Temp\\ipykernel_17068\\1832265514.py:168: SettingWithCopyWarning: \n",
      "A value is trying to be set on a copy of a slice from a DataFrame\n",
      "\n",
      "See the caveats in the documentation: https://pandas.pydata.org/pandas-docs/stable/user_guide/indexing.html#returning-a-view-versus-a-copy\n",
      "  shp_df.unique_file_name.iloc[i] = pg_file_name\n"
     ]
    },
    {
     "name": "stdout",
     "output_type": "stream",
     "text": [
      "Executing 21986st file\n",
      "latekharif_Onion2019-20gt.shp\n"
     ]
    },
    {
     "name": "stderr",
     "output_type": "stream",
     "text": [
      "C:\\Users\\user\\AppData\\Local\\Temp\\ipykernel_17068\\1832265514.py:168: SettingWithCopyWarning: \n",
      "A value is trying to be set on a copy of a slice from a DataFrame\n",
      "\n",
      "See the caveats in the documentation: https://pandas.pydata.org/pandas-docs/stable/user_guide/indexing.html#returning-a-view-versus-a-copy\n",
      "  shp_df.unique_file_name.iloc[i] = pg_file_name\n"
     ]
    },
    {
     "name": "stdout",
     "output_type": "stream",
     "text": [
      "Identifier 'idx_latekharif_Onion2019-20gt_5cec0d96_21-06-2023 21:23:54_geometry' exceeds maximum length of 63 characters \\\\192.168.1.152\\ncfc_data3\\CHAMAN PHASE II\\2019-20\\Onion_2019-20\\Late-Kharif_Onion-ppts\\maharashtra layers\\GT_latekharif_Onion2019-20.zip\\latekharif_Onion2019-20gt.shp\n",
      "Executing 21998st file\n",
      "potato bara 2020/potato 2020.shp\n"
     ]
    },
    {
     "name": "stderr",
     "output_type": "stream",
     "text": [
      "C:\\Users\\user\\AppData\\Local\\Temp\\ipykernel_17068\\1832265514.py:168: SettingWithCopyWarning: \n",
      "A value is trying to be set on a copy of a slice from a DataFrame\n",
      "\n",
      "See the caveats in the documentation: https://pandas.pydata.org/pandas-docs/stable/user_guide/indexing.html#returning-a-view-versus-a-copy\n",
      "  shp_df.unique_file_name.iloc[i] = pg_file_name\n",
      "C:\\Users\\user\\miniconda3\\envs\\kdss_base\\lib\\site-packages\\geopandas\\io\\sql.py:415: UserWarning: Could not parse CRS from the GeoDataFrame. Inserting data without defined CRS.\n",
      "  srid = _get_srid_from_crs(gdf)\n"
     ]
    },
    {
     "name": "stdout",
     "output_type": "stream",
     "text": [
      "Executing 22001st file\n",
      "shape/NCFCCrop2020022122910.shp\n"
     ]
    },
    {
     "name": "stderr",
     "output_type": "stream",
     "text": [
      "C:\\Users\\user\\AppData\\Local\\Temp\\ipykernel_17068\\1832265514.py:168: SettingWithCopyWarning: \n",
      "A value is trying to be set on a copy of a slice from a DataFrame\n",
      "\n",
      "See the caveats in the documentation: https://pandas.pydata.org/pandas-docs/stable/user_guide/indexing.html#returning-a-view-versus-a-copy\n",
      "  shp_df.unique_file_name.iloc[i] = pg_file_name\n"
     ]
    },
    {
     "name": "stdout",
     "output_type": "stream",
     "text": [
      "Executing 22010st file\n",
      "shape/NCFCCrop2017082953244.shp\n"
     ]
    },
    {
     "name": "stderr",
     "output_type": "stream",
     "text": [
      "C:\\Users\\user\\AppData\\Local\\Temp\\ipykernel_17068\\1832265514.py:168: SettingWithCopyWarning: \n",
      "A value is trying to be set on a copy of a slice from a DataFrame\n",
      "\n",
      "See the caveats in the documentation: https://pandas.pydata.org/pandas-docs/stable/user_guide/indexing.html#returning-a-view-versus-a-copy\n",
      "  shp_df.unique_file_name.iloc[i] = pg_file_name\n"
     ]
    },
    {
     "name": "stdout",
     "output_type": "stream",
     "text": [
      "Executing 39180st file\n",
      "Hisar_Paddy_Kharif/Hisar_Sub_District_Boundary.shp\n"
     ]
    },
    {
     "name": "stderr",
     "output_type": "stream",
     "text": [
      "C:\\Users\\user\\AppData\\Local\\Temp\\ipykernel_17068\\1832265514.py:168: SettingWithCopyWarning: \n",
      "A value is trying to be set on a copy of a slice from a DataFrame\n",
      "\n",
      "See the caveats in the documentation: https://pandas.pydata.org/pandas-docs/stable/user_guide/indexing.html#returning-a-view-versus-a-copy\n",
      "  shp_df.unique_file_name.iloc[i] = pg_file_name\n"
     ]
    },
    {
     "name": "stdout",
     "output_type": "stream",
     "text": [
      "Identifier 'idx_Hisar_Sub_District_Boundary_4cbe3202_21-06-2023 21:24:30_geometry' exceeds maximum length of 63 characters \\\\192.168.1.152\\ncfc_data3\\PMFBY analysis\\Kharif Rabi Pilot studies report data\\Skymet\\Satellite images and Indices\\Hisar_Paddy_Kharif.zip\\Hisar_Paddy_Kharif/Hisar_Sub_District_Boundary.shp\n",
      "Executing 39181st file\n",
      "Hoshangabad_Soybean_Kharif/Hoshangabad_Sub_District_Boundary.shp\n"
     ]
    },
    {
     "name": "stderr",
     "output_type": "stream",
     "text": [
      "C:\\Users\\user\\AppData\\Local\\Temp\\ipykernel_17068\\1832265514.py:168: SettingWithCopyWarning: \n",
      "A value is trying to be set on a copy of a slice from a DataFrame\n",
      "\n",
      "See the caveats in the documentation: https://pandas.pydata.org/pandas-docs/stable/user_guide/indexing.html#returning-a-view-versus-a-copy\n",
      "  shp_df.unique_file_name.iloc[i] = pg_file_name\n"
     ]
    },
    {
     "name": "stdout",
     "output_type": "stream",
     "text": [
      "Identifier 'idx_Hoshangabad_Sub_District_Boundary_826a3741_21-06-2023 21:27:26_geometry' exceeds maximum length of 63 characters \\\\192.168.1.152\\ncfc_data3\\PMFBY analysis\\Kharif Rabi Pilot studies report data\\Skymet\\Satellite images and Indices\\Hoshangabad_Soybean_Kharif.zip\\Hoshangabad_Soybean_Kharif/Hoshangabad_Sub_District_Boundary.shp\n",
      "Executing 39182st file\n",
      "Kalahandi_Rabi_Paddy/KALAHANDI_SUB_DISTRICT.shp\n"
     ]
    },
    {
     "name": "stderr",
     "output_type": "stream",
     "text": [
      "C:\\Users\\user\\AppData\\Local\\Temp\\ipykernel_17068\\1832265514.py:168: SettingWithCopyWarning: \n",
      "A value is trying to be set on a copy of a slice from a DataFrame\n",
      "\n",
      "See the caveats in the documentation: https://pandas.pydata.org/pandas-docs/stable/user_guide/indexing.html#returning-a-view-versus-a-copy\n",
      "  shp_df.unique_file_name.iloc[i] = pg_file_name\n"
     ]
    },
    {
     "name": "stdout",
     "output_type": "stream",
     "text": [
      "Identifier 'idx_KALAHANDI_SUB_DISTRICT_692b9d07_21-06-2023 21:32:00_geometry' exceeds maximum length of 63 characters \\\\192.168.1.152\\ncfc_data3\\PMFBY analysis\\Kharif Rabi Pilot studies report data\\Skymet\\Satellite images and Indices\\Kalahandi_Rabi_Paddy.zip\\Kalahandi_Rabi_Paddy/KALAHANDI_SUB_DISTRICT.shp\n",
      "Executing 39185st file\n",
      "Nainital/Block_Boundary.shp\n"
     ]
    },
    {
     "name": "stderr",
     "output_type": "stream",
     "text": [
      "C:\\Users\\user\\AppData\\Local\\Temp\\ipykernel_17068\\1832265514.py:168: SettingWithCopyWarning: \n",
      "A value is trying to be set on a copy of a slice from a DataFrame\n",
      "\n",
      "See the caveats in the documentation: https://pandas.pydata.org/pandas-docs/stable/user_guide/indexing.html#returning-a-view-versus-a-copy\n",
      "  shp_df.unique_file_name.iloc[i] = pg_file_name\n"
     ]
    },
    {
     "name": "stdout",
     "output_type": "stream",
     "text": [
      "Executing 39186st file\n",
      "Nainital/District_Boundary.shp\n"
     ]
    },
    {
     "name": "stderr",
     "output_type": "stream",
     "text": [
      "C:\\Users\\user\\AppData\\Local\\Temp\\ipykernel_17068\\1832265514.py:168: SettingWithCopyWarning: \n",
      "A value is trying to be set on a copy of a slice from a DataFrame\n",
      "\n",
      "See the caveats in the documentation: https://pandas.pydata.org/pandas-docs/stable/user_guide/indexing.html#returning-a-view-versus-a-copy\n",
      "  shp_df.unique_file_name.iloc[i] = pg_file_name\n"
     ]
    },
    {
     "name": "stdout",
     "output_type": "stream",
     "text": [
      "Executing 39187st file\n",
      "Nainital/Tehsil_Boundary.shp\n"
     ]
    },
    {
     "name": "stderr",
     "output_type": "stream",
     "text": [
      "C:\\Users\\user\\AppData\\Local\\Temp\\ipykernel_17068\\1832265514.py:168: SettingWithCopyWarning: \n",
      "A value is trying to be set on a copy of a slice from a DataFrame\n",
      "\n",
      "See the caveats in the documentation: https://pandas.pydata.org/pandas-docs/stable/user_guide/indexing.html#returning-a-view-versus-a-copy\n",
      "  shp_df.unique_file_name.iloc[i] = pg_file_name\n"
     ]
    },
    {
     "name": "stdout",
     "output_type": "stream",
     "text": [
      "Executing 39195st file\n",
      "Circle_Bound_For_Ag_Dept/Circle_AhmednagarDist.shp\n"
     ]
    },
    {
     "name": "stderr",
     "output_type": "stream",
     "text": [
      "C:\\Users\\user\\AppData\\Local\\Temp\\ipykernel_17068\\1832265514.py:168: SettingWithCopyWarning: \n",
      "A value is trying to be set on a copy of a slice from a DataFrame\n",
      "\n",
      "See the caveats in the documentation: https://pandas.pydata.org/pandas-docs/stable/user_guide/indexing.html#returning-a-view-versus-a-copy\n",
      "  shp_df.unique_file_name.iloc[i] = pg_file_name\n"
     ]
    },
    {
     "name": "stdout",
     "output_type": "stream",
     "text": [
      "Executing 39196st file\n",
      "Circle_Bound_For_Ag_Dept/Circle_Ambegaon_Pune.shp\n"
     ]
    },
    {
     "name": "stderr",
     "output_type": "stream",
     "text": [
      "C:\\Users\\user\\AppData\\Local\\Temp\\ipykernel_17068\\1832265514.py:168: SettingWithCopyWarning: \n",
      "A value is trying to be set on a copy of a slice from a DataFrame\n",
      "\n",
      "See the caveats in the documentation: https://pandas.pydata.org/pandas-docs/stable/user_guide/indexing.html#returning-a-view-versus-a-copy\n",
      "  shp_df.unique_file_name.iloc[i] = pg_file_name\n"
     ]
    },
    {
     "name": "stdout",
     "output_type": "stream",
     "text": [
      "Executing 39197st file\n",
      "Circle_Bound_For_Ag_Dept/Circle_Atpadi_Sangli.shp\n"
     ]
    },
    {
     "name": "stderr",
     "output_type": "stream",
     "text": [
      "C:\\Users\\user\\AppData\\Local\\Temp\\ipykernel_17068\\1832265514.py:168: SettingWithCopyWarning: \n",
      "A value is trying to be set on a copy of a slice from a DataFrame\n",
      "\n",
      "See the caveats in the documentation: https://pandas.pydata.org/pandas-docs/stable/user_guide/indexing.html#returning-a-view-versus-a-copy\n",
      "  shp_df.unique_file_name.iloc[i] = pg_file_name\n"
     ]
    },
    {
     "name": "stdout",
     "output_type": "stream",
     "text": [
      "Executing 39198st file\n",
      "Circle_Bound_For_Ag_Dept/Circle_Baramati_Pune.shp\n"
     ]
    },
    {
     "name": "stderr",
     "output_type": "stream",
     "text": [
      "C:\\Users\\user\\AppData\\Local\\Temp\\ipykernel_17068\\1832265514.py:168: SettingWithCopyWarning: \n",
      "A value is trying to be set on a copy of a slice from a DataFrame\n",
      "\n",
      "See the caveats in the documentation: https://pandas.pydata.org/pandas-docs/stable/user_guide/indexing.html#returning-a-view-versus-a-copy\n",
      "  shp_df.unique_file_name.iloc[i] = pg_file_name\n"
     ]
    },
    {
     "name": "stdout",
     "output_type": "stream",
     "text": [
      "Executing 39199st file\n",
      "Circle_Bound_For_Ag_Dept/Circle_Jat_Sangli.shp\n"
     ]
    },
    {
     "name": "stderr",
     "output_type": "stream",
     "text": [
      "C:\\Users\\user\\AppData\\Local\\Temp\\ipykernel_17068\\1832265514.py:168: SettingWithCopyWarning: \n",
      "A value is trying to be set on a copy of a slice from a DataFrame\n",
      "\n",
      "See the caveats in the documentation: https://pandas.pydata.org/pandas-docs/stable/user_guide/indexing.html#returning-a-view-versus-a-copy\n",
      "  shp_df.unique_file_name.iloc[i] = pg_file_name\n"
     ]
    },
    {
     "name": "stdout",
     "output_type": "stream",
     "text": [
      "Executing 39209st file\n",
      "Crop Classification/Selected_Mandals/Puri/Puri.shp\n"
     ]
    },
    {
     "name": "stderr",
     "output_type": "stream",
     "text": [
      "C:\\Users\\user\\AppData\\Local\\Temp\\ipykernel_17068\\1832265514.py:168: SettingWithCopyWarning: \n",
      "A value is trying to be set on a copy of a slice from a DataFrame\n",
      "\n",
      "See the caveats in the documentation: https://pandas.pydata.org/pandas-docs/stable/user_guide/indexing.html#returning-a-view-versus-a-copy\n",
      "  shp_df.unique_file_name.iloc[i] = pg_file_name\n"
     ]
    },
    {
     "name": "stdout",
     "output_type": "stream",
     "text": [
      "Executing 39210st file\n",
      "Crop Classification/Selected_Mandals/Krishna/krishna.shp\n"
     ]
    },
    {
     "name": "stderr",
     "output_type": "stream",
     "text": [
      "C:\\Users\\user\\AppData\\Local\\Temp\\ipykernel_17068\\1832265514.py:168: SettingWithCopyWarning: \n",
      "A value is trying to be set on a copy of a slice from a DataFrame\n",
      "\n",
      "See the caveats in the documentation: https://pandas.pydata.org/pandas-docs/stable/user_guide/indexing.html#returning-a-view-versus-a-copy\n",
      "  shp_df.unique_file_name.iloc[i] = pg_file_name\n"
     ]
    },
    {
     "name": "stdout",
     "output_type": "stream",
     "text": [
      "Executing 39211st file\n",
      "Crop Classification/Selected_Mandals/Kurnool/kurnool.shp\n"
     ]
    },
    {
     "name": "stderr",
     "output_type": "stream",
     "text": [
      "C:\\Users\\user\\AppData\\Local\\Temp\\ipykernel_17068\\1832265514.py:168: SettingWithCopyWarning: \n",
      "A value is trying to be set on a copy of a slice from a DataFrame\n",
      "\n",
      "See the caveats in the documentation: https://pandas.pydata.org/pandas-docs/stable/user_guide/indexing.html#returning-a-view-versus-a-copy\n",
      "  shp_df.unique_file_name.iloc[i] = pg_file_name\n"
     ]
    },
    {
     "name": "stdout",
     "output_type": "stream",
     "text": [
      "Executing 39212st file\n",
      "Crop Classification/Ground Data/Ananthapur/ananthapur_training.shp\n"
     ]
    },
    {
     "name": "stderr",
     "output_type": "stream",
     "text": [
      "C:\\Users\\user\\AppData\\Local\\Temp\\ipykernel_17068\\1832265514.py:168: SettingWithCopyWarning: \n",
      "A value is trying to be set on a copy of a slice from a DataFrame\n",
      "\n",
      "See the caveats in the documentation: https://pandas.pydata.org/pandas-docs/stable/user_guide/indexing.html#returning-a-view-versus-a-copy\n",
      "  shp_df.unique_file_name.iloc[i] = pg_file_name\n"
     ]
    },
    {
     "name": "stdout",
     "output_type": "stream",
     "text": [
      "Executing 39213st file\n",
      "Crop Classification/Selected_Mandals/Mahabubnagar/mahabubnagar.shp\n"
     ]
    },
    {
     "name": "stderr",
     "output_type": "stream",
     "text": [
      "C:\\Users\\user\\AppData\\Local\\Temp\\ipykernel_17068\\1832265514.py:168: SettingWithCopyWarning: \n",
      "A value is trying to be set on a copy of a slice from a DataFrame\n",
      "\n",
      "See the caveats in the documentation: https://pandas.pydata.org/pandas-docs/stable/user_guide/indexing.html#returning-a-view-versus-a-copy\n",
      "  shp_df.unique_file_name.iloc[i] = pg_file_name\n"
     ]
    },
    {
     "name": "stdout",
     "output_type": "stream",
     "text": [
      "Executing 39214st file\n",
      "Crop Classification/Ground Data/Ananthapur/ananthapur_validation.shp\n",
      "Executing 39215st file\n",
      "Crop Classification/Selected_Mandals/Puri/grid/puri_1km_grid.shp\n"
     ]
    },
    {
     "name": "stderr",
     "output_type": "stream",
     "text": [
      "C:\\Users\\user\\AppData\\Local\\Temp\\ipykernel_17068\\1832265514.py:168: SettingWithCopyWarning: \n",
      "A value is trying to be set on a copy of a slice from a DataFrame\n",
      "\n",
      "See the caveats in the documentation: https://pandas.pydata.org/pandas-docs/stable/user_guide/indexing.html#returning-a-view-versus-a-copy\n",
      "  shp_df.unique_file_name.iloc[i] = pg_file_name\n",
      "C:\\Users\\user\\AppData\\Local\\Temp\\ipykernel_17068\\1832265514.py:168: SettingWithCopyWarning: \n",
      "A value is trying to be set on a copy of a slice from a DataFrame\n",
      "\n",
      "See the caveats in the documentation: https://pandas.pydata.org/pandas-docs/stable/user_guide/indexing.html#returning-a-view-versus-a-copy\n",
      "  shp_df.unique_file_name.iloc[i] = pg_file_name\n"
     ]
    },
    {
     "name": "stdout",
     "output_type": "stream",
     "text": [
      "Executing 39216st file\n",
      "Crop Classification/Ground Data/Mahabubnagar/mahabubnagar_training.shp\n"
     ]
    },
    {
     "name": "stderr",
     "output_type": "stream",
     "text": [
      "C:\\Users\\user\\AppData\\Local\\Temp\\ipykernel_17068\\1832265514.py:168: SettingWithCopyWarning: \n",
      "A value is trying to be set on a copy of a slice from a DataFrame\n",
      "\n",
      "See the caveats in the documentation: https://pandas.pydata.org/pandas-docs/stable/user_guide/indexing.html#returning-a-view-versus-a-copy\n",
      "  shp_df.unique_file_name.iloc[i] = pg_file_name\n"
     ]
    },
    {
     "name": "stdout",
     "output_type": "stream",
     "text": [
      "Executing 39217st file\n",
      "Crop Classification/Selected_Mandals/Ananthapur/Grid/ananthapur_1km_grid.shp\n"
     ]
    },
    {
     "name": "stderr",
     "output_type": "stream",
     "text": [
      "C:\\Users\\user\\AppData\\Local\\Temp\\ipykernel_17068\\1832265514.py:168: SettingWithCopyWarning: \n",
      "A value is trying to be set on a copy of a slice from a DataFrame\n",
      "\n",
      "See the caveats in the documentation: https://pandas.pydata.org/pandas-docs/stable/user_guide/indexing.html#returning-a-view-versus-a-copy\n",
      "  shp_df.unique_file_name.iloc[i] = pg_file_name\n"
     ]
    },
    {
     "name": "stdout",
     "output_type": "stream",
     "text": [
      "Executing 39218st file\n",
      "Crop Classification/Ground Data/Puri/shapefile/puri.shp\n"
     ]
    },
    {
     "name": "stderr",
     "output_type": "stream",
     "text": [
      "C:\\Users\\user\\AppData\\Local\\Temp\\ipykernel_17068\\1832265514.py:168: SettingWithCopyWarning: \n",
      "A value is trying to be set on a copy of a slice from a DataFrame\n",
      "\n",
      "See the caveats in the documentation: https://pandas.pydata.org/pandas-docs/stable/user_guide/indexing.html#returning-a-view-versus-a-copy\n",
      "  shp_df.unique_file_name.iloc[i] = pg_file_name\n"
     ]
    },
    {
     "name": "stdout",
     "output_type": "stream",
     "text": [
      "Executing 39219st file\n",
      "Crop Classification/Classification/Grid/Anantapur_grid/ananthapur_1km_grid.shp\n"
     ]
    },
    {
     "name": "stderr",
     "output_type": "stream",
     "text": [
      "C:\\Users\\user\\AppData\\Local\\Temp\\ipykernel_17068\\1832265514.py:168: SettingWithCopyWarning: \n",
      "A value is trying to be set on a copy of a slice from a DataFrame\n",
      "\n",
      "See the caveats in the documentation: https://pandas.pydata.org/pandas-docs/stable/user_guide/indexing.html#returning-a-view-versus-a-copy\n",
      "  shp_df.unique_file_name.iloc[i] = pg_file_name\n"
     ]
    },
    {
     "name": "stdout",
     "output_type": "stream",
     "text": [
      "Executing 39220st file\n",
      "Crop Classification/Ground Data/Krishna Dist/ShapeFiles/validation.shp\n"
     ]
    },
    {
     "name": "stderr",
     "output_type": "stream",
     "text": [
      "C:\\Users\\user\\AppData\\Local\\Temp\\ipykernel_17068\\1832265514.py:168: SettingWithCopyWarning: \n",
      "A value is trying to be set on a copy of a slice from a DataFrame\n",
      "\n",
      "See the caveats in the documentation: https://pandas.pydata.org/pandas-docs/stable/user_guide/indexing.html#returning-a-view-versus-a-copy\n",
      "  shp_df.unique_file_name.iloc[i] = pg_file_name\n"
     ]
    },
    {
     "name": "stdout",
     "output_type": "stream",
     "text": [
      "Executing 39221st file\n",
      "Crop Classification/Ground Data/Mahbubnagar_Kurnool_Anantapur/ShapeFiles/validation.shp\n"
     ]
    },
    {
     "name": "stderr",
     "output_type": "stream",
     "text": [
      "C:\\Users\\user\\AppData\\Local\\Temp\\ipykernel_17068\\1832265514.py:168: SettingWithCopyWarning: \n",
      "A value is trying to be set on a copy of a slice from a DataFrame\n",
      "\n",
      "See the caveats in the documentation: https://pandas.pydata.org/pandas-docs/stable/user_guide/indexing.html#returning-a-view-versus-a-copy\n",
      "  shp_df.unique_file_name.iloc[i] = pg_file_name\n"
     ]
    },
    {
     "name": "stdout",
     "output_type": "stream",
     "text": [
      "Executing 39222st file\n",
      "Crop Classification/Ground Data/Mahbubnagar_Kurnool_Anantapur/Track/antr.shp\n"
     ]
    },
    {
     "name": "stderr",
     "output_type": "stream",
     "text": [
      "C:\\Users\\user\\AppData\\Local\\Temp\\ipykernel_17068\\1832265514.py:168: SettingWithCopyWarning: \n",
      "A value is trying to be set on a copy of a slice from a DataFrame\n",
      "\n",
      "See the caveats in the documentation: https://pandas.pydata.org/pandas-docs/stable/user_guide/indexing.html#returning-a-view-versus-a-copy\n",
      "  shp_df.unique_file_name.iloc[i] = pg_file_name\n"
     ]
    },
    {
     "name": "stdout",
     "output_type": "stream",
     "text": [
      "Executing 39223st file\n",
      "Crop Classification/Ground Data/Kurnool/kurnool_validation.shp\n"
     ]
    },
    {
     "name": "stderr",
     "output_type": "stream",
     "text": [
      "C:\\Users\\user\\AppData\\Local\\Temp\\ipykernel_17068\\1832265514.py:168: SettingWithCopyWarning: \n",
      "A value is trying to be set on a copy of a slice from a DataFrame\n",
      "\n",
      "See the caveats in the documentation: https://pandas.pydata.org/pandas-docs/stable/user_guide/indexing.html#returning-a-view-versus-a-copy\n",
      "  shp_df.unique_file_name.iloc[i] = pg_file_name\n"
     ]
    },
    {
     "name": "stdout",
     "output_type": "stream",
     "text": [
      "Executing 39224st file\n",
      "Crop Classification/Classification/Grid/mahabubnagar_grid/mahabubnagar_1km_grid.shp\n"
     ]
    },
    {
     "name": "stderr",
     "output_type": "stream",
     "text": [
      "C:\\Users\\user\\AppData\\Local\\Temp\\ipykernel_17068\\1832265514.py:168: SettingWithCopyWarning: \n",
      "A value is trying to be set on a copy of a slice from a DataFrame\n",
      "\n",
      "See the caveats in the documentation: https://pandas.pydata.org/pandas-docs/stable/user_guide/indexing.html#returning-a-view-versus-a-copy\n",
      "  shp_df.unique_file_name.iloc[i] = pg_file_name\n"
     ]
    },
    {
     "name": "stdout",
     "output_type": "stream",
     "text": [
      "Executing 39225st file\n",
      "Crop Classification/Ground Data/Krishna Dist/Track/Route_Krishna_Dist_Oct2019.shp\n"
     ]
    },
    {
     "name": "stderr",
     "output_type": "stream",
     "text": [
      "C:\\Users\\user\\AppData\\Local\\Temp\\ipykernel_17068\\1832265514.py:168: SettingWithCopyWarning: \n",
      "A value is trying to be set on a copy of a slice from a DataFrame\n",
      "\n",
      "See the caveats in the documentation: https://pandas.pydata.org/pandas-docs/stable/user_guide/indexing.html#returning-a-view-versus-a-copy\n",
      "  shp_df.unique_file_name.iloc[i] = pg_file_name\n"
     ]
    },
    {
     "name": "stdout",
     "output_type": "stream",
     "text": [
      "Identifier 'idx_Route_Krishna_Dist_Oct2019_fbefc88f_21-06-2023 21:37:24_geometry' exceeds maximum length of 63 characters \\\\192.168.1.152\\ncfc_data3\\PMFBY analysis\\Pilot Study\\ICRISAT\\ICRISAT_GP level Yield\\Crop Classification-20191231T101333Z-001.zip\\Crop Classification/Ground Data/Krishna Dist/Track/Route_Krishna_Dist_Oct2019.shp\n",
      "Executing 39226st file\n",
      "Crop Classification/Ground Data/Mahbubnagar_Kurnool_Anantapur/ShapeFiles/Training.shp\n",
      "Executing 39227st file\n"
     ]
    },
    {
     "name": "stderr",
     "output_type": "stream",
     "text": [
      "C:\\Users\\user\\AppData\\Local\\Temp\\ipykernel_17068\\1832265514.py:168: SettingWithCopyWarning: \n",
      "A value is trying to be set on a copy of a slice from a DataFrame\n",
      "\n",
      "See the caveats in the documentation: https://pandas.pydata.org/pandas-docs/stable/user_guide/indexing.html#returning-a-view-versus-a-copy\n",
      "  shp_df.unique_file_name.iloc[i] = pg_file_name\n",
      "C:\\Users\\user\\AppData\\Local\\Temp\\ipykernel_17068\\1832265514.py:168: SettingWithCopyWarning: \n",
      "A value is trying to be set on a copy of a slice from a DataFrame\n",
      "\n",
      "See the caveats in the documentation: https://pandas.pydata.org/pandas-docs/stable/user_guide/indexing.html#returning-a-view-versus-a-copy\n",
      "  shp_df.unique_file_name.iloc[i] = pg_file_name\n"
     ]
    },
    {
     "name": "stdout",
     "output_type": "stream",
     "text": [
      "Crop Classification/Selected_Mandals/Mahabubnagar/Grid/mahabubnagar_1km_grid.shp\n",
      "Executing 39228st file\n",
      "Crop Classification/Ground Data/Mahabubnagar/mahabubnagar_validation.shp\n",
      "Identifier 'idx_mahabubnagar_validation_1d6ef418_21-06-2023 21:37:33_geometry' exceeds maximum length of 63 characters \\\\192.168.1.152\\ncfc_data3\\PMFBY analysis\\Pilot Study\\ICRISAT\\ICRISAT_GP level Yield\\Crop Classification-20191231T101333Z-001.zip\\Crop Classification/Ground Data/Mahabubnagar/mahabubnagar_validation.shp\n",
      "Executing 39229st file\n",
      "Crop Classification/Ground Data/Krishna Dist/ShapeFiles/training.shp\n"
     ]
    },
    {
     "name": "stderr",
     "output_type": "stream",
     "text": [
      "C:\\Users\\user\\AppData\\Local\\Temp\\ipykernel_17068\\1832265514.py:168: SettingWithCopyWarning: \n",
      "A value is trying to be set on a copy of a slice from a DataFrame\n",
      "\n",
      "See the caveats in the documentation: https://pandas.pydata.org/pandas-docs/stable/user_guide/indexing.html#returning-a-view-versus-a-copy\n",
      "  shp_df.unique_file_name.iloc[i] = pg_file_name\n",
      "C:\\Users\\user\\AppData\\Local\\Temp\\ipykernel_17068\\1832265514.py:168: SettingWithCopyWarning: \n",
      "A value is trying to be set on a copy of a slice from a DataFrame\n",
      "\n",
      "See the caveats in the documentation: https://pandas.pydata.org/pandas-docs/stable/user_guide/indexing.html#returning-a-view-versus-a-copy\n",
      "  shp_df.unique_file_name.iloc[i] = pg_file_name\n"
     ]
    },
    {
     "name": "stdout",
     "output_type": "stream",
     "text": [
      "Executing 39230st file\n",
      "Crop Classification/Selected_Mandals/Ananthapur/Anantapur.shp\n"
     ]
    },
    {
     "name": "stderr",
     "output_type": "stream",
     "text": [
      "C:\\Users\\user\\AppData\\Local\\Temp\\ipykernel_17068\\1832265514.py:168: SettingWithCopyWarning: \n",
      "A value is trying to be set on a copy of a slice from a DataFrame\n",
      "\n",
      "See the caveats in the documentation: https://pandas.pydata.org/pandas-docs/stable/user_guide/indexing.html#returning-a-view-versus-a-copy\n",
      "  shp_df.unique_file_name.iloc[i] = pg_file_name\n"
     ]
    },
    {
     "name": "stdout",
     "output_type": "stream",
     "text": [
      "Executing 39231st file\n",
      "Crop Classification/Ground Data/Mahbubnagar_Kurnool_Anantapur/Track/mbnr.shp\n",
      "Executing 39232st file\n",
      "Crop Classification/Classification/Grid/Puri_grid/puri_1km_grid.shp\n"
     ]
    },
    {
     "name": "stderr",
     "output_type": "stream",
     "text": [
      "C:\\Users\\user\\AppData\\Local\\Temp\\ipykernel_17068\\1832265514.py:168: SettingWithCopyWarning: \n",
      "A value is trying to be set on a copy of a slice from a DataFrame\n",
      "\n",
      "See the caveats in the documentation: https://pandas.pydata.org/pandas-docs/stable/user_guide/indexing.html#returning-a-view-versus-a-copy\n",
      "  shp_df.unique_file_name.iloc[i] = pg_file_name\n",
      "C:\\Users\\user\\AppData\\Local\\Temp\\ipykernel_17068\\1832265514.py:168: SettingWithCopyWarning: \n",
      "A value is trying to be set on a copy of a slice from a DataFrame\n",
      "\n",
      "See the caveats in the documentation: https://pandas.pydata.org/pandas-docs/stable/user_guide/indexing.html#returning-a-view-versus-a-copy\n",
      "  shp_df.unique_file_name.iloc[i] = pg_file_name\n"
     ]
    },
    {
     "name": "stdout",
     "output_type": "stream",
     "text": [
      "Executing 39233st file\n",
      "Crop Classification/Ground Data/Mahbubnagar_Kurnool_Anantapur/Track/knrl.shp\n"
     ]
    },
    {
     "name": "stderr",
     "output_type": "stream",
     "text": [
      "C:\\Users\\user\\AppData\\Local\\Temp\\ipykernel_17068\\1832265514.py:168: SettingWithCopyWarning: \n",
      "A value is trying to be set on a copy of a slice from a DataFrame\n",
      "\n",
      "See the caveats in the documentation: https://pandas.pydata.org/pandas-docs/stable/user_guide/indexing.html#returning-a-view-versus-a-copy\n",
      "  shp_df.unique_file_name.iloc[i] = pg_file_name\n"
     ]
    },
    {
     "name": "stdout",
     "output_type": "stream",
     "text": [
      "Executing 39234st file\n",
      "Crop Classification/Selected_Mandals/Krishna/Grid/krishna_1km_grid.shp\n"
     ]
    },
    {
     "name": "stderr",
     "output_type": "stream",
     "text": [
      "C:\\Users\\user\\AppData\\Local\\Temp\\ipykernel_17068\\1832265514.py:168: SettingWithCopyWarning: \n",
      "A value is trying to be set on a copy of a slice from a DataFrame\n",
      "\n",
      "See the caveats in the documentation: https://pandas.pydata.org/pandas-docs/stable/user_guide/indexing.html#returning-a-view-versus-a-copy\n",
      "  shp_df.unique_file_name.iloc[i] = pg_file_name\n"
     ]
    },
    {
     "name": "stdout",
     "output_type": "stream",
     "text": [
      "Executing 39235st file\n",
      "Crop Classification/Ground Data/Kurnool/kurnool_training.shp\n",
      "Executing 39236st file\n",
      "Crop Classification/Classification/Grid/Krishna_grid/krishna_1km_grid.shp\n"
     ]
    },
    {
     "name": "stderr",
     "output_type": "stream",
     "text": [
      "C:\\Users\\user\\AppData\\Local\\Temp\\ipykernel_17068\\1832265514.py:168: SettingWithCopyWarning: \n",
      "A value is trying to be set on a copy of a slice from a DataFrame\n",
      "\n",
      "See the caveats in the documentation: https://pandas.pydata.org/pandas-docs/stable/user_guide/indexing.html#returning-a-view-versus-a-copy\n",
      "  shp_df.unique_file_name.iloc[i] = pg_file_name\n",
      "C:\\Users\\user\\AppData\\Local\\Temp\\ipykernel_17068\\1832265514.py:168: SettingWithCopyWarning: \n",
      "A value is trying to be set on a copy of a slice from a DataFrame\n",
      "\n",
      "See the caveats in the documentation: https://pandas.pydata.org/pandas-docs/stable/user_guide/indexing.html#returning-a-view-versus-a-copy\n",
      "  shp_df.unique_file_name.iloc[i] = pg_file_name\n"
     ]
    },
    {
     "name": "stdout",
     "output_type": "stream",
     "text": [
      "Executing 39237st file\n",
      "Yield Estimation/shapefiles_CCE/Krishna/krishna.shp\n"
     ]
    },
    {
     "name": "stderr",
     "output_type": "stream",
     "text": [
      "C:\\Users\\user\\AppData\\Local\\Temp\\ipykernel_17068\\1832265514.py:168: SettingWithCopyWarning: \n",
      "A value is trying to be set on a copy of a slice from a DataFrame\n",
      "\n",
      "See the caveats in the documentation: https://pandas.pydata.org/pandas-docs/stable/user_guide/indexing.html#returning-a-view-versus-a-copy\n",
      "  shp_df.unique_file_name.iloc[i] = pg_file_name\n"
     ]
    },
    {
     "name": "stdout",
     "output_type": "stream",
     "text": [
      "Executing 39238st file\n",
      "Yield Estimation/S_Mandals_CCE/Kurnool/kurnool.shp\n",
      "Executing 39239st file\n",
      "Yield Estimation/S_Mandals_CCE/Mahabubnagar/mahabubnagar.shp\n"
     ]
    },
    {
     "name": "stderr",
     "output_type": "stream",
     "text": [
      "C:\\Users\\user\\AppData\\Local\\Temp\\ipykernel_17068\\1832265514.py:168: SettingWithCopyWarning: \n",
      "A value is trying to be set on a copy of a slice from a DataFrame\n",
      "\n",
      "See the caveats in the documentation: https://pandas.pydata.org/pandas-docs/stable/user_guide/indexing.html#returning-a-view-versus-a-copy\n",
      "  shp_df.unique_file_name.iloc[i] = pg_file_name\n",
      "C:\\Users\\user\\AppData\\Local\\Temp\\ipykernel_17068\\1832265514.py:168: SettingWithCopyWarning: \n",
      "A value is trying to be set on a copy of a slice from a DataFrame\n",
      "\n",
      "See the caveats in the documentation: https://pandas.pydata.org/pandas-docs/stable/user_guide/indexing.html#returning-a-view-versus-a-copy\n",
      "  shp_df.unique_file_name.iloc[i] = pg_file_name\n"
     ]
    },
    {
     "name": "stdout",
     "output_type": "stream",
     "text": [
      "Executing 39240st file\n",
      "Yield Estimation/S_Mandals_CCE/Puri/Puri.shp\n",
      "Executing 39241st file\n",
      "Yield Estimation/shapefiles_CCE/Mahabubnagar/shapefiles/Mahabubnagar.shp\n"
     ]
    },
    {
     "name": "stderr",
     "output_type": "stream",
     "text": [
      "C:\\Users\\user\\AppData\\Local\\Temp\\ipykernel_17068\\1832265514.py:168: SettingWithCopyWarning: \n",
      "A value is trying to be set on a copy of a slice from a DataFrame\n",
      "\n",
      "See the caveats in the documentation: https://pandas.pydata.org/pandas-docs/stable/user_guide/indexing.html#returning-a-view-versus-a-copy\n",
      "  shp_df.unique_file_name.iloc[i] = pg_file_name\n",
      "C:\\Users\\user\\AppData\\Local\\Temp\\ipykernel_17068\\1832265514.py:168: SettingWithCopyWarning: \n",
      "A value is trying to be set on a copy of a slice from a DataFrame\n",
      "\n",
      "See the caveats in the documentation: https://pandas.pydata.org/pandas-docs/stable/user_guide/indexing.html#returning-a-view-versus-a-copy\n",
      "  shp_df.unique_file_name.iloc[i] = pg_file_name\n"
     ]
    },
    {
     "name": "stdout",
     "output_type": "stream",
     "text": [
      "Executing 39242st file\n",
      "Yield Estimation/S_Mandals_CCE/Krishna/krishna.shp\n",
      "Executing 39243st file\n",
      "Yield Estimation/S_Mandals_CCE/Ananthapur/Anantapur.shp\n"
     ]
    },
    {
     "name": "stderr",
     "output_type": "stream",
     "text": [
      "C:\\Users\\user\\AppData\\Local\\Temp\\ipykernel_17068\\1832265514.py:168: SettingWithCopyWarning: \n",
      "A value is trying to be set on a copy of a slice from a DataFrame\n",
      "\n",
      "See the caveats in the documentation: https://pandas.pydata.org/pandas-docs/stable/user_guide/indexing.html#returning-a-view-versus-a-copy\n",
      "  shp_df.unique_file_name.iloc[i] = pg_file_name\n",
      "C:\\Users\\user\\AppData\\Local\\Temp\\ipykernel_17068\\1832265514.py:168: SettingWithCopyWarning: \n",
      "A value is trying to be set on a copy of a slice from a DataFrame\n",
      "\n",
      "See the caveats in the documentation: https://pandas.pydata.org/pandas-docs/stable/user_guide/indexing.html#returning-a-view-versus-a-copy\n",
      "  shp_df.unique_file_name.iloc[i] = pg_file_name\n"
     ]
    },
    {
     "name": "stdout",
     "output_type": "stream",
     "text": [
      "Executing 39280st file\n",
      "Dataset_poly.shp\n",
      "Executing 39291st file\n",
      "Gujrat_mustard_new.shp\n"
     ]
    },
    {
     "name": "stderr",
     "output_type": "stream",
     "text": [
      "C:\\Users\\user\\AppData\\Local\\Temp\\ipykernel_17068\\1832265514.py:168: SettingWithCopyWarning: \n",
      "A value is trying to be set on a copy of a slice from a DataFrame\n",
      "\n",
      "See the caveats in the documentation: https://pandas.pydata.org/pandas-docs/stable/user_guide/indexing.html#returning-a-view-versus-a-copy\n",
      "  shp_df.unique_file_name.iloc[i] = pg_file_name\n",
      "C:\\Users\\user\\AppData\\Local\\Temp\\ipykernel_17068\\1832265514.py:168: SettingWithCopyWarning: \n",
      "A value is trying to be set on a copy of a slice from a DataFrame\n",
      "\n",
      "See the caveats in the documentation: https://pandas.pydata.org/pandas-docs/stable/user_guide/indexing.html#returning-a-view-versus-a-copy\n",
      "  shp_df.unique_file_name.iloc[i] = pg_file_name\n"
     ]
    },
    {
     "name": "stdout",
     "output_type": "stream",
     "text": [
      "Executing 39292st file\n",
      "MP_mustard.shp\n"
     ]
    },
    {
     "name": "stderr",
     "output_type": "stream",
     "text": [
      "C:\\Users\\user\\AppData\\Local\\Temp\\ipykernel_17068\\1832265514.py:168: SettingWithCopyWarning: \n",
      "A value is trying to be set on a copy of a slice from a DataFrame\n",
      "\n",
      "See the caveats in the documentation: https://pandas.pydata.org/pandas-docs/stable/user_guide/indexing.html#returning-a-view-versus-a-copy\n",
      "  shp_df.unique_file_name.iloc[i] = pg_file_name\n"
     ]
    },
    {
     "name": "stdout",
     "output_type": "stream",
     "text": [
      "Executing 39319st file\n",
      "Tamil_Nadu_rice.shp\n"
     ]
    },
    {
     "name": "stderr",
     "output_type": "stream",
     "text": [
      "C:\\Users\\user\\AppData\\Local\\Temp\\ipykernel_17068\\1832265514.py:168: SettingWithCopyWarning: \n",
      "A value is trying to be set on a copy of a slice from a DataFrame\n",
      "\n",
      "See the caveats in the documentation: https://pandas.pydata.org/pandas-docs/stable/user_guide/indexing.html#returning-a-view-versus-a-copy\n",
      "  shp_df.unique_file_name.iloc[i] = pg_file_name\n"
     ]
    },
    {
     "name": "stdout",
     "output_type": "stream",
     "text": [
      "Executing 39320st file\n",
      "Ahmadnagar_CCE_sorghum.shp\n"
     ]
    },
    {
     "name": "stderr",
     "output_type": "stream",
     "text": [
      "C:\\Users\\user\\AppData\\Local\\Temp\\ipykernel_17068\\1832265514.py:168: SettingWithCopyWarning: \n",
      "A value is trying to be set on a copy of a slice from a DataFrame\n",
      "\n",
      "See the caveats in the documentation: https://pandas.pydata.org/pandas-docs/stable/user_guide/indexing.html#returning-a-view-versus-a-copy\n",
      "  shp_df.unique_file_name.iloc[i] = pg_file_name\n"
     ]
    },
    {
     "name": "stdout",
     "output_type": "stream",
     "text": [
      "Identifier 'idx_Ahmadnagar_CCE_sorghum_f7e9e9d2_21-06-2023 21:38:30_geometry' exceeds maximum length of 63 characters \\\\192.168.1.152\\ncfc_data3\\Smart_Sampling_Technique_Relatedfiles\\2019-20\\R_sorghum\\3district_SST_CCE_sorghum.zip\\Ahmadnagar_CCE_sorghum.shp\n",
      "Executing 39321st file\n",
      "Beed_sorghum.shp\n"
     ]
    },
    {
     "name": "stderr",
     "output_type": "stream",
     "text": [
      "C:\\Users\\user\\AppData\\Local\\Temp\\ipykernel_17068\\1832265514.py:168: SettingWithCopyWarning: \n",
      "A value is trying to be set on a copy of a slice from a DataFrame\n",
      "\n",
      "See the caveats in the documentation: https://pandas.pydata.org/pandas-docs/stable/user_guide/indexing.html#returning-a-view-versus-a-copy\n",
      "  shp_df.unique_file_name.iloc[i] = pg_file_name\n"
     ]
    },
    {
     "name": "stdout",
     "output_type": "stream",
     "text": [
      "Executing 39322st file\n",
      "Solapur_CCE_sorghum.shp\n"
     ]
    },
    {
     "name": "stderr",
     "output_type": "stream",
     "text": [
      "C:\\Users\\user\\AppData\\Local\\Temp\\ipykernel_17068\\1832265514.py:168: SettingWithCopyWarning: \n",
      "A value is trying to be set on a copy of a slice from a DataFrame\n",
      "\n",
      "See the caveats in the documentation: https://pandas.pydata.org/pandas-docs/stable/user_guide/indexing.html#returning-a-view-versus-a-copy\n",
      "  shp_df.unique_file_name.iloc[i] = pg_file_name\n"
     ]
    },
    {
     "name": "stdout",
     "output_type": "stream",
     "text": [
      "Executing 39323st file\n",
      "Karnataka_GP.shp\n"
     ]
    },
    {
     "name": "stderr",
     "output_type": "stream",
     "text": [
      "C:\\Users\\user\\AppData\\Local\\Temp\\ipykernel_17068\\1832265514.py:168: SettingWithCopyWarning: \n",
      "A value is trying to be set on a copy of a slice from a DataFrame\n",
      "\n",
      "See the caveats in the documentation: https://pandas.pydata.org/pandas-docs/stable/user_guide/indexing.html#returning-a-view-versus-a-copy\n",
      "  shp_df.unique_file_name.iloc[i] = pg_file_name\n"
     ]
    },
    {
     "name": "stdout",
     "output_type": "stream",
     "text": [
      "Executing 39324st file\n",
      "Karnataka_Hobli.shp\n"
     ]
    },
    {
     "name": "stderr",
     "output_type": "stream",
     "text": [
      "C:\\Users\\user\\AppData\\Local\\Temp\\ipykernel_17068\\1832265514.py:168: SettingWithCopyWarning: \n",
      "A value is trying to be set on a copy of a slice from a DataFrame\n",
      "\n",
      "See the caveats in the documentation: https://pandas.pydata.org/pandas-docs/stable/user_guide/indexing.html#returning-a-view-versus-a-copy\n",
      "  shp_df.unique_file_name.iloc[i] = pg_file_name\n"
     ]
    },
    {
     "name": "stdout",
     "output_type": "stream",
     "text": [
      "Executing 39325st file\n",
      "Gujrat_mustard_new.shp\n"
     ]
    },
    {
     "name": "stderr",
     "output_type": "stream",
     "text": [
      "C:\\Users\\user\\AppData\\Local\\Temp\\ipykernel_17068\\1832265514.py:168: SettingWithCopyWarning: \n",
      "A value is trying to be set on a copy of a slice from a DataFrame\n",
      "\n",
      "See the caveats in the documentation: https://pandas.pydata.org/pandas-docs/stable/user_guide/indexing.html#returning-a-view-versus-a-copy\n",
      "  shp_df.unique_file_name.iloc[i] = pg_file_name\n"
     ]
    },
    {
     "name": "stdout",
     "output_type": "stream",
     "text": [
      "Executing 39326st file\n",
      "MP_mustard.shp\n"
     ]
    },
    {
     "name": "stderr",
     "output_type": "stream",
     "text": [
      "C:\\Users\\user\\AppData\\Local\\Temp\\ipykernel_17068\\1832265514.py:168: SettingWithCopyWarning: \n",
      "A value is trying to be set on a copy of a slice from a DataFrame\n",
      "\n",
      "See the caveats in the documentation: https://pandas.pydata.org/pandas-docs/stable/user_guide/indexing.html#returning-a-view-versus-a-copy\n",
      "  shp_df.unique_file_name.iloc[i] = pg_file_name\n"
     ]
    },
    {
     "name": "stdout",
     "output_type": "stream",
     "text": [
      "Executing 39329st file\n",
      "Rajasthan_mustard.shp\n"
     ]
    },
    {
     "name": "stderr",
     "output_type": "stream",
     "text": [
      "C:\\Users\\user\\AppData\\Local\\Temp\\ipykernel_17068\\1832265514.py:168: SettingWithCopyWarning: \n",
      "A value is trying to be set on a copy of a slice from a DataFrame\n",
      "\n",
      "See the caveats in the documentation: https://pandas.pydata.org/pandas-docs/stable/user_guide/indexing.html#returning-a-view-versus-a-copy\n",
      "  shp_df.unique_file_name.iloc[i] = pg_file_name\n"
     ]
    },
    {
     "name": "stdout",
     "output_type": "stream",
     "text": [
      "Executing 39330st file\n",
      "Tamil_Nadu_rice.shp\n"
     ]
    },
    {
     "name": "stderr",
     "output_type": "stream",
     "text": [
      "C:\\Users\\user\\AppData\\Local\\Temp\\ipykernel_17068\\1832265514.py:168: SettingWithCopyWarning: \n",
      "A value is trying to be set on a copy of a slice from a DataFrame\n",
      "\n",
      "See the caveats in the documentation: https://pandas.pydata.org/pandas-docs/stable/user_guide/indexing.html#returning-a-view-versus-a-copy\n",
      "  shp_df.unique_file_name.iloc[i] = pg_file_name\n"
     ]
    },
    {
     "name": "stdout",
     "output_type": "stream",
     "text": [
      "Executing 39337st file\n",
      "Karnataka_GP.shp\n"
     ]
    },
    {
     "name": "stderr",
     "output_type": "stream",
     "text": [
      "C:\\Users\\user\\AppData\\Local\\Temp\\ipykernel_17068\\1832265514.py:168: SettingWithCopyWarning: \n",
      "A value is trying to be set on a copy of a slice from a DataFrame\n",
      "\n",
      "See the caveats in the documentation: https://pandas.pydata.org/pandas-docs/stable/user_guide/indexing.html#returning-a-view-versus-a-copy\n",
      "  shp_df.unique_file_name.iloc[i] = pg_file_name\n"
     ]
    },
    {
     "name": "stdout",
     "output_type": "stream",
     "text": [
      "Executing 39338st file\n",
      "Karnataka_Hobli.shp\n"
     ]
    },
    {
     "name": "stderr",
     "output_type": "stream",
     "text": [
      "C:\\Users\\user\\AppData\\Local\\Temp\\ipykernel_17068\\1832265514.py:168: SettingWithCopyWarning: \n",
      "A value is trying to be set on a copy of a slice from a DataFrame\n",
      "\n",
      "See the caveats in the documentation: https://pandas.pydata.org/pandas-docs/stable/user_guide/indexing.html#returning-a-view-versus-a-copy\n",
      "  shp_df.unique_file_name.iloc[i] = pg_file_name\n"
     ]
    },
    {
     "name": "stdout",
     "output_type": "stream",
     "text": [
      "Executing 39339st file\n",
      "Ahmadnagar_CCE_sorghum.shp\n"
     ]
    },
    {
     "name": "stderr",
     "output_type": "stream",
     "text": [
      "C:\\Users\\user\\AppData\\Local\\Temp\\ipykernel_17068\\1832265514.py:168: SettingWithCopyWarning: \n",
      "A value is trying to be set on a copy of a slice from a DataFrame\n",
      "\n",
      "See the caveats in the documentation: https://pandas.pydata.org/pandas-docs/stable/user_guide/indexing.html#returning-a-view-versus-a-copy\n",
      "  shp_df.unique_file_name.iloc[i] = pg_file_name\n"
     ]
    },
    {
     "name": "stdout",
     "output_type": "stream",
     "text": [
      "Identifier 'idx_Ahmadnagar_CCE_sorghum_bde32447_21-06-2023 21:39:05_geometry' exceeds maximum length of 63 characters \\\\192.168.1.152\\ncfc_data3\\Smart_Sampling_Technique_Relatedfiles\\2019-20\\SST_RABI_Final_data\\Rabi_sorghum\\MH\\3district_SST_CCE_sorghum.zip\\Ahmadnagar_CCE_sorghum.shp\n",
      "Executing 39340st file\n",
      "Beed_sorghum.shp\n"
     ]
    },
    {
     "name": "stderr",
     "output_type": "stream",
     "text": [
      "C:\\Users\\user\\AppData\\Local\\Temp\\ipykernel_17068\\1832265514.py:168: SettingWithCopyWarning: \n",
      "A value is trying to be set on a copy of a slice from a DataFrame\n",
      "\n",
      "See the caveats in the documentation: https://pandas.pydata.org/pandas-docs/stable/user_guide/indexing.html#returning-a-view-versus-a-copy\n",
      "  shp_df.unique_file_name.iloc[i] = pg_file_name\n"
     ]
    },
    {
     "name": "stdout",
     "output_type": "stream",
     "text": [
      "Executing 39341st file\n",
      "Solapur_CCE_sorghum.shp\n"
     ]
    },
    {
     "name": "stderr",
     "output_type": "stream",
     "text": [
      "C:\\Users\\user\\AppData\\Local\\Temp\\ipykernel_17068\\1832265514.py:168: SettingWithCopyWarning: \n",
      "A value is trying to be set on a copy of a slice from a DataFrame\n",
      "\n",
      "See the caveats in the documentation: https://pandas.pydata.org/pandas-docs/stable/user_guide/indexing.html#returning-a-view-versus-a-copy\n",
      "  shp_df.unique_file_name.iloc[i] = pg_file_name\n"
     ]
    },
    {
     "name": "stdout",
     "output_type": "stream",
     "text": [
      "Executing 39342st file\n",
      "OSMANABAD_SNAGLI_RC_POINTS/Osmanabad_CCE_SST.shp\n"
     ]
    },
    {
     "name": "stderr",
     "output_type": "stream",
     "text": [
      "C:\\Users\\user\\AppData\\Local\\Temp\\ipykernel_17068\\1832265514.py:168: SettingWithCopyWarning: \n",
      "A value is trying to be set on a copy of a slice from a DataFrame\n",
      "\n",
      "See the caveats in the documentation: https://pandas.pydata.org/pandas-docs/stable/user_guide/indexing.html#returning-a-view-versus-a-copy\n",
      "  shp_df.unique_file_name.iloc[i] = pg_file_name\n"
     ]
    },
    {
     "name": "stdout",
     "output_type": "stream",
     "text": [
      "Executing 39343st file\n",
      "OSMANABAD_SNAGLI_RC_POINTS/Sangli_CCE_SST.shp\n"
     ]
    },
    {
     "name": "stderr",
     "output_type": "stream",
     "text": [
      "C:\\Users\\user\\AppData\\Local\\Temp\\ipykernel_17068\\1832265514.py:168: SettingWithCopyWarning: \n",
      "A value is trying to be set on a copy of a slice from a DataFrame\n",
      "\n",
      "See the caveats in the documentation: https://pandas.pydata.org/pandas-docs/stable/user_guide/indexing.html#returning-a-view-versus-a-copy\n",
      "  shp_df.unique_file_name.iloc[i] = pg_file_name\n"
     ]
    },
    {
     "name": "stdout",
     "output_type": "stream",
     "text": [
      "Executing 39347st file\n",
      "CCE_SST_3District_Wheat.shp\n"
     ]
    },
    {
     "name": "stderr",
     "output_type": "stream",
     "text": [
      "C:\\Users\\user\\AppData\\Local\\Temp\\ipykernel_17068\\1832265514.py:168: SettingWithCopyWarning: \n",
      "A value is trying to be set on a copy of a slice from a DataFrame\n",
      "\n",
      "See the caveats in the documentation: https://pandas.pydata.org/pandas-docs/stable/user_guide/indexing.html#returning-a-view-versus-a-copy\n",
      "  shp_df.unique_file_name.iloc[i] = pg_file_name\n"
     ]
    },
    {
     "name": "stdout",
     "output_type": "stream",
     "text": [
      "Identifier 'idx_CCE_SST_3District_Wheat_08a12ab7_21-06-2023 21:39:14_geometry' exceeds maximum length of 63 characters \\\\192.168.1.152\\ncfc_data3\\Smart_Sampling_Technique_Relatedfiles\\2019-20\\SST_RABI_Final_data\\Wheat\\GJ\\CCE_SST_3District_Wheat.zip\\CCE_SST_3District_Wheat.shp\n",
      "Executing 39349st file\n",
      "Hoshangabad.shp\n"
     ]
    },
    {
     "name": "stderr",
     "output_type": "stream",
     "text": [
      "C:\\Users\\user\\AppData\\Local\\Temp\\ipykernel_17068\\1832265514.py:168: SettingWithCopyWarning: \n",
      "A value is trying to be set on a copy of a slice from a DataFrame\n",
      "\n",
      "See the caveats in the documentation: https://pandas.pydata.org/pandas-docs/stable/user_guide/indexing.html#returning-a-view-versus-a-copy\n",
      "  shp_df.unique_file_name.iloc[i] = pg_file_name\n"
     ]
    },
    {
     "name": "stdout",
     "output_type": "stream",
     "text": [
      "Executing 39350st file\n",
      "Raisen.shp\n"
     ]
    },
    {
     "name": "stderr",
     "output_type": "stream",
     "text": [
      "C:\\Users\\user\\AppData\\Local\\Temp\\ipykernel_17068\\1832265514.py:168: SettingWithCopyWarning: \n",
      "A value is trying to be set on a copy of a slice from a DataFrame\n",
      "\n",
      "See the caveats in the documentation: https://pandas.pydata.org/pandas-docs/stable/user_guide/indexing.html#returning-a-view-versus-a-copy\n",
      "  shp_df.unique_file_name.iloc[i] = pg_file_name\n"
     ]
    },
    {
     "name": "stdout",
     "output_type": "stream",
     "text": [
      "Executing 39352st file\n",
      "chittaurgarh_CCE_join_tehsil.shp\n"
     ]
    },
    {
     "name": "stderr",
     "output_type": "stream",
     "text": [
      "C:\\Users\\user\\AppData\\Local\\Temp\\ipykernel_17068\\1832265514.py:168: SettingWithCopyWarning: \n",
      "A value is trying to be set on a copy of a slice from a DataFrame\n",
      "\n",
      "See the caveats in the documentation: https://pandas.pydata.org/pandas-docs/stable/user_guide/indexing.html#returning-a-view-versus-a-copy\n",
      "  shp_df.unique_file_name.iloc[i] = pg_file_name\n"
     ]
    },
    {
     "name": "stdout",
     "output_type": "stream",
     "text": [
      "Identifier 'idx_chittaurgarh_CCE_join_tehsil_35107cff_21-06-2023 21:39:18_geometry' exceeds maximum length of 63 characters \\\\192.168.1.152\\ncfc_data3\\Smart_Sampling_Technique_Relatedfiles\\2019-20\\SST_RABI_Final_data\\Wheat\\RJ\\chittaurgarh_CCE_join_tehsil.zip\\chittaurgarh_CCE_join_tehsil.shp\n",
      "Executing 39354st file\n",
      "Ganganagar_CCE_SST.shp\n"
     ]
    },
    {
     "name": "stderr",
     "output_type": "stream",
     "text": [
      "C:\\Users\\user\\AppData\\Local\\Temp\\ipykernel_17068\\1832265514.py:168: SettingWithCopyWarning: \n",
      "A value is trying to be set on a copy of a slice from a DataFrame\n",
      "\n",
      "See the caveats in the documentation: https://pandas.pydata.org/pandas-docs/stable/user_guide/indexing.html#returning-a-view-versus-a-copy\n",
      "  shp_df.unique_file_name.iloc[i] = pg_file_name\n"
     ]
    },
    {
     "name": "stdout",
     "output_type": "stream",
     "text": [
      "Executing 39356st file\n",
      "Hanumangarh_CCE_SST.shp\n"
     ]
    },
    {
     "name": "stderr",
     "output_type": "stream",
     "text": [
      "C:\\Users\\user\\AppData\\Local\\Temp\\ipykernel_17068\\1832265514.py:168: SettingWithCopyWarning: \n",
      "A value is trying to be set on a copy of a slice from a DataFrame\n",
      "\n",
      "See the caveats in the documentation: https://pandas.pydata.org/pandas-docs/stable/user_guide/indexing.html#returning-a-view-versus-a-copy\n",
      "  shp_df.unique_file_name.iloc[i] = pg_file_name\n"
     ]
    },
    {
     "name": "stdout",
     "output_type": "stream",
     "text": [
      "Executing 39357st file\n",
      "jhalawar_cce_tehsil_join.shp\n"
     ]
    },
    {
     "name": "stderr",
     "output_type": "stream",
     "text": [
      "C:\\Users\\user\\AppData\\Local\\Temp\\ipykernel_17068\\1832265514.py:168: SettingWithCopyWarning: \n",
      "A value is trying to be set on a copy of a slice from a DataFrame\n",
      "\n",
      "See the caveats in the documentation: https://pandas.pydata.org/pandas-docs/stable/user_guide/indexing.html#returning-a-view-versus-a-copy\n",
      "  shp_df.unique_file_name.iloc[i] = pg_file_name\n"
     ]
    },
    {
     "name": "stdout",
     "output_type": "stream",
     "text": [
      "Identifier 'idx_jhalawar_cce_tehsil_join_6b8651b3_21-06-2023 21:39:24_geometry' exceeds maximum length of 63 characters \\\\192.168.1.152\\ncfc_data3\\Smart_Sampling_Technique_Relatedfiles\\2019-20\\SST_RABI_Final_data\\Wheat\\RJ\\jhalawar cce tehsil join.zip\\jhalawar_cce_tehsil_join.shp\n",
      "Executing 39360st file\n",
      "Hardoi_CCE.shp\n"
     ]
    },
    {
     "name": "stderr",
     "output_type": "stream",
     "text": [
      "C:\\Users\\user\\AppData\\Local\\Temp\\ipykernel_17068\\1832265514.py:168: SettingWithCopyWarning: \n",
      "A value is trying to be set on a copy of a slice from a DataFrame\n",
      "\n",
      "See the caveats in the documentation: https://pandas.pydata.org/pandas-docs/stable/user_guide/indexing.html#returning-a-view-versus-a-copy\n",
      "  shp_df.unique_file_name.iloc[i] = pg_file_name\n"
     ]
    },
    {
     "name": "stdout",
     "output_type": "stream",
     "text": [
      "Executing 39365st file\n",
      "CCE Points UP/Agra_mustard.shp\n"
     ]
    },
    {
     "name": "stderr",
     "output_type": "stream",
     "text": [
      "C:\\Users\\user\\AppData\\Local\\Temp\\ipykernel_17068\\1832265514.py:168: SettingWithCopyWarning: \n",
      "A value is trying to be set on a copy of a slice from a DataFrame\n",
      "\n",
      "See the caveats in the documentation: https://pandas.pydata.org/pandas-docs/stable/user_guide/indexing.html#returning-a-view-versus-a-copy\n",
      "  shp_df.unique_file_name.iloc[i] = pg_file_name\n"
     ]
    },
    {
     "name": "stdout",
     "output_type": "stream",
     "text": [
      "Executing 39366st file\n",
      "CCE Points UP/Mathura_mustard.shp\n"
     ]
    },
    {
     "name": "stderr",
     "output_type": "stream",
     "text": [
      "C:\\Users\\user\\AppData\\Local\\Temp\\ipykernel_17068\\1832265514.py:168: SettingWithCopyWarning: \n",
      "A value is trying to be set on a copy of a slice from a DataFrame\n",
      "\n",
      "See the caveats in the documentation: https://pandas.pydata.org/pandas-docs/stable/user_guide/indexing.html#returning-a-view-versus-a-copy\n",
      "  shp_df.unique_file_name.iloc[i] = pg_file_name\n"
     ]
    },
    {
     "name": "stdout",
     "output_type": "stream",
     "text": [
      "Executing 39367st file\n",
      "CCE Points UP/Sitapur_mustard.shp\n"
     ]
    },
    {
     "name": "stderr",
     "output_type": "stream",
     "text": [
      "C:\\Users\\user\\AppData\\Local\\Temp\\ipykernel_17068\\1832265514.py:168: SettingWithCopyWarning: \n",
      "A value is trying to be set on a copy of a slice from a DataFrame\n",
      "\n",
      "See the caveats in the documentation: https://pandas.pydata.org/pandas-docs/stable/user_guide/indexing.html#returning-a-view-versus-a-copy\n",
      "  shp_df.unique_file_name.iloc[i] = pg_file_name\n"
     ]
    },
    {
     "name": "stdout",
     "output_type": "stream",
     "text": [
      "Executing 47807st file\n",
      "Hardoi_CCE.shp\n"
     ]
    },
    {
     "name": "stderr",
     "output_type": "stream",
     "text": [
      "C:\\Users\\user\\AppData\\Local\\Temp\\ipykernel_17068\\1832265514.py:168: SettingWithCopyWarning: \n",
      "A value is trying to be set on a copy of a slice from a DataFrame\n",
      "\n",
      "See the caveats in the documentation: https://pandas.pydata.org/pandas-docs/stable/user_guide/indexing.html#returning-a-view-versus-a-copy\n",
      "  shp_df.unique_file_name.iloc[i] = pg_file_name\n"
     ]
    },
    {
     "name": "stdout",
     "output_type": "stream",
     "text": [
      "Executing 56755st file\n",
      "Gujrat_mustard.shp\n"
     ]
    },
    {
     "name": "stderr",
     "output_type": "stream",
     "text": [
      "C:\\Users\\user\\AppData\\Local\\Temp\\ipykernel_17068\\1832265514.py:168: SettingWithCopyWarning: \n",
      "A value is trying to be set on a copy of a slice from a DataFrame\n",
      "\n",
      "See the caveats in the documentation: https://pandas.pydata.org/pandas-docs/stable/user_guide/indexing.html#returning-a-view-versus-a-copy\n",
      "  shp_df.unique_file_name.iloc[i] = pg_file_name\n"
     ]
    },
    {
     "name": "stdout",
     "output_type": "stream",
     "text": [
      "Executing 56781st file\n",
      "Gujrat_mustard_new.shp\n"
     ]
    },
    {
     "name": "stderr",
     "output_type": "stream",
     "text": [
      "C:\\Users\\user\\AppData\\Local\\Temp\\ipykernel_17068\\1832265514.py:168: SettingWithCopyWarning: \n",
      "A value is trying to be set on a copy of a slice from a DataFrame\n",
      "\n",
      "See the caveats in the documentation: https://pandas.pydata.org/pandas-docs/stable/user_guide/indexing.html#returning-a-view-versus-a-copy\n",
      "  shp_df.unique_file_name.iloc[i] = pg_file_name\n"
     ]
    },
    {
     "name": "stdout",
     "output_type": "stream",
     "text": [
      "Executing 56798st file\n",
      "Haryana.shp\n"
     ]
    },
    {
     "name": "stderr",
     "output_type": "stream",
     "text": [
      "C:\\Users\\user\\AppData\\Local\\Temp\\ipykernel_17068\\1832265514.py:168: SettingWithCopyWarning: \n",
      "A value is trying to be set on a copy of a slice from a DataFrame\n",
      "\n",
      "See the caveats in the documentation: https://pandas.pydata.org/pandas-docs/stable/user_guide/indexing.html#returning-a-view-versus-a-copy\n",
      "  shp_df.unique_file_name.iloc[i] = pg_file_name\n"
     ]
    },
    {
     "name": "stdout",
     "output_type": "stream",
     "text": [
      "Executing 56808st file\n",
      "Karnataka_GP.shp\n"
     ]
    },
    {
     "name": "stderr",
     "output_type": "stream",
     "text": [
      "C:\\Users\\user\\AppData\\Local\\Temp\\ipykernel_17068\\1832265514.py:168: SettingWithCopyWarning: \n",
      "A value is trying to be set on a copy of a slice from a DataFrame\n",
      "\n",
      "See the caveats in the documentation: https://pandas.pydata.org/pandas-docs/stable/user_guide/indexing.html#returning-a-view-versus-a-copy\n",
      "  shp_df.unique_file_name.iloc[i] = pg_file_name\n"
     ]
    },
    {
     "name": "stdout",
     "output_type": "stream",
     "text": [
      "Executing 56810st file\n",
      "Karnataka_Hobli.shp\n"
     ]
    },
    {
     "name": "stderr",
     "output_type": "stream",
     "text": [
      "C:\\Users\\user\\AppData\\Local\\Temp\\ipykernel_17068\\1832265514.py:168: SettingWithCopyWarning: \n",
      "A value is trying to be set on a copy of a slice from a DataFrame\n",
      "\n",
      "See the caveats in the documentation: https://pandas.pydata.org/pandas-docs/stable/user_guide/indexing.html#returning-a-view-versus-a-copy\n",
      "  shp_df.unique_file_name.iloc[i] = pg_file_name\n"
     ]
    },
    {
     "name": "stdout",
     "output_type": "stream",
     "text": [
      "Executing 56820st file\n",
      "OSMANABAD_SNAGLI_RC_POINTS/Osmanabad_CCE_SST.shp\n"
     ]
    },
    {
     "name": "stderr",
     "output_type": "stream",
     "text": [
      "C:\\Users\\user\\AppData\\Local\\Temp\\ipykernel_17068\\1832265514.py:168: SettingWithCopyWarning: \n",
      "A value is trying to be set on a copy of a slice from a DataFrame\n",
      "\n",
      "See the caveats in the documentation: https://pandas.pydata.org/pandas-docs/stable/user_guide/indexing.html#returning-a-view-versus-a-copy\n",
      "  shp_df.unique_file_name.iloc[i] = pg_file_name\n"
     ]
    },
    {
     "name": "stdout",
     "output_type": "stream",
     "text": [
      "Executing 56821st file\n",
      "OSMANABAD_SNAGLI_RC_POINTS/Sangli_CCE_SST.shp\n"
     ]
    },
    {
     "name": "stderr",
     "output_type": "stream",
     "text": [
      "C:\\Users\\user\\AppData\\Local\\Temp\\ipykernel_17068\\1832265514.py:168: SettingWithCopyWarning: \n",
      "A value is trying to be set on a copy of a slice from a DataFrame\n",
      "\n",
      "See the caveats in the documentation: https://pandas.pydata.org/pandas-docs/stable/user_guide/indexing.html#returning-a-view-versus-a-copy\n",
      "  shp_df.unique_file_name.iloc[i] = pg_file_name\n"
     ]
    },
    {
     "name": "stdout",
     "output_type": "stream",
     "text": [
      "Executing 56822st file\n",
      "Ahmadnagar_CCE_sorghum.shp\n"
     ]
    },
    {
     "name": "stderr",
     "output_type": "stream",
     "text": [
      "C:\\Users\\user\\AppData\\Local\\Temp\\ipykernel_17068\\1832265514.py:168: SettingWithCopyWarning: \n",
      "A value is trying to be set on a copy of a slice from a DataFrame\n",
      "\n",
      "See the caveats in the documentation: https://pandas.pydata.org/pandas-docs/stable/user_guide/indexing.html#returning-a-view-versus-a-copy\n",
      "  shp_df.unique_file_name.iloc[i] = pg_file_name\n"
     ]
    },
    {
     "name": "stdout",
     "output_type": "stream",
     "text": [
      "Identifier 'idx_Ahmadnagar_CCE_sorghum_30803938_21-06-2023 21:40:16_geometry' exceeds maximum length of 63 characters \\\\192.168.1.152\\ncfc_data3\\Smart_Sampling_Technique_Relatedfiles\\Smart Sampling Rabi\\Maharashtra\\CCE_points\\3district_SST_CCE_sorghum.zip\\Ahmadnagar_CCE_sorghum.shp\n",
      "Executing 56823st file\n",
      "Beed_sorghum.shp\n"
     ]
    },
    {
     "name": "stderr",
     "output_type": "stream",
     "text": [
      "C:\\Users\\user\\AppData\\Local\\Temp\\ipykernel_17068\\1832265514.py:168: SettingWithCopyWarning: \n",
      "A value is trying to be set on a copy of a slice from a DataFrame\n",
      "\n",
      "See the caveats in the documentation: https://pandas.pydata.org/pandas-docs/stable/user_guide/indexing.html#returning-a-view-versus-a-copy\n",
      "  shp_df.unique_file_name.iloc[i] = pg_file_name\n"
     ]
    },
    {
     "name": "stdout",
     "output_type": "stream",
     "text": [
      "Executing 56824st file\n",
      "Solapur_CCE_sorghum.shp\n"
     ]
    },
    {
     "name": "stderr",
     "output_type": "stream",
     "text": [
      "C:\\Users\\user\\AppData\\Local\\Temp\\ipykernel_17068\\1832265514.py:168: SettingWithCopyWarning: \n",
      "A value is trying to be set on a copy of a slice from a DataFrame\n",
      "\n",
      "See the caveats in the documentation: https://pandas.pydata.org/pandas-docs/stable/user_guide/indexing.html#returning-a-view-versus-a-copy\n",
      "  shp_df.unique_file_name.iloc[i] = pg_file_name\n"
     ]
    },
    {
     "name": "stdout",
     "output_type": "stream",
     "text": [
      "Executing 56828st file\n",
      "Ahmednagar/GP_AHEMADNAGAR.shp\n"
     ]
    },
    {
     "name": "stderr",
     "output_type": "stream",
     "text": [
      "C:\\Users\\user\\AppData\\Local\\Temp\\ipykernel_17068\\1832265514.py:168: SettingWithCopyWarning: \n",
      "A value is trying to be set on a copy of a slice from a DataFrame\n",
      "\n",
      "See the caveats in the documentation: https://pandas.pydata.org/pandas-docs/stable/user_guide/indexing.html#returning-a-view-versus-a-copy\n",
      "  shp_df.unique_file_name.iloc[i] = pg_file_name\n"
     ]
    },
    {
     "name": "stdout",
     "output_type": "stream",
     "text": [
      "Executing 56839st file\n",
      "MP_mustard.shp\n"
     ]
    },
    {
     "name": "stderr",
     "output_type": "stream",
     "text": [
      "C:\\Users\\user\\AppData\\Local\\Temp\\ipykernel_17068\\1832265514.py:168: SettingWithCopyWarning: \n",
      "A value is trying to be set on a copy of a slice from a DataFrame\n",
      "\n",
      "See the caveats in the documentation: https://pandas.pydata.org/pandas-docs/stable/user_guide/indexing.html#returning-a-view-versus-a-copy\n",
      "  shp_df.unique_file_name.iloc[i] = pg_file_name\n"
     ]
    },
    {
     "name": "stdout",
     "output_type": "stream",
     "text": [
      "Executing 56868st file\n",
      "Telangana_Karimnagar.shp\n"
     ]
    },
    {
     "name": "stderr",
     "output_type": "stream",
     "text": [
      "C:\\Users\\user\\AppData\\Local\\Temp\\ipykernel_17068\\1832265514.py:168: SettingWithCopyWarning: \n",
      "A value is trying to be set on a copy of a slice from a DataFrame\n",
      "\n",
      "See the caveats in the documentation: https://pandas.pydata.org/pandas-docs/stable/user_guide/indexing.html#returning-a-view-versus-a-copy\n",
      "  shp_df.unique_file_name.iloc[i] = pg_file_name\n"
     ]
    },
    {
     "name": "stdout",
     "output_type": "stream",
     "text": [
      "Executing 56873st file\n",
      "Rajasthan_mustard.shp\n"
     ]
    },
    {
     "name": "stderr",
     "output_type": "stream",
     "text": [
      "C:\\Users\\user\\AppData\\Local\\Temp\\ipykernel_17068\\1832265514.py:168: SettingWithCopyWarning: \n",
      "A value is trying to be set on a copy of a slice from a DataFrame\n",
      "\n",
      "See the caveats in the documentation: https://pandas.pydata.org/pandas-docs/stable/user_guide/indexing.html#returning-a-view-versus-a-copy\n",
      "  shp_df.unique_file_name.iloc[i] = pg_file_name\n"
     ]
    },
    {
     "name": "stdout",
     "output_type": "stream",
     "text": [
      "Executing 57037st file\n",
      "Tamil_Nadu_rice.shp\n"
     ]
    },
    {
     "name": "stderr",
     "output_type": "stream",
     "text": [
      "C:\\Users\\user\\AppData\\Local\\Temp\\ipykernel_17068\\1832265514.py:168: SettingWithCopyWarning: \n",
      "A value is trying to be set on a copy of a slice from a DataFrame\n",
      "\n",
      "See the caveats in the documentation: https://pandas.pydata.org/pandas-docs/stable/user_guide/indexing.html#returning-a-view-versus-a-copy\n",
      "  shp_df.unique_file_name.iloc[i] = pg_file_name\n"
     ]
    },
    {
     "name": "stdout",
     "output_type": "stream",
     "text": [
      "Executing 57052st file\n",
      "CCE_SST_3District_Wheat.shp\n"
     ]
    },
    {
     "name": "stderr",
     "output_type": "stream",
     "text": [
      "C:\\Users\\user\\AppData\\Local\\Temp\\ipykernel_17068\\1832265514.py:168: SettingWithCopyWarning: \n",
      "A value is trying to be set on a copy of a slice from a DataFrame\n",
      "\n",
      "See the caveats in the documentation: https://pandas.pydata.org/pandas-docs/stable/user_guide/indexing.html#returning-a-view-versus-a-copy\n",
      "  shp_df.unique_file_name.iloc[i] = pg_file_name\n"
     ]
    },
    {
     "name": "stdout",
     "output_type": "stream",
     "text": [
      "Identifier 'idx_CCE_SST_3District_Wheat_43992f0e_21-06-2023 21:41:02_geometry' exceeds maximum length of 63 characters \\\\192.168.1.152\\ncfc_data3\\Smart_Sampling_Technique_Relatedfiles\\Smart Sampling Rabi\\Wheat_SST_2029-20\\Gujarat\\CCE_SST_3District_Wheat.zip\\CCE_SST_3District_Wheat.shp\n",
      "Executing 57060st file\n",
      "chittaurgarh_CCE_join_tehsil.shp\n"
     ]
    },
    {
     "name": "stderr",
     "output_type": "stream",
     "text": [
      "C:\\Users\\user\\AppData\\Local\\Temp\\ipykernel_17068\\1832265514.py:168: SettingWithCopyWarning: \n",
      "A value is trying to be set on a copy of a slice from a DataFrame\n",
      "\n",
      "See the caveats in the documentation: https://pandas.pydata.org/pandas-docs/stable/user_guide/indexing.html#returning-a-view-versus-a-copy\n",
      "  shp_df.unique_file_name.iloc[i] = pg_file_name\n"
     ]
    },
    {
     "name": "stdout",
     "output_type": "stream",
     "text": [
      "Identifier 'idx_chittaurgarh_CCE_join_tehsil_55542372_21-06-2023 21:41:02_geometry' exceeds maximum length of 63 characters \\\\192.168.1.152\\ncfc_data3\\Smart_Sampling_Technique_Relatedfiles\\Smart Sampling Rabi\\Wheat_SST_2029-20\\Rajasthan\\Chittaurgarh\\chittaurgarh_CCE_join_tehsil.zip\\chittaurgarh_CCE_join_tehsil.shp\n",
      "Executing 57063st file\n",
      "Ganganagar_CCE_SST.shp\n"
     ]
    },
    {
     "name": "stderr",
     "output_type": "stream",
     "text": [
      "C:\\Users\\user\\AppData\\Local\\Temp\\ipykernel_17068\\1832265514.py:168: SettingWithCopyWarning: \n",
      "A value is trying to be set on a copy of a slice from a DataFrame\n",
      "\n",
      "See the caveats in the documentation: https://pandas.pydata.org/pandas-docs/stable/user_guide/indexing.html#returning-a-view-versus-a-copy\n",
      "  shp_df.unique_file_name.iloc[i] = pg_file_name\n"
     ]
    },
    {
     "name": "stdout",
     "output_type": "stream",
     "text": [
      "Executing 57066st file\n",
      "Hanumangarh_CCE_SST.shp\n"
     ]
    },
    {
     "name": "stderr",
     "output_type": "stream",
     "text": [
      "C:\\Users\\user\\AppData\\Local\\Temp\\ipykernel_17068\\1832265514.py:168: SettingWithCopyWarning: \n",
      "A value is trying to be set on a copy of a slice from a DataFrame\n",
      "\n",
      "See the caveats in the documentation: https://pandas.pydata.org/pandas-docs/stable/user_guide/indexing.html#returning-a-view-versus-a-copy\n",
      "  shp_df.unique_file_name.iloc[i] = pg_file_name\n"
     ]
    },
    {
     "name": "stdout",
     "output_type": "stream",
     "text": [
      "Executing 57068st file\n",
      "jhalawar_cce_tehsil_join.shp\n"
     ]
    },
    {
     "name": "stderr",
     "output_type": "stream",
     "text": [
      "C:\\Users\\user\\AppData\\Local\\Temp\\ipykernel_17068\\1832265514.py:168: SettingWithCopyWarning: \n",
      "A value is trying to be set on a copy of a slice from a DataFrame\n",
      "\n",
      "See the caveats in the documentation: https://pandas.pydata.org/pandas-docs/stable/user_guide/indexing.html#returning-a-view-versus-a-copy\n",
      "  shp_df.unique_file_name.iloc[i] = pg_file_name\n"
     ]
    },
    {
     "name": "stdout",
     "output_type": "stream",
     "text": [
      "Identifier 'idx_jhalawar_cce_tehsil_join_c130356e_21-06-2023 21:41:11_geometry' exceeds maximum length of 63 characters \\\\192.168.1.152\\ncfc_data3\\Smart_Sampling_Technique_Relatedfiles\\Smart Sampling Rabi\\Wheat_SST_2029-20\\Rajasthan\\Jhalawar\\jhalawar cce tehsil join.zip\\jhalawar_cce_tehsil_join.shp\n",
      "Executing 57073st file\n",
      "HR_Villages/Haryana_Villages.shp\n"
     ]
    },
    {
     "name": "stderr",
     "output_type": "stream",
     "text": [
      "C:\\Users\\user\\AppData\\Local\\Temp\\ipykernel_17068\\1832265514.py:168: SettingWithCopyWarning: \n",
      "A value is trying to be set on a copy of a slice from a DataFrame\n",
      "\n",
      "See the caveats in the documentation: https://pandas.pydata.org/pandas-docs/stable/user_guide/indexing.html#returning-a-view-versus-a-copy\n",
      "  shp_df.unique_file_name.iloc[i] = pg_file_name\n"
     ]
    },
    {
     "name": "stdout",
     "output_type": "stream",
     "text": [
      "Executing 57277st file\n",
      "Telangana_points.shp\n"
     ]
    },
    {
     "name": "stderr",
     "output_type": "stream",
     "text": [
      "C:\\Users\\user\\AppData\\Local\\Temp\\ipykernel_17068\\1832265514.py:168: SettingWithCopyWarning: \n",
      "A value is trying to be set on a copy of a slice from a DataFrame\n",
      "\n",
      "See the caveats in the documentation: https://pandas.pydata.org/pandas-docs/stable/user_guide/indexing.html#returning-a-view-versus-a-copy\n",
      "  shp_df.unique_file_name.iloc[i] = pg_file_name\n"
     ]
    },
    {
     "name": "stdout",
     "output_type": "stream",
     "text": [
      "Executing 57823st file\n",
      "Telangana_points.shp\n"
     ]
    },
    {
     "name": "stderr",
     "output_type": "stream",
     "text": [
      "C:\\Users\\user\\AppData\\Local\\Temp\\ipykernel_17068\\1832265514.py:168: SettingWithCopyWarning: \n",
      "A value is trying to be set on a copy of a slice from a DataFrame\n",
      "\n",
      "See the caveats in the documentation: https://pandas.pydata.org/pandas-docs/stable/user_guide/indexing.html#returning-a-view-versus-a-copy\n",
      "  shp_df.unique_file_name.iloc[i] = pg_file_name\n"
     ]
    },
    {
     "name": "stdout",
     "output_type": "stream",
     "text": [
      "Executing 58304st file\n",
      "Rajasthan_mustard.shp\n"
     ]
    },
    {
     "name": "stderr",
     "output_type": "stream",
     "text": [
      "C:\\Users\\user\\AppData\\Local\\Temp\\ipykernel_17068\\1832265514.py:168: SettingWithCopyWarning: \n",
      "A value is trying to be set on a copy of a slice from a DataFrame\n",
      "\n",
      "See the caveats in the documentation: https://pandas.pydata.org/pandas-docs/stable/user_guide/indexing.html#returning-a-view-versus-a-copy\n",
      "  shp_df.unique_file_name.iloc[i] = pg_file_name\n"
     ]
    },
    {
     "name": "stdout",
     "output_type": "stream",
     "text": [
      "Executing 58305st file\n",
      "Tamil_Nadu_rice.shp\n"
     ]
    },
    {
     "name": "stderr",
     "output_type": "stream",
     "text": [
      "C:\\Users\\user\\AppData\\Local\\Temp\\ipykernel_17068\\1832265514.py:168: SettingWithCopyWarning: \n",
      "A value is trying to be set on a copy of a slice from a DataFrame\n",
      "\n",
      "See the caveats in the documentation: https://pandas.pydata.org/pandas-docs/stable/user_guide/indexing.html#returning-a-view-versus-a-copy\n",
      "  shp_df.unique_file_name.iloc[i] = pg_file_name\n"
     ]
    },
    {
     "name": "stdout",
     "output_type": "stream",
     "text": [
      "Executing 58306st file\n",
      "Karnataka_GP.shp\n"
     ]
    },
    {
     "name": "stderr",
     "output_type": "stream",
     "text": [
      "C:\\Users\\user\\AppData\\Local\\Temp\\ipykernel_17068\\1832265514.py:168: SettingWithCopyWarning: \n",
      "A value is trying to be set on a copy of a slice from a DataFrame\n",
      "\n",
      "See the caveats in the documentation: https://pandas.pydata.org/pandas-docs/stable/user_guide/indexing.html#returning-a-view-versus-a-copy\n",
      "  shp_df.unique_file_name.iloc[i] = pg_file_name\n"
     ]
    },
    {
     "name": "stdout",
     "output_type": "stream",
     "text": [
      "Executing 58307st file\n",
      "Karnataka_Hobli.shp\n"
     ]
    },
    {
     "name": "stderr",
     "output_type": "stream",
     "text": [
      "C:\\Users\\user\\AppData\\Local\\Temp\\ipykernel_17068\\1832265514.py:168: SettingWithCopyWarning: \n",
      "A value is trying to be set on a copy of a slice from a DataFrame\n",
      "\n",
      "See the caveats in the documentation: https://pandas.pydata.org/pandas-docs/stable/user_guide/indexing.html#returning-a-view-versus-a-copy\n",
      "  shp_df.unique_file_name.iloc[i] = pg_file_name\n"
     ]
    },
    {
     "name": "stdout",
     "output_type": "stream",
     "text": [
      "Executing 58308st file\n",
      "Ahmadnagar_CCE_sorghum.shp\n"
     ]
    },
    {
     "name": "stderr",
     "output_type": "stream",
     "text": [
      "C:\\Users\\user\\AppData\\Local\\Temp\\ipykernel_17068\\1832265514.py:168: SettingWithCopyWarning: \n",
      "A value is trying to be set on a copy of a slice from a DataFrame\n",
      "\n",
      "See the caveats in the documentation: https://pandas.pydata.org/pandas-docs/stable/user_guide/indexing.html#returning-a-view-versus-a-copy\n",
      "  shp_df.unique_file_name.iloc[i] = pg_file_name\n"
     ]
    },
    {
     "name": "stdout",
     "output_type": "stream",
     "text": [
      "Identifier 'idx_Ahmadnagar_CCE_sorghum_285d212f_21-06-2023 21:44:22_geometry' exceeds maximum length of 63 characters \\\\192.168.1.152\\ncfc_data3\\Smart_Sampling_Technique_Relatedfiles\\SST Rabi 2020\\MH\\3district_SST_CCE_sorghum.zip\\Ahmadnagar_CCE_sorghum.shp\n",
      "Executing 58309st file\n",
      "Beed_sorghum.shp\n"
     ]
    },
    {
     "name": "stderr",
     "output_type": "stream",
     "text": [
      "C:\\Users\\user\\AppData\\Local\\Temp\\ipykernel_17068\\1832265514.py:168: SettingWithCopyWarning: \n",
      "A value is trying to be set on a copy of a slice from a DataFrame\n",
      "\n",
      "See the caveats in the documentation: https://pandas.pydata.org/pandas-docs/stable/user_guide/indexing.html#returning-a-view-versus-a-copy\n",
      "  shp_df.unique_file_name.iloc[i] = pg_file_name\n"
     ]
    },
    {
     "name": "stdout",
     "output_type": "stream",
     "text": [
      "Executing 58310st file\n",
      "Solapur_CCE_sorghum.shp\n"
     ]
    },
    {
     "name": "stderr",
     "output_type": "stream",
     "text": [
      "C:\\Users\\user\\AppData\\Local\\Temp\\ipykernel_17068\\1832265514.py:168: SettingWithCopyWarning: \n",
      "A value is trying to be set on a copy of a slice from a DataFrame\n",
      "\n",
      "See the caveats in the documentation: https://pandas.pydata.org/pandas-docs/stable/user_guide/indexing.html#returning-a-view-versus-a-copy\n",
      "  shp_df.unique_file_name.iloc[i] = pg_file_name\n"
     ]
    },
    {
     "name": "stdout",
     "output_type": "stream",
     "text": [
      "Executing 58311st file\n",
      "OSMANABAD_SNAGLI_RC_POINTS/Osmanabad_CCE_SST.shp\n"
     ]
    },
    {
     "name": "stderr",
     "output_type": "stream",
     "text": [
      "C:\\Users\\user\\AppData\\Local\\Temp\\ipykernel_17068\\1832265514.py:168: SettingWithCopyWarning: \n",
      "A value is trying to be set on a copy of a slice from a DataFrame\n",
      "\n",
      "See the caveats in the documentation: https://pandas.pydata.org/pandas-docs/stable/user_guide/indexing.html#returning-a-view-versus-a-copy\n",
      "  shp_df.unique_file_name.iloc[i] = pg_file_name\n"
     ]
    },
    {
     "name": "stdout",
     "output_type": "stream",
     "text": [
      "Executing 58312st file\n",
      "OSMANABAD_SNAGLI_RC_POINTS/Sangli_CCE_SST.shp\n"
     ]
    },
    {
     "name": "stderr",
     "output_type": "stream",
     "text": [
      "C:\\Users\\user\\AppData\\Local\\Temp\\ipykernel_17068\\1832265514.py:168: SettingWithCopyWarning: \n",
      "A value is trying to be set on a copy of a slice from a DataFrame\n",
      "\n",
      "See the caveats in the documentation: https://pandas.pydata.org/pandas-docs/stable/user_guide/indexing.html#returning-a-view-versus-a-copy\n",
      "  shp_df.unique_file_name.iloc[i] = pg_file_name\n"
     ]
    },
    {
     "name": "stdout",
     "output_type": "stream",
     "text": [
      "Executing 58327st file\n",
      "Karnataka_GT/KA_GT_daywise/Raichur_19_10_2020/Raichur_track.shp\n"
     ]
    },
    {
     "name": "stderr",
     "output_type": "stream",
     "text": [
      "C:\\Users\\user\\AppData\\Local\\Temp\\ipykernel_17068\\1832265514.py:168: SettingWithCopyWarning: \n",
      "A value is trying to be set on a copy of a slice from a DataFrame\n",
      "\n",
      "See the caveats in the documentation: https://pandas.pydata.org/pandas-docs/stable/user_guide/indexing.html#returning-a-view-versus-a-copy\n",
      "  shp_df.unique_file_name.iloc[i] = pg_file_name\n"
     ]
    },
    {
     "name": "stdout",
     "output_type": "stream",
     "text": [
      "Executing 58328st file\n",
      "Karnataka_GT/KA_GT_daywise/Raichur_19_10_2020/Raichur_gt_Kharif.shp\n"
     ]
    },
    {
     "name": "stderr",
     "output_type": "stream",
     "text": [
      "C:\\Users\\user\\AppData\\Local\\Temp\\ipykernel_17068\\1832265514.py:168: SettingWithCopyWarning: \n",
      "A value is trying to be set on a copy of a slice from a DataFrame\n",
      "\n",
      "See the caveats in the documentation: https://pandas.pydata.org/pandas-docs/stable/user_guide/indexing.html#returning-a-view-versus-a-copy\n",
      "  shp_df.unique_file_name.iloc[i] = pg_file_name\n"
     ]
    },
    {
     "name": "stdout",
     "output_type": "stream",
     "text": [
      "Executing 58329st file\n",
      "Karnataka_GT/KA_GT_daywise/Raichur_19_10_2020/raichur_dist_boun.shp\n"
     ]
    },
    {
     "name": "stderr",
     "output_type": "stream",
     "text": [
      "C:\\Users\\user\\AppData\\Local\\Temp\\ipykernel_17068\\1832265514.py:168: SettingWithCopyWarning: \n",
      "A value is trying to be set on a copy of a slice from a DataFrame\n",
      "\n",
      "See the caveats in the documentation: https://pandas.pydata.org/pandas-docs/stable/user_guide/indexing.html#returning-a-view-versus-a-copy\n",
      "  shp_df.unique_file_name.iloc[i] = pg_file_name\n"
     ]
    },
    {
     "name": "stdout",
     "output_type": "stream",
     "text": [
      "Executing 58330st file\n",
      "Karnataka_GT/KA_GT_daywise/Mandya_21_10_2020/Mandya_Track.shp\n"
     ]
    },
    {
     "name": "stderr",
     "output_type": "stream",
     "text": [
      "C:\\Users\\user\\AppData\\Local\\Temp\\ipykernel_17068\\1832265514.py:168: SettingWithCopyWarning: \n",
      "A value is trying to be set on a copy of a slice from a DataFrame\n",
      "\n",
      "See the caveats in the documentation: https://pandas.pydata.org/pandas-docs/stable/user_guide/indexing.html#returning-a-view-versus-a-copy\n",
      "  shp_df.unique_file_name.iloc[i] = pg_file_name\n"
     ]
    },
    {
     "name": "stdout",
     "output_type": "stream",
     "text": [
      "Executing 58331st file\n",
      "Karnataka_GT/KA_GT_daywise/Mandya_21_10_2020/Mandya_Kharif2020.shp\n",
      "Executing 58332st file\n",
      "Karnataka_GT/KA_GT_daywise/Mandya_21_10_2020/Mandya_dist_boun.shp\n"
     ]
    },
    {
     "name": "stderr",
     "output_type": "stream",
     "text": [
      "C:\\Users\\user\\AppData\\Local\\Temp\\ipykernel_17068\\1832265514.py:168: SettingWithCopyWarning: \n",
      "A value is trying to be set on a copy of a slice from a DataFrame\n",
      "\n",
      "See the caveats in the documentation: https://pandas.pydata.org/pandas-docs/stable/user_guide/indexing.html#returning-a-view-versus-a-copy\n",
      "  shp_df.unique_file_name.iloc[i] = pg_file_name\n",
      "C:\\Users\\user\\AppData\\Local\\Temp\\ipykernel_17068\\1832265514.py:168: SettingWithCopyWarning: \n",
      "A value is trying to be set on a copy of a slice from a DataFrame\n",
      "\n",
      "See the caveats in the documentation: https://pandas.pydata.org/pandas-docs/stable/user_guide/indexing.html#returning-a-view-versus-a-copy\n",
      "  shp_df.unique_file_name.iloc[i] = pg_file_name\n"
     ]
    },
    {
     "name": "stdout",
     "output_type": "stream",
     "text": [
      "Executing 58333st file\n",
      "Karnataka_GT/KA_GT_daywise/Davangere_24_25_10_2020/Davangere_Kharif2020.shp\n"
     ]
    },
    {
     "name": "stderr",
     "output_type": "stream",
     "text": [
      "C:\\Users\\user\\AppData\\Local\\Temp\\ipykernel_17068\\1832265514.py:168: SettingWithCopyWarning: \n",
      "A value is trying to be set on a copy of a slice from a DataFrame\n",
      "\n",
      "See the caveats in the documentation: https://pandas.pydata.org/pandas-docs/stable/user_guide/indexing.html#returning-a-view-versus-a-copy\n",
      "  shp_df.unique_file_name.iloc[i] = pg_file_name\n"
     ]
    },
    {
     "name": "stdout",
     "output_type": "stream",
     "text": [
      "Executing 58334st file\n",
      "Karnataka_GT/KA_GT_daywise/Davangere_24_25_10_2020/Davangere_Track.shp\n",
      "Executing 58335st file\n",
      "Karnataka_GT/KA_GT_daywise/Davangere_24_25_10_2020/Davangere_dist_boun.shp\n"
     ]
    },
    {
     "name": "stderr",
     "output_type": "stream",
     "text": [
      "C:\\Users\\user\\AppData\\Local\\Temp\\ipykernel_17068\\1832265514.py:168: SettingWithCopyWarning: \n",
      "A value is trying to be set on a copy of a slice from a DataFrame\n",
      "\n",
      "See the caveats in the documentation: https://pandas.pydata.org/pandas-docs/stable/user_guide/indexing.html#returning-a-view-versus-a-copy\n",
      "  shp_df.unique_file_name.iloc[i] = pg_file_name\n",
      "C:\\Users\\user\\AppData\\Local\\Temp\\ipykernel_17068\\1832265514.py:168: SettingWithCopyWarning: \n",
      "A value is trying to be set on a copy of a slice from a DataFrame\n",
      "\n",
      "See the caveats in the documentation: https://pandas.pydata.org/pandas-docs/stable/user_guide/indexing.html#returning-a-view-versus-a-copy\n",
      "  shp_df.unique_file_name.iloc[i] = pg_file_name\n"
     ]
    },
    {
     "name": "stdout",
     "output_type": "stream",
     "text": [
      "Executing 58336st file\n",
      "Karnataka_GT/KA_GT_daywise/Mysore_22_10_2020/mysore_track.shp\n"
     ]
    },
    {
     "name": "stderr",
     "output_type": "stream",
     "text": [
      "C:\\Users\\user\\AppData\\Local\\Temp\\ipykernel_17068\\1832265514.py:168: SettingWithCopyWarning: \n",
      "A value is trying to be set on a copy of a slice from a DataFrame\n",
      "\n",
      "See the caveats in the documentation: https://pandas.pydata.org/pandas-docs/stable/user_guide/indexing.html#returning-a-view-versus-a-copy\n",
      "  shp_df.unique_file_name.iloc[i] = pg_file_name\n"
     ]
    },
    {
     "name": "stdout",
     "output_type": "stream",
     "text": [
      "Executing 58337st file\n",
      "Karnataka_GT/KA_GT_daywise/Mysore_22_10_2020/Mysore_gt_kharif.shp\n"
     ]
    },
    {
     "name": "stderr",
     "output_type": "stream",
     "text": [
      "C:\\Users\\user\\AppData\\Local\\Temp\\ipykernel_17068\\1832265514.py:168: SettingWithCopyWarning: \n",
      "A value is trying to be set on a copy of a slice from a DataFrame\n",
      "\n",
      "See the caveats in the documentation: https://pandas.pydata.org/pandas-docs/stable/user_guide/indexing.html#returning-a-view-versus-a-copy\n",
      "  shp_df.unique_file_name.iloc[i] = pg_file_name\n"
     ]
    },
    {
     "name": "stdout",
     "output_type": "stream",
     "text": [
      "Executing 58338st file\n",
      "Karnataka_GT/KA_GT_daywise/Mysore_22_10_2020/Mysore_dist_boun.shp\n"
     ]
    },
    {
     "name": "stderr",
     "output_type": "stream",
     "text": [
      "C:\\Users\\user\\AppData\\Local\\Temp\\ipykernel_17068\\1832265514.py:168: SettingWithCopyWarning: \n",
      "A value is trying to be set on a copy of a slice from a DataFrame\n",
      "\n",
      "See the caveats in the documentation: https://pandas.pydata.org/pandas-docs/stable/user_guide/indexing.html#returning-a-view-versus-a-copy\n",
      "  shp_df.unique_file_name.iloc[i] = pg_file_name\n"
     ]
    },
    {
     "name": "stdout",
     "output_type": "stream",
     "text": [
      "Executing 58339st file\n",
      "Karnataka_GT/KA_GT_daywise/Shimoga_23_24_10_2020/Shimoga_track.shp\n"
     ]
    },
    {
     "name": "stderr",
     "output_type": "stream",
     "text": [
      "C:\\Users\\user\\AppData\\Local\\Temp\\ipykernel_17068\\1832265514.py:168: SettingWithCopyWarning: \n",
      "A value is trying to be set on a copy of a slice from a DataFrame\n",
      "\n",
      "See the caveats in the documentation: https://pandas.pydata.org/pandas-docs/stable/user_guide/indexing.html#returning-a-view-versus-a-copy\n",
      "  shp_df.unique_file_name.iloc[i] = pg_file_name\n"
     ]
    },
    {
     "name": "stdout",
     "output_type": "stream",
     "text": [
      "Executing 58340st file\n",
      "Karnataka_GT/KA_GT_daywise/Shimoga_23_24_10_2020/Shimoga_Kharif2020.shp\n"
     ]
    },
    {
     "name": "stderr",
     "output_type": "stream",
     "text": [
      "C:\\Users\\user\\AppData\\Local\\Temp\\ipykernel_17068\\1832265514.py:168: SettingWithCopyWarning: \n",
      "A value is trying to be set on a copy of a slice from a DataFrame\n",
      "\n",
      "See the caveats in the documentation: https://pandas.pydata.org/pandas-docs/stable/user_guide/indexing.html#returning-a-view-versus-a-copy\n",
      "  shp_df.unique_file_name.iloc[i] = pg_file_name\n"
     ]
    },
    {
     "name": "stdout",
     "output_type": "stream",
     "text": [
      "Executing 58341st file\n",
      "Karnataka_GT/KA_GT_daywise/Shimoga_23_24_10_2020/Shimoga_dist_boun.shp\n"
     ]
    },
    {
     "name": "stderr",
     "output_type": "stream",
     "text": [
      "C:\\Users\\user\\AppData\\Local\\Temp\\ipykernel_17068\\1832265514.py:168: SettingWithCopyWarning: \n",
      "A value is trying to be set on a copy of a slice from a DataFrame\n",
      "\n",
      "See the caveats in the documentation: https://pandas.pydata.org/pandas-docs/stable/user_guide/indexing.html#returning-a-view-versus-a-copy\n",
      "  shp_df.unique_file_name.iloc[i] = pg_file_name\n"
     ]
    },
    {
     "name": "stdout",
     "output_type": "stream",
     "text": [
      "Executing 58342st file\n",
      "Karnataka_GT/KA_GT_daywise/Yadgir_18_10_2020/yadgir_gt_Kharif.shp\n"
     ]
    },
    {
     "name": "stderr",
     "output_type": "stream",
     "text": [
      "C:\\Users\\user\\AppData\\Local\\Temp\\ipykernel_17068\\1832265514.py:168: SettingWithCopyWarning: \n",
      "A value is trying to be set on a copy of a slice from a DataFrame\n",
      "\n",
      "See the caveats in the documentation: https://pandas.pydata.org/pandas-docs/stable/user_guide/indexing.html#returning-a-view-versus-a-copy\n",
      "  shp_df.unique_file_name.iloc[i] = pg_file_name\n"
     ]
    },
    {
     "name": "stdout",
     "output_type": "stream",
     "text": [
      "Executing 58343st file\n",
      "Karnataka_GT/KA_GT_daywise/Yadgir_18_10_2020/Yadgir_Kharif2020.shp\n",
      "Executing 58344st file\n",
      "Karnataka_GT/KA_GT_daywise/Yadgir_18_10_2020/yadgir_track.shp\n"
     ]
    },
    {
     "name": "stderr",
     "output_type": "stream",
     "text": [
      "C:\\Users\\user\\AppData\\Local\\Temp\\ipykernel_17068\\1832265514.py:168: SettingWithCopyWarning: \n",
      "A value is trying to be set on a copy of a slice from a DataFrame\n",
      "\n",
      "See the caveats in the documentation: https://pandas.pydata.org/pandas-docs/stable/user_guide/indexing.html#returning-a-view-versus-a-copy\n",
      "  shp_df.unique_file_name.iloc[i] = pg_file_name\n",
      "C:\\Users\\user\\AppData\\Local\\Temp\\ipykernel_17068\\1832265514.py:168: SettingWithCopyWarning: \n",
      "A value is trying to be set on a copy of a slice from a DataFrame\n",
      "\n",
      "See the caveats in the documentation: https://pandas.pydata.org/pandas-docs/stable/user_guide/indexing.html#returning-a-view-versus-a-copy\n",
      "  shp_df.unique_file_name.iloc[i] = pg_file_name\n"
     ]
    },
    {
     "name": "stdout",
     "output_type": "stream",
     "text": [
      "Executing 58345st file\n",
      "Karnataka_GT/KA_GT_daywise/Yadgir_18_10_2020/yadgir_dist_boun.shp\n"
     ]
    },
    {
     "name": "stderr",
     "output_type": "stream",
     "text": [
      "C:\\Users\\user\\AppData\\Local\\Temp\\ipykernel_17068\\1832265514.py:168: SettingWithCopyWarning: \n",
      "A value is trying to be set on a copy of a slice from a DataFrame\n",
      "\n",
      "See the caveats in the documentation: https://pandas.pydata.org/pandas-docs/stable/user_guide/indexing.html#returning-a-view-versus-a-copy\n",
      "  shp_df.unique_file_name.iloc[i] = pg_file_name\n"
     ]
    },
    {
     "name": "stdout",
     "output_type": "stream",
     "text": [
      "Executing 58346st file\n",
      "Odisha_Telangana_GT/track_odisha_ts/track_odisha.shp\n"
     ]
    },
    {
     "name": "stderr",
     "output_type": "stream",
     "text": [
      "C:\\Users\\user\\AppData\\Local\\Temp\\ipykernel_17068\\1832265514.py:168: SettingWithCopyWarning: \n",
      "A value is trying to be set on a copy of a slice from a DataFrame\n",
      "\n",
      "See the caveats in the documentation: https://pandas.pydata.org/pandas-docs/stable/user_guide/indexing.html#returning-a-view-versus-a-copy\n",
      "  shp_df.unique_file_name.iloc[i] = pg_file_name\n"
     ]
    },
    {
     "name": "stdout",
     "output_type": "stream",
     "text": [
      "Executing 58980st file\n",
      "Haryana.shp\n"
     ]
    },
    {
     "name": "stderr",
     "output_type": "stream",
     "text": [
      "C:\\Users\\user\\AppData\\Local\\Temp\\ipykernel_17068\\1832265514.py:168: SettingWithCopyWarning: \n",
      "A value is trying to be set on a copy of a slice from a DataFrame\n",
      "\n",
      "See the caveats in the documentation: https://pandas.pydata.org/pandas-docs/stable/user_guide/indexing.html#returning-a-view-versus-a-copy\n",
      "  shp_df.unique_file_name.iloc[i] = pg_file_name\n"
     ]
    },
    {
     "name": "stdout",
     "output_type": "stream",
     "text": [
      "Executing 59092st file\n",
      "Gujrat_mustard_new.shp\n"
     ]
    },
    {
     "name": "stderr",
     "output_type": "stream",
     "text": [
      "C:\\Users\\user\\AppData\\Local\\Temp\\ipykernel_17068\\1832265514.py:168: SettingWithCopyWarning: \n",
      "A value is trying to be set on a copy of a slice from a DataFrame\n",
      "\n",
      "See the caveats in the documentation: https://pandas.pydata.org/pandas-docs/stable/user_guide/indexing.html#returning-a-view-versus-a-copy\n",
      "  shp_df.unique_file_name.iloc[i] = pg_file_name\n"
     ]
    },
    {
     "name": "stdout",
     "output_type": "stream",
     "text": [
      "Executing 59095st file\n",
      "Haryana.shp\n"
     ]
    },
    {
     "name": "stderr",
     "output_type": "stream",
     "text": [
      "C:\\Users\\user\\AppData\\Local\\Temp\\ipykernel_17068\\1832265514.py:168: SettingWithCopyWarning: \n",
      "A value is trying to be set on a copy of a slice from a DataFrame\n",
      "\n",
      "See the caveats in the documentation: https://pandas.pydata.org/pandas-docs/stable/user_guide/indexing.html#returning-a-view-versus-a-copy\n",
      "  shp_df.unique_file_name.iloc[i] = pg_file_name\n"
     ]
    },
    {
     "name": "stdout",
     "output_type": "stream",
     "text": [
      "Executing 59096st file\n",
      "MP_mustard.shp\n"
     ]
    },
    {
     "name": "stderr",
     "output_type": "stream",
     "text": [
      "C:\\Users\\user\\AppData\\Local\\Temp\\ipykernel_17068\\1832265514.py:168: SettingWithCopyWarning: \n",
      "A value is trying to be set on a copy of a slice from a DataFrame\n",
      "\n",
      "See the caveats in the documentation: https://pandas.pydata.org/pandas-docs/stable/user_guide/indexing.html#returning-a-view-versus-a-copy\n",
      "  shp_df.unique_file_name.iloc[i] = pg_file_name\n"
     ]
    },
    {
     "name": "stdout",
     "output_type": "stream",
     "text": [
      "Executing 59100st file\n",
      "Rajasthan_mustard.shp\n"
     ]
    },
    {
     "name": "stderr",
     "output_type": "stream",
     "text": [
      "C:\\Users\\user\\AppData\\Local\\Temp\\ipykernel_17068\\1832265514.py:168: SettingWithCopyWarning: \n",
      "A value is trying to be set on a copy of a slice from a DataFrame\n",
      "\n",
      "See the caveats in the documentation: https://pandas.pydata.org/pandas-docs/stable/user_guide/indexing.html#returning-a-view-versus-a-copy\n",
      "  shp_df.unique_file_name.iloc[i] = pg_file_name\n"
     ]
    },
    {
     "name": "stdout",
     "output_type": "stream",
     "text": [
      "Executing 59101st file\n",
      "CCE Points UP/Agra_mustard.shp\n"
     ]
    },
    {
     "name": "stderr",
     "output_type": "stream",
     "text": [
      "C:\\Users\\user\\AppData\\Local\\Temp\\ipykernel_17068\\1832265514.py:168: SettingWithCopyWarning: \n",
      "A value is trying to be set on a copy of a slice from a DataFrame\n",
      "\n",
      "See the caveats in the documentation: https://pandas.pydata.org/pandas-docs/stable/user_guide/indexing.html#returning-a-view-versus-a-copy\n",
      "  shp_df.unique_file_name.iloc[i] = pg_file_name\n"
     ]
    },
    {
     "name": "stdout",
     "output_type": "stream",
     "text": [
      "Executing 59102st file\n",
      "CCE Points UP/Mathura_mustard.shp\n"
     ]
    },
    {
     "name": "stderr",
     "output_type": "stream",
     "text": [
      "C:\\Users\\user\\AppData\\Local\\Temp\\ipykernel_17068\\1832265514.py:168: SettingWithCopyWarning: \n",
      "A value is trying to be set on a copy of a slice from a DataFrame\n",
      "\n",
      "See the caveats in the documentation: https://pandas.pydata.org/pandas-docs/stable/user_guide/indexing.html#returning-a-view-versus-a-copy\n",
      "  shp_df.unique_file_name.iloc[i] = pg_file_name\n"
     ]
    },
    {
     "name": "stdout",
     "output_type": "stream",
     "text": [
      "Executing 59103st file\n",
      "CCE Points UP/Sitapur_mustard.shp\n"
     ]
    },
    {
     "name": "stderr",
     "output_type": "stream",
     "text": [
      "C:\\Users\\user\\AppData\\Local\\Temp\\ipykernel_17068\\1832265514.py:168: SettingWithCopyWarning: \n",
      "A value is trying to be set on a copy of a slice from a DataFrame\n",
      "\n",
      "See the caveats in the documentation: https://pandas.pydata.org/pandas-docs/stable/user_guide/indexing.html#returning-a-view-versus-a-copy\n",
      "  shp_df.unique_file_name.iloc[i] = pg_file_name\n"
     ]
    },
    {
     "name": "stdout",
     "output_type": "stream",
     "text": [
      "Executing 59107st file\n",
      "Tamil_Nadu_rice.shp\n"
     ]
    },
    {
     "name": "stderr",
     "output_type": "stream",
     "text": [
      "C:\\Users\\user\\AppData\\Local\\Temp\\ipykernel_17068\\1832265514.py:168: SettingWithCopyWarning: \n",
      "A value is trying to be set on a copy of a slice from a DataFrame\n",
      "\n",
      "See the caveats in the documentation: https://pandas.pydata.org/pandas-docs/stable/user_guide/indexing.html#returning-a-view-versus-a-copy\n",
      "  shp_df.unique_file_name.iloc[i] = pg_file_name\n"
     ]
    },
    {
     "name": "stdout",
     "output_type": "stream",
     "text": [
      "Executing 59115st file\n",
      "Karnataka_GP.shp\n"
     ]
    },
    {
     "name": "stderr",
     "output_type": "stream",
     "text": [
      "C:\\Users\\user\\AppData\\Local\\Temp\\ipykernel_17068\\1832265514.py:168: SettingWithCopyWarning: \n",
      "A value is trying to be set on a copy of a slice from a DataFrame\n",
      "\n",
      "See the caveats in the documentation: https://pandas.pydata.org/pandas-docs/stable/user_guide/indexing.html#returning-a-view-versus-a-copy\n",
      "  shp_df.unique_file_name.iloc[i] = pg_file_name\n"
     ]
    },
    {
     "name": "stdout",
     "output_type": "stream",
     "text": [
      "Executing 59116st file\n",
      "Karnataka_Hobli.shp\n"
     ]
    },
    {
     "name": "stderr",
     "output_type": "stream",
     "text": [
      "C:\\Users\\user\\AppData\\Local\\Temp\\ipykernel_17068\\1832265514.py:168: SettingWithCopyWarning: \n",
      "A value is trying to be set on a copy of a slice from a DataFrame\n",
      "\n",
      "See the caveats in the documentation: https://pandas.pydata.org/pandas-docs/stable/user_guide/indexing.html#returning-a-view-versus-a-copy\n",
      "  shp_df.unique_file_name.iloc[i] = pg_file_name\n"
     ]
    },
    {
     "name": "stdout",
     "output_type": "stream",
     "text": [
      "Executing 59121st file\n",
      "Ahmadnagar_CCE_sorghum.shp\n"
     ]
    },
    {
     "name": "stderr",
     "output_type": "stream",
     "text": [
      "C:\\Users\\user\\AppData\\Local\\Temp\\ipykernel_17068\\1832265514.py:168: SettingWithCopyWarning: \n",
      "A value is trying to be set on a copy of a slice from a DataFrame\n",
      "\n",
      "See the caveats in the documentation: https://pandas.pydata.org/pandas-docs/stable/user_guide/indexing.html#returning-a-view-versus-a-copy\n",
      "  shp_df.unique_file_name.iloc[i] = pg_file_name\n"
     ]
    },
    {
     "name": "stdout",
     "output_type": "stream",
     "text": [
      "Identifier 'idx_Ahmadnagar_CCE_sorghum_6fb50993_21-06-2023 21:45:35_geometry' exceeds maximum length of 63 characters \\\\192.168.1.152\\ncfc_data3\\Smart_Sampling_Technique_Relatedfiles\\SST_PMFBY_Rabi_2019-20\\Rabi_sorghum\\MH\\3district_SST_CCE_sorghum.zip\\Ahmadnagar_CCE_sorghum.shp\n",
      "Executing 59122st file\n",
      "Beed_sorghum.shp\n"
     ]
    },
    {
     "name": "stderr",
     "output_type": "stream",
     "text": [
      "C:\\Users\\user\\AppData\\Local\\Temp\\ipykernel_17068\\1832265514.py:168: SettingWithCopyWarning: \n",
      "A value is trying to be set on a copy of a slice from a DataFrame\n",
      "\n",
      "See the caveats in the documentation: https://pandas.pydata.org/pandas-docs/stable/user_guide/indexing.html#returning-a-view-versus-a-copy\n",
      "  shp_df.unique_file_name.iloc[i] = pg_file_name\n"
     ]
    },
    {
     "name": "stdout",
     "output_type": "stream",
     "text": [
      "Executing 59123st file\n",
      "Solapur_CCE_sorghum.shp\n"
     ]
    },
    {
     "name": "stderr",
     "output_type": "stream",
     "text": [
      "C:\\Users\\user\\AppData\\Local\\Temp\\ipykernel_17068\\1832265514.py:168: SettingWithCopyWarning: \n",
      "A value is trying to be set on a copy of a slice from a DataFrame\n",
      "\n",
      "See the caveats in the documentation: https://pandas.pydata.org/pandas-docs/stable/user_guide/indexing.html#returning-a-view-versus-a-copy\n",
      "  shp_df.unique_file_name.iloc[i] = pg_file_name\n"
     ]
    },
    {
     "name": "stdout",
     "output_type": "stream",
     "text": [
      "Executing 59124st file\n",
      "OSMANABAD_SNAGLI_RC_POINTS/Osmanabad_CCE_SST.shp\n"
     ]
    },
    {
     "name": "stderr",
     "output_type": "stream",
     "text": [
      "C:\\Users\\user\\AppData\\Local\\Temp\\ipykernel_17068\\1832265514.py:168: SettingWithCopyWarning: \n",
      "A value is trying to be set on a copy of a slice from a DataFrame\n",
      "\n",
      "See the caveats in the documentation: https://pandas.pydata.org/pandas-docs/stable/user_guide/indexing.html#returning-a-view-versus-a-copy\n",
      "  shp_df.unique_file_name.iloc[i] = pg_file_name\n"
     ]
    },
    {
     "name": "stdout",
     "output_type": "stream",
     "text": [
      "Executing 59125st file\n",
      "OSMANABAD_SNAGLI_RC_POINTS/Sangli_CCE_SST.shp\n"
     ]
    },
    {
     "name": "stderr",
     "output_type": "stream",
     "text": [
      "C:\\Users\\user\\AppData\\Local\\Temp\\ipykernel_17068\\1832265514.py:168: SettingWithCopyWarning: \n",
      "A value is trying to be set on a copy of a slice from a DataFrame\n",
      "\n",
      "See the caveats in the documentation: https://pandas.pydata.org/pandas-docs/stable/user_guide/indexing.html#returning-a-view-versus-a-copy\n",
      "  shp_df.unique_file_name.iloc[i] = pg_file_name\n"
     ]
    },
    {
     "name": "stdout",
     "output_type": "stream",
     "text": [
      "Executing 59131st file\n",
      "CCE_SST_3District_Wheat.shp\n"
     ]
    },
    {
     "name": "stderr",
     "output_type": "stream",
     "text": [
      "C:\\Users\\user\\AppData\\Local\\Temp\\ipykernel_17068\\1832265514.py:168: SettingWithCopyWarning: \n",
      "A value is trying to be set on a copy of a slice from a DataFrame\n",
      "\n",
      "See the caveats in the documentation: https://pandas.pydata.org/pandas-docs/stable/user_guide/indexing.html#returning-a-view-versus-a-copy\n",
      "  shp_df.unique_file_name.iloc[i] = pg_file_name\n"
     ]
    },
    {
     "name": "stdout",
     "output_type": "stream",
     "text": [
      "Identifier 'idx_CCE_SST_3District_Wheat_e7ba5036_21-06-2023 21:45:54_geometry' exceeds maximum length of 63 characters \\\\192.168.1.152\\ncfc_data3\\Smart_Sampling_Technique_Relatedfiles\\SST_PMFBY_Rabi_2019-20\\Wheat\\GJ\\CCE_SST_3District_Wheat.zip\\CCE_SST_3District_Wheat.shp\n",
      "Executing 59134st file\n",
      "Hoshangabad.shp\n"
     ]
    },
    {
     "name": "stderr",
     "output_type": "stream",
     "text": [
      "C:\\Users\\user\\AppData\\Local\\Temp\\ipykernel_17068\\1832265514.py:168: SettingWithCopyWarning: \n",
      "A value is trying to be set on a copy of a slice from a DataFrame\n",
      "\n",
      "See the caveats in the documentation: https://pandas.pydata.org/pandas-docs/stable/user_guide/indexing.html#returning-a-view-versus-a-copy\n",
      "  shp_df.unique_file_name.iloc[i] = pg_file_name\n"
     ]
    },
    {
     "name": "stdout",
     "output_type": "stream",
     "text": [
      "Executing 59135st file\n",
      "Raisen.shp\n"
     ]
    },
    {
     "name": "stderr",
     "output_type": "stream",
     "text": [
      "C:\\Users\\user\\AppData\\Local\\Temp\\ipykernel_17068\\1832265514.py:168: SettingWithCopyWarning: \n",
      "A value is trying to be set on a copy of a slice from a DataFrame\n",
      "\n",
      "See the caveats in the documentation: https://pandas.pydata.org/pandas-docs/stable/user_guide/indexing.html#returning-a-view-versus-a-copy\n",
      "  shp_df.unique_file_name.iloc[i] = pg_file_name\n"
     ]
    },
    {
     "name": "stdout",
     "output_type": "stream",
     "text": [
      "Executing 59139st file\n",
      "chittaurgarh_CCE_join_tehsil.shp\n"
     ]
    },
    {
     "name": "stderr",
     "output_type": "stream",
     "text": [
      "C:\\Users\\user\\AppData\\Local\\Temp\\ipykernel_17068\\1832265514.py:168: SettingWithCopyWarning: \n",
      "A value is trying to be set on a copy of a slice from a DataFrame\n",
      "\n",
      "See the caveats in the documentation: https://pandas.pydata.org/pandas-docs/stable/user_guide/indexing.html#returning-a-view-versus-a-copy\n",
      "  shp_df.unique_file_name.iloc[i] = pg_file_name\n"
     ]
    },
    {
     "name": "stdout",
     "output_type": "stream",
     "text": [
      "Identifier 'idx_chittaurgarh_CCE_join_tehsil_37fe9981_21-06-2023 21:46:04_geometry' exceeds maximum length of 63 characters \\\\192.168.1.152\\ncfc_data3\\Smart_Sampling_Technique_Relatedfiles\\SST_PMFBY_Rabi_2019-20\\Wheat\\RJ\\chittaurgarh_CCE_join_tehsil.zip\\chittaurgarh_CCE_join_tehsil.shp\n",
      "Executing 59141st file\n",
      "Ganganagar_CCE_SST.shp\n"
     ]
    },
    {
     "name": "stderr",
     "output_type": "stream",
     "text": [
      "C:\\Users\\user\\AppData\\Local\\Temp\\ipykernel_17068\\1832265514.py:168: SettingWithCopyWarning: \n",
      "A value is trying to be set on a copy of a slice from a DataFrame\n",
      "\n",
      "See the caveats in the documentation: https://pandas.pydata.org/pandas-docs/stable/user_guide/indexing.html#returning-a-view-versus-a-copy\n",
      "  shp_df.unique_file_name.iloc[i] = pg_file_name\n"
     ]
    },
    {
     "name": "stdout",
     "output_type": "stream",
     "text": [
      "Executing 59143st file\n",
      "Hanumangarh_CCE_SST.shp\n"
     ]
    },
    {
     "name": "stderr",
     "output_type": "stream",
     "text": [
      "C:\\Users\\user\\AppData\\Local\\Temp\\ipykernel_17068\\1832265514.py:168: SettingWithCopyWarning: \n",
      "A value is trying to be set on a copy of a slice from a DataFrame\n",
      "\n",
      "See the caveats in the documentation: https://pandas.pydata.org/pandas-docs/stable/user_guide/indexing.html#returning-a-view-versus-a-copy\n",
      "  shp_df.unique_file_name.iloc[i] = pg_file_name\n"
     ]
    },
    {
     "name": "stdout",
     "output_type": "stream",
     "text": [
      "Executing 59144st file\n",
      "jhalawar_cce_tehsil_join.shp\n"
     ]
    },
    {
     "name": "stderr",
     "output_type": "stream",
     "text": [
      "C:\\Users\\user\\AppData\\Local\\Temp\\ipykernel_17068\\1832265514.py:168: SettingWithCopyWarning: \n",
      "A value is trying to be set on a copy of a slice from a DataFrame\n",
      "\n",
      "See the caveats in the documentation: https://pandas.pydata.org/pandas-docs/stable/user_guide/indexing.html#returning-a-view-versus-a-copy\n",
      "  shp_df.unique_file_name.iloc[i] = pg_file_name\n"
     ]
    },
    {
     "name": "stdout",
     "output_type": "stream",
     "text": [
      "Identifier 'idx_jhalawar_cce_tehsil_join_2b4a54f7_21-06-2023 21:46:12_geometry' exceeds maximum length of 63 characters \\\\192.168.1.152\\ncfc_data3\\Smart_Sampling_Technique_Relatedfiles\\SST_PMFBY_Rabi_2019-20\\Wheat\\RJ\\jhalawar cce tehsil join.zip\\jhalawar_cce_tehsil_join.shp\n",
      "Executing 59147st file\n",
      "Hardoi_CCE.shp\n"
     ]
    },
    {
     "name": "stderr",
     "output_type": "stream",
     "text": [
      "C:\\Users\\user\\AppData\\Local\\Temp\\ipykernel_17068\\1832265514.py:168: SettingWithCopyWarning: \n",
      "A value is trying to be set on a copy of a slice from a DataFrame\n",
      "\n",
      "See the caveats in the documentation: https://pandas.pydata.org/pandas-docs/stable/user_guide/indexing.html#returning-a-view-versus-a-copy\n",
      "  shp_df.unique_file_name.iloc[i] = pg_file_name\n"
     ]
    },
    {
     "name": "stdout",
     "output_type": "stream",
     "text": [
      "Executing 59153st file\n",
      "rabi_rice_districts_ndvi.shp\n"
     ]
    },
    {
     "name": "stderr",
     "output_type": "stream",
     "text": [
      "C:\\Users\\user\\AppData\\Local\\Temp\\ipykernel_17068\\1832265514.py:168: SettingWithCopyWarning: \n",
      "A value is trying to be set on a copy of a slice from a DataFrame\n",
      "\n",
      "See the caveats in the documentation: https://pandas.pydata.org/pandas-docs/stable/user_guide/indexing.html#returning-a-view-versus-a-copy\n",
      "  shp_df.unique_file_name.iloc[i] = pg_file_name\n"
     ]
    },
    {
     "name": "stdout",
     "output_type": "stream",
     "text": [
      "Identifier 'idx_rabi_rice_districts_ndvi_eca6b504_21-06-2023 21:46:19_geometry' exceeds maximum length of 63 characters \\\\192.168.1.152\\ncfc_data3\\VCI\\2019\\10.Rabi Rice\\Shape_file\\rabi_rice_districts_ndvi.zip\\rabi_rice_districts_ndvi.shp\n",
      "Executing 59154st file\n",
      "shape/CropCutting2020012752949.shp\n"
     ]
    },
    {
     "name": "stderr",
     "output_type": "stream",
     "text": [
      "C:\\Users\\user\\AppData\\Local\\Temp\\ipykernel_17068\\1832265514.py:168: SettingWithCopyWarning: \n",
      "A value is trying to be set on a copy of a slice from a DataFrame\n",
      "\n",
      "See the caveats in the documentation: https://pandas.pydata.org/pandas-docs/stable/user_guide/indexing.html#returning-a-view-versus-a-copy\n",
      "  shp_df.unique_file_name.iloc[i] = pg_file_name\n"
     ]
    },
    {
     "name": "stdout",
     "output_type": "stream",
     "text": [
      "Identifier 'idx_CropCutting2020012752949_2823f45e_21-06-2023 21:46:24_geometry' exceeds maximum length of 63 characters \\\\192.168.1.152\\ncfc_data3\\VCI\\2019\\2. Kharif Rice\\CCE Based yield 2019-20\\ASSAM\\CropCutting2020012752949.zip\\shape/CropCutting2020012752949.shp\n",
      "Executing 59157st file\n",
      "shape/CropCutting2019121843633.shp\n"
     ]
    },
    {
     "name": "stderr",
     "output_type": "stream",
     "text": [
      "C:\\Users\\user\\AppData\\Local\\Temp\\ipykernel_17068\\1832265514.py:168: SettingWithCopyWarning: \n",
      "A value is trying to be set on a copy of a slice from a DataFrame\n",
      "\n",
      "See the caveats in the documentation: https://pandas.pydata.org/pandas-docs/stable/user_guide/indexing.html#returning-a-view-versus-a-copy\n",
      "  shp_df.unique_file_name.iloc[i] = pg_file_name\n"
     ]
    },
    {
     "name": "stdout",
     "output_type": "stream",
     "text": [
      "Identifier 'idx_CropCutting2019121843633_913874a0_21-06-2023 21:46:24_geometry' exceeds maximum length of 63 characters \\\\192.168.1.152\\ncfc_data3\\VCI\\2019\\2. Kharif Rice\\CCE Based yield 2019-20\\Punjab\\CropCutting2019121843633.zip\\shape/CropCutting2019121843633.shp\n",
      "Executing 59158st file\n",
      "shape/CropCutting2019121843641.shp\n"
     ]
    },
    {
     "name": "stderr",
     "output_type": "stream",
     "text": [
      "C:\\Users\\user\\AppData\\Local\\Temp\\ipykernel_17068\\1832265514.py:168: SettingWithCopyWarning: \n",
      "A value is trying to be set on a copy of a slice from a DataFrame\n",
      "\n",
      "See the caveats in the documentation: https://pandas.pydata.org/pandas-docs/stable/user_guide/indexing.html#returning-a-view-versus-a-copy\n",
      "  shp_df.unique_file_name.iloc[i] = pg_file_name\n"
     ]
    },
    {
     "name": "stdout",
     "output_type": "stream",
     "text": [
      "Identifier 'idx_CropCutting2019121843641_6505d7a1_21-06-2023 21:46:26_geometry' exceeds maximum length of 63 characters \\\\192.168.1.152\\ncfc_data3\\VCI\\2019\\2. Kharif Rice\\CCE Based yield 2019-20\\Punjab\\CropCutting2019121843641.zip\\shape/CropCutting2019121843641.shp\n",
      "Executing 59161st file\n",
      "shape/CropCutting2019121843839.shp\n"
     ]
    },
    {
     "name": "stderr",
     "output_type": "stream",
     "text": [
      "C:\\Users\\user\\AppData\\Local\\Temp\\ipykernel_17068\\1832265514.py:168: SettingWithCopyWarning: \n",
      "A value is trying to be set on a copy of a slice from a DataFrame\n",
      "\n",
      "See the caveats in the documentation: https://pandas.pydata.org/pandas-docs/stable/user_guide/indexing.html#returning-a-view-versus-a-copy\n",
      "  shp_df.unique_file_name.iloc[i] = pg_file_name\n"
     ]
    },
    {
     "name": "stdout",
     "output_type": "stream",
     "text": [
      "Identifier 'idx_CropCutting2019121843839_370f5dae_21-06-2023 21:46:28_geometry' exceeds maximum length of 63 characters \\\\192.168.1.152\\ncfc_data3\\VCI\\2019\\2. Kharif Rice\\CCE Based yield 2019-20\\UP\\CropCutting2019121843839.zip\\shape/CropCutting2019121843839.shp\n",
      "Executing 59162st file\n",
      "shape/CropCutting2019121843849.shp\n"
     ]
    },
    {
     "name": "stderr",
     "output_type": "stream",
     "text": [
      "C:\\Users\\user\\AppData\\Local\\Temp\\ipykernel_17068\\1832265514.py:168: SettingWithCopyWarning: \n",
      "A value is trying to be set on a copy of a slice from a DataFrame\n",
      "\n",
      "See the caveats in the documentation: https://pandas.pydata.org/pandas-docs/stable/user_guide/indexing.html#returning-a-view-versus-a-copy\n",
      "  shp_df.unique_file_name.iloc[i] = pg_file_name\n"
     ]
    },
    {
     "name": "stdout",
     "output_type": "stream",
     "text": [
      "Identifier 'idx_CropCutting2019121843849_af4b9b25_21-06-2023 21:46:31_geometry' exceeds maximum length of 63 characters \\\\192.168.1.152\\ncfc_data3\\VCI\\2019\\2. Kharif Rice\\CCE Based yield 2019-20\\UP\\CropCutting2019121843849.zip\\shape/CropCutting2019121843849.shp\n",
      "Executing 59165st file\n",
      "shape/CropCutting2019121844049.shp\n"
     ]
    },
    {
     "name": "stderr",
     "output_type": "stream",
     "text": [
      "C:\\Users\\user\\AppData\\Local\\Temp\\ipykernel_17068\\1832265514.py:168: SettingWithCopyWarning: \n",
      "A value is trying to be set on a copy of a slice from a DataFrame\n",
      "\n",
      "See the caveats in the documentation: https://pandas.pydata.org/pandas-docs/stable/user_guide/indexing.html#returning-a-view-versus-a-copy\n",
      "  shp_df.unique_file_name.iloc[i] = pg_file_name\n"
     ]
    },
    {
     "name": "stdout",
     "output_type": "stream",
     "text": [
      "Identifier 'idx_CropCutting2019121844049_0eb5bba0_21-06-2023 21:46:33_geometry' exceeds maximum length of 63 characters \\\\192.168.1.152\\ncfc_data3\\VCI\\2019\\2. Kharif Rice\\CCE Based yield 2019-20\\WB\\CropCutting2019121844049.zip\\shape/CropCutting2019121844049.shp\n",
      "Executing 59166st file\n",
      "shape/CropCutting2019121844054.shp\n"
     ]
    },
    {
     "name": "stderr",
     "output_type": "stream",
     "text": [
      "C:\\Users\\user\\AppData\\Local\\Temp\\ipykernel_17068\\1832265514.py:168: SettingWithCopyWarning: \n",
      "A value is trying to be set on a copy of a slice from a DataFrame\n",
      "\n",
      "See the caveats in the documentation: https://pandas.pydata.org/pandas-docs/stable/user_guide/indexing.html#returning-a-view-versus-a-copy\n",
      "  shp_df.unique_file_name.iloc[i] = pg_file_name\n"
     ]
    },
    {
     "name": "stdout",
     "output_type": "stream",
     "text": [
      "Identifier 'idx_CropCutting2019121844054_7b1d5eb3_21-06-2023 21:46:34_geometry' exceeds maximum length of 63 characters \\\\192.168.1.152\\ncfc_data3\\VCI\\2019\\2. Kharif Rice\\CCE Based yield 2019-20\\WB\\CropCutting2019121844054.zip\\shape/CropCutting2019121844054.shp\n",
      "Executing 59186st file\n",
      "sugercane_district_lcc.shp\n"
     ]
    },
    {
     "name": "stderr",
     "output_type": "stream",
     "text": [
      "C:\\Users\\user\\AppData\\Local\\Temp\\ipykernel_17068\\1832265514.py:168: SettingWithCopyWarning: \n",
      "A value is trying to be set on a copy of a slice from a DataFrame\n",
      "\n",
      "See the caveats in the documentation: https://pandas.pydata.org/pandas-docs/stable/user_guide/indexing.html#returning-a-view-versus-a-copy\n",
      "  shp_df.unique_file_name.iloc[i] = pg_file_name\n"
     ]
    },
    {
     "name": "stdout",
     "output_type": "stream",
     "text": [
      "Identifier 'idx_sugercane_district_lcc_4f3ddd74_21-06-2023 21:46:35_geometry' exceeds maximum length of 63 characters \\\\192.168.1.152\\ncfc_data3\\VCI\\2019\\4. Sugarcane\\Shapefile\\sugercane_district_lcc.zip\\sugercane_district_lcc.shp\n",
      "Executing 59197st file\n",
      "sorghum_dist._lcc.shp\n"
     ]
    },
    {
     "name": "stderr",
     "output_type": "stream",
     "text": [
      "C:\\Users\\user\\AppData\\Local\\Temp\\ipykernel_17068\\1832265514.py:168: SettingWithCopyWarning: \n",
      "A value is trying to be set on a copy of a slice from a DataFrame\n",
      "\n",
      "See the caveats in the documentation: https://pandas.pydata.org/pandas-docs/stable/user_guide/indexing.html#returning-a-view-versus-a-copy\n",
      "  shp_df.unique_file_name.iloc[i] = pg_file_name\n"
     ]
    },
    {
     "name": "stdout",
     "output_type": "stream",
     "text": [
      "Executing 59199st file\n",
      "mustard_districts_ndvi.shp\n"
     ]
    },
    {
     "name": "stderr",
     "output_type": "stream",
     "text": [
      "C:\\Users\\user\\AppData\\Local\\Temp\\ipykernel_17068\\1832265514.py:168: SettingWithCopyWarning: \n",
      "A value is trying to be set on a copy of a slice from a DataFrame\n",
      "\n",
      "See the caveats in the documentation: https://pandas.pydata.org/pandas-docs/stable/user_guide/indexing.html#returning-a-view-versus-a-copy\n",
      "  shp_df.unique_file_name.iloc[i] = pg_file_name\n"
     ]
    },
    {
     "name": "stdout",
     "output_type": "stream",
     "text": [
      "Identifier 'idx_mustard_districts_ndvi_0c49abd8_21-06-2023 21:46:41_geometry' exceeds maximum length of 63 characters \\\\192.168.1.152\\ncfc_data3\\VCI\\2019\\7. Mustard\\Shape file\\mustard_districts_ndvi.zip\\mustard_districts_ndvi.shp\n",
      "Executing 59203st file\n",
      "wheat_states_f2.shp\n"
     ]
    },
    {
     "name": "stderr",
     "output_type": "stream",
     "text": [
      "C:\\Users\\user\\AppData\\Local\\Temp\\ipykernel_17068\\1832265514.py:168: SettingWithCopyWarning: \n",
      "A value is trying to be set on a copy of a slice from a DataFrame\n",
      "\n",
      "See the caveats in the documentation: https://pandas.pydata.org/pandas-docs/stable/user_guide/indexing.html#returning-a-view-versus-a-copy\n",
      "  shp_df.unique_file_name.iloc[i] = pg_file_name\n"
     ]
    },
    {
     "name": "stdout",
     "output_type": "stream",
     "text": [
      "Executing 59212st file\n",
      "sugercane_district_lcc.shp\n"
     ]
    },
    {
     "name": "stderr",
     "output_type": "stream",
     "text": [
      "C:\\Users\\user\\AppData\\Local\\Temp\\ipykernel_17068\\1832265514.py:168: SettingWithCopyWarning: \n",
      "A value is trying to be set on a copy of a slice from a DataFrame\n",
      "\n",
      "See the caveats in the documentation: https://pandas.pydata.org/pandas-docs/stable/user_guide/indexing.html#returning-a-view-versus-a-copy\n",
      "  shp_df.unique_file_name.iloc[i] = pg_file_name\n"
     ]
    },
    {
     "name": "stdout",
     "output_type": "stream",
     "text": [
      "Identifier 'idx_sugercane_district_lcc_a7dffe20_21-06-2023 21:46:50_geometry' exceeds maximum length of 63 characters \\\\192.168.1.152\\ncfc_data3\\VCI\\2020\\2. Sugarcane\\F1\\Shape_file\\sugarcane_5states_f1.zip\\sugercane_district_lcc.shp\n",
      "Executing 59215st file\n",
      "sugercane_district_lcc.shp\n"
     ]
    },
    {
     "name": "stderr",
     "output_type": "stream",
     "text": [
      "C:\\Users\\user\\AppData\\Local\\Temp\\ipykernel_17068\\1832265514.py:168: SettingWithCopyWarning: \n",
      "A value is trying to be set on a copy of a slice from a DataFrame\n",
      "\n",
      "See the caveats in the documentation: https://pandas.pydata.org/pandas-docs/stable/user_guide/indexing.html#returning-a-view-versus-a-copy\n",
      "  shp_df.unique_file_name.iloc[i] = pg_file_name\n"
     ]
    },
    {
     "name": "stdout",
     "output_type": "stream",
     "text": [
      "Identifier 'idx_sugercane_district_lcc_56b1f4af_21-06-2023 21:46:55_geometry' exceeds maximum length of 63 characters \\\\192.168.1.152\\ncfc_data3\\VCI\\2020\\2. Sugarcane\\F2\\shp\\sugercane_district_lcc.zip\\sugercane_district_lcc.shp\n",
      "Executing 59242st file\n",
      "p5_pana_2019_ind_cf.shp\n"
     ]
    },
    {
     "name": "stderr",
     "output_type": "stream",
     "text": [
      "C:\\Users\\user\\AppData\\Local\\Temp\\ipykernel_17068\\1832265514.py:168: SettingWithCopyWarning: \n",
      "A value is trying to be set on a copy of a slice from a DataFrame\n",
      "\n",
      "See the caveats in the documentation: https://pandas.pydata.org/pandas-docs/stable/user_guide/indexing.html#returning-a-view-versus-a-copy\n",
      "  shp_df.unique_file_name.iloc[i] = pg_file_name\n",
      "C:\\Users\\user\\miniconda3\\envs\\kdss_base\\lib\\site-packages\\geopandas\\io\\sql.py:415: UserWarning: Could not parse CRS from the GeoDataFrame. Inserting data without defined CRS.\n",
      "  srid = _get_srid_from_crs(gdf)\n"
     ]
    },
    {
     "name": "stdout",
     "output_type": "stream",
     "text": [
      "Executing 59243st file\n",
      "p5_pana-2018_cf_ind.shp\n"
     ]
    },
    {
     "name": "stderr",
     "output_type": "stream",
     "text": [
      "C:\\Users\\user\\AppData\\Local\\Temp\\ipykernel_17068\\1832265514.py:168: SettingWithCopyWarning: \n",
      "A value is trying to be set on a copy of a slice from a DataFrame\n",
      "\n",
      "See the caveats in the documentation: https://pandas.pydata.org/pandas-docs/stable/user_guide/indexing.html#returning-a-view-versus-a-copy\n",
      "  shp_df.unique_file_name.iloc[i] = pg_file_name\n",
      "C:\\Users\\user\\miniconda3\\envs\\kdss_base\\lib\\site-packages\\geopandas\\io\\sql.py:415: UserWarning: Could not parse CRS from the GeoDataFrame. Inserting data without defined CRS.\n",
      "  srid = _get_srid_from_crs(gdf)\n"
     ]
    },
    {
     "name": "stdout",
     "output_type": "stream",
     "text": [
      "Executing 59245st file\n",
      "CHAMAN_P2_district.shp\n"
     ]
    },
    {
     "name": "stderr",
     "output_type": "stream",
     "text": [
      "C:\\Users\\user\\AppData\\Local\\Temp\\ipykernel_17068\\1832265514.py:168: SettingWithCopyWarning: \n",
      "A value is trying to be set on a copy of a slice from a DataFrame\n",
      "\n",
      "See the caveats in the documentation: https://pandas.pydata.org/pandas-docs/stable/user_guide/indexing.html#returning-a-view-versus-a-copy\n",
      "  shp_df.unique_file_name.iloc[i] = pg_file_name\n"
     ]
    },
    {
     "name": "stdout",
     "output_type": "stream",
     "text": [
      "Executing 59272st file\n",
      "shape/NCFCCrop2018110562358.shp\n"
     ]
    },
    {
     "name": "stderr",
     "output_type": "stream",
     "text": [
      "C:\\Users\\user\\AppData\\Local\\Temp\\ipykernel_17068\\1832265514.py:168: SettingWithCopyWarning: \n",
      "A value is trying to be set on a copy of a slice from a DataFrame\n",
      "\n",
      "See the caveats in the documentation: https://pandas.pydata.org/pandas-docs/stable/user_guide/indexing.html#returning-a-view-versus-a-copy\n",
      "  shp_df.unique_file_name.iloc[i] = pg_file_name\n"
     ]
    },
    {
     "name": "stdout",
     "output_type": "stream",
     "text": [
      "Executing 59273st file\n",
      "shape/NCFCCrop20190515101111.shp\n"
     ]
    },
    {
     "name": "stderr",
     "output_type": "stream",
     "text": [
      "C:\\Users\\user\\AppData\\Local\\Temp\\ipykernel_17068\\1832265514.py:168: SettingWithCopyWarning: \n",
      "A value is trying to be set on a copy of a slice from a DataFrame\n",
      "\n",
      "See the caveats in the documentation: https://pandas.pydata.org/pandas-docs/stable/user_guide/indexing.html#returning-a-view-versus-a-copy\n",
      "  shp_df.unique_file_name.iloc[i] = pg_file_name\n"
     ]
    },
    {
     "name": "stdout",
     "output_type": "stream",
     "text": [
      "Identifier 'idx_NCFCCrop20190515101111_b27551ab_21-06-2023 21:47:28_geometry' exceeds maximum length of 63 characters \\\\192.168.1.152\\ncfc_data3\\CHAMAN PHASE II\\CHAMAN_GT\\AP_April_May_2019\\NCFCCrop20190515101111.zip\\shape/NCFCCrop20190515101111.shp\n",
      "Executing 59274st file\n",
      "shape/NCFCCrop20190515101143.shp\n"
     ]
    },
    {
     "name": "stderr",
     "output_type": "stream",
     "text": [
      "C:\\Users\\user\\AppData\\Local\\Temp\\ipykernel_17068\\1832265514.py:168: SettingWithCopyWarning: \n",
      "A value is trying to be set on a copy of a slice from a DataFrame\n",
      "\n",
      "See the caveats in the documentation: https://pandas.pydata.org/pandas-docs/stable/user_guide/indexing.html#returning-a-view-versus-a-copy\n",
      "  shp_df.unique_file_name.iloc[i] = pg_file_name\n"
     ]
    },
    {
     "name": "stdout",
     "output_type": "stream",
     "text": [
      "Identifier 'idx_NCFCCrop20190515101143_f7a6ce94_21-06-2023 21:47:31_geometry' exceeds maximum length of 63 characters \\\\192.168.1.152\\ncfc_data3\\CHAMAN PHASE II\\CHAMAN_GT\\AP_April_May_2019\\NCFCCrop20190515101143.zip\\shape/NCFCCrop20190515101143.shp\n",
      "Executing 59280st file\n",
      "shape/NCFCCrop2018111990321.shp\n"
     ]
    },
    {
     "name": "stderr",
     "output_type": "stream",
     "text": [
      "C:\\Users\\user\\AppData\\Local\\Temp\\ipykernel_17068\\1832265514.py:168: SettingWithCopyWarning: \n",
      "A value is trying to be set on a copy of a slice from a DataFrame\n",
      "\n",
      "See the caveats in the documentation: https://pandas.pydata.org/pandas-docs/stable/user_guide/indexing.html#returning-a-view-versus-a-copy\n",
      "  shp_df.unique_file_name.iloc[i] = pg_file_name\n"
     ]
    },
    {
     "name": "stdout",
     "output_type": "stream",
     "text": [
      "Executing 59281st file\n",
      "shape/NCFCCrop2018111990738.shp\n"
     ]
    },
    {
     "name": "stderr",
     "output_type": "stream",
     "text": [
      "C:\\Users\\user\\AppData\\Local\\Temp\\ipykernel_17068\\1832265514.py:168: SettingWithCopyWarning: \n",
      "A value is trying to be set on a copy of a slice from a DataFrame\n",
      "\n",
      "See the caveats in the documentation: https://pandas.pydata.org/pandas-docs/stable/user_guide/indexing.html#returning-a-view-versus-a-copy\n",
      "  shp_df.unique_file_name.iloc[i] = pg_file_name\n"
     ]
    },
    {
     "name": "stdout",
     "output_type": "stream",
     "text": [
      "Executing 59285st file\n",
      "shape/NCFCCrop2018121192531.shp\n"
     ]
    },
    {
     "name": "stderr",
     "output_type": "stream",
     "text": [
      "C:\\Users\\user\\AppData\\Local\\Temp\\ipykernel_17068\\1832265514.py:168: SettingWithCopyWarning: \n",
      "A value is trying to be set on a copy of a slice from a DataFrame\n",
      "\n",
      "See the caveats in the documentation: https://pandas.pydata.org/pandas-docs/stable/user_guide/indexing.html#returning-a-view-versus-a-copy\n",
      "  shp_df.unique_file_name.iloc[i] = pg_file_name\n"
     ]
    },
    {
     "name": "stdout",
     "output_type": "stream",
     "text": [
      "Executing 59287st file\n",
      "shape/NCFCCrop2019010450350.shp\n"
     ]
    },
    {
     "name": "stderr",
     "output_type": "stream",
     "text": [
      "C:\\Users\\user\\AppData\\Local\\Temp\\ipykernel_17068\\1832265514.py:168: SettingWithCopyWarning: \n",
      "A value is trying to be set on a copy of a slice from a DataFrame\n",
      "\n",
      "See the caveats in the documentation: https://pandas.pydata.org/pandas-docs/stable/user_guide/indexing.html#returning-a-view-versus-a-copy\n",
      "  shp_df.unique_file_name.iloc[i] = pg_file_name\n"
     ]
    },
    {
     "name": "stdout",
     "output_type": "stream",
     "text": [
      "Executing 59289st file\n",
      "shape/NCFCCrop20190128114315.shp\n"
     ]
    },
    {
     "name": "stderr",
     "output_type": "stream",
     "text": [
      "C:\\Users\\user\\AppData\\Local\\Temp\\ipykernel_17068\\1832265514.py:168: SettingWithCopyWarning: \n",
      "A value is trying to be set on a copy of a slice from a DataFrame\n",
      "\n",
      "See the caveats in the documentation: https://pandas.pydata.org/pandas-docs/stable/user_guide/indexing.html#returning-a-view-versus-a-copy\n",
      "  shp_df.unique_file_name.iloc[i] = pg_file_name\n"
     ]
    },
    {
     "name": "stdout",
     "output_type": "stream",
     "text": [
      "Identifier 'idx_NCFCCrop20190128114315_ad063389_21-06-2023 21:47:44_geometry' exceeds maximum length of 63 characters \\\\192.168.1.152\\ncfc_data3\\CHAMAN PHASE II\\CHAMAN_GT\\NCFCCrop20190128114315_AP_jan19\\NCFCCrop20190128114315_AP_jan19.zip\\shape/NCFCCrop20190128114315.shp\n",
      "Executing 59291st file\n",
      "shape/NCFCCrop2019020444309.shp\n"
     ]
    },
    {
     "name": "stderr",
     "output_type": "stream",
     "text": [
      "C:\\Users\\user\\AppData\\Local\\Temp\\ipykernel_17068\\1832265514.py:168: SettingWithCopyWarning: \n",
      "A value is trying to be set on a copy of a slice from a DataFrame\n",
      "\n",
      "See the caveats in the documentation: https://pandas.pydata.org/pandas-docs/stable/user_guide/indexing.html#returning-a-view-versus-a-copy\n",
      "  shp_df.unique_file_name.iloc[i] = pg_file_name\n"
     ]
    },
    {
     "name": "stdout",
     "output_type": "stream",
     "text": [
      "Executing 59300st file\n",
      "shape/NCFCCrop2018022854737.shp\n"
     ]
    },
    {
     "name": "stderr",
     "output_type": "stream",
     "text": [
      "C:\\Users\\user\\AppData\\Local\\Temp\\ipykernel_17068\\1832265514.py:168: SettingWithCopyWarning: \n",
      "A value is trying to be set on a copy of a slice from a DataFrame\n",
      "\n",
      "See the caveats in the documentation: https://pandas.pydata.org/pandas-docs/stable/user_guide/indexing.html#returning-a-view-versus-a-copy\n",
      "  shp_df.unique_file_name.iloc[i] = pg_file_name\n"
     ]
    },
    {
     "name": "stdout",
     "output_type": "stream",
     "text": [
      "Executing 59313st file\n",
      "mango/surat.shp\n"
     ]
    },
    {
     "name": "stderr",
     "output_type": "stream",
     "text": [
      "C:\\Users\\user\\AppData\\Local\\Temp\\ipykernel_17068\\1832265514.py:168: SettingWithCopyWarning: \n",
      "A value is trying to be set on a copy of a slice from a DataFrame\n",
      "\n",
      "See the caveats in the documentation: https://pandas.pydata.org/pandas-docs/stable/user_guide/indexing.html#returning-a-view-versus-a-copy\n",
      "  shp_df.unique_file_name.iloc[i] = pg_file_name\n"
     ]
    },
    {
     "name": "stdout",
     "output_type": "stream",
     "text": [
      "Executing 59314st file\n",
      "mango/surat_utm.shp\n"
     ]
    },
    {
     "name": "stderr",
     "output_type": "stream",
     "text": [
      "C:\\Users\\user\\AppData\\Local\\Temp\\ipykernel_17068\\1832265514.py:168: SettingWithCopyWarning: \n",
      "A value is trying to be set on a copy of a slice from a DataFrame\n",
      "\n",
      "See the caveats in the documentation: https://pandas.pydata.org/pandas-docs/stable/user_guide/indexing.html#returning-a-view-versus-a-copy\n",
      "  shp_df.unique_file_name.iloc[i] = pg_file_name\n"
     ]
    },
    {
     "name": "stdout",
     "output_type": "stream",
     "text": [
      "Executing 60789st file\n",
      "India_districts_shp_updated.shp\n"
     ]
    },
    {
     "name": "stderr",
     "output_type": "stream",
     "text": [
      "C:\\Users\\user\\AppData\\Local\\Temp\\ipykernel_17068\\1832265514.py:168: SettingWithCopyWarning: \n",
      "A value is trying to be set on a copy of a slice from a DataFrame\n",
      "\n",
      "See the caveats in the documentation: https://pandas.pydata.org/pandas-docs/stable/user_guide/indexing.html#returning-a-view-versus-a-copy\n",
      "  shp_df.unique_file_name.iloc[i] = pg_file_name\n"
     ]
    },
    {
     "name": "stdout",
     "output_type": "stream",
     "text": [
      "Identifier 'idx_India_districts_shp_updated_f8b64d95_21-06-2023 21:47:55_geometry' exceeds maximum length of 63 characters \\\\192.168.1.152\\ncfc_data3\\CHAMAN PHASE II\\India_District_Boundary(Latest)\\updated_distt_boundary\\updated_distt_boundary.zip\\India_districts_shp_updated.shp\n",
      "Executing 60790st file\n",
      "Arunachal_dist_updated.shp\n"
     ]
    },
    {
     "name": "stderr",
     "output_type": "stream",
     "text": [
      "C:\\Users\\user\\AppData\\Local\\Temp\\ipykernel_17068\\1832265514.py:168: SettingWithCopyWarning: \n",
      "A value is trying to be set on a copy of a slice from a DataFrame\n",
      "\n",
      "See the caveats in the documentation: https://pandas.pydata.org/pandas-docs/stable/user_guide/indexing.html#returning-a-view-versus-a-copy\n",
      "  shp_df.unique_file_name.iloc[i] = pg_file_name\n"
     ]
    },
    {
     "name": "stdout",
     "output_type": "stream",
     "text": [
      "Identifier 'idx_Arunachal_dist_updated_e999c386_21-06-2023 21:48:06_geometry' exceeds maximum length of 63 characters \\\\192.168.1.152\\ncfc_data3\\CHAMAN PHASE II\\India_District_Boundary(Latest)\\updated_distt_boundary\\updated_distt_boundary.zip\\Arunachal_dist_updated.shp\n",
      "Executing 60830st file\n",
      "shape/Chaman2016062765338.shp\n"
     ]
    },
    {
     "name": "stderr",
     "output_type": "stream",
     "text": [
      "C:\\Users\\user\\AppData\\Local\\Temp\\ipykernel_17068\\1832265514.py:168: SettingWithCopyWarning: \n",
      "A value is trying to be set on a copy of a slice from a DataFrame\n",
      "\n",
      "See the caveats in the documentation: https://pandas.pydata.org/pandas-docs/stable/user_guide/indexing.html#returning-a-view-versus-a-copy\n",
      "  shp_df.unique_file_name.iloc[i] = pg_file_name\n"
     ]
    },
    {
     "name": "stdout",
     "output_type": "stream",
     "text": [
      "Executing 60831st file\n",
      "shape/NCFCCrop2016062765218.shp\n"
     ]
    },
    {
     "name": "stderr",
     "output_type": "stream",
     "text": [
      "C:\\Users\\user\\AppData\\Local\\Temp\\ipykernel_17068\\1832265514.py:168: SettingWithCopyWarning: \n",
      "A value is trying to be set on a copy of a slice from a DataFrame\n",
      "\n",
      "See the caveats in the documentation: https://pandas.pydata.org/pandas-docs/stable/user_guide/indexing.html#returning-a-view-versus-a-copy\n",
      "  shp_df.unique_file_name.iloc[i] = pg_file_name\n"
     ]
    },
    {
     "name": "stdout",
     "output_type": "stream",
     "text": [
      "Executing 60835st file\n",
      "shape/NCFCCrop20160725114628.shp\n"
     ]
    },
    {
     "name": "stderr",
     "output_type": "stream",
     "text": [
      "C:\\Users\\user\\AppData\\Local\\Temp\\ipykernel_17068\\1832265514.py:168: SettingWithCopyWarning: \n",
      "A value is trying to be set on a copy of a slice from a DataFrame\n",
      "\n",
      "See the caveats in the documentation: https://pandas.pydata.org/pandas-docs/stable/user_guide/indexing.html#returning-a-view-versus-a-copy\n",
      "  shp_df.unique_file_name.iloc[i] = pg_file_name\n"
     ]
    },
    {
     "name": "stdout",
     "output_type": "stream",
     "text": [
      "Identifier 'idx_NCFCCrop20160725114628_6e36ff94_21-06-2023 21:48:11_geometry' exceeds maximum length of 63 characters \\\\192.168.1.152\\ncfc_data3\\CHAMAN PHASE II\\Mentha\\Barabanki analysis_previous\\GT\\NCFCCrop20160725114628.zip\\shape/NCFCCrop20160725114628.shp\n",
      "Executing 60842st file\n",
      "shape/NCFCCrop2016061383541.shp\n"
     ]
    },
    {
     "name": "stderr",
     "output_type": "stream",
     "text": [
      "C:\\Users\\user\\AppData\\Local\\Temp\\ipykernel_17068\\1832265514.py:168: SettingWithCopyWarning: \n",
      "A value is trying to be set on a copy of a slice from a DataFrame\n",
      "\n",
      "See the caveats in the documentation: https://pandas.pydata.org/pandas-docs/stable/user_guide/indexing.html#returning-a-view-versus-a-copy\n",
      "  shp_df.unique_file_name.iloc[i] = pg_file_name\n"
     ]
    },
    {
     "name": "stdout",
     "output_type": "stream",
     "text": [
      "Executing 60865st file\n",
      "BARABANKIDISTRICT.shp\n"
     ]
    },
    {
     "name": "stderr",
     "output_type": "stream",
     "text": [
      "C:\\Users\\user\\AppData\\Local\\Temp\\ipykernel_17068\\1832265514.py:168: SettingWithCopyWarning: \n",
      "A value is trying to be set on a copy of a slice from a DataFrame\n",
      "\n",
      "See the caveats in the documentation: https://pandas.pydata.org/pandas-docs/stable/user_guide/indexing.html#returning-a-view-versus-a-copy\n",
      "  shp_df.unique_file_name.iloc[i] = pg_file_name\n"
     ]
    },
    {
     "name": "stdout",
     "output_type": "stream",
     "text": [
      "Executing 60899st file\n",
      "shape/NCFCCrop2018051184710.shp\n"
     ]
    },
    {
     "name": "stderr",
     "output_type": "stream",
     "text": [
      "C:\\Users\\user\\AppData\\Local\\Temp\\ipykernel_17068\\1832265514.py:168: SettingWithCopyWarning: \n",
      "A value is trying to be set on a copy of a slice from a DataFrame\n",
      "\n",
      "See the caveats in the documentation: https://pandas.pydata.org/pandas-docs/stable/user_guide/indexing.html#returning-a-view-versus-a-copy\n",
      "  shp_df.unique_file_name.iloc[i] = pg_file_name\n"
     ]
    },
    {
     "name": "stdout",
     "output_type": "stream",
     "text": [
      "Executing 60901st file\n",
      "shape/NCFCCrop2018051455301.shp\n"
     ]
    },
    {
     "name": "stderr",
     "output_type": "stream",
     "text": [
      "C:\\Users\\user\\AppData\\Local\\Temp\\ipykernel_17068\\1832265514.py:168: SettingWithCopyWarning: \n",
      "A value is trying to be set on a copy of a slice from a DataFrame\n",
      "\n",
      "See the caveats in the documentation: https://pandas.pydata.org/pandas-docs/stable/user_guide/indexing.html#returning-a-view-versus-a-copy\n",
      "  shp_df.unique_file_name.iloc[i] = pg_file_name\n"
     ]
    },
    {
     "name": "stdout",
     "output_type": "stream",
     "text": [
      "Executing 60905st file\n",
      "shape/NCFCCrop2018051554646.shp\n"
     ]
    },
    {
     "name": "stderr",
     "output_type": "stream",
     "text": [
      "C:\\Users\\user\\AppData\\Local\\Temp\\ipykernel_17068\\1832265514.py:168: SettingWithCopyWarning: \n",
      "A value is trying to be set on a copy of a slice from a DataFrame\n",
      "\n",
      "See the caveats in the documentation: https://pandas.pydata.org/pandas-docs/stable/user_guide/indexing.html#returning-a-view-versus-a-copy\n",
      "  shp_df.unique_file_name.iloc[i] = pg_file_name\n"
     ]
    },
    {
     "name": "stdout",
     "output_type": "stream",
     "text": [
      "Executing 60907st file\n",
      "shape/NCFCCrop2018110594437.shp\n"
     ]
    },
    {
     "name": "stderr",
     "output_type": "stream",
     "text": [
      "C:\\Users\\user\\AppData\\Local\\Temp\\ipykernel_17068\\1832265514.py:168: SettingWithCopyWarning: \n",
      "A value is trying to be set on a copy of a slice from a DataFrame\n",
      "\n",
      "See the caveats in the documentation: https://pandas.pydata.org/pandas-docs/stable/user_guide/indexing.html#returning-a-view-versus-a-copy\n",
      "  shp_df.unique_file_name.iloc[i] = pg_file_name\n"
     ]
    },
    {
     "name": "stdout",
     "output_type": "stream",
     "text": [
      "Executing 60908st file\n",
      "shape/NCFCCrop2018110594948.shp\n"
     ]
    },
    {
     "name": "stderr",
     "output_type": "stream",
     "text": [
      "C:\\Users\\user\\AppData\\Local\\Temp\\ipykernel_17068\\1832265514.py:168: SettingWithCopyWarning: \n",
      "A value is trying to be set on a copy of a slice from a DataFrame\n",
      "\n",
      "See the caveats in the documentation: https://pandas.pydata.org/pandas-docs/stable/user_guide/indexing.html#returning-a-view-versus-a-copy\n",
      "  shp_df.unique_file_name.iloc[i] = pg_file_name\n"
     ]
    },
    {
     "name": "stdout",
     "output_type": "stream",
     "text": [
      "Executing 60912st file\n",
      "shape/NCFCCrop2019061394443.shp\n"
     ]
    },
    {
     "name": "stderr",
     "output_type": "stream",
     "text": [
      "C:\\Users\\user\\AppData\\Local\\Temp\\ipykernel_17068\\1832265514.py:168: SettingWithCopyWarning: \n",
      "A value is trying to be set on a copy of a slice from a DataFrame\n",
      "\n",
      "See the caveats in the documentation: https://pandas.pydata.org/pandas-docs/stable/user_guide/indexing.html#returning-a-view-versus-a-copy\n",
      "  shp_df.unique_file_name.iloc[i] = pg_file_name\n"
     ]
    },
    {
     "name": "stdout",
     "output_type": "stream",
     "text": [
      "Executing 60913st file\n",
      "shape/NCFCCrop2019061394541.shp\n"
     ]
    },
    {
     "name": "stderr",
     "output_type": "stream",
     "text": [
      "C:\\Users\\user\\AppData\\Local\\Temp\\ipykernel_17068\\1832265514.py:168: SettingWithCopyWarning: \n",
      "A value is trying to be set on a copy of a slice from a DataFrame\n",
      "\n",
      "See the caveats in the documentation: https://pandas.pydata.org/pandas-docs/stable/user_guide/indexing.html#returning-a-view-versus-a-copy\n",
      "  shp_df.unique_file_name.iloc[i] = pg_file_name\n"
     ]
    },
    {
     "name": "stdout",
     "output_type": "stream",
     "text": [
      "Executing 60914st file\n",
      "shape/NCFCCrop2019061394626.shp\n"
     ]
    },
    {
     "name": "stderr",
     "output_type": "stream",
     "text": [
      "C:\\Users\\user\\AppData\\Local\\Temp\\ipykernel_17068\\1832265514.py:168: SettingWithCopyWarning: \n",
      "A value is trying to be set on a copy of a slice from a DataFrame\n",
      "\n",
      "See the caveats in the documentation: https://pandas.pydata.org/pandas-docs/stable/user_guide/indexing.html#returning-a-view-versus-a-copy\n",
      "  shp_df.unique_file_name.iloc[i] = pg_file_name\n"
     ]
    },
    {
     "name": "stdout",
     "output_type": "stream",
     "text": [
      "Executing 60915st file\n",
      "shape/NCFCCrop20190626112221.shp\n"
     ]
    },
    {
     "name": "stderr",
     "output_type": "stream",
     "text": [
      "C:\\Users\\user\\AppData\\Local\\Temp\\ipykernel_17068\\1832265514.py:168: SettingWithCopyWarning: \n",
      "A value is trying to be set on a copy of a slice from a DataFrame\n",
      "\n",
      "See the caveats in the documentation: https://pandas.pydata.org/pandas-docs/stable/user_guide/indexing.html#returning-a-view-versus-a-copy\n",
      "  shp_df.unique_file_name.iloc[i] = pg_file_name\n"
     ]
    },
    {
     "name": "stdout",
     "output_type": "stream",
     "text": [
      "Identifier 'idx_NCFCCrop20190626112221_5e53a7b8_21-06-2023 21:48:31_geometry' exceeds maximum length of 63 characters \\\\192.168.1.152\\ncfc_data3\\CHAMAN PHASE II\\orchard gt\\NCFCCrop20190626112221.zip\\shape/NCFCCrop20190626112221.shp\n",
      "Executing 60916st file\n",
      "shape/NCFCCrop20190626112322.shp\n"
     ]
    },
    {
     "name": "stderr",
     "output_type": "stream",
     "text": [
      "C:\\Users\\user\\AppData\\Local\\Temp\\ipykernel_17068\\1832265514.py:168: SettingWithCopyWarning: \n",
      "A value is trying to be set on a copy of a slice from a DataFrame\n",
      "\n",
      "See the caveats in the documentation: https://pandas.pydata.org/pandas-docs/stable/user_guide/indexing.html#returning-a-view-versus-a-copy\n",
      "  shp_df.unique_file_name.iloc[i] = pg_file_name\n"
     ]
    },
    {
     "name": "stdout",
     "output_type": "stream",
     "text": [
      "Identifier 'idx_NCFCCrop20190626112322_dd0ba833_21-06-2023 21:48:32_geometry' exceeds maximum length of 63 characters \\\\192.168.1.152\\ncfc_data3\\CHAMAN PHASE II\\orchard gt\\NCFCCrop20190626112322.zip\\shape/NCFCCrop20190626112322.shp\n",
      "Executing 60917st file\n",
      "shape/NCFCCrop20190626112544.shp\n"
     ]
    },
    {
     "name": "stderr",
     "output_type": "stream",
     "text": [
      "C:\\Users\\user\\AppData\\Local\\Temp\\ipykernel_17068\\1832265514.py:168: SettingWithCopyWarning: \n",
      "A value is trying to be set on a copy of a slice from a DataFrame\n",
      "\n",
      "See the caveats in the documentation: https://pandas.pydata.org/pandas-docs/stable/user_guide/indexing.html#returning-a-view-versus-a-copy\n",
      "  shp_df.unique_file_name.iloc[i] = pg_file_name\n"
     ]
    },
    {
     "name": "stdout",
     "output_type": "stream",
     "text": [
      "Identifier 'idx_NCFCCrop20190626112544_6b167556_21-06-2023 21:48:32_geometry' exceeds maximum length of 63 characters \\\\192.168.1.152\\ncfc_data3\\CHAMAN PHASE II\\orchard gt\\NCFCCrop20190626112544.zip\\shape/NCFCCrop20190626112544.shp\n",
      "Executing 60918st file\n",
      "shape/NCFCCrop20190626112913.shp\n"
     ]
    },
    {
     "name": "stderr",
     "output_type": "stream",
     "text": [
      "C:\\Users\\user\\AppData\\Local\\Temp\\ipykernel_17068\\1832265514.py:168: SettingWithCopyWarning: \n",
      "A value is trying to be set on a copy of a slice from a DataFrame\n",
      "\n",
      "See the caveats in the documentation: https://pandas.pydata.org/pandas-docs/stable/user_guide/indexing.html#returning-a-view-versus-a-copy\n",
      "  shp_df.unique_file_name.iloc[i] = pg_file_name\n"
     ]
    },
    {
     "name": "stdout",
     "output_type": "stream",
     "text": [
      "Identifier 'idx_NCFCCrop20190626112913_5fda296c_21-06-2023 21:48:34_geometry' exceeds maximum length of 63 characters \\\\192.168.1.152\\ncfc_data3\\CHAMAN PHASE II\\orchard gt\\NCFCCrop20190626112913.zip\\shape/NCFCCrop20190626112913.shp\n",
      "Executing 60919st file\n",
      "shape/NCFCCrop2019061310131.shp\n"
     ]
    },
    {
     "name": "stderr",
     "output_type": "stream",
     "text": [
      "C:\\Users\\user\\AppData\\Local\\Temp\\ipykernel_17068\\1832265514.py:168: SettingWithCopyWarning: \n",
      "A value is trying to be set on a copy of a slice from a DataFrame\n",
      "\n",
      "See the caveats in the documentation: https://pandas.pydata.org/pandas-docs/stable/user_guide/indexing.html#returning-a-view-versus-a-copy\n",
      "  shp_df.unique_file_name.iloc[i] = pg_file_name\n"
     ]
    },
    {
     "name": "stdout",
     "output_type": "stream",
     "text": [
      "Executing 60920st file\n",
      "shape/NCFCCrop20160725114628.shp\n"
     ]
    },
    {
     "name": "stderr",
     "output_type": "stream",
     "text": [
      "C:\\Users\\user\\AppData\\Local\\Temp\\ipykernel_17068\\1832265514.py:168: SettingWithCopyWarning: \n",
      "A value is trying to be set on a copy of a slice from a DataFrame\n",
      "\n",
      "See the caveats in the documentation: https://pandas.pydata.org/pandas-docs/stable/user_guide/indexing.html#returning-a-view-versus-a-copy\n",
      "  shp_df.unique_file_name.iloc[i] = pg_file_name\n"
     ]
    },
    {
     "name": "stdout",
     "output_type": "stream",
     "text": [
      "Identifier 'idx_NCFCCrop20160725114628_6e36ff94_21-06-2023 21:48:35_geometry' exceeds maximum length of 63 characters \\\\192.168.1.152\\ncfc_data3\\CHAMAN PHASE II\\Mentha\\Barabanki analysis_previous\\GT\\NCFCCrop20160725114628.zip\\shape/NCFCCrop20160725114628.shp\n",
      "Executing 98742st file\n",
      "shape/NCFCCrop2019061310222.shp\n"
     ]
    },
    {
     "name": "stderr",
     "output_type": "stream",
     "text": [
      "C:\\Users\\user\\AppData\\Local\\Temp\\ipykernel_17068\\1832265514.py:168: SettingWithCopyWarning: \n",
      "A value is trying to be set on a copy of a slice from a DataFrame\n",
      "\n",
      "See the caveats in the documentation: https://pandas.pydata.org/pandas-docs/stable/user_guide/indexing.html#returning-a-view-versus-a-copy\n",
      "  shp_df.unique_file_name.iloc[i] = pg_file_name\n"
     ]
    },
    {
     "name": "stdout",
     "output_type": "stream",
     "text": [
      "Executing 98779st file\n",
      "shape/NCFCCrop2018072693749.shp\n"
     ]
    },
    {
     "name": "stderr",
     "output_type": "stream",
     "text": [
      "C:\\Users\\user\\AppData\\Local\\Temp\\ipykernel_17068\\1832265514.py:168: SettingWithCopyWarning: \n",
      "A value is trying to be set on a copy of a slice from a DataFrame\n",
      "\n",
      "See the caveats in the documentation: https://pandas.pydata.org/pandas-docs/stable/user_guide/indexing.html#returning-a-view-versus-a-copy\n",
      "  shp_df.unique_file_name.iloc[i] = pg_file_name\n"
     ]
    },
    {
     "name": "stdout",
     "output_type": "stream",
     "text": [
      "Executing 98780st file\n",
      "shape/NCFCCrop2022101393647.shp\n"
     ]
    },
    {
     "name": "stderr",
     "output_type": "stream",
     "text": [
      "C:\\Users\\user\\AppData\\Local\\Temp\\ipykernel_17068\\1832265514.py:168: SettingWithCopyWarning: \n",
      "A value is trying to be set on a copy of a slice from a DataFrame\n",
      "\n",
      "See the caveats in the documentation: https://pandas.pydata.org/pandas-docs/stable/user_guide/indexing.html#returning-a-view-versus-a-copy\n",
      "  shp_df.unique_file_name.iloc[i] = pg_file_name\n"
     ]
    },
    {
     "name": "stdout",
     "output_type": "stream",
     "text": [
      "Executing 98781st file\n",
      "shape/NCFCCrop20221013110928.shp\n"
     ]
    },
    {
     "name": "stderr",
     "output_type": "stream",
     "text": [
      "C:\\Users\\user\\AppData\\Local\\Temp\\ipykernel_17068\\1832265514.py:168: SettingWithCopyWarning: \n",
      "A value is trying to be set on a copy of a slice from a DataFrame\n",
      "\n",
      "See the caveats in the documentation: https://pandas.pydata.org/pandas-docs/stable/user_guide/indexing.html#returning-a-view-versus-a-copy\n",
      "  shp_df.unique_file_name.iloc[i] = pg_file_name\n"
     ]
    },
    {
     "name": "stdout",
     "output_type": "stream",
     "text": [
      "Identifier 'idx_NCFCCrop20221013110928_e0d75f17_21-06-2023 21:49:05_geometry' exceeds maximum length of 63 characters \\\\192.168.1.152\\ncfc_data3\\MNCFC GT Repository\\2016\\Andhra Pradesh\\Q3\\NCFCCrop20221013110928.zip\\shape/NCFCCrop20221013110928.shp\n",
      "Executing 98783st file\n",
      "shape/NCFCCrop2023050475321.shp\n"
     ]
    },
    {
     "name": "stderr",
     "output_type": "stream",
     "text": [
      "C:\\Users\\user\\AppData\\Local\\Temp\\ipykernel_17068\\1832265514.py:168: SettingWithCopyWarning: \n",
      "A value is trying to be set on a copy of a slice from a DataFrame\n",
      "\n",
      "See the caveats in the documentation: https://pandas.pydata.org/pandas-docs/stable/user_guide/indexing.html#returning-a-view-versus-a-copy\n",
      "  shp_df.unique_file_name.iloc[i] = pg_file_name\n"
     ]
    },
    {
     "name": "stdout",
     "output_type": "stream",
     "text": [
      "Executing 98784st file\n",
      "shape/NCFCCrop2018070654116.shp\n"
     ]
    },
    {
     "name": "stderr",
     "output_type": "stream",
     "text": [
      "C:\\Users\\user\\AppData\\Local\\Temp\\ipykernel_17068\\1832265514.py:168: SettingWithCopyWarning: \n",
      "A value is trying to be set on a copy of a slice from a DataFrame\n",
      "\n",
      "See the caveats in the documentation: https://pandas.pydata.org/pandas-docs/stable/user_guide/indexing.html#returning-a-view-versus-a-copy\n",
      "  shp_df.unique_file_name.iloc[i] = pg_file_name\n"
     ]
    },
    {
     "name": "stdout",
     "output_type": "stream",
     "text": [
      "Executing 98785st file\n",
      "shape/NCFCCrop2022101180904.shp\n"
     ]
    },
    {
     "name": "stderr",
     "output_type": "stream",
     "text": [
      "C:\\Users\\user\\AppData\\Local\\Temp\\ipykernel_17068\\1832265514.py:168: SettingWithCopyWarning: \n",
      "A value is trying to be set on a copy of a slice from a DataFrame\n",
      "\n",
      "See the caveats in the documentation: https://pandas.pydata.org/pandas-docs/stable/user_guide/indexing.html#returning-a-view-versus-a-copy\n",
      "  shp_df.unique_file_name.iloc[i] = pg_file_name\n"
     ]
    },
    {
     "name": "stdout",
     "output_type": "stream",
     "text": [
      "Executing 98786st file\n",
      "shape/NCFCCrop2022101262120.shp\n"
     ]
    },
    {
     "name": "stderr",
     "output_type": "stream",
     "text": [
      "C:\\Users\\user\\AppData\\Local\\Temp\\ipykernel_17068\\1832265514.py:168: SettingWithCopyWarning: \n",
      "A value is trying to be set on a copy of a slice from a DataFrame\n",
      "\n",
      "See the caveats in the documentation: https://pandas.pydata.org/pandas-docs/stable/user_guide/indexing.html#returning-a-view-versus-a-copy\n",
      "  shp_df.unique_file_name.iloc[i] = pg_file_name\n"
     ]
    },
    {
     "name": "stdout",
     "output_type": "stream",
     "text": [
      "Executing 98787st file\n",
      "shape/NCFCCrop2022101274105.shp\n"
     ]
    },
    {
     "name": "stderr",
     "output_type": "stream",
     "text": [
      "C:\\Users\\user\\AppData\\Local\\Temp\\ipykernel_17068\\1832265514.py:168: SettingWithCopyWarning: \n",
      "A value is trying to be set on a copy of a slice from a DataFrame\n",
      "\n",
      "See the caveats in the documentation: https://pandas.pydata.org/pandas-docs/stable/user_guide/indexing.html#returning-a-view-versus-a-copy\n",
      "  shp_df.unique_file_name.iloc[i] = pg_file_name\n"
     ]
    },
    {
     "name": "stdout",
     "output_type": "stream",
     "text": [
      "Executing 98788st file\n",
      "shape/NCFCCrop2022101280331.shp\n"
     ]
    },
    {
     "name": "stderr",
     "output_type": "stream",
     "text": [
      "C:\\Users\\user\\AppData\\Local\\Temp\\ipykernel_17068\\1832265514.py:168: SettingWithCopyWarning: \n",
      "A value is trying to be set on a copy of a slice from a DataFrame\n",
      "\n",
      "See the caveats in the documentation: https://pandas.pydata.org/pandas-docs/stable/user_guide/indexing.html#returning-a-view-versus-a-copy\n",
      "  shp_df.unique_file_name.iloc[i] = pg_file_name\n"
     ]
    },
    {
     "name": "stdout",
     "output_type": "stream",
     "text": [
      "Executing 98800st file\n",
      "shape/NCFCCrop2018060463348.shp\n"
     ]
    },
    {
     "name": "stderr",
     "output_type": "stream",
     "text": [
      "C:\\Users\\user\\AppData\\Local\\Temp\\ipykernel_17068\\1832265514.py:168: SettingWithCopyWarning: \n",
      "A value is trying to be set on a copy of a slice from a DataFrame\n",
      "\n",
      "See the caveats in the documentation: https://pandas.pydata.org/pandas-docs/stable/user_guide/indexing.html#returning-a-view-versus-a-copy\n",
      "  shp_df.unique_file_name.iloc[i] = pg_file_name\n"
     ]
    },
    {
     "name": "stdout",
     "output_type": "stream",
     "text": [
      "Executing 98801st file\n",
      "shape/NCFCCrop2018061265538.shp\n"
     ]
    },
    {
     "name": "stderr",
     "output_type": "stream",
     "text": [
      "C:\\Users\\user\\AppData\\Local\\Temp\\ipykernel_17068\\1832265514.py:168: SettingWithCopyWarning: \n",
      "A value is trying to be set on a copy of a slice from a DataFrame\n",
      "\n",
      "See the caveats in the documentation: https://pandas.pydata.org/pandas-docs/stable/user_guide/indexing.html#returning-a-view-versus-a-copy\n",
      "  shp_df.unique_file_name.iloc[i] = pg_file_name\n"
     ]
    },
    {
     "name": "stdout",
     "output_type": "stream",
     "text": [
      "Executing 98802st file\n",
      "shape/NCFCCrop20221007113546.shp\n"
     ]
    },
    {
     "name": "stderr",
     "output_type": "stream",
     "text": [
      "C:\\Users\\user\\AppData\\Local\\Temp\\ipykernel_17068\\1832265514.py:168: SettingWithCopyWarning: \n",
      "A value is trying to be set on a copy of a slice from a DataFrame\n",
      "\n",
      "See the caveats in the documentation: https://pandas.pydata.org/pandas-docs/stable/user_guide/indexing.html#returning-a-view-versus-a-copy\n",
      "  shp_df.unique_file_name.iloc[i] = pg_file_name\n"
     ]
    },
    {
     "name": "stdout",
     "output_type": "stream",
     "text": [
      "Identifier 'idx_NCFCCrop20221007113546_be957101_21-06-2023 21:49:22_geometry' exceeds maximum length of 63 characters \\\\192.168.1.152\\ncfc_data3\\MNCFC GT Repository\\2018\\Andhra Pradesh\\Jan-Dec\\NCFCCrop20221007113546.zip\\shape/NCFCCrop20221007113546.shp\n",
      "Executing 98814st file\n",
      "shape/NCFCCrop20221007110733.shp\n"
     ]
    },
    {
     "name": "stderr",
     "output_type": "stream",
     "text": [
      "C:\\Users\\user\\AppData\\Local\\Temp\\ipykernel_17068\\1832265514.py:168: SettingWithCopyWarning: \n",
      "A value is trying to be set on a copy of a slice from a DataFrame\n",
      "\n",
      "See the caveats in the documentation: https://pandas.pydata.org/pandas-docs/stable/user_guide/indexing.html#returning-a-view-versus-a-copy\n",
      "  shp_df.unique_file_name.iloc[i] = pg_file_name\n"
     ]
    },
    {
     "name": "stdout",
     "output_type": "stream",
     "text": [
      "Identifier 'idx_NCFCCrop20221007110733_339e415a_21-06-2023 21:49:24_geometry' exceeds maximum length of 63 characters \\\\192.168.1.152\\ncfc_data3\\MNCFC GT Repository\\2020\\Andhra Pradesh\\1Apr-30Jun\\NCFCCrop20221007110733.zip\\shape/NCFCCrop20221007110733.shp\n",
      "Executing 98815st file\n",
      "shape/NCFCCrop2022100792152.shp\n"
     ]
    },
    {
     "name": "stderr",
     "output_type": "stream",
     "text": [
      "C:\\Users\\user\\AppData\\Local\\Temp\\ipykernel_17068\\1832265514.py:168: SettingWithCopyWarning: \n",
      "A value is trying to be set on a copy of a slice from a DataFrame\n",
      "\n",
      "See the caveats in the documentation: https://pandas.pydata.org/pandas-docs/stable/user_guide/indexing.html#returning-a-view-versus-a-copy\n",
      "  shp_df.unique_file_name.iloc[i] = pg_file_name\n"
     ]
    },
    {
     "name": "stdout",
     "output_type": "stream",
     "text": [
      "Executing 98816st file\n",
      "shape/NCFCCrop20221007111005.shp\n"
     ]
    },
    {
     "name": "stderr",
     "output_type": "stream",
     "text": [
      "C:\\Users\\user\\AppData\\Local\\Temp\\ipykernel_17068\\1832265514.py:168: SettingWithCopyWarning: \n",
      "A value is trying to be set on a copy of a slice from a DataFrame\n",
      "\n",
      "See the caveats in the documentation: https://pandas.pydata.org/pandas-docs/stable/user_guide/indexing.html#returning-a-view-versus-a-copy\n",
      "  shp_df.unique_file_name.iloc[i] = pg_file_name\n"
     ]
    },
    {
     "name": "stdout",
     "output_type": "stream",
     "text": [
      "Identifier 'idx_NCFCCrop20221007111005_9769afc5_21-06-2023 21:49:26_geometry' exceeds maximum length of 63 characters \\\\192.168.1.152\\ncfc_data3\\MNCFC GT Repository\\2020\\Andhra Pradesh\\1July-30Sep\\NCFCCrop20221007111005.zip\\shape/NCFCCrop20221007111005.shp\n",
      "Executing 98817st file\n",
      "shape/NCFCCrop20221007111542.shp\n"
     ]
    },
    {
     "name": "stderr",
     "output_type": "stream",
     "text": [
      "C:\\Users\\user\\AppData\\Local\\Temp\\ipykernel_17068\\1832265514.py:168: SettingWithCopyWarning: \n",
      "A value is trying to be set on a copy of a slice from a DataFrame\n",
      "\n",
      "See the caveats in the documentation: https://pandas.pydata.org/pandas-docs/stable/user_guide/indexing.html#returning-a-view-versus-a-copy\n",
      "  shp_df.unique_file_name.iloc[i] = pg_file_name\n"
     ]
    },
    {
     "name": "stdout",
     "output_type": "stream",
     "text": [
      "Identifier 'idx_NCFCCrop20221007111542_0fc366af_21-06-2023 21:49:27_geometry' exceeds maximum length of 63 characters \\\\192.168.1.152\\ncfc_data3\\MNCFC GT Repository\\2020\\Andhra Pradesh\\1Oct-31Dec\\NCFCCrop20221007111542.zip\\shape/NCFCCrop20221007111542.shp\n",
      "Executing 98818st file\n",
      "shape/BhuvanFASAL2023032950607.shp\n"
     ]
    },
    {
     "name": "stderr",
     "output_type": "stream",
     "text": [
      "C:\\Users\\user\\AppData\\Local\\Temp\\ipykernel_17068\\1832265514.py:168: SettingWithCopyWarning: \n",
      "A value is trying to be set on a copy of a slice from a DataFrame\n",
      "\n",
      "See the caveats in the documentation: https://pandas.pydata.org/pandas-docs/stable/user_guide/indexing.html#returning-a-view-versus-a-copy\n",
      "  shp_df.unique_file_name.iloc[i] = pg_file_name\n"
     ]
    },
    {
     "name": "stdout",
     "output_type": "stream",
     "text": [
      "Identifier 'idx_BhuvanFASAL2023032950607_5d85bd3a_21-06-2023 21:49:27_geometry' exceeds maximum length of 63 characters \\\\192.168.1.152\\ncfc_data3\\MNCFC GT Repository\\2020\\Chhattisgarh\\1Jan-31Dec\\BhuvanFASAL2023032950607.zip\\shape/BhuvanFASAL2023032950607.shp\n",
      "Executing 98819st file\n",
      "shape/BhuvanFASAL2022112183847.shp\n"
     ]
    },
    {
     "name": "stderr",
     "output_type": "stream",
     "text": [
      "C:\\Users\\user\\AppData\\Local\\Temp\\ipykernel_17068\\1832265514.py:168: SettingWithCopyWarning: \n",
      "A value is trying to be set on a copy of a slice from a DataFrame\n",
      "\n",
      "See the caveats in the documentation: https://pandas.pydata.org/pandas-docs/stable/user_guide/indexing.html#returning-a-view-versus-a-copy\n",
      "  shp_df.unique_file_name.iloc[i] = pg_file_name\n"
     ]
    },
    {
     "name": "stdout",
     "output_type": "stream",
     "text": [
      "Identifier 'idx_BhuvanFASAL2022112183847_3a3a11ce_21-06-2023 21:49:30_geometry' exceeds maximum length of 63 characters \\\\192.168.1.152\\ncfc_data3\\MNCFC GT Repository\\2020\\Gujarat\\1Jan-31Dec\\rebuilt.BhuvanFASAL2022112183847.zip\\shape/BhuvanFASAL2022112183847.shp\n",
      "Executing 98821st file\n",
      "shape/BhuvanFASAL2022111765143.shp\n"
     ]
    },
    {
     "name": "stderr",
     "output_type": "stream",
     "text": [
      "C:\\Users\\user\\AppData\\Local\\Temp\\ipykernel_17068\\1832265514.py:168: SettingWithCopyWarning: \n",
      "A value is trying to be set on a copy of a slice from a DataFrame\n",
      "\n",
      "See the caveats in the documentation: https://pandas.pydata.org/pandas-docs/stable/user_guide/indexing.html#returning-a-view-versus-a-copy\n",
      "  shp_df.unique_file_name.iloc[i] = pg_file_name\n"
     ]
    },
    {
     "name": "stdout",
     "output_type": "stream",
     "text": [
      "Identifier 'idx_BhuvanFASAL2022111765143_9ec9ae04_21-06-2023 21:49:31_geometry' exceeds maximum length of 63 characters \\\\192.168.1.152\\ncfc_data3\\MNCFC GT Repository\\2020\\Haryana\\1Jan-31Dec\\BhuvanFASAL2022111765143.zip\\shape/BhuvanFASAL2022111765143.shp\n",
      "Executing 98822st file\n",
      "shape/BhuvanFASAL2022111044307.shp\n"
     ]
    },
    {
     "name": "stderr",
     "output_type": "stream",
     "text": [
      "C:\\Users\\user\\AppData\\Local\\Temp\\ipykernel_17068\\1832265514.py:168: SettingWithCopyWarning: \n",
      "A value is trying to be set on a copy of a slice from a DataFrame\n",
      "\n",
      "See the caveats in the documentation: https://pandas.pydata.org/pandas-docs/stable/user_guide/indexing.html#returning-a-view-versus-a-copy\n",
      "  shp_df.unique_file_name.iloc[i] = pg_file_name\n"
     ]
    },
    {
     "name": "stdout",
     "output_type": "stream",
     "text": [
      "Identifier 'idx_BhuvanFASAL2022111044307_71d68e67_21-06-2023 21:49:32_geometry' exceeds maximum length of 63 characters \\\\192.168.1.152\\ncfc_data3\\MNCFC GT Repository\\2020\\Madhya Pradesh\\1Jan-31Dec\\BhuvanFASAL2022111044307.zip\\shape/BhuvanFASAL2022111044307.shp\n",
      "Executing 98823st file\n",
      "shape/BhuvanFASAL2023033181549.shp\n"
     ]
    },
    {
     "name": "stderr",
     "output_type": "stream",
     "text": [
      "C:\\Users\\user\\AppData\\Local\\Temp\\ipykernel_17068\\1832265514.py:168: SettingWithCopyWarning: \n",
      "A value is trying to be set on a copy of a slice from a DataFrame\n",
      "\n",
      "See the caveats in the documentation: https://pandas.pydata.org/pandas-docs/stable/user_guide/indexing.html#returning-a-view-versus-a-copy\n",
      "  shp_df.unique_file_name.iloc[i] = pg_file_name\n"
     ]
    },
    {
     "name": "stdout",
     "output_type": "stream",
     "text": [
      "Identifier 'idx_BhuvanFASAL2023033181549_b9b37569_21-06-2023 21:49:35_geometry' exceeds maximum length of 63 characters \\\\192.168.1.152\\ncfc_data3\\MNCFC GT Repository\\2020\\Maharashtra\\1Jan-31Dec\\BhuvanFASAL2023033181549.zip\\shape/BhuvanFASAL2023033181549.shp\n",
      "Executing 98824st file\n",
      "shape/BhuvanFASAL20221124102531.shp\n"
     ]
    },
    {
     "name": "stderr",
     "output_type": "stream",
     "text": [
      "C:\\Users\\user\\AppData\\Local\\Temp\\ipykernel_17068\\1832265514.py:168: SettingWithCopyWarning: \n",
      "A value is trying to be set on a copy of a slice from a DataFrame\n",
      "\n",
      "See the caveats in the documentation: https://pandas.pydata.org/pandas-docs/stable/user_guide/indexing.html#returning-a-view-versus-a-copy\n",
      "  shp_df.unique_file_name.iloc[i] = pg_file_name\n"
     ]
    },
    {
     "name": "stdout",
     "output_type": "stream",
     "text": [
      "Identifier 'idx_BhuvanFASAL20221124102531_c46f8484_21-06-2023 21:49:40_geometry' exceeds maximum length of 63 characters \\\\192.168.1.152\\ncfc_data3\\MNCFC GT Repository\\2020\\Odisha\\1Jan-30Sep\\BhuvanFASAL20221124102531.zip\\shape/BhuvanFASAL20221124102531.shp\n",
      "Executing 98825st file\n",
      "shape/BhuvanFASAL20230321101258.shp\n"
     ]
    },
    {
     "name": "stderr",
     "output_type": "stream",
     "text": [
      "C:\\Users\\user\\AppData\\Local\\Temp\\ipykernel_17068\\1832265514.py:168: SettingWithCopyWarning: \n",
      "A value is trying to be set on a copy of a slice from a DataFrame\n",
      "\n",
      "See the caveats in the documentation: https://pandas.pydata.org/pandas-docs/stable/user_guide/indexing.html#returning-a-view-versus-a-copy\n",
      "  shp_df.unique_file_name.iloc[i] = pg_file_name\n"
     ]
    },
    {
     "name": "stdout",
     "output_type": "stream",
     "text": [
      "Identifier 'idx_BhuvanFASAL20230321101258_3e3d4f85_21-06-2023 21:49:43_geometry' exceeds maximum length of 63 characters \\\\192.168.1.152\\ncfc_data3\\MNCFC GT Repository\\2020\\Rajasthan\\1Jan-31dec\\BhuvanFASAL20230321101258.zip\\shape/BhuvanFASAL20230321101258.shp\n",
      "Executing 98827st file\n",
      "shape/NCFCCrop2023032352613.shp\n"
     ]
    },
    {
     "name": "stderr",
     "output_type": "stream",
     "text": [
      "C:\\Users\\user\\AppData\\Local\\Temp\\ipykernel_17068\\1832265514.py:168: SettingWithCopyWarning: \n",
      "A value is trying to be set on a copy of a slice from a DataFrame\n",
      "\n",
      "See the caveats in the documentation: https://pandas.pydata.org/pandas-docs/stable/user_guide/indexing.html#returning-a-view-versus-a-copy\n",
      "  shp_df.unique_file_name.iloc[i] = pg_file_name\n"
     ]
    },
    {
     "name": "stdout",
     "output_type": "stream",
     "text": [
      "Executing 98828st file\n",
      "shape/BhuvanFASAL2022102692444.shp\n"
     ]
    },
    {
     "name": "stderr",
     "output_type": "stream",
     "text": [
      "C:\\Users\\user\\AppData\\Local\\Temp\\ipykernel_17068\\1832265514.py:168: SettingWithCopyWarning: \n",
      "A value is trying to be set on a copy of a slice from a DataFrame\n",
      "\n",
      "See the caveats in the documentation: https://pandas.pydata.org/pandas-docs/stable/user_guide/indexing.html#returning-a-view-versus-a-copy\n",
      "  shp_df.unique_file_name.iloc[i] = pg_file_name\n"
     ]
    },
    {
     "name": "stdout",
     "output_type": "stream",
     "text": [
      "Identifier 'idx_BhuvanFASAL2022102692444_850ab16d_21-06-2023 21:49:48_geometry' exceeds maximum length of 63 characters \\\\192.168.1.152\\ncfc_data3\\MNCFC GT Repository\\2020\\Uttar Pradesh\\1Jan-31Mar\\BhuvanFASAL2022102692444.zip\\shape/BhuvanFASAL2022102692444.shp\n",
      "Executing 98829st file\n",
      "shape/BhuvanFASAL2022102730859.shp\n"
     ]
    },
    {
     "name": "stderr",
     "output_type": "stream",
     "text": [
      "C:\\Users\\user\\AppData\\Local\\Temp\\ipykernel_17068\\1832265514.py:168: SettingWithCopyWarning: \n",
      "A value is trying to be set on a copy of a slice from a DataFrame\n",
      "\n",
      "See the caveats in the documentation: https://pandas.pydata.org/pandas-docs/stable/user_guide/indexing.html#returning-a-view-versus-a-copy\n",
      "  shp_df.unique_file_name.iloc[i] = pg_file_name\n"
     ]
    },
    {
     "name": "stdout",
     "output_type": "stream",
     "text": [
      "Identifier 'idx_BhuvanFASAL2022102730859_b6f527de_21-06-2023 21:49:53_geometry' exceeds maximum length of 63 characters \\\\192.168.1.152\\ncfc_data3\\MNCFC GT Repository\\2020\\Uttar Pradesh\\1July-30Sep\\BhuvanFASAL2022102730859.zip\\shape/BhuvanFASAL2022102730859.shp\n",
      "Executing 98830st file\n",
      "shape/BhuvanFASAL2022102775044.shp\n"
     ]
    },
    {
     "name": "stderr",
     "output_type": "stream",
     "text": [
      "C:\\Users\\user\\AppData\\Local\\Temp\\ipykernel_17068\\1832265514.py:168: SettingWithCopyWarning: \n",
      "A value is trying to be set on a copy of a slice from a DataFrame\n",
      "\n",
      "See the caveats in the documentation: https://pandas.pydata.org/pandas-docs/stable/user_guide/indexing.html#returning-a-view-versus-a-copy\n",
      "  shp_df.unique_file_name.iloc[i] = pg_file_name\n"
     ]
    },
    {
     "name": "stdout",
     "output_type": "stream",
     "text": [
      "Identifier 'idx_BhuvanFASAL2022102775044_cf0d66ae_21-06-2023 21:49:54_geometry' exceeds maximum length of 63 characters \\\\192.168.1.152\\ncfc_data3\\MNCFC GT Repository\\2020\\Uttar Pradesh\\1Oct-31Dec\\BhuvanFASAL2022102775044.zip\\shape/BhuvanFASAL2022102775044.shp\n",
      "Executing 98831st file\n",
      "shape/NCFCCrop2022100774838.shp\n"
     ]
    },
    {
     "name": "stderr",
     "output_type": "stream",
     "text": [
      "C:\\Users\\user\\AppData\\Local\\Temp\\ipykernel_17068\\1832265514.py:168: SettingWithCopyWarning: \n",
      "A value is trying to be set on a copy of a slice from a DataFrame\n",
      "\n",
      "See the caveats in the documentation: https://pandas.pydata.org/pandas-docs/stable/user_guide/indexing.html#returning-a-view-versus-a-copy\n",
      "  shp_df.unique_file_name.iloc[i] = pg_file_name\n"
     ]
    },
    {
     "name": "stdout",
     "output_type": "stream",
     "text": [
      "Executing 98832st file\n",
      "shape/BhuvanFASAL2023032855755.shp\n"
     ]
    },
    {
     "name": "stderr",
     "output_type": "stream",
     "text": [
      "C:\\Users\\user\\AppData\\Local\\Temp\\ipykernel_17068\\1832265514.py:168: SettingWithCopyWarning: \n",
      "A value is trying to be set on a copy of a slice from a DataFrame\n",
      "\n",
      "See the caveats in the documentation: https://pandas.pydata.org/pandas-docs/stable/user_guide/indexing.html#returning-a-view-versus-a-copy\n",
      "  shp_df.unique_file_name.iloc[i] = pg_file_name\n"
     ]
    },
    {
     "name": "stdout",
     "output_type": "stream",
     "text": [
      "Identifier 'idx_BhuvanFASAL2023032855755_4e4da872_21-06-2023 21:49:59_geometry' exceeds maximum length of 63 characters \\\\192.168.1.152\\ncfc_data3\\MNCFC GT Repository\\2021\\Chhattisgarh\\1Jan-31Dec\\BhuvanFASAL2023032855755.zip\\shape/BhuvanFASAL2023032855755.shp\n",
      "Executing 98833st file\n",
      "shape/BhuvanFASAL2022111153024.shp\n"
     ]
    },
    {
     "name": "stderr",
     "output_type": "stream",
     "text": [
      "C:\\Users\\user\\AppData\\Local\\Temp\\ipykernel_17068\\1832265514.py:168: SettingWithCopyWarning: \n",
      "A value is trying to be set on a copy of a slice from a DataFrame\n",
      "\n",
      "See the caveats in the documentation: https://pandas.pydata.org/pandas-docs/stable/user_guide/indexing.html#returning-a-view-versus-a-copy\n",
      "  shp_df.unique_file_name.iloc[i] = pg_file_name\n"
     ]
    },
    {
     "name": "stdout",
     "output_type": "stream",
     "text": [
      "Identifier 'idx_BhuvanFASAL2022111153024_b38486d8_21-06-2023 21:50:03_geometry' exceeds maximum length of 63 characters \\\\192.168.1.152\\ncfc_data3\\MNCFC GT Repository\\2021\\Haryana\\1Apr-31Dec\\BhuvanFASAL2022111153024.zip\\shape/BhuvanFASAL2022111153024.shp\n",
      "Executing 98834st file\n",
      "shape/BhuvanFASAL2022111054902.shp\n"
     ]
    },
    {
     "name": "stderr",
     "output_type": "stream",
     "text": [
      "C:\\Users\\user\\AppData\\Local\\Temp\\ipykernel_17068\\1832265514.py:168: SettingWithCopyWarning: \n",
      "A value is trying to be set on a copy of a slice from a DataFrame\n",
      "\n",
      "See the caveats in the documentation: https://pandas.pydata.org/pandas-docs/stable/user_guide/indexing.html#returning-a-view-versus-a-copy\n",
      "  shp_df.unique_file_name.iloc[i] = pg_file_name\n"
     ]
    },
    {
     "name": "stdout",
     "output_type": "stream",
     "text": [
      "Identifier 'idx_BhuvanFASAL2022111054902_b8219202_21-06-2023 21:50:06_geometry' exceeds maximum length of 63 characters \\\\192.168.1.152\\ncfc_data3\\MNCFC GT Repository\\2021\\Haryana\\Feb\\BhuvanFASAL2022111054902.zip\\shape/BhuvanFASAL2022111054902.shp\n",
      "Executing 98835st file\n",
      "shape/BhuvanFASAL2022111052249.shp\n"
     ]
    },
    {
     "name": "stderr",
     "output_type": "stream",
     "text": [
      "C:\\Users\\user\\AppData\\Local\\Temp\\ipykernel_17068\\1832265514.py:168: SettingWithCopyWarning: \n",
      "A value is trying to be set on a copy of a slice from a DataFrame\n",
      "\n",
      "See the caveats in the documentation: https://pandas.pydata.org/pandas-docs/stable/user_guide/indexing.html#returning-a-view-versus-a-copy\n",
      "  shp_df.unique_file_name.iloc[i] = pg_file_name\n"
     ]
    },
    {
     "name": "stdout",
     "output_type": "stream",
     "text": [
      "Identifier 'idx_BhuvanFASAL2022111052249_903013f4_21-06-2023 21:50:08_geometry' exceeds maximum length of 63 characters \\\\192.168.1.152\\ncfc_data3\\MNCFC GT Repository\\2021\\Haryana\\Jan\\BhuvanFASAL2022111052249.zip\\shape/BhuvanFASAL2022111052249.shp\n",
      "Executing 98836st file\n",
      "shape/BhuvanFASAL2022111150813.shp\n"
     ]
    },
    {
     "name": "stderr",
     "output_type": "stream",
     "text": [
      "C:\\Users\\user\\AppData\\Local\\Temp\\ipykernel_17068\\1832265514.py:168: SettingWithCopyWarning: \n",
      "A value is trying to be set on a copy of a slice from a DataFrame\n",
      "\n",
      "See the caveats in the documentation: https://pandas.pydata.org/pandas-docs/stable/user_guide/indexing.html#returning-a-view-versus-a-copy\n",
      "  shp_df.unique_file_name.iloc[i] = pg_file_name\n"
     ]
    },
    {
     "name": "stdout",
     "output_type": "stream",
     "text": [
      "Identifier 'idx_BhuvanFASAL2022111150813_5655bec8_21-06-2023 21:50:09_geometry' exceeds maximum length of 63 characters \\\\192.168.1.152\\ncfc_data3\\MNCFC GT Repository\\2021\\Haryana\\Mar\\BhuvanFASAL2022111150813.zip\\shape/BhuvanFASAL2022111150813.shp\n",
      "Executing 98837st file\n",
      "shape/BhuvanFASAL2023032772526.shp\n"
     ]
    },
    {
     "name": "stderr",
     "output_type": "stream",
     "text": [
      "C:\\Users\\user\\AppData\\Local\\Temp\\ipykernel_17068\\1832265514.py:168: SettingWithCopyWarning: \n",
      "A value is trying to be set on a copy of a slice from a DataFrame\n",
      "\n",
      "See the caveats in the documentation: https://pandas.pydata.org/pandas-docs/stable/user_guide/indexing.html#returning-a-view-versus-a-copy\n",
      "  shp_df.unique_file_name.iloc[i] = pg_file_name\n"
     ]
    },
    {
     "name": "stdout",
     "output_type": "stream",
     "text": [
      "Identifier 'idx_BhuvanFASAL2023032772526_41522b18_21-06-2023 21:50:13_geometry' exceeds maximum length of 63 characters \\\\192.168.1.152\\ncfc_data3\\MNCFC GT Repository\\2021\\Himachal Pradesh\\1Jan-31Dec\\BhuvanFASAL2023032772526.zip\\shape/BhuvanFASAL2023032772526.shp\n",
      "Executing 98838st file\n",
      "shape/BhuvanFASAL2022110990354.shp\n"
     ]
    },
    {
     "name": "stderr",
     "output_type": "stream",
     "text": [
      "C:\\Users\\user\\AppData\\Local\\Temp\\ipykernel_17068\\1832265514.py:168: SettingWithCopyWarning: \n",
      "A value is trying to be set on a copy of a slice from a DataFrame\n",
      "\n",
      "See the caveats in the documentation: https://pandas.pydata.org/pandas-docs/stable/user_guide/indexing.html#returning-a-view-versus-a-copy\n",
      "  shp_df.unique_file_name.iloc[i] = pg_file_name\n"
     ]
    },
    {
     "name": "stdout",
     "output_type": "stream",
     "text": [
      "Identifier 'idx_BhuvanFASAL2022110990354_f9180228_21-06-2023 21:50:16_geometry' exceeds maximum length of 63 characters \\\\192.168.1.152\\ncfc_data3\\MNCFC GT Repository\\2021\\Madhya Pradesh\\1May-31Dec\\BhuvanFASAL2022110990354.zip\\shape/BhuvanFASAL2022110990354.shp\n",
      "Executing 98839st file\n",
      "shape/BhuvanFASAL2022110983406.shp\n"
     ]
    },
    {
     "name": "stderr",
     "output_type": "stream",
     "text": [
      "C:\\Users\\user\\AppData\\Local\\Temp\\ipykernel_17068\\1832265514.py:168: SettingWithCopyWarning: \n",
      "A value is trying to be set on a copy of a slice from a DataFrame\n",
      "\n",
      "See the caveats in the documentation: https://pandas.pydata.org/pandas-docs/stable/user_guide/indexing.html#returning-a-view-versus-a-copy\n",
      "  shp_df.unique_file_name.iloc[i] = pg_file_name\n"
     ]
    },
    {
     "name": "stdout",
     "output_type": "stream",
     "text": [
      "Identifier 'idx_BhuvanFASAL2022110983406_6d1b9716_21-06-2023 21:50:20_geometry' exceeds maximum length of 63 characters \\\\192.168.1.152\\ncfc_data3\\MNCFC GT Repository\\2021\\Madhya Pradesh\\April\\BhuvanFASAL2022110983406.zip\\shape/BhuvanFASAL2022110983406.shp\n",
      "Executing 98840st file\n",
      "shape/BhuvanFASAL2022110771342.shp\n"
     ]
    },
    {
     "name": "stderr",
     "output_type": "stream",
     "text": [
      "C:\\Users\\user\\AppData\\Local\\Temp\\ipykernel_17068\\1832265514.py:168: SettingWithCopyWarning: \n",
      "A value is trying to be set on a copy of a slice from a DataFrame\n",
      "\n",
      "See the caveats in the documentation: https://pandas.pydata.org/pandas-docs/stable/user_guide/indexing.html#returning-a-view-versus-a-copy\n",
      "  shp_df.unique_file_name.iloc[i] = pg_file_name\n"
     ]
    },
    {
     "name": "stdout",
     "output_type": "stream",
     "text": [
      "Identifier 'idx_BhuvanFASAL2022110771342_e75d7c91_21-06-2023 21:50:21_geometry' exceeds maximum length of 63 characters \\\\192.168.1.152\\ncfc_data3\\MNCFC GT Repository\\2021\\Madhya Pradesh\\Feb\\BhuvanFASAL2022110771342.zip\\shape/BhuvanFASAL2022110771342.shp\n",
      "Executing 98841st file\n",
      "shape/BhuvanFASAL2022110754903.shp\n"
     ]
    },
    {
     "name": "stderr",
     "output_type": "stream",
     "text": [
      "C:\\Users\\user\\AppData\\Local\\Temp\\ipykernel_17068\\1832265514.py:168: SettingWithCopyWarning: \n",
      "A value is trying to be set on a copy of a slice from a DataFrame\n",
      "\n",
      "See the caveats in the documentation: https://pandas.pydata.org/pandas-docs/stable/user_guide/indexing.html#returning-a-view-versus-a-copy\n",
      "  shp_df.unique_file_name.iloc[i] = pg_file_name\n"
     ]
    },
    {
     "name": "stdout",
     "output_type": "stream",
     "text": [
      "Identifier 'idx_BhuvanFASAL2022110754903_dc21df46_21-06-2023 21:50:23_geometry' exceeds maximum length of 63 characters \\\\192.168.1.152\\ncfc_data3\\MNCFC GT Repository\\2021\\Madhya Pradesh\\Jan\\BhuvanFASAL2022110754903.zip\\shape/BhuvanFASAL2022110754903.shp\n",
      "Executing 98842st file\n",
      "shape/BhuvanFASAL20221107100558.shp\n"
     ]
    },
    {
     "name": "stderr",
     "output_type": "stream",
     "text": [
      "C:\\Users\\user\\AppData\\Local\\Temp\\ipykernel_17068\\1832265514.py:168: SettingWithCopyWarning: \n",
      "A value is trying to be set on a copy of a slice from a DataFrame\n",
      "\n",
      "See the caveats in the documentation: https://pandas.pydata.org/pandas-docs/stable/user_guide/indexing.html#returning-a-view-versus-a-copy\n",
      "  shp_df.unique_file_name.iloc[i] = pg_file_name\n"
     ]
    },
    {
     "name": "stdout",
     "output_type": "stream",
     "text": [
      "Identifier 'idx_BhuvanFASAL20221107100558_bc8335e9_21-06-2023 21:50:24_geometry' exceeds maximum length of 63 characters \\\\192.168.1.152\\ncfc_data3\\MNCFC GT Repository\\2021\\Madhya Pradesh\\Mar\\BhuvanFASAL20221107100558.zip\\shape/BhuvanFASAL20221107100558.shp\n",
      "Executing 98843st file\n",
      "shape/BhuvanFASAL2023032853628.shp\n"
     ]
    },
    {
     "name": "stderr",
     "output_type": "stream",
     "text": [
      "C:\\Users\\user\\AppData\\Local\\Temp\\ipykernel_17068\\1832265514.py:168: SettingWithCopyWarning: \n",
      "A value is trying to be set on a copy of a slice from a DataFrame\n",
      "\n",
      "See the caveats in the documentation: https://pandas.pydata.org/pandas-docs/stable/user_guide/indexing.html#returning-a-view-versus-a-copy\n",
      "  shp_df.unique_file_name.iloc[i] = pg_file_name\n"
     ]
    },
    {
     "name": "stdout",
     "output_type": "stream",
     "text": [
      "Identifier 'idx_BhuvanFASAL2023032853628_353fe8d5_21-06-2023 21:50:26_geometry' exceeds maximum length of 63 characters \\\\192.168.1.152\\ncfc_data3\\MNCFC GT Repository\\2021\\Maharashtra\\1Jan-31Dec\\BhuvanFASAL2023032853628.zip\\shape/BhuvanFASAL2023032853628.shp\n",
      "Executing 98844st file\n",
      "shape/BhuvanFASAL2022112495422.shp\n"
     ]
    },
    {
     "name": "stderr",
     "output_type": "stream",
     "text": [
      "C:\\Users\\user\\AppData\\Local\\Temp\\ipykernel_17068\\1832265514.py:168: SettingWithCopyWarning: \n",
      "A value is trying to be set on a copy of a slice from a DataFrame\n",
      "\n",
      "See the caveats in the documentation: https://pandas.pydata.org/pandas-docs/stable/user_guide/indexing.html#returning-a-view-versus-a-copy\n",
      "  shp_df.unique_file_name.iloc[i] = pg_file_name\n"
     ]
    },
    {
     "name": "stdout",
     "output_type": "stream",
     "text": [
      "Identifier 'idx_BhuvanFASAL2022112495422_22d15b42_21-06-2023 21:50:28_geometry' exceeds maximum length of 63 characters \\\\192.168.1.152\\ncfc_data3\\MNCFC GT Repository\\2021\\Odisha\\1Apr-30Jun\\BhuvanFASAL2022112495422.zip\\shape/BhuvanFASAL2022112495422.shp\n",
      "Executing 98845st file\n",
      "shape/BhuvanFASAL2022112494404.shp\n"
     ]
    },
    {
     "name": "stderr",
     "output_type": "stream",
     "text": [
      "C:\\Users\\user\\AppData\\Local\\Temp\\ipykernel_17068\\1832265514.py:168: SettingWithCopyWarning: \n",
      "A value is trying to be set on a copy of a slice from a DataFrame\n",
      "\n",
      "See the caveats in the documentation: https://pandas.pydata.org/pandas-docs/stable/user_guide/indexing.html#returning-a-view-versus-a-copy\n",
      "  shp_df.unique_file_name.iloc[i] = pg_file_name\n"
     ]
    },
    {
     "name": "stdout",
     "output_type": "stream",
     "text": [
      "Identifier 'idx_BhuvanFASAL2022112494404_ffadf932_21-06-2023 21:50:29_geometry' exceeds maximum length of 63 characters \\\\192.168.1.152\\ncfc_data3\\MNCFC GT Repository\\2021\\Odisha\\1Jan-31mar\\BhuvanFASAL2022112494404.zip\\shape/BhuvanFASAL2022112494404.shp\n",
      "Executing 98846st file\n",
      "shape/BhuvanFASAL2022112495717.shp\n"
     ]
    },
    {
     "name": "stderr",
     "output_type": "stream",
     "text": [
      "C:\\Users\\user\\AppData\\Local\\Temp\\ipykernel_17068\\1832265514.py:168: SettingWithCopyWarning: \n",
      "A value is trying to be set on a copy of a slice from a DataFrame\n",
      "\n",
      "See the caveats in the documentation: https://pandas.pydata.org/pandas-docs/stable/user_guide/indexing.html#returning-a-view-versus-a-copy\n",
      "  shp_df.unique_file_name.iloc[i] = pg_file_name\n"
     ]
    },
    {
     "name": "stdout",
     "output_type": "stream",
     "text": [
      "Identifier 'idx_BhuvanFASAL2022112495717_e4ad4b24_21-06-2023 21:50:33_geometry' exceeds maximum length of 63 characters \\\\192.168.1.152\\ncfc_data3\\MNCFC GT Repository\\2021\\Odisha\\1Jul-30Sep\\BhuvanFASAL2022112495717.zip\\shape/BhuvanFASAL2022112495717.shp\n",
      "Executing 98847st file\n",
      "shape/BhuvanFASAL20221124100839.shp\n"
     ]
    },
    {
     "name": "stderr",
     "output_type": "stream",
     "text": [
      "C:\\Users\\user\\AppData\\Local\\Temp\\ipykernel_17068\\1832265514.py:168: SettingWithCopyWarning: \n",
      "A value is trying to be set on a copy of a slice from a DataFrame\n",
      "\n",
      "See the caveats in the documentation: https://pandas.pydata.org/pandas-docs/stable/user_guide/indexing.html#returning-a-view-versus-a-copy\n",
      "  shp_df.unique_file_name.iloc[i] = pg_file_name\n"
     ]
    },
    {
     "name": "stdout",
     "output_type": "stream",
     "text": [
      "Identifier 'idx_BhuvanFASAL20221124100839_65ae82e2_21-06-2023 21:50:35_geometry' exceeds maximum length of 63 characters \\\\192.168.1.152\\ncfc_data3\\MNCFC GT Repository\\2021\\Odisha\\1Oct-31Dec\\BhuvanFASAL20221124100839.zip\\shape/BhuvanFASAL20221124100839.shp\n",
      "Executing 98848st file\n",
      "shape/BhuvanFASAL20230321103423.shp\n"
     ]
    },
    {
     "name": "stderr",
     "output_type": "stream",
     "text": [
      "C:\\Users\\user\\AppData\\Local\\Temp\\ipykernel_17068\\1832265514.py:168: SettingWithCopyWarning: \n",
      "A value is trying to be set on a copy of a slice from a DataFrame\n",
      "\n",
      "See the caveats in the documentation: https://pandas.pydata.org/pandas-docs/stable/user_guide/indexing.html#returning-a-view-versus-a-copy\n",
      "  shp_df.unique_file_name.iloc[i] = pg_file_name\n"
     ]
    },
    {
     "name": "stdout",
     "output_type": "stream",
     "text": [
      "Identifier 'idx_BhuvanFASAL20230321103423_cc473853_21-06-2023 21:50:39_geometry' exceeds maximum length of 63 characters \\\\192.168.1.152\\ncfc_data3\\MNCFC GT Repository\\2021\\Rajasthan\\Jan to Feb 2021\\BhuvanFASAL20230321103423.zip\\shape/BhuvanFASAL20230321103423.shp\n",
      "Executing 98850st file\n",
      "shape/BhuvanFASAL2023032255508.shp\n"
     ]
    },
    {
     "name": "stderr",
     "output_type": "stream",
     "text": [
      "C:\\Users\\user\\AppData\\Local\\Temp\\ipykernel_17068\\1832265514.py:168: SettingWithCopyWarning: \n",
      "A value is trying to be set on a copy of a slice from a DataFrame\n",
      "\n",
      "See the caveats in the documentation: https://pandas.pydata.org/pandas-docs/stable/user_guide/indexing.html#returning-a-view-versus-a-copy\n",
      "  shp_df.unique_file_name.iloc[i] = pg_file_name\n"
     ]
    },
    {
     "name": "stdout",
     "output_type": "stream",
     "text": [
      "Identifier 'idx_BhuvanFASAL2023032255508_21168e00_21-06-2023 21:50:42_geometry' exceeds maximum length of 63 characters \\\\192.168.1.152\\ncfc_data3\\MNCFC GT Repository\\2021\\Rajasthan\\Mar to Dec2021\\BhuvanFASAL2023032255508.zip\\shape/BhuvanFASAL2023032255508.shp\n",
      "Executing 98851st file\n",
      "shape/BhuvanFASAL20230328101942.shp\n"
     ]
    },
    {
     "name": "stderr",
     "output_type": "stream",
     "text": [
      "C:\\Users\\user\\AppData\\Local\\Temp\\ipykernel_17068\\1832265514.py:168: SettingWithCopyWarning: \n",
      "A value is trying to be set on a copy of a slice from a DataFrame\n",
      "\n",
      "See the caveats in the documentation: https://pandas.pydata.org/pandas-docs/stable/user_guide/indexing.html#returning-a-view-versus-a-copy\n",
      "  shp_df.unique_file_name.iloc[i] = pg_file_name\n"
     ]
    },
    {
     "name": "stdout",
     "output_type": "stream",
     "text": [
      "Identifier 'idx_BhuvanFASAL20230328101942_509ce8a9_21-06-2023 21:50:46_geometry' exceeds maximum length of 63 characters \\\\192.168.1.152\\ncfc_data3\\MNCFC GT Repository\\2021\\Telangana\\Jan to Dec 2021\\BhuvanFASAL20230328101942.zip\\shape/BhuvanFASAL20230328101942.shp\n",
      "Executing 98852st file\n",
      "shape/NCFCCrop2023032864637.shp\n"
     ]
    },
    {
     "name": "stderr",
     "output_type": "stream",
     "text": [
      "C:\\Users\\user\\AppData\\Local\\Temp\\ipykernel_17068\\1832265514.py:168: SettingWithCopyWarning: \n",
      "A value is trying to be set on a copy of a slice from a DataFrame\n",
      "\n",
      "See the caveats in the documentation: https://pandas.pydata.org/pandas-docs/stable/user_guide/indexing.html#returning-a-view-versus-a-copy\n",
      "  shp_df.unique_file_name.iloc[i] = pg_file_name\n"
     ]
    },
    {
     "name": "stdout",
     "output_type": "stream",
     "text": [
      "Executing 98853st file\n",
      "shape/BhuvanFASAL2022101950128.shp\n"
     ]
    },
    {
     "name": "stderr",
     "output_type": "stream",
     "text": [
      "C:\\Users\\user\\AppData\\Local\\Temp\\ipykernel_17068\\1832265514.py:168: SettingWithCopyWarning: \n",
      "A value is trying to be set on a copy of a slice from a DataFrame\n",
      "\n",
      "See the caveats in the documentation: https://pandas.pydata.org/pandas-docs/stable/user_guide/indexing.html#returning-a-view-versus-a-copy\n",
      "  shp_df.unique_file_name.iloc[i] = pg_file_name\n"
     ]
    },
    {
     "name": "stdout",
     "output_type": "stream",
     "text": [
      "Identifier 'idx_BhuvanFASAL2022101950128_1d0be064_21-06-2023 21:50:53_geometry' exceeds maximum length of 63 characters \\\\192.168.1.152\\ncfc_data3\\MNCFC GT Repository\\2021\\Uttar Pradesh\\Q1\\BhuvanFASAL2022101950128.zip\\shape/BhuvanFASAL2022101950128.shp\n",
      "Executing 98854st file\n",
      "shape/BhuvanFASAL2022101993432.shp\n"
     ]
    },
    {
     "name": "stderr",
     "output_type": "stream",
     "text": [
      "C:\\Users\\user\\AppData\\Local\\Temp\\ipykernel_17068\\1832265514.py:168: SettingWithCopyWarning: \n",
      "A value is trying to be set on a copy of a slice from a DataFrame\n",
      "\n",
      "See the caveats in the documentation: https://pandas.pydata.org/pandas-docs/stable/user_guide/indexing.html#returning-a-view-versus-a-copy\n",
      "  shp_df.unique_file_name.iloc[i] = pg_file_name\n"
     ]
    },
    {
     "name": "stdout",
     "output_type": "stream",
     "text": [
      "Identifier 'idx_BhuvanFASAL2022101993432_b57c8f31_21-06-2023 21:51:01_geometry' exceeds maximum length of 63 characters \\\\192.168.1.152\\ncfc_data3\\MNCFC GT Repository\\2021\\Uttar Pradesh\\Q2\\BhuvanFASAL2022101993432.zip\\shape/BhuvanFASAL2022101993432.shp\n",
      "Executing 98855st file\n",
      "shape/BhuvanFASAL2022102031339.shp\n"
     ]
    },
    {
     "name": "stderr",
     "output_type": "stream",
     "text": [
      "C:\\Users\\user\\AppData\\Local\\Temp\\ipykernel_17068\\1832265514.py:168: SettingWithCopyWarning: \n",
      "A value is trying to be set on a copy of a slice from a DataFrame\n",
      "\n",
      "See the caveats in the documentation: https://pandas.pydata.org/pandas-docs/stable/user_guide/indexing.html#returning-a-view-versus-a-copy\n",
      "  shp_df.unique_file_name.iloc[i] = pg_file_name\n"
     ]
    },
    {
     "name": "stdout",
     "output_type": "stream",
     "text": [
      "Identifier 'idx_BhuvanFASAL2022102031339_044cef43_21-06-2023 21:51:03_geometry' exceeds maximum length of 63 characters \\\\192.168.1.152\\ncfc_data3\\MNCFC GT Repository\\2021\\Uttar Pradesh\\Q3\\BhuvanFASAL2022102031339.zip\\shape/BhuvanFASAL2022102031339.shp\n",
      "Executing 98856st file\n",
      "shape/BhuvanFASAL2022102033321.shp\n"
     ]
    },
    {
     "name": "stderr",
     "output_type": "stream",
     "text": [
      "C:\\Users\\user\\AppData\\Local\\Temp\\ipykernel_17068\\1832265514.py:168: SettingWithCopyWarning: \n",
      "A value is trying to be set on a copy of a slice from a DataFrame\n",
      "\n",
      "See the caveats in the documentation: https://pandas.pydata.org/pandas-docs/stable/user_guide/indexing.html#returning-a-view-versus-a-copy\n",
      "  shp_df.unique_file_name.iloc[i] = pg_file_name\n"
     ]
    },
    {
     "name": "stdout",
     "output_type": "stream",
     "text": [
      "Identifier 'idx_BhuvanFASAL2022102033321_45154f8e_21-06-2023 21:51:05_geometry' exceeds maximum length of 63 characters \\\\192.168.1.152\\ncfc_data3\\MNCFC GT Repository\\2021\\Uttar Pradesh\\Q4\\BhuvanFASAL2022102033321.zip\\shape/BhuvanFASAL2022102033321.shp\n",
      "Executing 98858st file\n",
      "shape/BhuvanFASAL2023032773012.shp\n"
     ]
    },
    {
     "name": "stderr",
     "output_type": "stream",
     "text": [
      "C:\\Users\\user\\AppData\\Local\\Temp\\ipykernel_17068\\1832265514.py:168: SettingWithCopyWarning: \n",
      "A value is trying to be set on a copy of a slice from a DataFrame\n",
      "\n",
      "See the caveats in the documentation: https://pandas.pydata.org/pandas-docs/stable/user_guide/indexing.html#returning-a-view-versus-a-copy\n",
      "  shp_df.unique_file_name.iloc[i] = pg_file_name\n"
     ]
    },
    {
     "name": "stdout",
     "output_type": "stream",
     "text": [
      "Identifier 'idx_BhuvanFASAL2023032773012_273002dc_21-06-2023 21:51:06_geometry' exceeds maximum length of 63 characters \\\\192.168.1.152\\ncfc_data3\\MNCFC GT Repository\\2021\\Uttrakhand\\Jan to Dec 21\\BhuvanFASAL2023032773012.zip\\shape/BhuvanFASAL2023032773012.shp\n",
      "Executing 98859st file\n",
      "shape/BhuvanFASAL20221014110814.shp\n"
     ]
    },
    {
     "name": "stderr",
     "output_type": "stream",
     "text": [
      "C:\\Users\\user\\AppData\\Local\\Temp\\ipykernel_17068\\1832265514.py:168: SettingWithCopyWarning: \n",
      "A value is trying to be set on a copy of a slice from a DataFrame\n",
      "\n",
      "See the caveats in the documentation: https://pandas.pydata.org/pandas-docs/stable/user_guide/indexing.html#returning-a-view-versus-a-copy\n",
      "  shp_df.unique_file_name.iloc[i] = pg_file_name\n"
     ]
    },
    {
     "name": "stdout",
     "output_type": "stream",
     "text": [
      "Identifier 'idx_BhuvanFASAL20221014110814_f1f46f51_21-06-2023 21:51:08_geometry' exceeds maximum length of 63 characters \\\\192.168.1.152\\ncfc_data3\\MNCFC GT Repository\\2022\\AndhraPradesh\\AP_01JAN22_30OCT22\\BhuvanFASAL20221014110814.zip\\shape/BhuvanFASAL20221014110814.shp\n",
      "Executing 98860st file\n"
     ]
    },
    {
     "name": "stderr",
     "output_type": "stream",
     "text": [
      "C:\\Users\\user\\AppData\\Local\\Temp\\ipykernel_17068\\1832265514.py:168: SettingWithCopyWarning: \n",
      "A value is trying to be set on a copy of a slice from a DataFrame\n",
      "\n",
      "See the caveats in the documentation: https://pandas.pydata.org/pandas-docs/stable/user_guide/indexing.html#returning-a-view-versus-a-copy\n",
      "  shp_df.unique_file_name.iloc[i] = pg_file_name\n"
     ]
    },
    {
     "name": "stdout",
     "output_type": "stream",
     "text": [
      "shape/BhuvanFASAL20230203112016.shp\n",
      "Identifier 'idx_BhuvanFASAL20230203112016_e674bc4c_21-06-2023 21:51:10_geometry' exceeds maximum length of 63 characters \\\\192.168.1.152\\ncfc_data3\\MNCFC GT Repository\\2022\\AndhraPradesh\\AP_01NOV22_31DEC22\\BhuvanFASAL20230203112016.zip\\shape/BhuvanFASAL20230203112016.shp\n",
      "Executing 98861st file\n",
      "shape/BhuvanFASAL20230118111851.shp\n"
     ]
    },
    {
     "name": "stderr",
     "output_type": "stream",
     "text": [
      "C:\\Users\\user\\AppData\\Local\\Temp\\ipykernel_17068\\1832265514.py:168: SettingWithCopyWarning: \n",
      "A value is trying to be set on a copy of a slice from a DataFrame\n",
      "\n",
      "See the caveats in the documentation: https://pandas.pydata.org/pandas-docs/stable/user_guide/indexing.html#returning-a-view-versus-a-copy\n",
      "  shp_df.unique_file_name.iloc[i] = pg_file_name\n"
     ]
    },
    {
     "name": "stdout",
     "output_type": "stream",
     "text": [
      "Identifier 'idx_BhuvanFASAL20230118111851_fb2490a9_21-06-2023 21:51:11_geometry' exceeds maximum length of 63 characters \\\\192.168.1.152\\ncfc_data3\\MNCFC GT Repository\\2022\\Assam\\AS_01JAN22_31DEC22\\BhuvanFASAL20230118111851.zip\\shape/BhuvanFASAL20230118111851.shp\n",
      "Executing 98862st file\n",
      "shape/BhuvanFASAL2023011875026.shp\n"
     ]
    },
    {
     "name": "stderr",
     "output_type": "stream",
     "text": [
      "C:\\Users\\user\\AppData\\Local\\Temp\\ipykernel_17068\\1832265514.py:168: SettingWithCopyWarning: \n",
      "A value is trying to be set on a copy of a slice from a DataFrame\n",
      "\n",
      "See the caveats in the documentation: https://pandas.pydata.org/pandas-docs/stable/user_guide/indexing.html#returning-a-view-versus-a-copy\n",
      "  shp_df.unique_file_name.iloc[i] = pg_file_name\n"
     ]
    },
    {
     "name": "stdout",
     "output_type": "stream",
     "text": [
      "Identifier 'idx_BhuvanFASAL2023011875026_188f37b5_21-06-2023 21:51:13_geometry' exceeds maximum length of 63 characters \\\\192.168.1.152\\ncfc_data3\\MNCFC GT Repository\\2022\\Bihar\\BH_01JAN22_31DEC22\\BhuvanFASAL2023011875026.zip\\shape/BhuvanFASAL2023011875026.shp\n",
      "Executing 98863st file\n",
      "shape/BhuvanFASAL2023011882733.shp\n"
     ]
    },
    {
     "name": "stderr",
     "output_type": "stream",
     "text": [
      "C:\\Users\\user\\AppData\\Local\\Temp\\ipykernel_17068\\1832265514.py:168: SettingWithCopyWarning: \n",
      "A value is trying to be set on a copy of a slice from a DataFrame\n",
      "\n",
      "See the caveats in the documentation: https://pandas.pydata.org/pandas-docs/stable/user_guide/indexing.html#returning-a-view-versus-a-copy\n",
      "  shp_df.unique_file_name.iloc[i] = pg_file_name\n"
     ]
    },
    {
     "name": "stdout",
     "output_type": "stream",
     "text": [
      "Identifier 'idx_BhuvanFASAL2023011882733_357933a7_21-06-2023 21:51:15_geometry' exceeds maximum length of 63 characters \\\\192.168.1.152\\ncfc_data3\\MNCFC GT Repository\\2022\\Chandigarh\\CH_01JAN22_31DEC22\\BhuvanFASAL2023011882733.zip\\shape/BhuvanFASAL2023011882733.shp\n",
      "Executing 98864st file\n",
      "shape/BhuvanFASAL20230118114603.shp\n"
     ]
    },
    {
     "name": "stderr",
     "output_type": "stream",
     "text": [
      "C:\\Users\\user\\AppData\\Local\\Temp\\ipykernel_17068\\1832265514.py:168: SettingWithCopyWarning: \n",
      "A value is trying to be set on a copy of a slice from a DataFrame\n",
      "\n",
      "See the caveats in the documentation: https://pandas.pydata.org/pandas-docs/stable/user_guide/indexing.html#returning-a-view-versus-a-copy\n",
      "  shp_df.unique_file_name.iloc[i] = pg_file_name\n"
     ]
    },
    {
     "name": "stdout",
     "output_type": "stream",
     "text": [
      "Identifier 'idx_BhuvanFASAL20230118114603_f600f437_21-06-2023 21:51:16_geometry' exceeds maximum length of 63 characters \\\\192.168.1.152\\ncfc_data3\\MNCFC GT Repository\\2022\\Chhattisgarh\\CG_01JAN22_31DEC22\\BhuvanFASAL20230118114603.zip\\shape/BhuvanFASAL20230118114603.shp\n",
      "Executing 98865st file\n",
      "shape/BhuvanFASAL2023011963521.shp\n"
     ]
    },
    {
     "name": "stderr",
     "output_type": "stream",
     "text": [
      "C:\\Users\\user\\AppData\\Local\\Temp\\ipykernel_17068\\1832265514.py:168: SettingWithCopyWarning: \n",
      "A value is trying to be set on a copy of a slice from a DataFrame\n",
      "\n",
      "See the caveats in the documentation: https://pandas.pydata.org/pandas-docs/stable/user_guide/indexing.html#returning-a-view-versus-a-copy\n",
      "  shp_df.unique_file_name.iloc[i] = pg_file_name\n"
     ]
    },
    {
     "name": "stdout",
     "output_type": "stream",
     "text": [
      "Identifier 'idx_BhuvanFASAL2023011963521_399e6492_21-06-2023 21:51:17_geometry' exceeds maximum length of 63 characters \\\\192.168.1.152\\ncfc_data3\\MNCFC GT Repository\\2022\\Delhi\\Jan-Dec 22\\BhuvanFASAL2023011963521.zip\\shape/BhuvanFASAL2023011963521.shp\n",
      "Executing 98867st file\n",
      "shape/BhuvanFASAL20230203112214.shp\n"
     ]
    },
    {
     "name": "stderr",
     "output_type": "stream",
     "text": [
      "C:\\Users\\user\\AppData\\Local\\Temp\\ipykernel_17068\\1832265514.py:168: SettingWithCopyWarning: \n",
      "A value is trying to be set on a copy of a slice from a DataFrame\n",
      "\n",
      "See the caveats in the documentation: https://pandas.pydata.org/pandas-docs/stable/user_guide/indexing.html#returning-a-view-versus-a-copy\n",
      "  shp_df.unique_file_name.iloc[i] = pg_file_name\n"
     ]
    },
    {
     "name": "stdout",
     "output_type": "stream",
     "text": [
      "Identifier 'idx_BhuvanFASAL20230203112214_24cb8374_21-06-2023 21:51:19_geometry' exceeds maximum length of 63 characters \\\\192.168.1.152\\ncfc_data3\\MNCFC GT Repository\\2022\\Gujarat\\GJ_01NOV22_31DEC22\\BhuvanFASAL20230203112214.zip\\shape/BhuvanFASAL20230203112214.shp\n",
      "Executing 98869st file\n",
      "shape/BhuvanFASAL20221118110403.shp\n"
     ]
    },
    {
     "name": "stderr",
     "output_type": "stream",
     "text": [
      "C:\\Users\\user\\AppData\\Local\\Temp\\ipykernel_17068\\1832265514.py:168: SettingWithCopyWarning: \n",
      "A value is trying to be set on a copy of a slice from a DataFrame\n",
      "\n",
      "See the caveats in the documentation: https://pandas.pydata.org/pandas-docs/stable/user_guide/indexing.html#returning-a-view-versus-a-copy\n",
      "  shp_df.unique_file_name.iloc[i] = pg_file_name\n"
     ]
    },
    {
     "name": "stdout",
     "output_type": "stream",
     "text": [
      "Identifier 'idx_BhuvanFASAL20221118110403_dcc3e90a_21-06-2023 21:51:19_geometry' exceeds maximum length of 63 characters \\\\192.168.1.152\\ncfc_data3\\MNCFC GT Repository\\2022\\Gujarat\\GJ_01SEP22_31OCT22\\BhuvanFASAL20221118110403.zip\\shape/BhuvanFASAL20221118110403.shp\n",
      "Executing 98870st file\n",
      "shape/BhuvanFASAL2022111644819.shp\n"
     ]
    },
    {
     "name": "stderr",
     "output_type": "stream",
     "text": [
      "C:\\Users\\user\\AppData\\Local\\Temp\\ipykernel_17068\\1832265514.py:168: SettingWithCopyWarning: \n",
      "A value is trying to be set on a copy of a slice from a DataFrame\n",
      "\n",
      "See the caveats in the documentation: https://pandas.pydata.org/pandas-docs/stable/user_guide/indexing.html#returning-a-view-versus-a-copy\n",
      "  shp_df.unique_file_name.iloc[i] = pg_file_name\n"
     ]
    },
    {
     "name": "stdout",
     "output_type": "stream",
     "text": [
      "Identifier 'idx_BhuvanFASAL2022111644819_8d0d9ef7_21-06-2023 21:51:24_geometry' exceeds maximum length of 63 characters \\\\192.168.1.152\\ncfc_data3\\MNCFC GT Repository\\2022\\Haryana\\HR_01APR22_31OCT22\\BhuvanFASAL2022111644819.zip\\shape/BhuvanFASAL2022111644819.shp\n",
      "Executing 98871st file\n",
      "shape/BhuvanFASAL2022111545918.shp\n"
     ]
    },
    {
     "name": "stderr",
     "output_type": "stream",
     "text": [
      "C:\\Users\\user\\AppData\\Local\\Temp\\ipykernel_17068\\1832265514.py:168: SettingWithCopyWarning: \n",
      "A value is trying to be set on a copy of a slice from a DataFrame\n",
      "\n",
      "See the caveats in the documentation: https://pandas.pydata.org/pandas-docs/stable/user_guide/indexing.html#returning-a-view-versus-a-copy\n",
      "  shp_df.unique_file_name.iloc[i] = pg_file_name\n"
     ]
    },
    {
     "name": "stdout",
     "output_type": "stream",
     "text": [
      "Identifier 'idx_BhuvanFASAL2022111545918_b8fb1d5f_21-06-2023 21:51:26_geometry' exceeds maximum length of 63 characters \\\\192.168.1.152\\ncfc_data3\\MNCFC GT Repository\\2022\\Haryana\\HR_01JAN22_31MAR22\\BhuvanFASAL2022111545918.zip\\shape/BhuvanFASAL2022111545918.shp\n",
      "Executing 98872st file\n",
      "shape/BhuvanFASAL20230203112849.shp\n"
     ]
    },
    {
     "name": "stderr",
     "output_type": "stream",
     "text": [
      "C:\\Users\\user\\AppData\\Local\\Temp\\ipykernel_17068\\1832265514.py:168: SettingWithCopyWarning: \n",
      "A value is trying to be set on a copy of a slice from a DataFrame\n",
      "\n",
      "See the caveats in the documentation: https://pandas.pydata.org/pandas-docs/stable/user_guide/indexing.html#returning-a-view-versus-a-copy\n",
      "  shp_df.unique_file_name.iloc[i] = pg_file_name\n"
     ]
    },
    {
     "name": "stdout",
     "output_type": "stream",
     "text": [
      "Identifier 'idx_BhuvanFASAL20230203112849_a6ed2321_21-06-2023 21:51:27_geometry' exceeds maximum length of 63 characters \\\\192.168.1.152\\ncfc_data3\\MNCFC GT Repository\\2022\\Haryana\\HR_01NOV22_31DEC22\\BhuvanFASAL20230203112849.zip\\shape/BhuvanFASAL20230203112849.shp\n",
      "Executing 98873st file\n",
      "shape/BhuvanFASAL2023011963753.shp\n"
     ]
    },
    {
     "name": "stderr",
     "output_type": "stream",
     "text": [
      "C:\\Users\\user\\AppData\\Local\\Temp\\ipykernel_17068\\1832265514.py:168: SettingWithCopyWarning: \n",
      "A value is trying to be set on a copy of a slice from a DataFrame\n",
      "\n",
      "See the caveats in the documentation: https://pandas.pydata.org/pandas-docs/stable/user_guide/indexing.html#returning-a-view-versus-a-copy\n",
      "  shp_df.unique_file_name.iloc[i] = pg_file_name\n"
     ]
    },
    {
     "name": "stdout",
     "output_type": "stream",
     "text": [
      "Identifier 'idx_BhuvanFASAL2023011963753_81d24226_21-06-2023 21:51:31_geometry' exceeds maximum length of 63 characters \\\\192.168.1.152\\ncfc_data3\\MNCFC GT Repository\\2022\\Himachal Pradesh\\HP_01JAN22_31DEC22\\BhuvanFASAL2023011963753.zip\\shape/BhuvanFASAL2023011963753.shp\n",
      "Executing 98874st file\n",
      "shape/BhuvanFASAL2023011970208.shp\n"
     ]
    },
    {
     "name": "stderr",
     "output_type": "stream",
     "text": [
      "C:\\Users\\user\\AppData\\Local\\Temp\\ipykernel_17068\\1832265514.py:168: SettingWithCopyWarning: \n",
      "A value is trying to be set on a copy of a slice from a DataFrame\n",
      "\n",
      "See the caveats in the documentation: https://pandas.pydata.org/pandas-docs/stable/user_guide/indexing.html#returning-a-view-versus-a-copy\n",
      "  shp_df.unique_file_name.iloc[i] = pg_file_name\n"
     ]
    },
    {
     "name": "stdout",
     "output_type": "stream",
     "text": [
      "Identifier 'idx_BhuvanFASAL2023011970208_e1b43835_21-06-2023 21:51:31_geometry' exceeds maximum length of 63 characters \\\\192.168.1.152\\ncfc_data3\\MNCFC GT Repository\\2022\\Jharkhand\\JH_01JAN22_31DEC22\\BhuvanFASAL2023011970208.zip\\shape/BhuvanFASAL2023011970208.shp\n",
      "Data dumped successfully into the PostGIS database.\n"
     ]
    }
   ],
   "source": [
    "from sqlalchemy import create_engine\n",
    "import geopandas as gp\n",
    "import multiprocessing\n",
    "import zipfile as zp\n",
    "import pandas as pd\n",
    "import numpy as np\n",
    "import shutil\n",
    "import os\n",
    "from IPython.display import clear_output, display\n",
    "import time\n",
    "import concurrent.futures as cf\n",
    "import psycopg2\n",
    "from datetime import datetime\n",
    "import geoalchemy2\n",
    "#engine.dispose()\n",
    "\n",
    "\n",
    "df = pd.read_csv(r'E:\\combined.csv')\n",
    "shp_df = df[df.Ext == 'shp']\n",
    "shp_df.head()\n",
    "\n",
    "\n",
    "\n",
    "# Function to read shape files into a temp directory\n",
    "def shp_zip_read(full_path):\n",
    "    os.makedirs(r\"E:\\New folder\", exist_ok=True)\n",
    "    zip_file_path = full_path.split('.zip\\\\')[0] + '.zip'\n",
    "    shp_file_path = full_path.split('.zip\\\\')[1]\n",
    "    print(shp_file_path)\n",
    "    archive = zp.ZipFile(zip_file_path)\n",
    "    if '/' not in shp_file_path:\n",
    "        for file in archive.namelist():\n",
    "            if '/' not in file:\n",
    "                archive.extract(file, r\"E:\\New folder\")\n",
    "        shp_folder_path = ''\n",
    "    else:\n",
    "        shp_folder_path = '/'.join(shp_file_path.split('/')[:-1])+'/'\n",
    "        for file in archive.namelist():\n",
    "            if file.startswith(shp_folder_path):\n",
    "                archive.extract(file, r\"E:\\New folder\")\n",
    "    gdf = gp.read_file(\"E:\\\\New folder\\\\{}\".format(shp_folder_path))\n",
    "    shutil.rmtree(r'E:\\New folder', ignore_errors=True)\n",
    "    return gdf\n",
    "\n",
    "\n",
    "# Function to dump shape files into postgres db \n",
    "def shape_file_dump(file_name, file_path, engine):\n",
    "    \n",
    "    #connection = engine.connect()\n",
    "    \n",
    "    # Reading the shape file\n",
    "    if '.zip' in file_path:\n",
    "        gdf = shp_zip_read(file_path)\n",
    "    else:\n",
    "        gdf = gp.read_file(file_path)\n",
    "\n",
    "    #Import shapefile to databse\n",
    "    #print(file_name)\n",
    "    gdf.to_postgis(name=file_name, con=engine, schema=\"postgis\")\n",
    "    \n",
    "    #connection.close()\n",
    "    \n",
    "\n",
    "# Deriving a unique file name to create table in the database \n",
    "import hashlib\n",
    "class FilePathShortener:\n",
    "    def __init__(self):\n",
    "        self.paths = {}\n",
    "    \n",
    "    def shorten_file_path(self, file_path):\n",
    "        if file_path in self.paths:\n",
    "            return self.paths[file_path]\n",
    "        \n",
    "        file_hash = hashlib.md5(file_path.encode()).hexdigest()\n",
    "        shortened_path = file_hash[:8]\n",
    "        \n",
    "        self.paths[file_path] = shortened_path\n",
    "        return shortened_path\n",
    "    \n",
    "    def decode_shortened_path(self, shortened_path):\n",
    "        for path, short_path in self.paths.items():\n",
    "            if short_path == shortened_path:\n",
    "                return path\n",
    "        \n",
    "        return None\n",
    "\n",
    "shortener = FilePathShortener()\n",
    "\n",
    " \n",
    "\n",
    "\"\"\"file_path = '\\\\\\\\192.168.1.151\\\\ncfc_data3\\\\Neetu Mam (IP 26 Data Backup 17 April 23)\\\\Backup_Del\\\\Transfer-data\\\\Sent-Analysis\\\\shp\\\\0.India_state_shp\\\\india state_lcc.shp'\n",
    "shortened_path = shortener.shorten_file_path(file_path)\n",
    "print(shortened_path)\"\"\"\n",
    "\n",
    "shortened_path = shp_df.File_path.apply(shortener.shorten_file_path) \n",
    "new_file_name = shp_df.File_Name+'_'+shortened_path\n",
    "shp_df['unique_file_name']=new_file_name\n",
    "        \n",
    "   \n",
    "\n",
    "\n",
    "# Getting the current date and time\n",
    "#dt = datetime.now()\n",
    "# getting the timestamp\n",
    "#ts = datetime.timestamp(dt)\n",
    "#print(\"Date and time is:\", dt)\n",
    "#current_time = dt.strftime(\"%d-%m-%Y %H:%M:%S\")\n",
    "\n",
    "    \n",
    "if __name__ == '__main__':\n",
    "    # Number of processes to run in parallel\n",
    "    num_processes = multiprocessing.cpu_count()\n",
    "        \n",
    "    #DB details\n",
    "    host = 'localhost'\n",
    "    port = '5432'\n",
    "    database = 'postgis_33'\n",
    "    user = 'postgres'\n",
    "    password = 'wadhwanikdss'\n",
    "\n",
    "    conn = f\"postgresql://{user}:{password}@{host}:{port}/{database}\"\n",
    "    engine = create_engine(conn)\n",
    "            \n",
    "#     # Create a list to store the process instances\n",
    "#     processes = []\n",
    "\n",
    "#     for _ in range(num_processes):\n",
    "#         p = multiprocessing.Process(target=shape_file_dump, args=(list(shp_df.File_Name), list(shp_df.File_path), engine))\n",
    "#         p.start()\n",
    "#         processes.append(p)\n",
    "\n",
    "#     # Wait for all processes to finish\n",
    "#     for p in processes:\n",
    "#         p.join()\n",
    "    \n",
    "    j = 0\n",
    "    \n",
    "    \n",
    "      \n",
    "for i in range(3833,shp_df.shape[0]):\n",
    "    #initialising empty data frame to store errors\n",
    "    df = pd.DataFrame(columns=['iteration','unique_file_name', 'file_path', 'error', 'error_type']) \n",
    "        \n",
    "    \n",
    "    if '.zip' not in shp_df.File_path.iloc[i]:  \n",
    "        continue\n",
    "    \n",
    "    file_present = False\n",
    "    #print('waiting for shared drive access ')\n",
    "    while file_present == False:\n",
    "        j=j+1\n",
    "        file_check = r'\\\\192.168.1.151\\ncfc_data3\\CHAMAN\\mango\\East Champaran\\analysis\\merge_mango_echamparan.shp'\n",
    "        if os.path.exists(file_check) or os.path.exists(file_check.replace(\".151\",\".152\")):\n",
    "            print(f'Executing {i}st file')\n",
    "            File_path = shp_df.File_path.iloc[i]\n",
    "            \n",
    "            if os.path.exists(File_path) == False:\n",
    "                File_path = File_path.replace(\".151\",\".152\") \n",
    "            \n",
    "            # Getting the current date and time\n",
    "            dt = datetime.now()\n",
    "           # getting the timestamp\n",
    "            ts = datetime.timestamp(dt)\n",
    "            current_time = dt.strftime(\"%d-%m-%Y %H:%M:%S\")\n",
    "\n",
    "            #Appending  unique_file_name column with current timestamp\n",
    "            pg_file_name = shp_df.unique_file_name.iloc[i] +'_' +current_time\n",
    "            shp_df.unique_file_name.iloc[i] = pg_file_name\n",
    "\n",
    "\n",
    "            try:\n",
    "                 shape_file_dump(shp_df.unique_file_name.iloc[i], File_path, engine)\n",
    "        #print(shp_df.unique_file_name.iloc[i])\n",
    "\n",
    "            except Exception as e:\n",
    "                        error=e\n",
    "                        print(error, File_path)\n",
    "             #if 'Identifier' not in str(error):\n",
    "            df.loc[len(df.index)] = [i,pg_file_name, File_path, error, type(error)]\n",
    "\n",
    "            df.to_csv(f\"C:/Users/user/Documents/Shape_file_DB_Upload_Error_tracker(Zippedfiles).csv\" , mode='a', index=False, header=False)\n",
    "\n",
    "                #if type(error) == fiona.errors.DriverError:\n",
    "            file_present = True\n",
    "            break \n",
    "            \n",
    "        else:\n",
    "            print('waiting for shared drive access ') \n",
    "            time.sleep(40)\n",
    "    if j == 1000:\n",
    "        time.sleep(3)\n",
    "        clear_output(wait=True)\n",
    "        display('Output cleared')\n",
    "        print(i)\n",
    "        j = 0     \n",
    "\n",
    "\n",
    "print(\"Data dumped successfully into the PostGIS database.\")\n",
    "    \n",
    "engine.dispose()"
   ]
  },
  {
   "cell_type": "code",
   "execution_count": 38,
   "id": "cd7a4a5f",
   "metadata": {},
   "outputs": [
    {
     "name": "stdout",
     "output_type": "stream",
     "text": [
      "3832\n"
     ]
    }
   ],
   "source": [
    "print(i)"
   ]
  },
  {
   "cell_type": "code",
   "execution_count": 12,
   "id": "3e142db6",
   "metadata": {},
   "outputs": [
    {
     "name": "stderr",
     "output_type": "stream",
     "text": [
      "C:\\Users\\user\\AppData\\Local\\Temp\\ipykernel_17068\\3535022495.py:2: SettingWithCopyWarning: \n",
      "A value is trying to be set on a copy of a slice from a DataFrame\n",
      "\n",
      "See the caveats in the documentation: https://pandas.pydata.org/pandas-docs/stable/user_guide/indexing.html#returning-a-view-versus-a-copy\n",
      "  shp_df.File_path.iloc[i] = shp_df.File_path.iloc[i].replace(\".151\",\".152\");\n"
     ]
    }
   ],
   "source": [
    "for i in range(shp_df.shape[0]):\n",
    "    shp_df.File_path.iloc[i] = shp_df.File_path.iloc[i].replace(\".151\",\".152\");\n",
    "    "
   ]
  },
  {
   "cell_type": "code",
   "execution_count": 41,
   "id": "0240245c",
   "metadata": {},
   "outputs": [
    {
     "data": {
      "text/plain": [
       "'\\\\\\\\192.168.1.151\\\\ncfc_data3\\\\Neetu Mam (IP 26 Data Backup 17 April 23)\\\\5-5-2022_office_work\\\\PMFBY_Updated\\\\Shape_Files\\\\Agrotech Rabi 20-21 boundary\\\\Karnataka\\\\Raichur_GramPanchayats.zip\\\\Raichur_GramPanchayats.shp'"
      ]
     },
     "execution_count": 41,
     "metadata": {},
     "output_type": "execute_result"
    }
   ],
   "source": [
    "shp_df.File_path.iloc[3827]"
   ]
  },
  {
   "cell_type": "code",
   "execution_count": null,
   "id": "12717a18",
   "metadata": {},
   "outputs": [],
   "source": []
  }
 ],
 "metadata": {
  "kernelspec": {
   "display_name": "Python 3 (ipykernel)",
   "language": "python",
   "name": "python3"
  },
  "language_info": {
   "codemirror_mode": {
    "name": "ipython",
    "version": 3
   },
   "file_extension": ".py",
   "mimetype": "text/x-python",
   "name": "python",
   "nbconvert_exporter": "python",
   "pygments_lexer": "ipython3",
   "version": "3.9.16"
  }
 },
 "nbformat": 4,
 "nbformat_minor": 5
}
